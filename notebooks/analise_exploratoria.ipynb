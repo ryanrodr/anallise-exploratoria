{
 "cells": [
  {
   "cell_type": "markdown",
   "metadata": {},
   "source": [
    "### Análise Exploratória \n",
    "[Jobs and Salaries in Data Science](https://www.kaggle.com/datasets/hummaamqaasim/jobs-in-data)"
   ]
  },
  {
   "cell_type": "markdown",
   "metadata": {},
   "source": [
    "#### Importando os dados"
   ]
  },
  {
   "cell_type": "code",
   "execution_count": 98,
   "metadata": {},
   "outputs": [],
   "source": [
    "# Importando as bibliotecas necessárias\n",
    "import pandas as pd\n",
    "from matplotlib import pyplot as plt"
   ]
  },
  {
   "cell_type": "code",
   "execution_count": 99,
   "metadata": {},
   "outputs": [],
   "source": [
    "# Carregando o dataset\n",
    "data = pd.read_csv('jobs_in_data.csv')"
   ]
  },
  {
   "cell_type": "code",
   "execution_count": 100,
   "metadata": {},
   "outputs": [
    {
     "name": "stdout",
     "output_type": "stream",
     "text": [
      "9355 linhas e 12 colunas\n"
     ]
    }
   ],
   "source": [
    "print(f'{data.shape[0]} linhas e {data.shape[1]} colunas')"
   ]
  },
  {
   "cell_type": "code",
   "execution_count": 101,
   "metadata": {},
   "outputs": [
    {
     "data": {
      "text/plain": [
       "Index(['work_year', 'job_title', 'job_category', 'salary_currency', 'salary',\n",
       "       'salary_in_usd', 'employee_residence', 'experience_level',\n",
       "       'employment_type', 'work_setting', 'company_location', 'company_size'],\n",
       "      dtype='object')"
      ]
     },
     "execution_count": 101,
     "metadata": {},
     "output_type": "execute_result"
    }
   ],
   "source": [
    "data.columns"
   ]
  },
  {
   "cell_type": "markdown",
   "metadata": {},
   "source": [
    "#### Limpeza e preparação dos dados"
   ]
  },
  {
   "cell_type": "markdown",
   "metadata": {},
   "source": [
    "- Identificando valores ausentes NaN (Not a Number) ou dados duplicados."
   ]
  },
  {
   "cell_type": "code",
   "execution_count": 102,
   "metadata": {},
   "outputs": [
    {
     "data": {
      "text/plain": [
       "work_year             0\n",
       "job_title             0\n",
       "job_category          0\n",
       "salary_currency       0\n",
       "salary                0\n",
       "salary_in_usd         0\n",
       "employee_residence    0\n",
       "experience_level      0\n",
       "employment_type       0\n",
       "work_setting          0\n",
       "company_location      0\n",
       "company_size          0\n",
       "dtype: int64"
      ]
     },
     "execution_count": 102,
     "metadata": {},
     "output_type": "execute_result"
    }
   ],
   "source": [
    "data.isna().sum()"
   ]
  },
  {
   "cell_type": "code",
   "execution_count": 103,
   "metadata": {},
   "outputs": [
    {
     "data": {
      "text/plain": [
       "4014"
      ]
     },
     "execution_count": 103,
     "metadata": {},
     "output_type": "execute_result"
    }
   ],
   "source": [
    "data.duplicated().sum()"
   ]
  },
  {
   "cell_type": "markdown",
   "metadata": {},
   "source": [
    "- Removendo dados duplicados e resetando o índice"
   ]
  },
  {
   "cell_type": "code",
   "execution_count": 104,
   "metadata": {},
   "outputs": [],
   "source": [
    "data = data.drop_duplicates()"
   ]
  },
  {
   "cell_type": "code",
   "execution_count": 105,
   "metadata": {},
   "outputs": [],
   "source": [
    "data = data.reset_index(drop=True)"
   ]
  },
  {
   "cell_type": "markdown",
   "metadata": {},
   "source": [
    "- Removendo colunas que não vão ser utilizadas"
   ]
  },
  {
   "cell_type": "code",
   "execution_count": 106,
   "metadata": {},
   "outputs": [],
   "source": [
    "data = data.drop(columns=['salary_currency', 'salary', 'employee_residence', 'company_location'])"
   ]
  },
  {
   "cell_type": "markdown",
   "metadata": {},
   "source": [
    "- Convertendo o tipo de dado das colunas"
   ]
  },
  {
   "cell_type": "code",
   "execution_count": 107,
   "metadata": {},
   "outputs": [
    {
     "name": "stdout",
     "output_type": "stream",
     "text": [
      "<class 'pandas.core.frame.DataFrame'>\n",
      "RangeIndex: 5341 entries, 0 to 5340\n",
      "Data columns (total 8 columns):\n",
      " #   Column            Non-Null Count  Dtype \n",
      "---  ------            --------------  ----- \n",
      " 0   work_year         5341 non-null   int64 \n",
      " 1   job_title         5341 non-null   object\n",
      " 2   job_category      5341 non-null   object\n",
      " 3   salary_in_usd     5341 non-null   int64 \n",
      " 4   experience_level  5341 non-null   object\n",
      " 5   employment_type   5341 non-null   object\n",
      " 6   work_setting      5341 non-null   object\n",
      " 7   company_size      5341 non-null   object\n",
      "dtypes: int64(2), object(6)\n",
      "memory usage: 333.9+ KB\n"
     ]
    }
   ],
   "source": [
    "data.info()"
   ]
  },
  {
   "cell_type": "code",
   "execution_count": 108,
   "metadata": {},
   "outputs": [],
   "source": [
    "# Dados categóricos economizam memória e facilitam nas análises\n",
    "colunas = ['job_category', 'experience_level', 'employment_type', 'work_setting', 'company_size']\n",
    "data[colunas] = data[colunas].astype('category')"
   ]
  },
  {
   "cell_type": "code",
   "execution_count": 109,
   "metadata": {},
   "outputs": [
    {
     "name": "stdout",
     "output_type": "stream",
     "text": [
      "<class 'pandas.core.frame.DataFrame'>\n",
      "RangeIndex: 5341 entries, 0 to 5340\n",
      "Data columns (total 8 columns):\n",
      " #   Column            Non-Null Count  Dtype   \n",
      "---  ------            --------------  -----   \n",
      " 0   work_year         5341 non-null   int64   \n",
      " 1   job_title         5341 non-null   object  \n",
      " 2   job_category      5341 non-null   category\n",
      " 3   salary_in_usd     5341 non-null   int64   \n",
      " 4   experience_level  5341 non-null   category\n",
      " 5   employment_type   5341 non-null   category\n",
      " 6   work_setting      5341 non-null   category\n",
      " 7   company_size      5341 non-null   category\n",
      "dtypes: category(5), int64(2), object(1)\n",
      "memory usage: 152.4+ KB\n"
     ]
    }
   ],
   "source": [
    "data.info()"
   ]
  },
  {
   "cell_type": "markdown",
   "metadata": {},
   "source": [
    "#### Resumindo os dados"
   ]
  },
  {
   "cell_type": "code",
   "execution_count": 110,
   "metadata": {},
   "outputs": [
    {
     "data": {
      "text/html": [
       "<div>\n",
       "<style scoped>\n",
       "    .dataframe tbody tr th:only-of-type {\n",
       "        vertical-align: middle;\n",
       "    }\n",
       "\n",
       "    .dataframe tbody tr th {\n",
       "        vertical-align: top;\n",
       "    }\n",
       "\n",
       "    .dataframe thead th {\n",
       "        text-align: right;\n",
       "    }\n",
       "</style>\n",
       "<table border=\"1\" class=\"dataframe\">\n",
       "  <thead>\n",
       "    <tr style=\"text-align: right;\">\n",
       "      <th></th>\n",
       "      <th>work_year</th>\n",
       "      <th>job_title</th>\n",
       "      <th>job_category</th>\n",
       "      <th>salary_in_usd</th>\n",
       "      <th>experience_level</th>\n",
       "      <th>employment_type</th>\n",
       "      <th>work_setting</th>\n",
       "      <th>company_size</th>\n",
       "    </tr>\n",
       "  </thead>\n",
       "  <tbody>\n",
       "    <tr>\n",
       "      <th>0</th>\n",
       "      <td>2023</td>\n",
       "      <td>Data DevOps Engineer</td>\n",
       "      <td>Data Engineering</td>\n",
       "      <td>95012</td>\n",
       "      <td>Mid-level</td>\n",
       "      <td>Full-time</td>\n",
       "      <td>Hybrid</td>\n",
       "      <td>L</td>\n",
       "    </tr>\n",
       "    <tr>\n",
       "      <th>1</th>\n",
       "      <td>2023</td>\n",
       "      <td>Data Architect</td>\n",
       "      <td>Data Architecture and Modeling</td>\n",
       "      <td>186000</td>\n",
       "      <td>Senior</td>\n",
       "      <td>Full-time</td>\n",
       "      <td>In-person</td>\n",
       "      <td>M</td>\n",
       "    </tr>\n",
       "    <tr>\n",
       "      <th>2</th>\n",
       "      <td>2023</td>\n",
       "      <td>Data Architect</td>\n",
       "      <td>Data Architecture and Modeling</td>\n",
       "      <td>81800</td>\n",
       "      <td>Senior</td>\n",
       "      <td>Full-time</td>\n",
       "      <td>In-person</td>\n",
       "      <td>M</td>\n",
       "    </tr>\n",
       "  </tbody>\n",
       "</table>\n",
       "</div>"
      ],
      "text/plain": [
       "   work_year             job_title                    job_category  \\\n",
       "0       2023  Data DevOps Engineer                Data Engineering   \n",
       "1       2023        Data Architect  Data Architecture and Modeling   \n",
       "2       2023        Data Architect  Data Architecture and Modeling   \n",
       "\n",
       "   salary_in_usd experience_level employment_type work_setting company_size  \n",
       "0          95012        Mid-level       Full-time       Hybrid            L  \n",
       "1         186000           Senior       Full-time    In-person            M  \n",
       "2          81800           Senior       Full-time    In-person            M  "
      ]
     },
     "execution_count": 110,
     "metadata": {},
     "output_type": "execute_result"
    }
   ],
   "source": [
    "data.head(3)"
   ]
  },
  {
   "cell_type": "code",
   "execution_count": 111,
   "metadata": {},
   "outputs": [
    {
     "data": {
      "text/html": [
       "<div>\n",
       "<style scoped>\n",
       "    .dataframe tbody tr th:only-of-type {\n",
       "        vertical-align: middle;\n",
       "    }\n",
       "\n",
       "    .dataframe tbody tr th {\n",
       "        vertical-align: top;\n",
       "    }\n",
       "\n",
       "    .dataframe thead th {\n",
       "        text-align: right;\n",
       "    }\n",
       "</style>\n",
       "<table border=\"1\" class=\"dataframe\">\n",
       "  <thead>\n",
       "    <tr style=\"text-align: right;\">\n",
       "      <th></th>\n",
       "      <th>job_category</th>\n",
       "      <th>quantidade</th>\n",
       "    </tr>\n",
       "  </thead>\n",
       "  <tbody>\n",
       "    <tr>\n",
       "      <th>0</th>\n",
       "      <td>Data Science and Research</td>\n",
       "      <td>1655</td>\n",
       "    </tr>\n",
       "    <tr>\n",
       "      <th>1</th>\n",
       "      <td>Data Engineering</td>\n",
       "      <td>1160</td>\n",
       "    </tr>\n",
       "    <tr>\n",
       "      <th>2</th>\n",
       "      <td>Machine Learning and AI</td>\n",
       "      <td>917</td>\n",
       "    </tr>\n",
       "    <tr>\n",
       "      <th>3</th>\n",
       "      <td>Data Analysis</td>\n",
       "      <td>809</td>\n",
       "    </tr>\n",
       "    <tr>\n",
       "      <th>4</th>\n",
       "      <td>Leadership and Management</td>\n",
       "      <td>351</td>\n",
       "    </tr>\n",
       "    <tr>\n",
       "      <th>5</th>\n",
       "      <td>BI and Visualization</td>\n",
       "      <td>188</td>\n",
       "    </tr>\n",
       "    <tr>\n",
       "      <th>6</th>\n",
       "      <td>Data Architecture and Modeling</td>\n",
       "      <td>162</td>\n",
       "    </tr>\n",
       "    <tr>\n",
       "      <th>7</th>\n",
       "      <td>Data Management and Strategy</td>\n",
       "      <td>49</td>\n",
       "    </tr>\n",
       "    <tr>\n",
       "      <th>8</th>\n",
       "      <td>Data Quality and Operations</td>\n",
       "      <td>45</td>\n",
       "    </tr>\n",
       "    <tr>\n",
       "      <th>9</th>\n",
       "      <td>Cloud and Database</td>\n",
       "      <td>5</td>\n",
       "    </tr>\n",
       "  </tbody>\n",
       "</table>\n",
       "</div>"
      ],
      "text/plain": [
       "                     job_category  quantidade\n",
       "0       Data Science and Research        1655\n",
       "1                Data Engineering        1160\n",
       "2         Machine Learning and AI         917\n",
       "3                   Data Analysis         809\n",
       "4       Leadership and Management         351\n",
       "5            BI and Visualization         188\n",
       "6  Data Architecture and Modeling         162\n",
       "7    Data Management and Strategy          49\n",
       "8     Data Quality and Operations          45\n",
       "9              Cloud and Database           5"
      ]
     },
     "execution_count": 111,
     "metadata": {},
     "output_type": "execute_result"
    }
   ],
   "source": [
    "resumo_categoria = data['job_category'].value_counts().reset_index(name='quantidade')\n",
    "resumo_categoria"
   ]
  },
  {
   "cell_type": "code",
   "execution_count": 112,
   "metadata": {},
   "outputs": [
    {
     "data": {
      "text/html": [
       "<div>\n",
       "<style scoped>\n",
       "    .dataframe tbody tr th:only-of-type {\n",
       "        vertical-align: middle;\n",
       "    }\n",
       "\n",
       "    .dataframe tbody tr th {\n",
       "        vertical-align: top;\n",
       "    }\n",
       "\n",
       "    .dataframe thead th {\n",
       "        text-align: right;\n",
       "    }\n",
       "</style>\n",
       "<table border=\"1\" class=\"dataframe\">\n",
       "  <thead>\n",
       "    <tr style=\"text-align: right;\">\n",
       "      <th></th>\n",
       "      <th>experience_level</th>\n",
       "      <th>quantidade</th>\n",
       "    </tr>\n",
       "  </thead>\n",
       "  <tbody>\n",
       "    <tr>\n",
       "      <th>0</th>\n",
       "      <td>Senior</td>\n",
       "      <td>3444</td>\n",
       "    </tr>\n",
       "    <tr>\n",
       "      <th>1</th>\n",
       "      <td>Mid-level</td>\n",
       "      <td>1274</td>\n",
       "    </tr>\n",
       "    <tr>\n",
       "      <th>2</th>\n",
       "      <td>Entry-level</td>\n",
       "      <td>400</td>\n",
       "    </tr>\n",
       "    <tr>\n",
       "      <th>3</th>\n",
       "      <td>Executive</td>\n",
       "      <td>223</td>\n",
       "    </tr>\n",
       "  </tbody>\n",
       "</table>\n",
       "</div>"
      ],
      "text/plain": [
       "  experience_level  quantidade\n",
       "0           Senior        3444\n",
       "1        Mid-level        1274\n",
       "2      Entry-level         400\n",
       "3        Executive         223"
      ]
     },
     "execution_count": 112,
     "metadata": {},
     "output_type": "execute_result"
    }
   ],
   "source": [
    "resumo_exp = data['experience_level'].value_counts().reset_index(name='quantidade')\n",
    "resumo_exp"
   ]
  },
  {
   "cell_type": "markdown",
   "metadata": {},
   "source": [
    "- Exibindo os resultados em subplots com matplotlib"
   ]
  },
  {
   "cell_type": "code",
   "execution_count": 113,
   "metadata": {},
   "outputs": [
    {
     "data": {
      "image/png": "[encoded data removed]",
      "text/plain": [
       "<Figure size 1000x600 with 2 Axes>"
      ]
     },
     "metadata": {},
     "output_type": "display_data"
    }
   ],
   "source": [
    "plt.figure(figsize=(10, 6)) # Definindo o tamanho da imagem\n",
    "\n",
    "plt.subplot(2, 2, 1)\n",
    "plt.barh(resumo_categoria['job_category'], resumo_categoria['quantidade'], color='gray')\n",
    "plt.title('Quantidade por categoria')\n",
    "\n",
    "plt.subplot(2, 2, 2)\n",
    "plt.barh(resumo_exp['experience_level'], resumo_exp['quantidade'], color='gray')\n",
    "plt.title('Nível de experiência')\n",
    "\n",
    "plt.tight_layout() # Ajustando o tamanho"
   ]
  },
  {
   "cell_type": "markdown",
   "metadata": {},
   "source": [
    "#### Operações de grupo e visualizações"
   ]
  },
  {
   "cell_type": "markdown",
   "metadata": {},
   "source": [
    "- Utilizando `groupby` para agrupar os dados"
   ]
  },
  {
   "cell_type": "code",
   "execution_count": 114,
   "metadata": {},
   "outputs": [
    {
     "name": "stderr",
     "output_type": "stream",
     "text": [
      "/tmp/ipykernel_4418/3082329248.py:2: FutureWarning: The default of observed=False is deprecated and will be changed to True in a future version of pandas. Pass observed=False to retain current behavior or observed=True to adopt the future default and silence this warning.\n",
      "  group = data.groupby(['work_year', 'job_category']).size().reset_index(name='quantidade')\n"
     ]
    }
   ],
   "source": [
    "# Resumindo os dados pelo ano, categoria e contando o número de ocorrências\n",
    "group = data.groupby(['work_year', 'job_category']).size().reset_index(name='quantidade')"
   ]
  },
  {
   "cell_type": "markdown",
   "metadata": {},
   "source": [
    "- Reformatando os dados e transformando em uma Tabela Dinâmica com `pivot_table`\n",
    "- Utilizando a Tabela como base e gerando um gráfico de barras horizontais"
   ]
  },
  {
   "cell_type": "code",
   "execution_count": 115,
   "metadata": {},
   "outputs": [
    {
     "name": "stderr",
     "output_type": "stream",
     "text": [
      "/tmp/ipykernel_4418/358105645.py:2: FutureWarning: The default value of observed=False is deprecated and will change to observed=True in a future version of pandas. Specify observed=False to silence this warning and retain the current behavior\n",
      "  categoria_ano = group.pivot_table(index='job_category', columns='work_year').fillna(0).astype(int)\n"
     ]
    }
   ],
   "source": [
    "# Preenchendo os valores ausentes com fillna e transformando em inteiros\n",
    "categoria_ano = group.pivot_table(index='job_category', columns='work_year').fillna(0).astype(int)\n",
    "\n",
    "# Acrescentando Totais Gerais na tabela e ordenando os dados\n",
    "categoria_ano['Total'] = categoria_ano.sum(axis=1)\n",
    "categoria_ano = categoria_ano.sort_values(by='Total', ascending=False)"
   ]
  },
  {
   "cell_type": "code",
   "execution_count": 116,
   "metadata": {},
   "outputs": [
    {
     "data": {
      "text/html": [
       "<style type=\"text/css\">\n",
       "#T_09597_row0_col0, #T_09597_row0_col1, #T_09597_row0_col2, #T_09597_row0_col3, #T_09597_row0_col4, #T_09597_row1_col0, #T_09597_row1_col1, #T_09597_row1_col2, #T_09597_row1_col3, #T_09597_row1_col4, #T_09597_row2_col0, #T_09597_row2_col1, #T_09597_row2_col2, #T_09597_row2_col3, #T_09597_row2_col4, #T_09597_row3_col0, #T_09597_row3_col1, #T_09597_row3_col2, #T_09597_row3_col3, #T_09597_row3_col4, #T_09597_row4_col0, #T_09597_row4_col1, #T_09597_row4_col2, #T_09597_row4_col3, #T_09597_row4_col4, #T_09597_row5_col0, #T_09597_row5_col1, #T_09597_row5_col2, #T_09597_row5_col3, #T_09597_row5_col4, #T_09597_row6_col0, #T_09597_row6_col1, #T_09597_row6_col2, #T_09597_row6_col3, #T_09597_row6_col4, #T_09597_row7_col0, #T_09597_row7_col1, #T_09597_row7_col2, #T_09597_row7_col3, #T_09597_row7_col4, #T_09597_row8_col0, #T_09597_row8_col1, #T_09597_row8_col2, #T_09597_row8_col3, #T_09597_row8_col4, #T_09597_row9_col0, #T_09597_row9_col1, #T_09597_row9_col2, #T_09597_row9_col3, #T_09597_row9_col4 {\n",
       "  text-align: center;\n",
       "}\n",
       "</style>\n",
       "<table id=\"T_09597\">\n",
       "  <thead>\n",
       "    <tr>\n",
       "      <th class=\"blank level0\" >&nbsp;</th>\n",
       "      <th id=\"T_09597_level0_col0\" class=\"col_heading level0 col0\" colspan=\"4\">quantidade</th>\n",
       "      <th id=\"T_09597_level0_col4\" class=\"col_heading level0 col4\" >Total</th>\n",
       "    </tr>\n",
       "    <tr>\n",
       "      <th class=\"index_name level1\" >work_year</th>\n",
       "      <th id=\"T_09597_level1_col0\" class=\"col_heading level1 col0\" >2020</th>\n",
       "      <th id=\"T_09597_level1_col1\" class=\"col_heading level1 col1\" >2021</th>\n",
       "      <th id=\"T_09597_level1_col2\" class=\"col_heading level1 col2\" >2022</th>\n",
       "      <th id=\"T_09597_level1_col3\" class=\"col_heading level1 col3\" >2023</th>\n",
       "      <th id=\"T_09597_level1_col4\" class=\"col_heading level1 col4\" ></th>\n",
       "    </tr>\n",
       "    <tr>\n",
       "      <th class=\"index_name level0\" >job_category</th>\n",
       "      <th class=\"blank col0\" >&nbsp;</th>\n",
       "      <th class=\"blank col1\" >&nbsp;</th>\n",
       "      <th class=\"blank col2\" >&nbsp;</th>\n",
       "      <th class=\"blank col3\" >&nbsp;</th>\n",
       "      <th class=\"blank col4\" >&nbsp;</th>\n",
       "    </tr>\n",
       "  </thead>\n",
       "  <tbody>\n",
       "    <tr>\n",
       "      <th id=\"T_09597_level0_row0\" class=\"row_heading level0 row0\" >Data Science and Research</th>\n",
       "      <td id=\"T_09597_row0_col0\" class=\"data row0 col0\" >29</td>\n",
       "      <td id=\"T_09597_row0_col1\" class=\"data row0 col1\" >71</td>\n",
       "      <td id=\"T_09597_row0_col2\" class=\"data row0 col2\" >338</td>\n",
       "      <td id=\"T_09597_row0_col3\" class=\"data row0 col3\" >1217</td>\n",
       "      <td id=\"T_09597_row0_col4\" class=\"data row0 col4\" >1655</td>\n",
       "    </tr>\n",
       "    <tr>\n",
       "      <th id=\"T_09597_level0_row1\" class=\"row_heading level0 row1\" >Data Engineering</th>\n",
       "      <td id=\"T_09597_row1_col0\" class=\"data row1 col0\" >17</td>\n",
       "      <td id=\"T_09597_row1_col1\" class=\"data row1 col1\" >44</td>\n",
       "      <td id=\"T_09597_row1_col2\" class=\"data row1 col2\" >286</td>\n",
       "      <td id=\"T_09597_row1_col3\" class=\"data row1 col3\" >813</td>\n",
       "      <td id=\"T_09597_row1_col4\" class=\"data row1 col4\" >1160</td>\n",
       "    </tr>\n",
       "    <tr>\n",
       "      <th id=\"T_09597_level0_row2\" class=\"row_heading level0 row2\" >Machine Learning and AI</th>\n",
       "      <td id=\"T_09597_row2_col0\" class=\"data row2 col0\" >10</td>\n",
       "      <td id=\"T_09597_row2_col1\" class=\"data row2 col1\" >37</td>\n",
       "      <td id=\"T_09597_row2_col2\" class=\"data row2 col2\" >157</td>\n",
       "      <td id=\"T_09597_row2_col3\" class=\"data row2 col3\" >713</td>\n",
       "      <td id=\"T_09597_row2_col4\" class=\"data row2 col4\" >917</td>\n",
       "    </tr>\n",
       "    <tr>\n",
       "      <th id=\"T_09597_level0_row3\" class=\"row_heading level0 row3\" >Data Analysis</th>\n",
       "      <td id=\"T_09597_row3_col0\" class=\"data row3 col0\" >15</td>\n",
       "      <td id=\"T_09597_row3_col1\" class=\"data row3 col1\" >28</td>\n",
       "      <td id=\"T_09597_row3_col2\" class=\"data row3 col2\" >185</td>\n",
       "      <td id=\"T_09597_row3_col3\" class=\"data row3 col3\" >581</td>\n",
       "      <td id=\"T_09597_row3_col4\" class=\"data row3 col4\" >809</td>\n",
       "    </tr>\n",
       "    <tr>\n",
       "      <th id=\"T_09597_level0_row4\" class=\"row_heading level0 row4\" >Leadership and Management</th>\n",
       "      <td id=\"T_09597_row4_col0\" class=\"data row4 col0\" >0</td>\n",
       "      <td id=\"T_09597_row4_col1\" class=\"data row4 col1\" >9</td>\n",
       "      <td id=\"T_09597_row4_col2\" class=\"data row4 col2\" >71</td>\n",
       "      <td id=\"T_09597_row4_col3\" class=\"data row4 col3\" >271</td>\n",
       "      <td id=\"T_09597_row4_col4\" class=\"data row4 col4\" >351</td>\n",
       "    </tr>\n",
       "    <tr>\n",
       "      <th id=\"T_09597_level0_row5\" class=\"row_heading level0 row5\" >BI and Visualization</th>\n",
       "      <td id=\"T_09597_row5_col0\" class=\"data row5 col0\" >0</td>\n",
       "      <td id=\"T_09597_row5_col1\" class=\"data row5 col1\" >0</td>\n",
       "      <td id=\"T_09597_row5_col2\" class=\"data row5 col2\" >8</td>\n",
       "      <td id=\"T_09597_row5_col3\" class=\"data row5 col3\" >180</td>\n",
       "      <td id=\"T_09597_row5_col4\" class=\"data row5 col4\" >188</td>\n",
       "    </tr>\n",
       "    <tr>\n",
       "      <th id=\"T_09597_level0_row6\" class=\"row_heading level0 row6\" >Data Architecture and Modeling</th>\n",
       "      <td id=\"T_09597_row6_col0\" class=\"data row6 col0\" >0</td>\n",
       "      <td id=\"T_09597_row6_col1\" class=\"data row6 col1\" >5</td>\n",
       "      <td id=\"T_09597_row6_col2\" class=\"data row6 col2\" >30</td>\n",
       "      <td id=\"T_09597_row6_col3\" class=\"data row6 col3\" >127</td>\n",
       "      <td id=\"T_09597_row6_col4\" class=\"data row6 col4\" >162</td>\n",
       "    </tr>\n",
       "    <tr>\n",
       "      <th id=\"T_09597_level0_row7\" class=\"row_heading level0 row7\" >Data Management and Strategy</th>\n",
       "      <td id=\"T_09597_row7_col0\" class=\"data row7 col0\" >0</td>\n",
       "      <td id=\"T_09597_row7_col1\" class=\"data row7 col1\" >1</td>\n",
       "      <td id=\"T_09597_row7_col2\" class=\"data row7 col2\" >10</td>\n",
       "      <td id=\"T_09597_row7_col3\" class=\"data row7 col3\" >38</td>\n",
       "      <td id=\"T_09597_row7_col4\" class=\"data row7 col4\" >49</td>\n",
       "    </tr>\n",
       "    <tr>\n",
       "      <th id=\"T_09597_level0_row8\" class=\"row_heading level0 row8\" >Data Quality and Operations</th>\n",
       "      <td id=\"T_09597_row8_col0\" class=\"data row8 col0\" >0</td>\n",
       "      <td id=\"T_09597_row8_col1\" class=\"data row8 col1\" >0</td>\n",
       "      <td id=\"T_09597_row8_col2\" class=\"data row8 col2\" >8</td>\n",
       "      <td id=\"T_09597_row8_col3\" class=\"data row8 col3\" >37</td>\n",
       "      <td id=\"T_09597_row8_col4\" class=\"data row8 col4\" >45</td>\n",
       "    </tr>\n",
       "    <tr>\n",
       "      <th id=\"T_09597_level0_row9\" class=\"row_heading level0 row9\" >Cloud and Database</th>\n",
       "      <td id=\"T_09597_row9_col0\" class=\"data row9 col0\" >0</td>\n",
       "      <td id=\"T_09597_row9_col1\" class=\"data row9 col1\" >0</td>\n",
       "      <td id=\"T_09597_row9_col2\" class=\"data row9 col2\" >2</td>\n",
       "      <td id=\"T_09597_row9_col3\" class=\"data row9 col3\" >3</td>\n",
       "      <td id=\"T_09597_row9_col4\" class=\"data row9 col4\" >5</td>\n",
       "    </tr>\n",
       "  </tbody>\n",
       "</table>\n"
      ],
      "text/plain": [
       "<pandas.io.formats.style.Styler at 0x7f0f04453d30>"
      ]
     },
     "execution_count": 116,
     "metadata": {},
     "output_type": "execute_result"
    }
   ],
   "source": [
    "# Formatando e centralizando a tabela dinâmica\n",
    "categoria_ano.style.set_properties(**{'text-align': 'center'})"
   ]
  },
  {
   "cell_type": "code",
   "execution_count": 117,
   "metadata": {},
   "outputs": [],
   "source": [
    "# Removendo a coluna de Total para plotar o gráfico\n",
    "categoria_ano = categoria_ano.drop('Total', axis=1)"
   ]
  },
  {
   "cell_type": "code",
   "execution_count": 118,
   "metadata": {},
   "outputs": [
    {
     "data": {
      "image/png": "[encoded data removed]",
      "text/plain": [
       "<Figure size 640x480 with 1 Axes>"
      ]
     },
     "metadata": {},
     "output_type": "display_data"
    }
   ],
   "source": [
    "# Definindo as cores a serem usadas\n",
    "cores = ['lightgray', 'silver', 'darkgray', 'dimgray']\n",
    "\n",
    "# Plotando um gráfico de barras empilhadas\n",
    "categoria_ano.plot.barh(stacked=True, color=cores)\n",
    "plt.title('Distribuição por categoria e ano')\n",
    "plt.show()"
   ]
  },
  {
   "cell_type": "markdown",
   "metadata": {},
   "source": [
    "##### Distribuição das vagas por categoria e nível de experiência"
   ]
  },
  {
   "cell_type": "code",
   "execution_count": 119,
   "metadata": {},
   "outputs": [
    {
     "name": "stderr",
     "output_type": "stream",
     "text": [
      "/tmp/ipykernel_4418/2652047528.py:2: FutureWarning: The default of observed=False is deprecated and will be changed to True in a future version of pandas. Pass observed=False to retain current behavior or observed=True to adopt the future default and silence this warning.\n",
      "  group2 = data.groupby(['job_category', 'experience_level']).size().reset_index(name='quantidade')\n"
     ]
    }
   ],
   "source": [
    "# Resumindo os dados pela categoria, nível de experiência e contando o número de ocorrências\n",
    "group2 = data.groupby(['job_category', 'experience_level']).size().reset_index(name='quantidade')"
   ]
  },
  {
   "cell_type": "code",
   "execution_count": 120,
   "metadata": {},
   "outputs": [
    {
     "data": {
      "text/html": [
       "<div>\n",
       "<style scoped>\n",
       "    .dataframe tbody tr th:only-of-type {\n",
       "        vertical-align: middle;\n",
       "    }\n",
       "\n",
       "    .dataframe tbody tr th {\n",
       "        vertical-align: top;\n",
       "    }\n",
       "\n",
       "    .dataframe thead th {\n",
       "        text-align: right;\n",
       "    }\n",
       "</style>\n",
       "<table border=\"1\" class=\"dataframe\">\n",
       "  <thead>\n",
       "    <tr style=\"text-align: right;\">\n",
       "      <th></th>\n",
       "      <th>job_category</th>\n",
       "      <th>experience_level</th>\n",
       "      <th>quantidade</th>\n",
       "    </tr>\n",
       "  </thead>\n",
       "  <tbody>\n",
       "    <tr>\n",
       "      <th>38</th>\n",
       "      <td>Machine Learning and AI</td>\n",
       "      <td>Mid-level</td>\n",
       "      <td>201</td>\n",
       "    </tr>\n",
       "    <tr>\n",
       "      <th>39</th>\n",
       "      <td>Machine Learning and AI</td>\n",
       "      <td>Senior</td>\n",
       "      <td>639</td>\n",
       "    </tr>\n",
       "  </tbody>\n",
       "</table>\n",
       "</div>"
      ],
      "text/plain": [
       "               job_category experience_level  quantidade\n",
       "38  Machine Learning and AI        Mid-level         201\n",
       "39  Machine Learning and AI           Senior         639"
      ]
     },
     "execution_count": 120,
     "metadata": {},
     "output_type": "execute_result"
    }
   ],
   "source": [
    "group2.tail(2)"
   ]
  },
  {
   "cell_type": "code",
   "execution_count": 121,
   "metadata": {},
   "outputs": [
    {
     "name": "stderr",
     "output_type": "stream",
     "text": [
      "/tmp/ipykernel_4418/3059193160.py:2: FutureWarning: The default value of observed=False is deprecated and will change to observed=True in a future version of pandas. Specify observed=False to silence this warning and retain the current behavior\n",
      "  categoria_exp = group2.pivot_table(index='job_category', columns='experience_level')\n"
     ]
    }
   ],
   "source": [
    "# Transformando os dados com pivot_table\n",
    "categoria_exp = group2.pivot_table(index='job_category', columns='experience_level')\n",
    "\n",
    "# Somando os totais das linhas para transformar em percentual\n",
    "soma_linhas = categoria_exp.sum(axis=1)\n",
    "categoria_exp = (categoria_exp.div(soma_linhas, axis=0) * 100)"
   ]
  },
  {
   "cell_type": "code",
   "execution_count": 122,
   "metadata": {},
   "outputs": [
    {
     "data": {
      "text/html": [
       "<style type=\"text/css\">\n",
       "#T_48967_row0_col0, #T_48967_row0_col1, #T_48967_row0_col2, #T_48967_row0_col3, #T_48967_row1_col0, #T_48967_row1_col1, #T_48967_row1_col2, #T_48967_row1_col3, #T_48967_row2_col0, #T_48967_row2_col1, #T_48967_row2_col2, #T_48967_row2_col3, #T_48967_row3_col0, #T_48967_row3_col1, #T_48967_row3_col2, #T_48967_row3_col3, #T_48967_row4_col0, #T_48967_row4_col1, #T_48967_row4_col2, #T_48967_row4_col3, #T_48967_row5_col0, #T_48967_row5_col1, #T_48967_row5_col2, #T_48967_row5_col3, #T_48967_row6_col0, #T_48967_row6_col1, #T_48967_row6_col2, #T_48967_row6_col3, #T_48967_row7_col0, #T_48967_row7_col1, #T_48967_row7_col2, #T_48967_row7_col3, #T_48967_row8_col0, #T_48967_row8_col1, #T_48967_row8_col2, #T_48967_row8_col3, #T_48967_row9_col0, #T_48967_row9_col1, #T_48967_row9_col2, #T_48967_row9_col3 {\n",
       "  text-align: center;\n",
       "}\n",
       "</style>\n",
       "<table id=\"T_48967\">\n",
       "  <thead>\n",
       "    <tr>\n",
       "      <th class=\"blank level0\" >&nbsp;</th>\n",
       "      <th id=\"T_48967_level0_col0\" class=\"col_heading level0 col0\" colspan=\"4\">quantidade</th>\n",
       "    </tr>\n",
       "    <tr>\n",
       "      <th class=\"index_name level1\" >experience_level</th>\n",
       "      <th id=\"T_48967_level1_col0\" class=\"col_heading level1 col0\" >Entry-level</th>\n",
       "      <th id=\"T_48967_level1_col1\" class=\"col_heading level1 col1\" >Executive</th>\n",
       "      <th id=\"T_48967_level1_col2\" class=\"col_heading level1 col2\" >Mid-level</th>\n",
       "      <th id=\"T_48967_level1_col3\" class=\"col_heading level1 col3\" >Senior</th>\n",
       "    </tr>\n",
       "    <tr>\n",
       "      <th class=\"index_name level0\" >job_category</th>\n",
       "      <th class=\"blank col0\" >&nbsp;</th>\n",
       "      <th class=\"blank col1\" >&nbsp;</th>\n",
       "      <th class=\"blank col2\" >&nbsp;</th>\n",
       "      <th class=\"blank col3\" >&nbsp;</th>\n",
       "    </tr>\n",
       "  </thead>\n",
       "  <tbody>\n",
       "    <tr>\n",
       "      <th id=\"T_48967_level0_row0\" class=\"row_heading level0 row0\" >BI and Visualization</th>\n",
       "      <td id=\"T_48967_row0_col0\" class=\"data row0 col0\" >3.723404</td>\n",
       "      <td id=\"T_48967_row0_col1\" class=\"data row0 col1\" >2.127660</td>\n",
       "      <td id=\"T_48967_row0_col2\" class=\"data row0 col2\" >23.936170</td>\n",
       "      <td id=\"T_48967_row0_col3\" class=\"data row0 col3\" >70.212766</td>\n",
       "    </tr>\n",
       "    <tr>\n",
       "      <th id=\"T_48967_level0_row1\" class=\"row_heading level0 row1\" >Cloud and Database</th>\n",
       "      <td id=\"T_48967_row1_col0\" class=\"data row1 col0\" >0.000000</td>\n",
       "      <td id=\"T_48967_row1_col1\" class=\"data row1 col1\" >0.000000</td>\n",
       "      <td id=\"T_48967_row1_col2\" class=\"data row1 col2\" >0.000000</td>\n",
       "      <td id=\"T_48967_row1_col3\" class=\"data row1 col3\" >100.000000</td>\n",
       "    </tr>\n",
       "    <tr>\n",
       "      <th id=\"T_48967_level0_row2\" class=\"row_heading level0 row2\" >Data Analysis</th>\n",
       "      <td id=\"T_48967_row2_col0\" class=\"data row2 col0\" >13.720643</td>\n",
       "      <td id=\"T_48967_row2_col1\" class=\"data row2 col1\" >1.977750</td>\n",
       "      <td id=\"T_48967_row2_col2\" class=\"data row2 col2\" >29.789864</td>\n",
       "      <td id=\"T_48967_row2_col3\" class=\"data row2 col3\" >54.511743</td>\n",
       "    </tr>\n",
       "    <tr>\n",
       "      <th id=\"T_48967_level0_row3\" class=\"row_heading level0 row3\" >Data Architecture and Modeling</th>\n",
       "      <td id=\"T_48967_row3_col0\" class=\"data row3 col0\" >0.000000</td>\n",
       "      <td id=\"T_48967_row3_col1\" class=\"data row3 col1\" >1.234568</td>\n",
       "      <td id=\"T_48967_row3_col2\" class=\"data row3 col2\" >16.666667</td>\n",
       "      <td id=\"T_48967_row3_col3\" class=\"data row3 col3\" >82.098765</td>\n",
       "    </tr>\n",
       "    <tr>\n",
       "      <th id=\"T_48967_level0_row4\" class=\"row_heading level0 row4\" >Data Engineering</th>\n",
       "      <td id=\"T_48967_row4_col0\" class=\"data row4 col0\" >4.741379</td>\n",
       "      <td id=\"T_48967_row4_col1\" class=\"data row4 col1\" >6.465517</td>\n",
       "      <td id=\"T_48967_row4_col2\" class=\"data row4 col2\" >25.517241</td>\n",
       "      <td id=\"T_48967_row4_col3\" class=\"data row4 col3\" >63.275862</td>\n",
       "    </tr>\n",
       "    <tr>\n",
       "      <th id=\"T_48967_level0_row5\" class=\"row_heading level0 row5\" >Data Management and Strategy</th>\n",
       "      <td id=\"T_48967_row5_col0\" class=\"data row5 col0\" >20.408163</td>\n",
       "      <td id=\"T_48967_row5_col1\" class=\"data row5 col1\" >0.000000</td>\n",
       "      <td id=\"T_48967_row5_col2\" class=\"data row5 col2\" >26.530612</td>\n",
       "      <td id=\"T_48967_row5_col3\" class=\"data row5 col3\" >53.061224</td>\n",
       "    </tr>\n",
       "    <tr>\n",
       "      <th id=\"T_48967_level0_row6\" class=\"row_heading level0 row6\" >Data Quality and Operations</th>\n",
       "      <td id=\"T_48967_row6_col0\" class=\"data row6 col0\" >6.666667</td>\n",
       "      <td id=\"T_48967_row6_col1\" class=\"data row6 col1\" >0.000000</td>\n",
       "      <td id=\"T_48967_row6_col2\" class=\"data row6 col2\" >22.222222</td>\n",
       "      <td id=\"T_48967_row6_col3\" class=\"data row6 col3\" >71.111111</td>\n",
       "    </tr>\n",
       "    <tr>\n",
       "      <th id=\"T_48967_level0_row7\" class=\"row_heading level0 row7\" >Data Science and Research</th>\n",
       "      <td id=\"T_48967_row7_col0\" class=\"data row7 col0\" >8.459215</td>\n",
       "      <td id=\"T_48967_row7_col1\" class=\"data row7 col1\" >4.048338</td>\n",
       "      <td id=\"T_48967_row7_col2\" class=\"data row7 col2\" >22.296073</td>\n",
       "      <td id=\"T_48967_row7_col3\" class=\"data row7 col3\" >65.196375</td>\n",
       "    </tr>\n",
       "    <tr>\n",
       "      <th id=\"T_48967_level0_row8\" class=\"row_heading level0 row8\" >Leadership and Management</th>\n",
       "      <td id=\"T_48967_row8_col0\" class=\"data row8 col0\" >2.849003</td>\n",
       "      <td id=\"T_48967_row8_col1\" class=\"data row8 col1\" >13.105413</td>\n",
       "      <td id=\"T_48967_row8_col2\" class=\"data row8 col2\" >20.512821</td>\n",
       "      <td id=\"T_48967_row8_col3\" class=\"data row8 col3\" >63.532764</td>\n",
       "    </tr>\n",
       "    <tr>\n",
       "      <th id=\"T_48967_level0_row9\" class=\"row_heading level0 row9\" >Machine Learning and AI</th>\n",
       "      <td id=\"T_48967_row9_col0\" class=\"data row9 col0\" >6.979280</td>\n",
       "      <td id=\"T_48967_row9_col1\" class=\"data row9 col1\" >1.417666</td>\n",
       "      <td id=\"T_48967_row9_col2\" class=\"data row9 col2\" >21.919302</td>\n",
       "      <td id=\"T_48967_row9_col3\" class=\"data row9 col3\" >69.683751</td>\n",
       "    </tr>\n",
       "  </tbody>\n",
       "</table>\n"
      ],
      "text/plain": [
       "<pandas.io.formats.style.Styler at 0x7f0f04554e80>"
      ]
     },
     "execution_count": 122,
     "metadata": {},
     "output_type": "execute_result"
    }
   ],
   "source": [
    "# Formatando e centralizando a tabela dinâmica\n",
    "categoria_exp.style.set_properties(**{'text-align': 'center'})"
   ]
  },
  {
   "cell_type": "code",
   "execution_count": 123,
   "metadata": {},
   "outputs": [
    {
     "data": {
      "image/png": "[encoded data removed]",
      "text/plain": [
       "<Figure size 640x480 with 1 Axes>"
      ]
     },
     "metadata": {},
     "output_type": "display_data"
    }
   ],
   "source": [
    "categoria_exp.plot.barh(stacked=True, color=cores)\n",
    "plt.title('Distribuição percentual do nível de experiência por categoria')\n",
    "plt.legend(loc='upper center', bbox_to_anchor=(0.5, -0.1), fancybox=True, shadow=True, ncol=2)\n",
    "plt.show()"
   ]
  },
  {
   "cell_type": "markdown",
   "metadata": {},
   "source": [
    "##### Média salarial anual por categoria / título / nível de experiência\n",
    "- Quantidade de vagas e média salarial anual por categoria de trabalho em Data Science"
   ]
  },
  {
   "cell_type": "code",
   "execution_count": 124,
   "metadata": {},
   "outputs": [
    {
     "name": "stderr",
     "output_type": "stream",
     "text": [
      "/tmp/ipykernel_4418/3638325641.py:2: FutureWarning: The default of observed=False is deprecated and will be changed to True in a future version of pandas. Pass observed=False to retain current behavior or observed=True to adopt the future default and silence this warning.\n",
      "  media_categoria = data.groupby(['job_category']).agg({'job_category': 'size', 'salary_in_usd': 'mean'})\n"
     ]
    }
   ],
   "source": [
    "# Agrupando os dados por categoria e realizando cálculos com agg\n",
    "media_categoria = data.groupby(['job_category']).agg({'job_category': 'size', 'salary_in_usd': 'mean'})\n",
    "\n",
    "# Renomando as colunas da tabela\n",
    "media_categoria = media_categoria.rename(columns={'job_category': 'quantidade', 'salary_in_usd': 'média anual'})\n",
    "\n",
    "# Ordenando os dados pela médial salarial anual\n",
    "media_categoria = media_categoria.sort_values(by='média anual', ascending=False)"
   ]
  },
  {
   "cell_type": "code",
   "execution_count": 125,
   "metadata": {},
   "outputs": [
    {
     "data": {
      "text/html": [
       "<style type=\"text/css\">\n",
       "#T_af22b_row0_col0, #T_af22b_row0_col1, #T_af22b_row1_col0, #T_af22b_row1_col1, #T_af22b_row2_col0, #T_af22b_row2_col1, #T_af22b_row3_col0, #T_af22b_row3_col1, #T_af22b_row4_col0, #T_af22b_row4_col1, #T_af22b_row5_col0, #T_af22b_row5_col1, #T_af22b_row6_col0, #T_af22b_row6_col1, #T_af22b_row7_col0, #T_af22b_row7_col1, #T_af22b_row8_col0, #T_af22b_row8_col1, #T_af22b_row9_col0, #T_af22b_row9_col1 {\n",
       "  text-align: center;\n",
       "}\n",
       "</style>\n",
       "<table id=\"T_af22b\">\n",
       "  <thead>\n",
       "    <tr>\n",
       "      <th class=\"blank level0\" >&nbsp;</th>\n",
       "      <th id=\"T_af22b_level0_col0\" class=\"col_heading level0 col0\" >quantidade</th>\n",
       "      <th id=\"T_af22b_level0_col1\" class=\"col_heading level0 col1\" >média anual</th>\n",
       "    </tr>\n",
       "    <tr>\n",
       "      <th class=\"index_name level0\" >job_category</th>\n",
       "      <th class=\"blank col0\" >&nbsp;</th>\n",
       "      <th class=\"blank col1\" >&nbsp;</th>\n",
       "    </tr>\n",
       "  </thead>\n",
       "  <tbody>\n",
       "    <tr>\n",
       "      <th id=\"T_af22b_level0_row0\" class=\"row_heading level0 row0\" >Machine Learning and AI</th>\n",
       "      <td id=\"T_af22b_row0_col0\" class=\"data row0 col0\" >917</td>\n",
       "      <td id=\"T_af22b_row0_col1\" class=\"data row0 col1\" >170453.221374</td>\n",
       "    </tr>\n",
       "    <tr>\n",
       "      <th id=\"T_af22b_level0_row1\" class=\"row_heading level0 row1\" >Data Science and Research</th>\n",
       "      <td id=\"T_af22b_row1_col0\" class=\"data row1 col0\" >1655</td>\n",
       "      <td id=\"T_af22b_row1_col1\" class=\"data row1 col1\" >157131.039879</td>\n",
       "    </tr>\n",
       "    <tr>\n",
       "      <th id=\"T_af22b_level0_row2\" class=\"row_heading level0 row2\" >Data Architecture and Modeling</th>\n",
       "      <td id=\"T_af22b_row2_col0\" class=\"data row2 col0\" >162</td>\n",
       "      <td id=\"T_af22b_row2_col1\" class=\"data row2 col1\" >157054.006173</td>\n",
       "    </tr>\n",
       "    <tr>\n",
       "      <th id=\"T_af22b_level0_row3\" class=\"row_heading level0 row3\" >Cloud and Database</th>\n",
       "      <td id=\"T_af22b_row3_col0\" class=\"data row3 col0\" >5</td>\n",
       "      <td id=\"T_af22b_row3_col1\" class=\"data row3 col1\" >155000.000000</td>\n",
       "    </tr>\n",
       "    <tr>\n",
       "      <th id=\"T_af22b_level0_row4\" class=\"row_heading level0 row4\" >Leadership and Management</th>\n",
       "      <td id=\"T_af22b_row4_col0\" class=\"data row4 col0\" >351</td>\n",
       "      <td id=\"T_af22b_row4_col1\" class=\"data row4 col1\" >149020.108262</td>\n",
       "    </tr>\n",
       "    <tr>\n",
       "      <th id=\"T_af22b_level0_row5\" class=\"row_heading level0 row5\" >Data Engineering</th>\n",
       "      <td id=\"T_af22b_row5_col0\" class=\"data row5 col0\" >1160</td>\n",
       "      <td id=\"T_af22b_row5_col1\" class=\"data row5 col1\" >142967.543103</td>\n",
       "    </tr>\n",
       "    <tr>\n",
       "      <th id=\"T_af22b_level0_row6\" class=\"row_heading level0 row6\" >BI and Visualization</th>\n",
       "      <td id=\"T_af22b_row6_col0\" class=\"data row6 col0\" >188</td>\n",
       "      <td id=\"T_af22b_row6_col1\" class=\"data row6 col1\" >128377.734043</td>\n",
       "    </tr>\n",
       "    <tr>\n",
       "      <th id=\"T_af22b_level0_row7\" class=\"row_heading level0 row7\" >Data Management and Strategy</th>\n",
       "      <td id=\"T_af22b_row7_col0\" class=\"data row7 col0\" >49</td>\n",
       "      <td id=\"T_af22b_row7_col1\" class=\"data row7 col1\" >107655.836735</td>\n",
       "    </tr>\n",
       "    <tr>\n",
       "      <th id=\"T_af22b_level0_row8\" class=\"row_heading level0 row8\" >Data Analysis</th>\n",
       "      <td id=\"T_af22b_row8_col0\" class=\"data row8 col0\" >809</td>\n",
       "      <td id=\"T_af22b_row8_col1\" class=\"data row8 col1\" >106707.058096</td>\n",
       "    </tr>\n",
       "    <tr>\n",
       "      <th id=\"T_af22b_level0_row9\" class=\"row_heading level0 row9\" >Data Quality and Operations</th>\n",
       "      <td id=\"T_af22b_row9_col0\" class=\"data row9 col0\" >45</td>\n",
       "      <td id=\"T_af22b_row9_col1\" class=\"data row9 col1\" >104586.022222</td>\n",
       "    </tr>\n",
       "  </tbody>\n",
       "</table>\n"
      ],
      "text/plain": [
       "<pandas.io.formats.style.Styler at 0x7f0f046a44f0>"
      ]
     },
     "execution_count": 125,
     "metadata": {},
     "output_type": "execute_result"
    }
   ],
   "source": [
    "# Centralizando e formatando a tabela\n",
    "media_categoria.style.set_properties(**{'text-align': 'center'})"
   ]
  },
  {
   "cell_type": "code",
   "execution_count": 126,
   "metadata": {},
   "outputs": [],
   "source": [
    "# Agrupando os dados por titulo e realizando cálculos com agg\n",
    "media_titulo = data.groupby(['job_title']).agg({'job_title': 'size', 'salary_in_usd': 'mean'})\n",
    "\n",
    "# Renomando as colunas da tabela\n",
    "media_titulo = media_titulo.rename(columns={'job_title': 'quantidade', 'salary_in_usd': 'média anual'})\n",
    "\n",
    "# Ordenando os dados pela médial salarial anual\n",
    "media_titulo = media_titulo.sort_values(by='média anual', ascending=False)"
   ]
  },
  {
   "cell_type": "code",
   "execution_count": 127,
   "metadata": {},
   "outputs": [],
   "source": [
    "media_titulo = media_titulo[:10] # Definindo somente os 10 primeiros"
   ]
  },
  {
   "cell_type": "markdown",
   "metadata": {},
   "source": [
    "- Top 10 vagas com a maior média salarial anual"
   ]
  },
  {
   "cell_type": "code",
   "execution_count": 128,
   "metadata": {},
   "outputs": [
    {
     "data": {
      "text/html": [
       "<style type=\"text/css\">\n",
       "#T_bcd25_row0_col0, #T_bcd25_row0_col1, #T_bcd25_row1_col0, #T_bcd25_row1_col1, #T_bcd25_row2_col0, #T_bcd25_row2_col1, #T_bcd25_row3_col0, #T_bcd25_row3_col1, #T_bcd25_row4_col0, #T_bcd25_row4_col1, #T_bcd25_row5_col0, #T_bcd25_row5_col1, #T_bcd25_row6_col0, #T_bcd25_row6_col1, #T_bcd25_row7_col0, #T_bcd25_row7_col1, #T_bcd25_row8_col0, #T_bcd25_row8_col1, #T_bcd25_row9_col0, #T_bcd25_row9_col1 {\n",
       "  text-align: center;\n",
       "}\n",
       "</style>\n",
       "<table id=\"T_bcd25\">\n",
       "  <thead>\n",
       "    <tr>\n",
       "      <th class=\"blank level0\" >&nbsp;</th>\n",
       "      <th id=\"T_bcd25_level0_col0\" class=\"col_heading level0 col0\" >quantidade</th>\n",
       "      <th id=\"T_bcd25_level0_col1\" class=\"col_heading level0 col1\" >média anual</th>\n",
       "    </tr>\n",
       "    <tr>\n",
       "      <th class=\"index_name level0\" >job_title</th>\n",
       "      <th class=\"blank col0\" >&nbsp;</th>\n",
       "      <th class=\"blank col1\" >&nbsp;</th>\n",
       "    </tr>\n",
       "  </thead>\n",
       "  <tbody>\n",
       "    <tr>\n",
       "      <th id=\"T_bcd25_level0_row0\" class=\"row_heading level0 row0\" >Analytics Engineering Manager</th>\n",
       "      <td id=\"T_bcd25_row0_col0\" class=\"data row0 col0\" >1</td>\n",
       "      <td id=\"T_bcd25_row0_col1\" class=\"data row0 col1\" >399880.000000</td>\n",
       "    </tr>\n",
       "    <tr>\n",
       "      <th id=\"T_bcd25_level0_row1\" class=\"row_heading level0 row1\" >Data Science Tech Lead</th>\n",
       "      <td id=\"T_bcd25_row1_col0\" class=\"data row1 col0\" >1</td>\n",
       "      <td id=\"T_bcd25_row1_col1\" class=\"data row1 col1\" >375000.000000</td>\n",
       "    </tr>\n",
       "    <tr>\n",
       "      <th id=\"T_bcd25_level0_row2\" class=\"row_heading level0 row2\" >Managing Director Data Science</th>\n",
       "      <td id=\"T_bcd25_row2_col0\" class=\"data row2 col0\" >1</td>\n",
       "      <td id=\"T_bcd25_row2_col1\" class=\"data row2 col1\" >300000.000000</td>\n",
       "    </tr>\n",
       "    <tr>\n",
       "      <th id=\"T_bcd25_level0_row3\" class=\"row_heading level0 row3\" >Head of Machine Learning</th>\n",
       "      <td id=\"T_bcd25_row3_col0\" class=\"data row3 col0\" >2</td>\n",
       "      <td id=\"T_bcd25_row3_col1\" class=\"data row3 col1\" >259000.000000</td>\n",
       "    </tr>\n",
       "    <tr>\n",
       "      <th id=\"T_bcd25_level0_row4\" class=\"row_heading level0 row4\" >AWS Data Architect</th>\n",
       "      <td id=\"T_bcd25_row4_col0\" class=\"data row4 col0\" >1</td>\n",
       "      <td id=\"T_bcd25_row4_col1\" class=\"data row4 col1\" >258000.000000</td>\n",
       "    </tr>\n",
       "    <tr>\n",
       "      <th id=\"T_bcd25_level0_row5\" class=\"row_heading level0 row5\" >Cloud Data Architect</th>\n",
       "      <td id=\"T_bcd25_row5_col0\" class=\"data row5 col0\" >1</td>\n",
       "      <td id=\"T_bcd25_row5_col1\" class=\"data row5 col1\" >250000.000000</td>\n",
       "    </tr>\n",
       "    <tr>\n",
       "      <th id=\"T_bcd25_level0_row6\" class=\"row_heading level0 row6\" >AI Architect</th>\n",
       "      <td id=\"T_bcd25_row6_col0\" class=\"data row6 col0\" >6</td>\n",
       "      <td id=\"T_bcd25_row6_col1\" class=\"data row6 col1\" >233656.000000</td>\n",
       "    </tr>\n",
       "    <tr>\n",
       "      <th id=\"T_bcd25_level0_row7\" class=\"row_heading level0 row7\" >Director of Data Science</th>\n",
       "      <td id=\"T_bcd25_row7_col0\" class=\"data row7 col0\" >27</td>\n",
       "      <td id=\"T_bcd25_row7_col1\" class=\"data row7 col1\" >215447.629630</td>\n",
       "    </tr>\n",
       "    <tr>\n",
       "      <th id=\"T_bcd25_level0_row8\" class=\"row_heading level0 row8\" >Machine Learning Software Engineer</th>\n",
       "      <td id=\"T_bcd25_row8_col0\" class=\"data row8 col0\" >13</td>\n",
       "      <td id=\"T_bcd25_row8_col1\" class=\"data row8 col1\" >212907.692308</td>\n",
       "    </tr>\n",
       "    <tr>\n",
       "      <th id=\"T_bcd25_level0_row9\" class=\"row_heading level0 row9\" >Data Analytics Lead</th>\n",
       "      <td id=\"T_bcd25_row9_col0\" class=\"data row9 col0\" >3</td>\n",
       "      <td id=\"T_bcd25_row9_col1\" class=\"data row9 col1\" >210874.666667</td>\n",
       "    </tr>\n",
       "  </tbody>\n",
       "</table>\n"
      ],
      "text/plain": [
       "<pandas.io.formats.style.Styler at 0x7f0f0458fc40>"
      ]
     },
     "execution_count": 128,
     "metadata": {},
     "output_type": "execute_result"
    }
   ],
   "source": [
    "# Centralizando e formatando a tabela\n",
    "media_titulo.style.set_properties(**{'text-align': 'center'})"
   ]
  },
  {
   "cell_type": "code",
   "execution_count": 129,
   "metadata": {},
   "outputs": [
    {
     "name": "stderr",
     "output_type": "stream",
     "text": [
      "/tmp/ipykernel_4418/473553112.py:2: FutureWarning: The default of observed=False is deprecated and will be changed to True in a future version of pandas. Pass observed=False to retain current behavior or observed=True to adopt the future default and silence this warning.\n",
      "  media_exp = data.groupby(['experience_level', 'job_title'])['salary_in_usd'].mean().reset_index()\n"
     ]
    }
   ],
   "source": [
    "# Agrupando os dados por nível de experiência e categoria, calculando uma média salarial anual\n",
    "media_exp = data.groupby(['experience_level', 'job_title'])['salary_in_usd'].mean().reset_index()\n",
    "\n",
    "# Selecionando somente valores existentes\n",
    "media_exp = media_exp[media_exp['salary_in_usd'] > 0]\n",
    "media_exp = media_exp.sort_values(by='salary_in_usd', ascending=False)"
   ]
  },
  {
   "cell_type": "code",
   "execution_count": 130,
   "metadata": {},
   "outputs": [
    {
     "data": {
      "text/html": [
       "<div>\n",
       "<style scoped>\n",
       "    .dataframe tbody tr th:only-of-type {\n",
       "        vertical-align: middle;\n",
       "    }\n",
       "\n",
       "    .dataframe tbody tr th {\n",
       "        vertical-align: top;\n",
       "    }\n",
       "\n",
       "    .dataframe thead th {\n",
       "        text-align: right;\n",
       "    }\n",
       "</style>\n",
       "<table border=\"1\" class=\"dataframe\">\n",
       "  <thead>\n",
       "    <tr style=\"text-align: right;\">\n",
       "      <th></th>\n",
       "      <th>experience_level</th>\n",
       "      <th>job_title</th>\n",
       "      <th>salary_in_usd</th>\n",
       "    </tr>\n",
       "  </thead>\n",
       "  <tbody>\n",
       "    <tr>\n",
       "      <th>61</th>\n",
       "      <td>Entry-level</td>\n",
       "      <td>Data Quality Engineer</td>\n",
       "      <td>23753.0</td>\n",
       "    </tr>\n",
       "    <tr>\n",
       "      <th>37</th>\n",
       "      <td>Entry-level</td>\n",
       "      <td>Data Analytics Engineer</td>\n",
       "      <td>20000.0</td>\n",
       "    </tr>\n",
       "    <tr>\n",
       "      <th>247</th>\n",
       "      <td>Executive</td>\n",
       "      <td>Staff Data Analyst</td>\n",
       "      <td>15000.0</td>\n",
       "    </tr>\n",
       "  </tbody>\n",
       "</table>\n",
       "</div>"
      ],
      "text/plain": [
       "    experience_level                job_title  salary_in_usd\n",
       "61       Entry-level    Data Quality Engineer        23753.0\n",
       "37       Entry-level  Data Analytics Engineer        20000.0\n",
       "247        Executive       Staff Data Analyst        15000.0"
      ]
     },
     "execution_count": 130,
     "metadata": {},
     "output_type": "execute_result"
    }
   ],
   "source": [
    "media_exp.tail(3)"
   ]
  },
  {
   "cell_type": "code",
   "execution_count": 131,
   "metadata": {},
   "outputs": [
    {
     "name": "stderr",
     "output_type": "stream",
     "text": [
      "/tmp/ipykernel_4418/866389943.py:2: FutureWarning: The default value of observed=False is deprecated and will change to observed=True in a future version of pandas. Specify observed=False to silence this warning and retain the current behavior\n",
      "  media_exp = media_exp.pivot_table(index='job_title', columns='experience_level').fillna('-')\n"
     ]
    }
   ],
   "source": [
    "# Transformando em uma Tabela Dinâmica e substituindo os valores vazios\n",
    "media_exp = media_exp.pivot_table(index='job_title', columns='experience_level').fillna('-')"
   ]
  },
  {
   "cell_type": "code",
   "execution_count": 132,
   "metadata": {},
   "outputs": [],
   "source": [
    "media_exp = media_exp[:10] # Resumindo somente os 10 primeiros"
   ]
  },
  {
   "cell_type": "markdown",
   "metadata": {},
   "source": [
    "- Visualizando o nível de experiência exigido e média salarial anual"
   ]
  },
  {
   "cell_type": "code",
   "execution_count": 133,
   "metadata": {},
   "outputs": [
    {
     "data": {
      "text/html": [
       "<style type=\"text/css\">\n",
       "#T_d8603_row0_col0, #T_d8603_row0_col1, #T_d8603_row0_col2, #T_d8603_row0_col3, #T_d8603_row1_col0, #T_d8603_row1_col1, #T_d8603_row1_col2, #T_d8603_row1_col3, #T_d8603_row2_col0, #T_d8603_row2_col1, #T_d8603_row2_col2, #T_d8603_row2_col3, #T_d8603_row3_col0, #T_d8603_row3_col1, #T_d8603_row3_col2, #T_d8603_row3_col3, #T_d8603_row4_col0, #T_d8603_row4_col1, #T_d8603_row4_col2, #T_d8603_row4_col3, #T_d8603_row5_col0, #T_d8603_row5_col1, #T_d8603_row5_col2, #T_d8603_row5_col3, #T_d8603_row6_col0, #T_d8603_row6_col1, #T_d8603_row6_col2, #T_d8603_row6_col3, #T_d8603_row7_col0, #T_d8603_row7_col1, #T_d8603_row7_col2, #T_d8603_row7_col3, #T_d8603_row8_col0, #T_d8603_row8_col1, #T_d8603_row8_col2, #T_d8603_row8_col3, #T_d8603_row9_col0, #T_d8603_row9_col1, #T_d8603_row9_col2, #T_d8603_row9_col3 {\n",
       "  text-align: center;\n",
       "}\n",
       "</style>\n",
       "<table id=\"T_d8603\">\n",
       "  <thead>\n",
       "    <tr>\n",
       "      <th class=\"blank level0\" >&nbsp;</th>\n",
       "      <th id=\"T_d8603_level0_col0\" class=\"col_heading level0 col0\" colspan=\"4\">salary_in_usd</th>\n",
       "    </tr>\n",
       "    <tr>\n",
       "      <th class=\"index_name level1\" >experience_level</th>\n",
       "      <th id=\"T_d8603_level1_col0\" class=\"col_heading level1 col0\" >Entry-level</th>\n",
       "      <th id=\"T_d8603_level1_col1\" class=\"col_heading level1 col1\" >Executive</th>\n",
       "      <th id=\"T_d8603_level1_col2\" class=\"col_heading level1 col2\" >Mid-level</th>\n",
       "      <th id=\"T_d8603_level1_col3\" class=\"col_heading level1 col3\" >Senior</th>\n",
       "    </tr>\n",
       "    <tr>\n",
       "      <th class=\"index_name level0\" >job_title</th>\n",
       "      <th class=\"blank col0\" >&nbsp;</th>\n",
       "      <th class=\"blank col1\" >&nbsp;</th>\n",
       "      <th class=\"blank col2\" >&nbsp;</th>\n",
       "      <th class=\"blank col3\" >&nbsp;</th>\n",
       "    </tr>\n",
       "  </thead>\n",
       "  <tbody>\n",
       "    <tr>\n",
       "      <th id=\"T_d8603_level0_row0\" class=\"row_heading level0 row0\" >AI Architect</th>\n",
       "      <td id=\"T_d8603_row0_col0\" class=\"data row0 col0\" >-</td>\n",
       "      <td id=\"T_d8603_row0_col1\" class=\"data row0 col1\" >215936.000000</td>\n",
       "      <td id=\"T_d8603_row0_col2\" class=\"data row0 col2\" >-</td>\n",
       "      <td id=\"T_d8603_row0_col3\" class=\"data row0 col3\" >237200.000000</td>\n",
       "    </tr>\n",
       "    <tr>\n",
       "      <th id=\"T_d8603_level0_row1\" class=\"row_heading level0 row1\" >AI Developer</th>\n",
       "      <td id=\"T_d8603_row1_col0\" class=\"data row1 col0\" >110119.500000</td>\n",
       "      <td id=\"T_d8603_row1_col1\" class=\"data row1 col1\" >-</td>\n",
       "      <td id=\"T_d8603_row1_col2\" class=\"data row1 col2\" >138294.333333</td>\n",
       "      <td id=\"T_d8603_row1_col3\" class=\"data row1 col3\" >162770.666667</td>\n",
       "    </tr>\n",
       "    <tr>\n",
       "      <th id=\"T_d8603_level0_row2\" class=\"row_heading level0 row2\" >AI Engineer</th>\n",
       "      <td id=\"T_d8603_row2_col0\" class=\"data row2 col0\" >28296.500000</td>\n",
       "      <td id=\"T_d8603_row2_col1\" class=\"data row2 col1\" >-</td>\n",
       "      <td id=\"T_d8603_row2_col2\" class=\"data row2 col2\" >163261.100000</td>\n",
       "      <td id=\"T_d8603_row2_col3\" class=\"data row2 col3\" >192572.681818</td>\n",
       "    </tr>\n",
       "    <tr>\n",
       "      <th id=\"T_d8603_level0_row3\" class=\"row_heading level0 row3\" >AI Programmer</th>\n",
       "      <td id=\"T_d8603_row3_col0\" class=\"data row3 col0\" >56021.750000</td>\n",
       "      <td id=\"T_d8603_row3_col1\" class=\"data row3 col1\" >-</td>\n",
       "      <td id=\"T_d8603_row3_col2\" class=\"data row3 col2\" >-</td>\n",
       "      <td id=\"T_d8603_row3_col3\" class=\"data row3 col3\" >120000.000000</td>\n",
       "    </tr>\n",
       "    <tr>\n",
       "      <th id=\"T_d8603_level0_row4\" class=\"row_heading level0 row4\" >AI Research Engineer</th>\n",
       "      <td id=\"T_d8603_row4_col0\" class=\"data row4 col0\" >30940.000000</td>\n",
       "      <td id=\"T_d8603_row4_col1\" class=\"data row4 col1\" >-</td>\n",
       "      <td id=\"T_d8603_row4_col2\" class=\"data row4 col2\" >115603.000000</td>\n",
       "      <td id=\"T_d8603_row4_col3\" class=\"data row4 col3\" >-</td>\n",
       "    </tr>\n",
       "    <tr>\n",
       "      <th id=\"T_d8603_level0_row5\" class=\"row_heading level0 row5\" >AI Scientist</th>\n",
       "      <td id=\"T_d8603_row5_col0\" class=\"data row5 col0\" >69483.200000</td>\n",
       "      <td id=\"T_d8603_row5_col1\" class=\"data row5 col1\" >200000.000000</td>\n",
       "      <td id=\"T_d8603_row5_col2\" class=\"data row5 col2\" >105588.250000</td>\n",
       "      <td id=\"T_d8603_row5_col3\" class=\"data row5 col3\" >86195.250000</td>\n",
       "    </tr>\n",
       "    <tr>\n",
       "      <th id=\"T_d8603_level0_row6\" class=\"row_heading level0 row6\" >AWS Data Architect</th>\n",
       "      <td id=\"T_d8603_row6_col0\" class=\"data row6 col0\" >-</td>\n",
       "      <td id=\"T_d8603_row6_col1\" class=\"data row6 col1\" >-</td>\n",
       "      <td id=\"T_d8603_row6_col2\" class=\"data row6 col2\" >258000.000000</td>\n",
       "      <td id=\"T_d8603_row6_col3\" class=\"data row6 col3\" >-</td>\n",
       "    </tr>\n",
       "    <tr>\n",
       "      <th id=\"T_d8603_level0_row7\" class=\"row_heading level0 row7\" >Analytics Engineer</th>\n",
       "      <td id=\"T_d8603_row7_col0\" class=\"data row7 col0\" >102870.500000</td>\n",
       "      <td id=\"T_d8603_row7_col1\" class=\"data row7 col1\" >185916.666667</td>\n",
       "      <td id=\"T_d8603_row7_col2\" class=\"data row7 col2\" >133894.419355</td>\n",
       "      <td id=\"T_d8603_row7_col3\" class=\"data row7 col3\" >156798.000000</td>\n",
       "    </tr>\n",
       "    <tr>\n",
       "      <th id=\"T_d8603_level0_row8\" class=\"row_heading level0 row8\" >Analytics Engineering Manager</th>\n",
       "      <td id=\"T_d8603_row8_col0\" class=\"data row8 col0\" >-</td>\n",
       "      <td id=\"T_d8603_row8_col1\" class=\"data row8 col1\" >-</td>\n",
       "      <td id=\"T_d8603_row8_col2\" class=\"data row8 col2\" >-</td>\n",
       "      <td id=\"T_d8603_row8_col3\" class=\"data row8 col3\" >399880.000000</td>\n",
       "    </tr>\n",
       "    <tr>\n",
       "      <th id=\"T_d8603_level0_row9\" class=\"row_heading level0 row9\" >Applied Data Scientist</th>\n",
       "      <td id=\"T_d8603_row9_col0\" class=\"data row9 col0\" >57432.000000</td>\n",
       "      <td id=\"T_d8603_row9_col1\" class=\"data row9 col1\" >-</td>\n",
       "      <td id=\"T_d8603_row9_col2\" class=\"data row9 col2\" >97079.333333</td>\n",
       "      <td id=\"T_d8603_row9_col3\" class=\"data row9 col3\" >172354.000000</td>\n",
       "    </tr>\n",
       "  </tbody>\n",
       "</table>\n"
      ],
      "text/plain": [
       "<pandas.io.formats.style.Styler at 0x7f0f0458c940>"
      ]
     },
     "execution_count": 133,
     "metadata": {},
     "output_type": "execute_result"
    }
   ],
   "source": [
    "media_exp.style.set_properties(**{'text-align': 'center'})"
   ]
  },
  {
   "cell_type": "code",
   "execution_count": null,
   "metadata": {},
   "outputs": [],
   "source": []
  }
 ],
 "metadata": {
  "kernelspec": {
   "display_name": "Python 3",
   "language": "python",
   "name": "python3"
  },
  "language_info": {
   "codemirror_mode": {
    "name": "ipython",
    "version": 3
   },
   "file_extension": ".py",
   "mimetype": "text/x-python",
   "name": "python",
   "nbconvert_exporter": "python",
   "pygments_lexer": "ipython3",
   "version": "3.10.12"
  }
 },
 "nbformat": 4,
 "nbformat_minor": 2
}
