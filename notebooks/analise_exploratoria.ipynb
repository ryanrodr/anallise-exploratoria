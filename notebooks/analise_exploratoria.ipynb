{
 "cells": [
  {
   "cell_type": "markdown",
   "metadata": {},
   "source": [
    "## Análise Exploratória de Dados"
   ]
  },
  {
   "cell_type": "markdown",
   "metadata": {},
   "source": [
    "#### 1 - Importando os dados\n",
    "\n",
    "Link do Dataset: [Jobs and Salaries in Data Science](https://www.kaggle.com/datasets/hummaamqaasim/jobs-in-data)"
   ]
  },
  {
   "cell_type": "code",
   "execution_count": 1,
   "metadata": {},
   "outputs": [],
   "source": [
    "import pandas as pd\n",
    "import matplotlib.pyplot as plt\n",
    "import warnings\n",
    "\n",
    "warnings.filterwarnings('ignore')\n",
    "pd.set_option('display.max_columns', 39)"
   ]
  },
  {
   "cell_type": "code",
   "execution_count": 2,
   "metadata": {},
   "outputs": [],
   "source": [
    "arquivo = 'https://raw.githubusercontent.com/ryanrodr/eda-jobs-in-data/main/dados/jobs_in_data.csv'\n",
    "df = pd.read_csv(arquivo)"
   ]
  },
  {
   "cell_type": "code",
   "execution_count": 3,
   "metadata": {},
   "outputs": [
    {
     "name": "stdout",
     "output_type": "stream",
     "text": [
      "9355 linhas e 12 colunas\n"
     ]
    }
   ],
   "source": [
    "print(f'{df.shape[0]} linhas e {df.shape[1]} colunas')"
   ]
  },
  {
   "cell_type": "code",
   "execution_count": 4,
   "metadata": {},
   "outputs": [
    {
     "data": {
      "text/plain": [
       "Index(['work_year', 'job_title', 'job_category', 'salary_currency', 'salary',\n",
       "       'salary_in_usd', 'employee_residence', 'experience_level',\n",
       "       'employment_type', 'work_setting', 'company_location', 'company_size'],\n",
       "      dtype='object')"
      ]
     },
     "execution_count": 4,
     "metadata": {},
     "output_type": "execute_result"
    }
   ],
   "source": [
    "df.columns"
   ]
  },
  {
   "cell_type": "markdown",
   "metadata": {},
   "source": [
    "#### 2 - Limpeza e preparação dos dados"
   ]
  },
  {
   "cell_type": "markdown",
   "metadata": {},
   "source": [
    "- Identificando valores ausentes NaN (Not a Number) ou dados duplicados."
   ]
  },
  {
   "cell_type": "code",
   "execution_count": 5,
   "metadata": {},
   "outputs": [
    {
     "data": {
      "text/plain": [
       "work_year             0\n",
       "job_title             0\n",
       "job_category          0\n",
       "salary_currency       0\n",
       "salary                0\n",
       "salary_in_usd         0\n",
       "employee_residence    0\n",
       "experience_level      0\n",
       "employment_type       0\n",
       "work_setting          0\n",
       "company_location      0\n",
       "company_size          0\n",
       "dtype: int64"
      ]
     },
     "execution_count": 5,
     "metadata": {},
     "output_type": "execute_result"
    }
   ],
   "source": [
    "df.isna().sum()"
   ]
  },
  {
   "cell_type": "code",
   "execution_count": 6,
   "metadata": {},
   "outputs": [
    {
     "data": {
      "text/plain": [
       "4014"
      ]
     },
     "execution_count": 6,
     "metadata": {},
     "output_type": "execute_result"
    }
   ],
   "source": [
    "df.duplicated().sum()"
   ]
  },
  {
   "cell_type": "markdown",
   "metadata": {},
   "source": [
    "- Removendo dados duplicados e resetando o índice"
   ]
  },
  {
   "cell_type": "code",
   "execution_count": 7,
   "metadata": {},
   "outputs": [],
   "source": [
    "df.drop_duplicates(inplace=True)"
   ]
  },
  {
   "cell_type": "code",
   "execution_count": 8,
   "metadata": {},
   "outputs": [
    {
     "data": {
      "text/html": [
       "<div>\n",
       "<style scoped>\n",
       "    .dataframe tbody tr th:only-of-type {\n",
       "        vertical-align: middle;\n",
       "    }\n",
       "\n",
       "    .dataframe tbody tr th {\n",
       "        vertical-align: top;\n",
       "    }\n",
       "\n",
       "    .dataframe thead th {\n",
       "        text-align: right;\n",
       "    }\n",
       "</style>\n",
       "<table border=\"1\" class=\"dataframe\">\n",
       "  <thead>\n",
       "    <tr style=\"text-align: right;\">\n",
       "      <th></th>\n",
       "      <th>work_year</th>\n",
       "      <th>job_title</th>\n",
       "      <th>job_category</th>\n",
       "      <th>salary_currency</th>\n",
       "      <th>salary</th>\n",
       "      <th>salary_in_usd</th>\n",
       "      <th>employee_residence</th>\n",
       "      <th>experience_level</th>\n",
       "      <th>employment_type</th>\n",
       "      <th>work_setting</th>\n",
       "      <th>company_location</th>\n",
       "      <th>company_size</th>\n",
       "    </tr>\n",
       "  </thead>\n",
       "  <tbody>\n",
       "    <tr>\n",
       "      <th>0</th>\n",
       "      <td>2023</td>\n",
       "      <td>Data DevOps Engineer</td>\n",
       "      <td>Data Engineering</td>\n",
       "      <td>EUR</td>\n",
       "      <td>88000</td>\n",
       "      <td>95012</td>\n",
       "      <td>Germany</td>\n",
       "      <td>Mid-level</td>\n",
       "      <td>Full-time</td>\n",
       "      <td>Hybrid</td>\n",
       "      <td>Germany</td>\n",
       "      <td>L</td>\n",
       "    </tr>\n",
       "    <tr>\n",
       "      <th>1</th>\n",
       "      <td>2023</td>\n",
       "      <td>Data Architect</td>\n",
       "      <td>Data Architecture and Modeling</td>\n",
       "      <td>USD</td>\n",
       "      <td>186000</td>\n",
       "      <td>186000</td>\n",
       "      <td>United States</td>\n",
       "      <td>Senior</td>\n",
       "      <td>Full-time</td>\n",
       "      <td>In-person</td>\n",
       "      <td>United States</td>\n",
       "      <td>M</td>\n",
       "    </tr>\n",
       "    <tr>\n",
       "      <th>2</th>\n",
       "      <td>2023</td>\n",
       "      <td>Data Architect</td>\n",
       "      <td>Data Architecture and Modeling</td>\n",
       "      <td>USD</td>\n",
       "      <td>81800</td>\n",
       "      <td>81800</td>\n",
       "      <td>United States</td>\n",
       "      <td>Senior</td>\n",
       "      <td>Full-time</td>\n",
       "      <td>In-person</td>\n",
       "      <td>United States</td>\n",
       "      <td>M</td>\n",
       "    </tr>\n",
       "  </tbody>\n",
       "</table>\n",
       "</div>"
      ],
      "text/plain": [
       "   work_year             job_title                    job_category  \\\n",
       "0       2023  Data DevOps Engineer                Data Engineering   \n",
       "1       2023        Data Architect  Data Architecture and Modeling   \n",
       "2       2023        Data Architect  Data Architecture and Modeling   \n",
       "\n",
       "  salary_currency  salary  salary_in_usd employee_residence experience_level  \\\n",
       "0             EUR   88000          95012            Germany        Mid-level   \n",
       "1             USD  186000         186000      United States           Senior   \n",
       "2             USD   81800          81800      United States           Senior   \n",
       "\n",
       "  employment_type work_setting company_location company_size  \n",
       "0       Full-time       Hybrid          Germany            L  \n",
       "1       Full-time    In-person    United States            M  \n",
       "2       Full-time    In-person    United States            M  "
      ]
     },
     "execution_count": 8,
     "metadata": {},
     "output_type": "execute_result"
    }
   ],
   "source": [
    "df.head(3)"
   ]
  },
  {
   "cell_type": "markdown",
   "metadata": {},
   "source": [
    "- Removendo colunas que não vão ser utilizadas"
   ]
  },
  {
   "cell_type": "code",
   "execution_count": 9,
   "metadata": {},
   "outputs": [],
   "source": [
    "df.drop(columns=['salary_currency', 'salary', 'employee_residence', 'company_location'], inplace=True)"
   ]
  },
  {
   "cell_type": "markdown",
   "metadata": {},
   "source": [
    "- Convertendo o tipo de dado das colunas"
   ]
  },
  {
   "cell_type": "code",
   "execution_count": 10,
   "metadata": {},
   "outputs": [
    {
     "name": "stdout",
     "output_type": "stream",
     "text": [
      "<class 'pandas.core.frame.DataFrame'>\n",
      "Int64Index: 5341 entries, 0 to 9354\n",
      "Data columns (total 8 columns):\n",
      " #   Column            Non-Null Count  Dtype \n",
      "---  ------            --------------  ----- \n",
      " 0   work_year         5341 non-null   int64 \n",
      " 1   job_title         5341 non-null   object\n",
      " 2   job_category      5341 non-null   object\n",
      " 3   salary_in_usd     5341 non-null   int64 \n",
      " 4   experience_level  5341 non-null   object\n",
      " 5   employment_type   5341 non-null   object\n",
      " 6   work_setting      5341 non-null   object\n",
      " 7   company_size      5341 non-null   object\n",
      "dtypes: int64(2), object(6)\n",
      "memory usage: 375.5+ KB\n"
     ]
    }
   ],
   "source": [
    "df.info()"
   ]
  },
  {
   "cell_type": "markdown",
   "metadata": {},
   "source": [
    "- Identificando as colunas categóricas que contenham menos de 10 valores únicos e contenham o tipo de dado 'object'"
   ]
  },
  {
   "cell_type": "code",
   "execution_count": 11,
   "metadata": {},
   "outputs": [],
   "source": [
    "limite = 10\n",
    "\n",
    "colunas_categoricas = [col for col in df.columns if df[col].nunique() <= limite and df[col].dtype == 'object']"
   ]
  },
  {
   "cell_type": "code",
   "execution_count": 12,
   "metadata": {},
   "outputs": [
    {
     "data": {
      "text/plain": [
       "['job_category',\n",
       " 'experience_level',\n",
       " 'employment_type',\n",
       " 'work_setting',\n",
       " 'company_size']"
      ]
     },
     "execution_count": 12,
     "metadata": {},
     "output_type": "execute_result"
    }
   ],
   "source": [
    "colunas_categoricas"
   ]
  },
  {
   "cell_type": "markdown",
   "metadata": {},
   "source": [
    "- Alterando o tipo de dado para 'category'"
   ]
  },
  {
   "cell_type": "code",
   "execution_count": 13,
   "metadata": {},
   "outputs": [],
   "source": [
    "df[colunas_categoricas] = df[colunas_categoricas].astype('category')"
   ]
  },
  {
   "cell_type": "code",
   "execution_count": 14,
   "metadata": {},
   "outputs": [
    {
     "name": "stdout",
     "output_type": "stream",
     "text": [
      "<class 'pandas.core.frame.DataFrame'>\n",
      "Int64Index: 5341 entries, 0 to 9354\n",
      "Data columns (total 8 columns):\n",
      " #   Column            Non-Null Count  Dtype   \n",
      "---  ------            --------------  -----   \n",
      " 0   work_year         5341 non-null   int64   \n",
      " 1   job_title         5341 non-null   object  \n",
      " 2   job_category      5341 non-null   category\n",
      " 3   salary_in_usd     5341 non-null   int64   \n",
      " 4   experience_level  5341 non-null   category\n",
      " 5   employment_type   5341 non-null   category\n",
      " 6   work_setting      5341 non-null   category\n",
      " 7   company_size      5341 non-null   category\n",
      "dtypes: category(5), int64(2), object(1)\n",
      "memory usage: 194.0+ KB\n"
     ]
    }
   ],
   "source": [
    "df.info()"
   ]
  },
  {
   "cell_type": "markdown",
   "metadata": {},
   "source": [
    "#### 3 - Introdução e primeiros passos do projeto"
   ]
  },
  {
   "cell_type": "code",
   "execution_count": 15,
   "metadata": {},
   "outputs": [
    {
     "data": {
      "text/html": [
       "<div>\n",
       "<style scoped>\n",
       "    .dataframe tbody tr th:only-of-type {\n",
       "        vertical-align: middle;\n",
       "    }\n",
       "\n",
       "    .dataframe tbody tr th {\n",
       "        vertical-align: top;\n",
       "    }\n",
       "\n",
       "    .dataframe thead th {\n",
       "        text-align: right;\n",
       "    }\n",
       "</style>\n",
       "<table border=\"1\" class=\"dataframe\">\n",
       "  <thead>\n",
       "    <tr style=\"text-align: right;\">\n",
       "      <th></th>\n",
       "      <th>work_year</th>\n",
       "      <th>job_title</th>\n",
       "      <th>job_category</th>\n",
       "      <th>salary_in_usd</th>\n",
       "      <th>experience_level</th>\n",
       "      <th>employment_type</th>\n",
       "      <th>work_setting</th>\n",
       "      <th>company_size</th>\n",
       "    </tr>\n",
       "  </thead>\n",
       "  <tbody>\n",
       "    <tr>\n",
       "      <th>0</th>\n",
       "      <td>2023</td>\n",
       "      <td>Data DevOps Engineer</td>\n",
       "      <td>Data Engineering</td>\n",
       "      <td>95012</td>\n",
       "      <td>Mid-level</td>\n",
       "      <td>Full-time</td>\n",
       "      <td>Hybrid</td>\n",
       "      <td>L</td>\n",
       "    </tr>\n",
       "    <tr>\n",
       "      <th>1</th>\n",
       "      <td>2023</td>\n",
       "      <td>Data Architect</td>\n",
       "      <td>Data Architecture and Modeling</td>\n",
       "      <td>186000</td>\n",
       "      <td>Senior</td>\n",
       "      <td>Full-time</td>\n",
       "      <td>In-person</td>\n",
       "      <td>M</td>\n",
       "    </tr>\n",
       "    <tr>\n",
       "      <th>2</th>\n",
       "      <td>2023</td>\n",
       "      <td>Data Architect</td>\n",
       "      <td>Data Architecture and Modeling</td>\n",
       "      <td>81800</td>\n",
       "      <td>Senior</td>\n",
       "      <td>Full-time</td>\n",
       "      <td>In-person</td>\n",
       "      <td>M</td>\n",
       "    </tr>\n",
       "  </tbody>\n",
       "</table>\n",
       "</div>"
      ],
      "text/plain": [
       "   work_year             job_title                    job_category  \\\n",
       "0       2023  Data DevOps Engineer                Data Engineering   \n",
       "1       2023        Data Architect  Data Architecture and Modeling   \n",
       "2       2023        Data Architect  Data Architecture and Modeling   \n",
       "\n",
       "   salary_in_usd experience_level employment_type work_setting company_size  \n",
       "0          95012        Mid-level       Full-time       Hybrid            L  \n",
       "1         186000           Senior       Full-time    In-person            M  \n",
       "2          81800           Senior       Full-time    In-person            M  "
      ]
     },
     "execution_count": 15,
     "metadata": {},
     "output_type": "execute_result"
    }
   ],
   "source": [
    "df.head(3)"
   ]
  },
  {
   "cell_type": "markdown",
   "metadata": {},
   "source": [
    "- Criando uma visualizando da quantidade de vagas disponíveis por categoria"
   ]
  },
  {
   "cell_type": "code",
   "execution_count": 16,
   "metadata": {},
   "outputs": [],
   "source": [
    "quantidade_categoria = df['job_category'].value_counts()\n",
    "percentual_categoria = df['job_category'].value_counts(normalize=True) * 100\n",
    "\n",
    "tabela_categoria = pd.DataFrame({'Quantidade': quantidade_categoria,\n",
    "                                 'Porcentagem (%)': percentual_categoria})\n",
    "\n",
    "tabela_categoria = tabela_categoria.reset_index().rename(columns={'index': 'Categoria'})"
   ]
  },
  {
   "cell_type": "code",
   "execution_count": 17,
   "metadata": {},
   "outputs": [
    {
     "data": {
      "text/html": [
       "<style type=\"text/css\">\n",
       "#T_30256_row0_col0, #T_30256_row0_col1, #T_30256_row0_col2, #T_30256_row1_col0, #T_30256_row1_col1, #T_30256_row1_col2, #T_30256_row2_col0, #T_30256_row2_col1, #T_30256_row2_col2, #T_30256_row3_col0, #T_30256_row3_col1, #T_30256_row3_col2, #T_30256_row4_col0, #T_30256_row4_col1, #T_30256_row4_col2, #T_30256_row5_col0, #T_30256_row5_col1, #T_30256_row5_col2, #T_30256_row6_col0, #T_30256_row6_col1, #T_30256_row6_col2, #T_30256_row7_col0, #T_30256_row7_col1, #T_30256_row7_col2, #T_30256_row8_col0, #T_30256_row8_col1, #T_30256_row8_col2, #T_30256_row9_col0, #T_30256_row9_col1, #T_30256_row9_col2 {\n",
       "  text-align: center;\n",
       "}\n",
       "</style>\n",
       "<table id=\"T_30256\">\n",
       "  <thead>\n",
       "    <tr>\n",
       "      <th class=\"blank level0\" >&nbsp;</th>\n",
       "      <th id=\"T_30256_level0_col0\" class=\"col_heading level0 col0\" >Categoria</th>\n",
       "      <th id=\"T_30256_level0_col1\" class=\"col_heading level0 col1\" >Quantidade</th>\n",
       "      <th id=\"T_30256_level0_col2\" class=\"col_heading level0 col2\" >Porcentagem (%)</th>\n",
       "    </tr>\n",
       "  </thead>\n",
       "  <tbody>\n",
       "    <tr>\n",
       "      <th id=\"T_30256_level0_row0\" class=\"row_heading level0 row0\" >0</th>\n",
       "      <td id=\"T_30256_row0_col0\" class=\"data row0 col0\" >Data Science and Research</td>\n",
       "      <td id=\"T_30256_row0_col1\" class=\"data row0 col1\" >1655</td>\n",
       "      <td id=\"T_30256_row0_col2\" class=\"data row0 col2\" >30.986707</td>\n",
       "    </tr>\n",
       "    <tr>\n",
       "      <th id=\"T_30256_level0_row1\" class=\"row_heading level0 row1\" >1</th>\n",
       "      <td id=\"T_30256_row1_col0\" class=\"data row1 col0\" >Data Engineering</td>\n",
       "      <td id=\"T_30256_row1_col1\" class=\"data row1 col1\" >1160</td>\n",
       "      <td id=\"T_30256_row1_col2\" class=\"data row1 col2\" >21.718779</td>\n",
       "    </tr>\n",
       "    <tr>\n",
       "      <th id=\"T_30256_level0_row2\" class=\"row_heading level0 row2\" >2</th>\n",
       "      <td id=\"T_30256_row2_col0\" class=\"data row2 col0\" >Machine Learning and AI</td>\n",
       "      <td id=\"T_30256_row2_col1\" class=\"data row2 col1\" >917</td>\n",
       "      <td id=\"T_30256_row2_col2\" class=\"data row2 col2\" >17.169069</td>\n",
       "    </tr>\n",
       "    <tr>\n",
       "      <th id=\"T_30256_level0_row3\" class=\"row_heading level0 row3\" >3</th>\n",
       "      <td id=\"T_30256_row3_col0\" class=\"data row3 col0\" >Data Analysis</td>\n",
       "      <td id=\"T_30256_row3_col1\" class=\"data row3 col1\" >809</td>\n",
       "      <td id=\"T_30256_row3_col2\" class=\"data row3 col2\" >15.146976</td>\n",
       "    </tr>\n",
       "    <tr>\n",
       "      <th id=\"T_30256_level0_row4\" class=\"row_heading level0 row4\" >4</th>\n",
       "      <td id=\"T_30256_row4_col0\" class=\"data row4 col0\" >Leadership and Management</td>\n",
       "      <td id=\"T_30256_row4_col1\" class=\"data row4 col1\" >351</td>\n",
       "      <td id=\"T_30256_row4_col2\" class=\"data row4 col2\" >6.571803</td>\n",
       "    </tr>\n",
       "    <tr>\n",
       "      <th id=\"T_30256_level0_row5\" class=\"row_heading level0 row5\" >5</th>\n",
       "      <td id=\"T_30256_row5_col0\" class=\"data row5 col0\" >BI and Visualization</td>\n",
       "      <td id=\"T_30256_row5_col1\" class=\"data row5 col1\" >188</td>\n",
       "      <td id=\"T_30256_row5_col2\" class=\"data row5 col2\" >3.519940</td>\n",
       "    </tr>\n",
       "    <tr>\n",
       "      <th id=\"T_30256_level0_row6\" class=\"row_heading level0 row6\" >6</th>\n",
       "      <td id=\"T_30256_row6_col0\" class=\"data row6 col0\" >Data Architecture and Modeling</td>\n",
       "      <td id=\"T_30256_row6_col1\" class=\"data row6 col1\" >162</td>\n",
       "      <td id=\"T_30256_row6_col2\" class=\"data row6 col2\" >3.033140</td>\n",
       "    </tr>\n",
       "    <tr>\n",
       "      <th id=\"T_30256_level0_row7\" class=\"row_heading level0 row7\" >7</th>\n",
       "      <td id=\"T_30256_row7_col0\" class=\"data row7 col0\" >Data Management and Strategy</td>\n",
       "      <td id=\"T_30256_row7_col1\" class=\"data row7 col1\" >49</td>\n",
       "      <td id=\"T_30256_row7_col2\" class=\"data row7 col2\" >0.917431</td>\n",
       "    </tr>\n",
       "    <tr>\n",
       "      <th id=\"T_30256_level0_row8\" class=\"row_heading level0 row8\" >8</th>\n",
       "      <td id=\"T_30256_row8_col0\" class=\"data row8 col0\" >Data Quality and Operations</td>\n",
       "      <td id=\"T_30256_row8_col1\" class=\"data row8 col1\" >45</td>\n",
       "      <td id=\"T_30256_row8_col2\" class=\"data row8 col2\" >0.842539</td>\n",
       "    </tr>\n",
       "    <tr>\n",
       "      <th id=\"T_30256_level0_row9\" class=\"row_heading level0 row9\" >9</th>\n",
       "      <td id=\"T_30256_row9_col0\" class=\"data row9 col0\" >Cloud and Database</td>\n",
       "      <td id=\"T_30256_row9_col1\" class=\"data row9 col1\" >5</td>\n",
       "      <td id=\"T_30256_row9_col2\" class=\"data row9 col2\" >0.093615</td>\n",
       "    </tr>\n",
       "  </tbody>\n",
       "</table>\n"
      ],
      "text/plain": [
       "<pandas.io.formats.style.Styler at 0x227f9759cd0>"
      ]
     },
     "execution_count": 17,
     "metadata": {},
     "output_type": "execute_result"
    }
   ],
   "source": [
    "# Centralizando a visualização da tabela\n",
    "tabela_categoria.style.set_properties(**{'text-align': 'center'})"
   ]
  },
  {
   "cell_type": "markdown",
   "metadata": {},
   "source": [
    "- Criando uma tabela de distribuição de frequências com categoria e ano"
   ]
  },
  {
   "cell_type": "code",
   "execution_count": 18,
   "metadata": {},
   "outputs": [],
   "source": [
    "# crosstab para criar uma tabela cruzada com duas variáveis\n",
    "tabela_dist = pd.crosstab(index= df['job_category'],\n",
    "                          columns= df['work_year'],\n",
    "                          aggfunc= 'count',\n",
    "                          values= df['job_category'])\n",
    "\n",
    "# Renomeando o eixo das linhas e das colunas da tabela\n",
    "tabela_dist = tabela_dist.rename_axis('Categoria').rename_axis('Ano de Pesquisa', axis='columns')"
   ]
  },
  {
   "cell_type": "code",
   "execution_count": 19,
   "metadata": {},
   "outputs": [
    {
     "data": {
      "text/html": [
       "<style type=\"text/css\">\n",
       "#T_b25d1_row0_col0, #T_b25d1_row0_col1, #T_b25d1_row0_col2, #T_b25d1_row0_col3, #T_b25d1_row1_col0, #T_b25d1_row1_col1, #T_b25d1_row1_col2, #T_b25d1_row1_col3, #T_b25d1_row2_col0, #T_b25d1_row2_col1, #T_b25d1_row2_col2, #T_b25d1_row2_col3, #T_b25d1_row3_col0, #T_b25d1_row3_col1, #T_b25d1_row3_col2, #T_b25d1_row3_col3, #T_b25d1_row4_col0, #T_b25d1_row4_col1, #T_b25d1_row4_col2, #T_b25d1_row4_col3, #T_b25d1_row5_col0, #T_b25d1_row5_col1, #T_b25d1_row5_col2, #T_b25d1_row5_col3, #T_b25d1_row6_col0, #T_b25d1_row6_col1, #T_b25d1_row6_col2, #T_b25d1_row6_col3, #T_b25d1_row7_col0, #T_b25d1_row7_col1, #T_b25d1_row7_col2, #T_b25d1_row7_col3, #T_b25d1_row8_col0, #T_b25d1_row8_col1, #T_b25d1_row8_col2, #T_b25d1_row8_col3, #T_b25d1_row9_col0, #T_b25d1_row9_col1, #T_b25d1_row9_col2, #T_b25d1_row9_col3 {\n",
       "  text-align: center;\n",
       "}\n",
       "</style>\n",
       "<table id=\"T_b25d1\">\n",
       "  <thead>\n",
       "    <tr>\n",
       "      <th class=\"index_name level0\" >Ano de Pesquisa</th>\n",
       "      <th id=\"T_b25d1_level0_col0\" class=\"col_heading level0 col0\" >2020</th>\n",
       "      <th id=\"T_b25d1_level0_col1\" class=\"col_heading level0 col1\" >2021</th>\n",
       "      <th id=\"T_b25d1_level0_col2\" class=\"col_heading level0 col2\" >2022</th>\n",
       "      <th id=\"T_b25d1_level0_col3\" class=\"col_heading level0 col3\" >2023</th>\n",
       "    </tr>\n",
       "    <tr>\n",
       "      <th class=\"index_name level0\" >Categoria</th>\n",
       "      <th class=\"blank col0\" >&nbsp;</th>\n",
       "      <th class=\"blank col1\" >&nbsp;</th>\n",
       "      <th class=\"blank col2\" >&nbsp;</th>\n",
       "      <th class=\"blank col3\" >&nbsp;</th>\n",
       "    </tr>\n",
       "  </thead>\n",
       "  <tbody>\n",
       "    <tr>\n",
       "      <th id=\"T_b25d1_level0_row0\" class=\"row_heading level0 row0\" >BI and Visualization</th>\n",
       "      <td id=\"T_b25d1_row0_col0\" class=\"data row0 col0\" >0</td>\n",
       "      <td id=\"T_b25d1_row0_col1\" class=\"data row0 col1\" >0</td>\n",
       "      <td id=\"T_b25d1_row0_col2\" class=\"data row0 col2\" >8</td>\n",
       "      <td id=\"T_b25d1_row0_col3\" class=\"data row0 col3\" >180</td>\n",
       "    </tr>\n",
       "    <tr>\n",
       "      <th id=\"T_b25d1_level0_row1\" class=\"row_heading level0 row1\" >Cloud and Database</th>\n",
       "      <td id=\"T_b25d1_row1_col0\" class=\"data row1 col0\" >0</td>\n",
       "      <td id=\"T_b25d1_row1_col1\" class=\"data row1 col1\" >0</td>\n",
       "      <td id=\"T_b25d1_row1_col2\" class=\"data row1 col2\" >2</td>\n",
       "      <td id=\"T_b25d1_row1_col3\" class=\"data row1 col3\" >3</td>\n",
       "    </tr>\n",
       "    <tr>\n",
       "      <th id=\"T_b25d1_level0_row2\" class=\"row_heading level0 row2\" >Data Analysis</th>\n",
       "      <td id=\"T_b25d1_row2_col0\" class=\"data row2 col0\" >15</td>\n",
       "      <td id=\"T_b25d1_row2_col1\" class=\"data row2 col1\" >28</td>\n",
       "      <td id=\"T_b25d1_row2_col2\" class=\"data row2 col2\" >185</td>\n",
       "      <td id=\"T_b25d1_row2_col3\" class=\"data row2 col3\" >581</td>\n",
       "    </tr>\n",
       "    <tr>\n",
       "      <th id=\"T_b25d1_level0_row3\" class=\"row_heading level0 row3\" >Data Architecture and Modeling</th>\n",
       "      <td id=\"T_b25d1_row3_col0\" class=\"data row3 col0\" >0</td>\n",
       "      <td id=\"T_b25d1_row3_col1\" class=\"data row3 col1\" >5</td>\n",
       "      <td id=\"T_b25d1_row3_col2\" class=\"data row3 col2\" >30</td>\n",
       "      <td id=\"T_b25d1_row3_col3\" class=\"data row3 col3\" >127</td>\n",
       "    </tr>\n",
       "    <tr>\n",
       "      <th id=\"T_b25d1_level0_row4\" class=\"row_heading level0 row4\" >Data Engineering</th>\n",
       "      <td id=\"T_b25d1_row4_col0\" class=\"data row4 col0\" >17</td>\n",
       "      <td id=\"T_b25d1_row4_col1\" class=\"data row4 col1\" >44</td>\n",
       "      <td id=\"T_b25d1_row4_col2\" class=\"data row4 col2\" >286</td>\n",
       "      <td id=\"T_b25d1_row4_col3\" class=\"data row4 col3\" >813</td>\n",
       "    </tr>\n",
       "    <tr>\n",
       "      <th id=\"T_b25d1_level0_row5\" class=\"row_heading level0 row5\" >Data Management and Strategy</th>\n",
       "      <td id=\"T_b25d1_row5_col0\" class=\"data row5 col0\" >0</td>\n",
       "      <td id=\"T_b25d1_row5_col1\" class=\"data row5 col1\" >1</td>\n",
       "      <td id=\"T_b25d1_row5_col2\" class=\"data row5 col2\" >10</td>\n",
       "      <td id=\"T_b25d1_row5_col3\" class=\"data row5 col3\" >38</td>\n",
       "    </tr>\n",
       "    <tr>\n",
       "      <th id=\"T_b25d1_level0_row6\" class=\"row_heading level0 row6\" >Data Quality and Operations</th>\n",
       "      <td id=\"T_b25d1_row6_col0\" class=\"data row6 col0\" >0</td>\n",
       "      <td id=\"T_b25d1_row6_col1\" class=\"data row6 col1\" >0</td>\n",
       "      <td id=\"T_b25d1_row6_col2\" class=\"data row6 col2\" >8</td>\n",
       "      <td id=\"T_b25d1_row6_col3\" class=\"data row6 col3\" >37</td>\n",
       "    </tr>\n",
       "    <tr>\n",
       "      <th id=\"T_b25d1_level0_row7\" class=\"row_heading level0 row7\" >Data Science and Research</th>\n",
       "      <td id=\"T_b25d1_row7_col0\" class=\"data row7 col0\" >29</td>\n",
       "      <td id=\"T_b25d1_row7_col1\" class=\"data row7 col1\" >71</td>\n",
       "      <td id=\"T_b25d1_row7_col2\" class=\"data row7 col2\" >338</td>\n",
       "      <td id=\"T_b25d1_row7_col3\" class=\"data row7 col3\" >1217</td>\n",
       "    </tr>\n",
       "    <tr>\n",
       "      <th id=\"T_b25d1_level0_row8\" class=\"row_heading level0 row8\" >Leadership and Management</th>\n",
       "      <td id=\"T_b25d1_row8_col0\" class=\"data row8 col0\" >0</td>\n",
       "      <td id=\"T_b25d1_row8_col1\" class=\"data row8 col1\" >9</td>\n",
       "      <td id=\"T_b25d1_row8_col2\" class=\"data row8 col2\" >71</td>\n",
       "      <td id=\"T_b25d1_row8_col3\" class=\"data row8 col3\" >271</td>\n",
       "    </tr>\n",
       "    <tr>\n",
       "      <th id=\"T_b25d1_level0_row9\" class=\"row_heading level0 row9\" >Machine Learning and AI</th>\n",
       "      <td id=\"T_b25d1_row9_col0\" class=\"data row9 col0\" >10</td>\n",
       "      <td id=\"T_b25d1_row9_col1\" class=\"data row9 col1\" >37</td>\n",
       "      <td id=\"T_b25d1_row9_col2\" class=\"data row9 col2\" >157</td>\n",
       "      <td id=\"T_b25d1_row9_col3\" class=\"data row9 col3\" >713</td>\n",
       "    </tr>\n",
       "  </tbody>\n",
       "</table>\n"
      ],
      "text/plain": [
       "<pandas.io.formats.style.Styler at 0x227f9d48100>"
      ]
     },
     "execution_count": 19,
     "metadata": {},
     "output_type": "execute_result"
    }
   ],
   "source": [
    "# Centralizando a visualização da tabela\n",
    "tabela_dist.style.set_properties(**{'text-align': 'center'})"
   ]
  },
  {
   "cell_type": "markdown",
   "metadata": {},
   "source": [
    "- Criando uma visualização da quantidade de vagas por nível de experiência"
   ]
  },
  {
   "cell_type": "code",
   "execution_count": 20,
   "metadata": {},
   "outputs": [],
   "source": [
    "quantidade_exp = df['experience_level'].value_counts()\n",
    "percentual_exp = df['experience_level'].value_counts(normalize=True) * 100\n",
    "\n",
    "tabela_exp = pd.DataFrame({'Quantidade': quantidade_exp, 'Porcentagem (%)': percentual_exp})\n",
    "tabela_exp = tabela_exp.reset_index().rename(columns={'index': 'Experiência'})"
   ]
  },
  {
   "cell_type": "code",
   "execution_count": 21,
   "metadata": {},
   "outputs": [
    {
     "data": {
      "text/html": [
       "<div>\n",
       "<style scoped>\n",
       "    .dataframe tbody tr th:only-of-type {\n",
       "        vertical-align: middle;\n",
       "    }\n",
       "\n",
       "    .dataframe tbody tr th {\n",
       "        vertical-align: top;\n",
       "    }\n",
       "\n",
       "    .dataframe thead th {\n",
       "        text-align: right;\n",
       "    }\n",
       "</style>\n",
       "<table border=\"1\" class=\"dataframe\">\n",
       "  <thead>\n",
       "    <tr style=\"text-align: right;\">\n",
       "      <th></th>\n",
       "      <th>Experiência</th>\n",
       "      <th>Quantidade</th>\n",
       "      <th>Porcentagem (%)</th>\n",
       "    </tr>\n",
       "  </thead>\n",
       "  <tbody>\n",
       "    <tr>\n",
       "      <th>0</th>\n",
       "      <td>Senior</td>\n",
       "      <td>3444</td>\n",
       "      <td>64.482307</td>\n",
       "    </tr>\n",
       "    <tr>\n",
       "      <th>1</th>\n",
       "      <td>Mid-level</td>\n",
       "      <td>1274</td>\n",
       "      <td>23.853211</td>\n",
       "    </tr>\n",
       "    <tr>\n",
       "      <th>2</th>\n",
       "      <td>Entry-level</td>\n",
       "      <td>400</td>\n",
       "      <td>7.489234</td>\n",
       "    </tr>\n",
       "    <tr>\n",
       "      <th>3</th>\n",
       "      <td>Executive</td>\n",
       "      <td>223</td>\n",
       "      <td>4.175248</td>\n",
       "    </tr>\n",
       "  </tbody>\n",
       "</table>\n",
       "</div>"
      ],
      "text/plain": [
       "   Experiência  Quantidade  Porcentagem (%)\n",
       "0       Senior        3444        64.482307\n",
       "1    Mid-level        1274        23.853211\n",
       "2  Entry-level         400         7.489234\n",
       "3    Executive         223         4.175248"
      ]
     },
     "execution_count": 21,
     "metadata": {},
     "output_type": "execute_result"
    }
   ],
   "source": [
    "tabela_exp"
   ]
  },
  {
   "cell_type": "markdown",
   "metadata": {},
   "source": [
    "- Criando uma tabela de distribuição de frequências com categoria e nível de experiência"
   ]
  },
  {
   "cell_type": "code",
   "execution_count": 22,
   "metadata": {},
   "outputs": [],
   "source": [
    "tabela_dist_exp = pd.crosstab(index=df['job_category'],\n",
    "                 columns=df['experience_level'],\n",
    "                 aggfunc='count',\n",
    "                 values=df['job_category'],\n",
    "                 normalize=True) * 100\n",
    "\n",
    "tabela_dist_exp = tabela_dist_exp.rename_axis('Categoria').rename_axis('Experiência', axis='columns')"
   ]
  },
  {
   "cell_type": "markdown",
   "metadata": {},
   "source": [
    "- Visualizando a proporção em percentual"
   ]
  },
  {
   "cell_type": "code",
   "execution_count": 23,
   "metadata": {},
   "outputs": [
    {
     "data": {
      "text/html": [
       "<style type=\"text/css\">\n",
       "#T_8cb3a_row0_col0 {\n",
       "  background-color: #f3f3f3;\n",
       "  color: #000000;\n",
       "}\n",
       "#T_8cb3a_row0_col1 {\n",
       "  background-color: #f2f2f2;\n",
       "  color: #000000;\n",
       "}\n",
       "#T_8cb3a_row0_col2 {\n",
       "  background-color: #e0e0e0;\n",
       "  color: #000000;\n",
       "}\n",
       "#T_8cb3a_row0_col3, #T_8cb3a_row3_col3 {\n",
       "  background-color: #e1e1e1;\n",
       "  color: #000000;\n",
       "}\n",
       "#T_8cb3a_row1_col0, #T_8cb3a_row1_col1, #T_8cb3a_row1_col2, #T_8cb3a_row1_col3, #T_8cb3a_row3_col0, #T_8cb3a_row5_col1, #T_8cb3a_row6_col1 {\n",
       "  background-color: #ffffff;\n",
       "  color: #000000;\n",
       "}\n",
       "#T_8cb3a_row2_col0 {\n",
       "  background-color: #353535;\n",
       "  color: #f1f1f1;\n",
       "}\n",
       "#T_8cb3a_row2_col1 {\n",
       "  background-color: #c9c9c9;\n",
       "  color: #000000;\n",
       "}\n",
       "#T_8cb3a_row2_col2 {\n",
       "  background-color: #585858;\n",
       "  color: #f1f1f1;\n",
       "}\n",
       "#T_8cb3a_row2_col3 {\n",
       "  background-color: #989898;\n",
       "  color: #f1f1f1;\n",
       "}\n",
       "#T_8cb3a_row3_col1, #T_8cb3a_row6_col2, #T_8cb3a_row6_col3 {\n",
       "  background-color: #f9f9f9;\n",
       "  color: #000000;\n",
       "}\n",
       "#T_8cb3a_row3_col2, #T_8cb3a_row5_col0, #T_8cb3a_row8_col0 {\n",
       "  background-color: #ededed;\n",
       "  color: #000000;\n",
       "}\n",
       "#T_8cb3a_row4_col0 {\n",
       "  background-color: #9b9b9b;\n",
       "  color: #f1f1f1;\n",
       "}\n",
       "#T_8cb3a_row4_col1, #T_8cb3a_row7_col0, #T_8cb3a_row7_col2, #T_8cb3a_row7_col3 {\n",
       "  background-color: #000000;\n",
       "  color: #f1f1f1;\n",
       "}\n",
       "#T_8cb3a_row4_col2 {\n",
       "  background-color: #323232;\n",
       "  color: #f1f1f1;\n",
       "}\n",
       "#T_8cb3a_row4_col3 {\n",
       "  background-color: #525252;\n",
       "  color: #f1f1f1;\n",
       "}\n",
       "#T_8cb3a_row5_col2 {\n",
       "  background-color: #f6f6f6;\n",
       "  color: #000000;\n",
       "}\n",
       "#T_8cb3a_row5_col3, #T_8cb3a_row6_col0 {\n",
       "  background-color: #fafafa;\n",
       "  color: #000000;\n",
       "}\n",
       "#T_8cb3a_row7_col1 {\n",
       "  background-color: #1b1b1b;\n",
       "  color: #f1f1f1;\n",
       "}\n",
       "#T_8cb3a_row8_col1 {\n",
       "  background-color: #626262;\n",
       "  color: #f1f1f1;\n",
       "}\n",
       "#T_8cb3a_row8_col2 {\n",
       "  background-color: #cecece;\n",
       "  color: #000000;\n",
       "}\n",
       "#T_8cb3a_row8_col3 {\n",
       "  background-color: #cccccc;\n",
       "  color: #000000;\n",
       "}\n",
       "#T_8cb3a_row9_col0 {\n",
       "  background-color: #8a8a8a;\n",
       "  color: #f1f1f1;\n",
       "}\n",
       "#T_8cb3a_row9_col1 {\n",
       "  background-color: #d3d3d3;\n",
       "  color: #000000;\n",
       "}\n",
       "#T_8cb3a_row9_col2 {\n",
       "  background-color: #747474;\n",
       "  color: #f1f1f1;\n",
       "}\n",
       "#T_8cb3a_row9_col3 {\n",
       "  background-color: #686868;\n",
       "  color: #f1f1f1;\n",
       "}\n",
       "</style>\n",
       "<table id=\"T_8cb3a\">\n",
       "  <thead>\n",
       "    <tr>\n",
       "      <th class=\"index_name level0\" >Experiência</th>\n",
       "      <th id=\"T_8cb3a_level0_col0\" class=\"col_heading level0 col0\" >Entry-level</th>\n",
       "      <th id=\"T_8cb3a_level0_col1\" class=\"col_heading level0 col1\" >Executive</th>\n",
       "      <th id=\"T_8cb3a_level0_col2\" class=\"col_heading level0 col2\" >Mid-level</th>\n",
       "      <th id=\"T_8cb3a_level0_col3\" class=\"col_heading level0 col3\" >Senior</th>\n",
       "    </tr>\n",
       "    <tr>\n",
       "      <th class=\"index_name level0\" >Categoria</th>\n",
       "      <th class=\"blank col0\" >&nbsp;</th>\n",
       "      <th class=\"blank col1\" >&nbsp;</th>\n",
       "      <th class=\"blank col2\" >&nbsp;</th>\n",
       "      <th class=\"blank col3\" >&nbsp;</th>\n",
       "    </tr>\n",
       "  </thead>\n",
       "  <tbody>\n",
       "    <tr>\n",
       "      <th id=\"T_8cb3a_level0_row0\" class=\"row_heading level0 row0\" >BI and Visualization</th>\n",
       "      <td id=\"T_8cb3a_row0_col0\" class=\"data row0 col0\" >0.131062</td>\n",
       "      <td id=\"T_8cb3a_row0_col1\" class=\"data row0 col1\" >0.074892</td>\n",
       "      <td id=\"T_8cb3a_row0_col2\" class=\"data row0 col2\" >0.842539</td>\n",
       "      <td id=\"T_8cb3a_row0_col3\" class=\"data row0 col3\" >2.471447</td>\n",
       "    </tr>\n",
       "    <tr>\n",
       "      <th id=\"T_8cb3a_level0_row1\" class=\"row_heading level0 row1\" >Cloud and Database</th>\n",
       "      <td id=\"T_8cb3a_row1_col0\" class=\"data row1 col0\" >0.000000</td>\n",
       "      <td id=\"T_8cb3a_row1_col1\" class=\"data row1 col1\" >0.000000</td>\n",
       "      <td id=\"T_8cb3a_row1_col2\" class=\"data row1 col2\" >0.000000</td>\n",
       "      <td id=\"T_8cb3a_row1_col3\" class=\"data row1 col3\" >0.093615</td>\n",
       "    </tr>\n",
       "    <tr>\n",
       "      <th id=\"T_8cb3a_level0_row2\" class=\"row_heading level0 row2\" >Data Analysis</th>\n",
       "      <td id=\"T_8cb3a_row2_col0\" class=\"data row2 col0\" >2.078262</td>\n",
       "      <td id=\"T_8cb3a_row2_col1\" class=\"data row2 col1\" >0.299569</td>\n",
       "      <td id=\"T_8cb3a_row2_col2\" class=\"data row2 col2\" >4.512264</td>\n",
       "      <td id=\"T_8cb3a_row2_col3\" class=\"data row2 col3\" >8.256881</td>\n",
       "    </tr>\n",
       "    <tr>\n",
       "      <th id=\"T_8cb3a_level0_row3\" class=\"row_heading level0 row3\" >Data Architecture and Modeling</th>\n",
       "      <td id=\"T_8cb3a_row3_col0\" class=\"data row3 col0\" >0.000000</td>\n",
       "      <td id=\"T_8cb3a_row3_col1\" class=\"data row3 col1\" >0.037446</td>\n",
       "      <td id=\"T_8cb3a_row3_col2\" class=\"data row3 col2\" >0.505523</td>\n",
       "      <td id=\"T_8cb3a_row3_col3\" class=\"data row3 col3\" >2.490170</td>\n",
       "    </tr>\n",
       "    <tr>\n",
       "      <th id=\"T_8cb3a_level0_row4\" class=\"row_heading level0 row4\" >Data Engineering</th>\n",
       "      <td id=\"T_8cb3a_row4_col0\" class=\"data row4 col0\" >1.029770</td>\n",
       "      <td id=\"T_8cb3a_row4_col1\" class=\"data row4 col1\" >1.404231</td>\n",
       "      <td id=\"T_8cb3a_row4_col2\" class=\"data row4 col2\" >5.542033</td>\n",
       "      <td id=\"T_8cb3a_row4_col3\" class=\"data row4 col3\" >13.742745</td>\n",
       "    </tr>\n",
       "    <tr>\n",
       "      <th id=\"T_8cb3a_level0_row5\" class=\"row_heading level0 row5\" >Data Management and Strategy</th>\n",
       "      <td id=\"T_8cb3a_row5_col0\" class=\"data row5 col0\" >0.187231</td>\n",
       "      <td id=\"T_8cb3a_row5_col1\" class=\"data row5 col1\" >0.000000</td>\n",
       "      <td id=\"T_8cb3a_row5_col2\" class=\"data row5 col2\" >0.243400</td>\n",
       "      <td id=\"T_8cb3a_row5_col3\" class=\"data row5 col3\" >0.486800</td>\n",
       "    </tr>\n",
       "    <tr>\n",
       "      <th id=\"T_8cb3a_level0_row6\" class=\"row_heading level0 row6\" >Data Quality and Operations</th>\n",
       "      <td id=\"T_8cb3a_row6_col0\" class=\"data row6 col0\" >0.056169</td>\n",
       "      <td id=\"T_8cb3a_row6_col1\" class=\"data row6 col1\" >0.000000</td>\n",
       "      <td id=\"T_8cb3a_row6_col2\" class=\"data row6 col2\" >0.187231</td>\n",
       "      <td id=\"T_8cb3a_row6_col3\" class=\"data row6 col3\" >0.599139</td>\n",
       "    </tr>\n",
       "    <tr>\n",
       "      <th id=\"T_8cb3a_level0_row7\" class=\"row_heading level0 row7\" >Data Science and Research</th>\n",
       "      <td id=\"T_8cb3a_row7_col0\" class=\"data row7 col0\" >2.621232</td>\n",
       "      <td id=\"T_8cb3a_row7_col1\" class=\"data row7 col1\" >1.254447</td>\n",
       "      <td id=\"T_8cb3a_row7_col2\" class=\"data row7 col2\" >6.908819</td>\n",
       "      <td id=\"T_8cb3a_row7_col3\" class=\"data row7 col3\" >20.202209</td>\n",
       "    </tr>\n",
       "    <tr>\n",
       "      <th id=\"T_8cb3a_level0_row8\" class=\"row_heading level0 row8\" >Leadership and Management</th>\n",
       "      <td id=\"T_8cb3a_row8_col0\" class=\"data row8 col0\" >0.187231</td>\n",
       "      <td id=\"T_8cb3a_row8_col1\" class=\"data row8 col1\" >0.861262</td>\n",
       "      <td id=\"T_8cb3a_row8_col2\" class=\"data row8 col2\" >1.348062</td>\n",
       "      <td id=\"T_8cb3a_row8_col3\" class=\"data row8 col3\" >4.175248</td>\n",
       "    </tr>\n",
       "    <tr>\n",
       "      <th id=\"T_8cb3a_level0_row9\" class=\"row_heading level0 row9\" >Machine Learning and AI</th>\n",
       "      <td id=\"T_8cb3a_row9_col0\" class=\"data row9 col0\" >1.198277</td>\n",
       "      <td id=\"T_8cb3a_row9_col1\" class=\"data row9 col1\" >0.243400</td>\n",
       "      <td id=\"T_8cb3a_row9_col2\" class=\"data row9 col2\" >3.763340</td>\n",
       "      <td id=\"T_8cb3a_row9_col3\" class=\"data row9 col3\" >11.964052</td>\n",
       "    </tr>\n",
       "  </tbody>\n",
       "</table>\n"
      ],
      "text/plain": [
       "<pandas.io.formats.style.Styler at 0x227f9d2f1f0>"
      ]
     },
     "execution_count": 23,
     "metadata": {},
     "output_type": "execute_result"
    }
   ],
   "source": [
    "tabela_dist_exp.style.background_gradient(cmap='binary')"
   ]
  },
  {
   "cell_type": "markdown",
   "metadata": {},
   "source": [
    "- Exibindo os resultados em subplots com matplotlib"
   ]
  },
  {
   "cell_type": "code",
   "execution_count": 24,
   "metadata": {},
   "outputs": [
    {
     "data": {
      "image/png": "[encoded data removed]",
      "text/plain": [
       "<Figure size 1200x800 with 2 Axes>"
      ]
     },
     "metadata": {},
     "output_type": "display_data"
    }
   ],
   "source": [
    "plt.figure(figsize=(12, 8)) # Definindo o tamanho da imagem\n",
    "\n",
    "plt.subplot(2, 2, 1)\n",
    "plt.barh(tabela_categoria['Categoria'], tabela_categoria['Quantidade'], color='grey')\n",
    "for i, quantidade in enumerate(tabela_categoria['Quantidade']):\n",
    "    plt.text(quantidade + 50, i, str(quantidade), va='center')\n",
    "plt.title('Quantidade por área de atuação em Ciência de Dados')\n",
    "plt.xlim(0, 1900)\n",
    "\n",
    "plt.subplot(2, 2, 2)\n",
    "plt.barh(tabela_exp['Experiência'], tabela_exp['Quantidade'], color='grey')\n",
    "for i, quantidade in enumerate(tabela_exp['Quantidade']):\n",
    "    plt.text(quantidade + 50, i, str(quantidade), va='center')\n",
    "plt.title('Quantidade pelo nível de experiência')\n",
    "plt.xlim(0, 3900)\n",
    "\n",
    "plt.tight_layout() # Ajustando o tamanho"
   ]
  },
  {
   "cell_type": "markdown",
   "metadata": {},
   "source": [
    "#### 4 - Distribuição das vagas por categoria e nível de experiência"
   ]
  },
  {
   "cell_type": "code",
   "execution_count": 25,
   "metadata": {},
   "outputs": [],
   "source": [
    "# Resumindo os dados pela categoria, nível de experiência e contando o número de ocorrências\n",
    "group2 = df.groupby(['job_category', 'experience_level']).size().reset_index(name='quantidade')"
   ]
  },
  {
   "cell_type": "code",
   "execution_count": 26,
   "metadata": {},
   "outputs": [
    {
     "data": {
      "text/html": [
       "<div>\n",
       "<style scoped>\n",
       "    .dataframe tbody tr th:only-of-type {\n",
       "        vertical-align: middle;\n",
       "    }\n",
       "\n",
       "    .dataframe tbody tr th {\n",
       "        vertical-align: top;\n",
       "    }\n",
       "\n",
       "    .dataframe thead th {\n",
       "        text-align: right;\n",
       "    }\n",
       "</style>\n",
       "<table border=\"1\" class=\"dataframe\">\n",
       "  <thead>\n",
       "    <tr style=\"text-align: right;\">\n",
       "      <th></th>\n",
       "      <th>job_category</th>\n",
       "      <th>experience_level</th>\n",
       "      <th>quantidade</th>\n",
       "    </tr>\n",
       "  </thead>\n",
       "  <tbody>\n",
       "    <tr>\n",
       "      <th>38</th>\n",
       "      <td>Machine Learning and AI</td>\n",
       "      <td>Mid-level</td>\n",
       "      <td>201</td>\n",
       "    </tr>\n",
       "    <tr>\n",
       "      <th>39</th>\n",
       "      <td>Machine Learning and AI</td>\n",
       "      <td>Senior</td>\n",
       "      <td>639</td>\n",
       "    </tr>\n",
       "  </tbody>\n",
       "</table>\n",
       "</div>"
      ],
      "text/plain": [
       "               job_category experience_level  quantidade\n",
       "38  Machine Learning and AI        Mid-level         201\n",
       "39  Machine Learning and AI           Senior         639"
      ]
     },
     "execution_count": 26,
     "metadata": {},
     "output_type": "execute_result"
    }
   ],
   "source": [
    "group2.tail(2)"
   ]
  },
  {
   "cell_type": "code",
   "execution_count": 27,
   "metadata": {},
   "outputs": [],
   "source": [
    "# Transformando os dados com pivot_table\n",
    "categoria_exp = group2.pivot_table(index='job_category', columns='experience_level')\n",
    "\n",
    "# Somando os totais das linhas para transformar em percentual\n",
    "soma_linhas = categoria_exp.sum(axis=1)\n",
    "categoria_exp = (categoria_exp.div(soma_linhas, axis=0) * 100)"
   ]
  },
  {
   "cell_type": "code",
   "execution_count": 28,
   "metadata": {},
   "outputs": [
    {
     "data": {
      "text/html": [
       "<style type=\"text/css\">\n",
       "#T_e2650_row0_col0, #T_e2650_row0_col1, #T_e2650_row0_col2, #T_e2650_row0_col3, #T_e2650_row1_col0, #T_e2650_row1_col1, #T_e2650_row1_col2, #T_e2650_row1_col3, #T_e2650_row2_col0, #T_e2650_row2_col1, #T_e2650_row2_col2, #T_e2650_row2_col3, #T_e2650_row3_col0, #T_e2650_row3_col1, #T_e2650_row3_col2, #T_e2650_row3_col3, #T_e2650_row4_col0, #T_e2650_row4_col1, #T_e2650_row4_col2, #T_e2650_row4_col3, #T_e2650_row5_col0, #T_e2650_row5_col1, #T_e2650_row5_col2, #T_e2650_row5_col3, #T_e2650_row6_col0, #T_e2650_row6_col1, #T_e2650_row6_col2, #T_e2650_row6_col3, #T_e2650_row7_col0, #T_e2650_row7_col1, #T_e2650_row7_col2, #T_e2650_row7_col3, #T_e2650_row8_col0, #T_e2650_row8_col1, #T_e2650_row8_col2, #T_e2650_row8_col3, #T_e2650_row9_col0, #T_e2650_row9_col1, #T_e2650_row9_col2, #T_e2650_row9_col3 {\n",
       "  text-align: center;\n",
       "}\n",
       "</style>\n",
       "<table id=\"T_e2650\">\n",
       "  <thead>\n",
       "    <tr>\n",
       "      <th class=\"blank level0\" >&nbsp;</th>\n",
       "      <th id=\"T_e2650_level0_col0\" class=\"col_heading level0 col0\" colspan=\"4\">quantidade</th>\n",
       "    </tr>\n",
       "    <tr>\n",
       "      <th class=\"index_name level1\" >experience_level</th>\n",
       "      <th id=\"T_e2650_level1_col0\" class=\"col_heading level1 col0\" >Entry-level</th>\n",
       "      <th id=\"T_e2650_level1_col1\" class=\"col_heading level1 col1\" >Executive</th>\n",
       "      <th id=\"T_e2650_level1_col2\" class=\"col_heading level1 col2\" >Mid-level</th>\n",
       "      <th id=\"T_e2650_level1_col3\" class=\"col_heading level1 col3\" >Senior</th>\n",
       "    </tr>\n",
       "    <tr>\n",
       "      <th class=\"index_name level0\" >job_category</th>\n",
       "      <th class=\"blank col0\" >&nbsp;</th>\n",
       "      <th class=\"blank col1\" >&nbsp;</th>\n",
       "      <th class=\"blank col2\" >&nbsp;</th>\n",
       "      <th class=\"blank col3\" >&nbsp;</th>\n",
       "    </tr>\n",
       "  </thead>\n",
       "  <tbody>\n",
       "    <tr>\n",
       "      <th id=\"T_e2650_level0_row0\" class=\"row_heading level0 row0\" >BI and Visualization</th>\n",
       "      <td id=\"T_e2650_row0_col0\" class=\"data row0 col0\" >3.723404</td>\n",
       "      <td id=\"T_e2650_row0_col1\" class=\"data row0 col1\" >2.127660</td>\n",
       "      <td id=\"T_e2650_row0_col2\" class=\"data row0 col2\" >23.936170</td>\n",
       "      <td id=\"T_e2650_row0_col3\" class=\"data row0 col3\" >70.212766</td>\n",
       "    </tr>\n",
       "    <tr>\n",
       "      <th id=\"T_e2650_level0_row1\" class=\"row_heading level0 row1\" >Cloud and Database</th>\n",
       "      <td id=\"T_e2650_row1_col0\" class=\"data row1 col0\" >0.000000</td>\n",
       "      <td id=\"T_e2650_row1_col1\" class=\"data row1 col1\" >0.000000</td>\n",
       "      <td id=\"T_e2650_row1_col2\" class=\"data row1 col2\" >0.000000</td>\n",
       "      <td id=\"T_e2650_row1_col3\" class=\"data row1 col3\" >100.000000</td>\n",
       "    </tr>\n",
       "    <tr>\n",
       "      <th id=\"T_e2650_level0_row2\" class=\"row_heading level0 row2\" >Data Analysis</th>\n",
       "      <td id=\"T_e2650_row2_col0\" class=\"data row2 col0\" >13.720643</td>\n",
       "      <td id=\"T_e2650_row2_col1\" class=\"data row2 col1\" >1.977750</td>\n",
       "      <td id=\"T_e2650_row2_col2\" class=\"data row2 col2\" >29.789864</td>\n",
       "      <td id=\"T_e2650_row2_col3\" class=\"data row2 col3\" >54.511743</td>\n",
       "    </tr>\n",
       "    <tr>\n",
       "      <th id=\"T_e2650_level0_row3\" class=\"row_heading level0 row3\" >Data Architecture and Modeling</th>\n",
       "      <td id=\"T_e2650_row3_col0\" class=\"data row3 col0\" >0.000000</td>\n",
       "      <td id=\"T_e2650_row3_col1\" class=\"data row3 col1\" >1.234568</td>\n",
       "      <td id=\"T_e2650_row3_col2\" class=\"data row3 col2\" >16.666667</td>\n",
       "      <td id=\"T_e2650_row3_col3\" class=\"data row3 col3\" >82.098765</td>\n",
       "    </tr>\n",
       "    <tr>\n",
       "      <th id=\"T_e2650_level0_row4\" class=\"row_heading level0 row4\" >Data Engineering</th>\n",
       "      <td id=\"T_e2650_row4_col0\" class=\"data row4 col0\" >4.741379</td>\n",
       "      <td id=\"T_e2650_row4_col1\" class=\"data row4 col1\" >6.465517</td>\n",
       "      <td id=\"T_e2650_row4_col2\" class=\"data row4 col2\" >25.517241</td>\n",
       "      <td id=\"T_e2650_row4_col3\" class=\"data row4 col3\" >63.275862</td>\n",
       "    </tr>\n",
       "    <tr>\n",
       "      <th id=\"T_e2650_level0_row5\" class=\"row_heading level0 row5\" >Data Management and Strategy</th>\n",
       "      <td id=\"T_e2650_row5_col0\" class=\"data row5 col0\" >20.408163</td>\n",
       "      <td id=\"T_e2650_row5_col1\" class=\"data row5 col1\" >0.000000</td>\n",
       "      <td id=\"T_e2650_row5_col2\" class=\"data row5 col2\" >26.530612</td>\n",
       "      <td id=\"T_e2650_row5_col3\" class=\"data row5 col3\" >53.061224</td>\n",
       "    </tr>\n",
       "    <tr>\n",
       "      <th id=\"T_e2650_level0_row6\" class=\"row_heading level0 row6\" >Data Quality and Operations</th>\n",
       "      <td id=\"T_e2650_row6_col0\" class=\"data row6 col0\" >6.666667</td>\n",
       "      <td id=\"T_e2650_row6_col1\" class=\"data row6 col1\" >0.000000</td>\n",
       "      <td id=\"T_e2650_row6_col2\" class=\"data row6 col2\" >22.222222</td>\n",
       "      <td id=\"T_e2650_row6_col3\" class=\"data row6 col3\" >71.111111</td>\n",
       "    </tr>\n",
       "    <tr>\n",
       "      <th id=\"T_e2650_level0_row7\" class=\"row_heading level0 row7\" >Data Science and Research</th>\n",
       "      <td id=\"T_e2650_row7_col0\" class=\"data row7 col0\" >8.459215</td>\n",
       "      <td id=\"T_e2650_row7_col1\" class=\"data row7 col1\" >4.048338</td>\n",
       "      <td id=\"T_e2650_row7_col2\" class=\"data row7 col2\" >22.296073</td>\n",
       "      <td id=\"T_e2650_row7_col3\" class=\"data row7 col3\" >65.196375</td>\n",
       "    </tr>\n",
       "    <tr>\n",
       "      <th id=\"T_e2650_level0_row8\" class=\"row_heading level0 row8\" >Leadership and Management</th>\n",
       "      <td id=\"T_e2650_row8_col0\" class=\"data row8 col0\" >2.849003</td>\n",
       "      <td id=\"T_e2650_row8_col1\" class=\"data row8 col1\" >13.105413</td>\n",
       "      <td id=\"T_e2650_row8_col2\" class=\"data row8 col2\" >20.512821</td>\n",
       "      <td id=\"T_e2650_row8_col3\" class=\"data row8 col3\" >63.532764</td>\n",
       "    </tr>\n",
       "    <tr>\n",
       "      <th id=\"T_e2650_level0_row9\" class=\"row_heading level0 row9\" >Machine Learning and AI</th>\n",
       "      <td id=\"T_e2650_row9_col0\" class=\"data row9 col0\" >6.979280</td>\n",
       "      <td id=\"T_e2650_row9_col1\" class=\"data row9 col1\" >1.417666</td>\n",
       "      <td id=\"T_e2650_row9_col2\" class=\"data row9 col2\" >21.919302</td>\n",
       "      <td id=\"T_e2650_row9_col3\" class=\"data row9 col3\" >69.683751</td>\n",
       "    </tr>\n",
       "  </tbody>\n",
       "</table>\n"
      ],
      "text/plain": [
       "<pandas.io.formats.style.Styler at 0x227f9f866a0>"
      ]
     },
     "execution_count": 28,
     "metadata": {},
     "output_type": "execute_result"
    }
   ],
   "source": [
    "# Formatando e centralizando a tabela dinâmica\n",
    "categoria_exp.style.set_properties(**{'text-align': 'center'})"
   ]
  },
  {
   "cell_type": "code",
   "execution_count": 29,
   "metadata": {},
   "outputs": [
    {
     "data": {
      "image/png": "[encoded data removed]",
      "text/plain": [
       "<Figure size 640x480 with 1 Axes>"
      ]
     },
     "metadata": {},
     "output_type": "display_data"
    }
   ],
   "source": [
    "# Definindo as cores a serem usadas\n",
    "cores = ['lightgray', 'silver', 'darkgray', 'dimgray']\n",
    "\n",
    "categoria_exp.plot.barh(stacked=True, color=cores)\n",
    "plt.title('Distribuição percentual do nível de experiência por categoria')\n",
    "plt.legend(loc='upper center', bbox_to_anchor=(0.5, -0.1), fancybox=True, shadow=True, ncol=2)\n",
    "plt.show()"
   ]
  },
  {
   "cell_type": "markdown",
   "metadata": {},
   "source": [
    "#### 5 - Média salarial anual por categoria / título / nível de experiência\n",
    "- Quantidade de vagas e média salarial anual por categoria de trabalho em Data Science"
   ]
  },
  {
   "cell_type": "code",
   "execution_count": 30,
   "metadata": {},
   "outputs": [],
   "source": [
    "# Agrupando os dados por categoria e realizando cálculos com agg\n",
    "media_categoria = df.groupby(['job_category']).agg({'job_category': 'size', 'salary_in_usd': 'mean'})\n",
    "\n",
    "# Renomando as colunas da tabela\n",
    "media_categoria = media_categoria.rename(columns={'job_category': 'Quantidade', 'salary_in_usd': 'Média Anual'})\n",
    "\n",
    "# Ordenando os dados pela médial salarial anual\n",
    "media_categoria = media_categoria.sort_values(by='Média Anual', ascending=False)"
   ]
  },
  {
   "cell_type": "code",
   "execution_count": 31,
   "metadata": {},
   "outputs": [
    {
     "data": {
      "text/html": [
       "<style type=\"text/css\">\n",
       "#T_7b3ee_row0_col0, #T_7b3ee_row0_col1, #T_7b3ee_row1_col0, #T_7b3ee_row1_col1, #T_7b3ee_row2_col0, #T_7b3ee_row2_col1, #T_7b3ee_row3_col0, #T_7b3ee_row3_col1, #T_7b3ee_row4_col0, #T_7b3ee_row4_col1, #T_7b3ee_row5_col0, #T_7b3ee_row5_col1, #T_7b3ee_row6_col0, #T_7b3ee_row6_col1, #T_7b3ee_row7_col0, #T_7b3ee_row7_col1, #T_7b3ee_row8_col0, #T_7b3ee_row8_col1, #T_7b3ee_row9_col0, #T_7b3ee_row9_col1 {\n",
       "  text-align: center;\n",
       "}\n",
       "</style>\n",
       "<table id=\"T_7b3ee\">\n",
       "  <thead>\n",
       "    <tr>\n",
       "      <th class=\"blank level0\" >&nbsp;</th>\n",
       "      <th id=\"T_7b3ee_level0_col0\" class=\"col_heading level0 col0\" >Quantidade</th>\n",
       "      <th id=\"T_7b3ee_level0_col1\" class=\"col_heading level0 col1\" >Média Anual</th>\n",
       "    </tr>\n",
       "    <tr>\n",
       "      <th class=\"index_name level0\" >job_category</th>\n",
       "      <th class=\"blank col0\" >&nbsp;</th>\n",
       "      <th class=\"blank col1\" >&nbsp;</th>\n",
       "    </tr>\n",
       "  </thead>\n",
       "  <tbody>\n",
       "    <tr>\n",
       "      <th id=\"T_7b3ee_level0_row0\" class=\"row_heading level0 row0\" >Machine Learning and AI</th>\n",
       "      <td id=\"T_7b3ee_row0_col0\" class=\"data row0 col0\" >917</td>\n",
       "      <td id=\"T_7b3ee_row0_col1\" class=\"data row0 col1\" >170453.221374</td>\n",
       "    </tr>\n",
       "    <tr>\n",
       "      <th id=\"T_7b3ee_level0_row1\" class=\"row_heading level0 row1\" >Data Science and Research</th>\n",
       "      <td id=\"T_7b3ee_row1_col0\" class=\"data row1 col0\" >1655</td>\n",
       "      <td id=\"T_7b3ee_row1_col1\" class=\"data row1 col1\" >157131.039879</td>\n",
       "    </tr>\n",
       "    <tr>\n",
       "      <th id=\"T_7b3ee_level0_row2\" class=\"row_heading level0 row2\" >Data Architecture and Modeling</th>\n",
       "      <td id=\"T_7b3ee_row2_col0\" class=\"data row2 col0\" >162</td>\n",
       "      <td id=\"T_7b3ee_row2_col1\" class=\"data row2 col1\" >157054.006173</td>\n",
       "    </tr>\n",
       "    <tr>\n",
       "      <th id=\"T_7b3ee_level0_row3\" class=\"row_heading level0 row3\" >Cloud and Database</th>\n",
       "      <td id=\"T_7b3ee_row3_col0\" class=\"data row3 col0\" >5</td>\n",
       "      <td id=\"T_7b3ee_row3_col1\" class=\"data row3 col1\" >155000.000000</td>\n",
       "    </tr>\n",
       "    <tr>\n",
       "      <th id=\"T_7b3ee_level0_row4\" class=\"row_heading level0 row4\" >Leadership and Management</th>\n",
       "      <td id=\"T_7b3ee_row4_col0\" class=\"data row4 col0\" >351</td>\n",
       "      <td id=\"T_7b3ee_row4_col1\" class=\"data row4 col1\" >149020.108262</td>\n",
       "    </tr>\n",
       "    <tr>\n",
       "      <th id=\"T_7b3ee_level0_row5\" class=\"row_heading level0 row5\" >Data Engineering</th>\n",
       "      <td id=\"T_7b3ee_row5_col0\" class=\"data row5 col0\" >1160</td>\n",
       "      <td id=\"T_7b3ee_row5_col1\" class=\"data row5 col1\" >142967.543103</td>\n",
       "    </tr>\n",
       "    <tr>\n",
       "      <th id=\"T_7b3ee_level0_row6\" class=\"row_heading level0 row6\" >BI and Visualization</th>\n",
       "      <td id=\"T_7b3ee_row6_col0\" class=\"data row6 col0\" >188</td>\n",
       "      <td id=\"T_7b3ee_row6_col1\" class=\"data row6 col1\" >128377.734043</td>\n",
       "    </tr>\n",
       "    <tr>\n",
       "      <th id=\"T_7b3ee_level0_row7\" class=\"row_heading level0 row7\" >Data Management and Strategy</th>\n",
       "      <td id=\"T_7b3ee_row7_col0\" class=\"data row7 col0\" >49</td>\n",
       "      <td id=\"T_7b3ee_row7_col1\" class=\"data row7 col1\" >107655.836735</td>\n",
       "    </tr>\n",
       "    <tr>\n",
       "      <th id=\"T_7b3ee_level0_row8\" class=\"row_heading level0 row8\" >Data Analysis</th>\n",
       "      <td id=\"T_7b3ee_row8_col0\" class=\"data row8 col0\" >809</td>\n",
       "      <td id=\"T_7b3ee_row8_col1\" class=\"data row8 col1\" >106707.058096</td>\n",
       "    </tr>\n",
       "    <tr>\n",
       "      <th id=\"T_7b3ee_level0_row9\" class=\"row_heading level0 row9\" >Data Quality and Operations</th>\n",
       "      <td id=\"T_7b3ee_row9_col0\" class=\"data row9 col0\" >45</td>\n",
       "      <td id=\"T_7b3ee_row9_col1\" class=\"data row9 col1\" >104586.022222</td>\n",
       "    </tr>\n",
       "  </tbody>\n",
       "</table>\n"
      ],
      "text/plain": [
       "<pandas.io.formats.style.Styler at 0x227fd0c4310>"
      ]
     },
     "execution_count": 31,
     "metadata": {},
     "output_type": "execute_result"
    }
   ],
   "source": [
    "# Centralizando e formatando a tabela\n",
    "media_categoria.style.set_properties(**{'text-align': 'center'})"
   ]
  },
  {
   "cell_type": "code",
   "execution_count": 32,
   "metadata": {},
   "outputs": [],
   "source": [
    "# Agrupando os dados por titulo e realizando cálculos com agg\n",
    "media_titulo = df.groupby(['job_title']).agg({'job_title': 'size', 'salary_in_usd': 'mean'})\n",
    "\n",
    "# Renomando as colunas da tabela\n",
    "media_titulo = media_titulo.rename(columns={'job_title': 'Quantidade', 'salary_in_usd': 'Média Anual'})\n",
    "\n",
    "# Ordenando os dados pela médial salarial anual e quantidade\n",
    "media_titulo = media_titulo.sort_values(by=['Média Anual', 'Quantidade'], ascending=[False, True])"
   ]
  },
  {
   "cell_type": "markdown",
   "metadata": {},
   "source": [
    "- Top 10 vagas com a maior média salarial anual e mais vagas disponíveis"
   ]
  },
  {
   "cell_type": "code",
   "execution_count": 33,
   "metadata": {},
   "outputs": [
    {
     "data": {
      "text/html": [
       "<div>\n",
       "<style scoped>\n",
       "    .dataframe tbody tr th:only-of-type {\n",
       "        vertical-align: middle;\n",
       "    }\n",
       "\n",
       "    .dataframe tbody tr th {\n",
       "        vertical-align: top;\n",
       "    }\n",
       "\n",
       "    .dataframe thead th {\n",
       "        text-align: right;\n",
       "    }\n",
       "</style>\n",
       "<table border=\"1\" class=\"dataframe\">\n",
       "  <thead>\n",
       "    <tr style=\"text-align: right;\">\n",
       "      <th></th>\n",
       "      <th>Quantidade</th>\n",
       "      <th>Média Anual</th>\n",
       "    </tr>\n",
       "    <tr>\n",
       "      <th>job_title</th>\n",
       "      <th></th>\n",
       "      <th></th>\n",
       "    </tr>\n",
       "  </thead>\n",
       "  <tbody>\n",
       "    <tr>\n",
       "      <th>Analytics Engineering Manager</th>\n",
       "      <td>1</td>\n",
       "      <td>399880.000000</td>\n",
       "    </tr>\n",
       "    <tr>\n",
       "      <th>Data Science Tech Lead</th>\n",
       "      <td>1</td>\n",
       "      <td>375000.000000</td>\n",
       "    </tr>\n",
       "    <tr>\n",
       "      <th>Managing Director Data Science</th>\n",
       "      <td>1</td>\n",
       "      <td>300000.000000</td>\n",
       "    </tr>\n",
       "    <tr>\n",
       "      <th>Head of Machine Learning</th>\n",
       "      <td>2</td>\n",
       "      <td>259000.000000</td>\n",
       "    </tr>\n",
       "    <tr>\n",
       "      <th>AWS Data Architect</th>\n",
       "      <td>1</td>\n",
       "      <td>258000.000000</td>\n",
       "    </tr>\n",
       "    <tr>\n",
       "      <th>Cloud Data Architect</th>\n",
       "      <td>1</td>\n",
       "      <td>250000.000000</td>\n",
       "    </tr>\n",
       "    <tr>\n",
       "      <th>AI Architect</th>\n",
       "      <td>6</td>\n",
       "      <td>233656.000000</td>\n",
       "    </tr>\n",
       "    <tr>\n",
       "      <th>Director of Data Science</th>\n",
       "      <td>27</td>\n",
       "      <td>215447.629630</td>\n",
       "    </tr>\n",
       "    <tr>\n",
       "      <th>Machine Learning Software Engineer</th>\n",
       "      <td>13</td>\n",
       "      <td>212907.692308</td>\n",
       "    </tr>\n",
       "    <tr>\n",
       "      <th>Data Analytics Lead</th>\n",
       "      <td>3</td>\n",
       "      <td>210874.666667</td>\n",
       "    </tr>\n",
       "  </tbody>\n",
       "</table>\n",
       "</div>"
      ],
      "text/plain": [
       "                                    Quantidade    Média Anual\n",
       "job_title                                                    \n",
       "Analytics Engineering Manager                1  399880.000000\n",
       "Data Science Tech Lead                       1  375000.000000\n",
       "Managing Director Data Science               1  300000.000000\n",
       "Head of Machine Learning                     2  259000.000000\n",
       "AWS Data Architect                           1  258000.000000\n",
       "Cloud Data Architect                         1  250000.000000\n",
       "AI Architect                                 6  233656.000000\n",
       "Director of Data Science                    27  215447.629630\n",
       "Machine Learning Software Engineer          13  212907.692308\n",
       "Data Analytics Lead                          3  210874.666667"
      ]
     },
     "execution_count": 33,
     "metadata": {},
     "output_type": "execute_result"
    }
   ],
   "source": [
    "media_titulo.head(10)"
   ]
  },
  {
   "cell_type": "code",
   "execution_count": 34,
   "metadata": {},
   "outputs": [],
   "source": [
    "tabela_experiencia = pd.crosstab(df['job_title'],\n",
    "                                df['experience_level'],\n",
    "                                aggfunc='mean',\n",
    "                                values=df['salary_in_usd']).fillna(0)"
   ]
  },
  {
   "cell_type": "code",
   "execution_count": 35,
   "metadata": {},
   "outputs": [
    {
     "data": {
      "text/html": [
       "<div>\n",
       "<style scoped>\n",
       "    .dataframe tbody tr th:only-of-type {\n",
       "        vertical-align: middle;\n",
       "    }\n",
       "\n",
       "    .dataframe tbody tr th {\n",
       "        vertical-align: top;\n",
       "    }\n",
       "\n",
       "    .dataframe thead th {\n",
       "        text-align: right;\n",
       "    }\n",
       "</style>\n",
       "<table border=\"1\" class=\"dataframe\">\n",
       "  <thead>\n",
       "    <tr style=\"text-align: right;\">\n",
       "      <th>experience_level</th>\n",
       "      <th>Entry-level</th>\n",
       "      <th>Executive</th>\n",
       "      <th>Mid-level</th>\n",
       "      <th>Senior</th>\n",
       "    </tr>\n",
       "    <tr>\n",
       "      <th>job_title</th>\n",
       "      <th></th>\n",
       "      <th></th>\n",
       "      <th></th>\n",
       "      <th></th>\n",
       "    </tr>\n",
       "  </thead>\n",
       "  <tbody>\n",
       "    <tr>\n",
       "      <th>AI Architect</th>\n",
       "      <td>0.00</td>\n",
       "      <td>215936.0</td>\n",
       "      <td>0.000000</td>\n",
       "      <td>237200.000000</td>\n",
       "    </tr>\n",
       "    <tr>\n",
       "      <th>AI Developer</th>\n",
       "      <td>110119.50</td>\n",
       "      <td>0.0</td>\n",
       "      <td>138294.333333</td>\n",
       "      <td>162770.666667</td>\n",
       "    </tr>\n",
       "    <tr>\n",
       "      <th>AI Engineer</th>\n",
       "      <td>28296.50</td>\n",
       "      <td>0.0</td>\n",
       "      <td>163261.100000</td>\n",
       "      <td>192572.681818</td>\n",
       "    </tr>\n",
       "    <tr>\n",
       "      <th>AI Programmer</th>\n",
       "      <td>56021.75</td>\n",
       "      <td>0.0</td>\n",
       "      <td>0.000000</td>\n",
       "      <td>120000.000000</td>\n",
       "    </tr>\n",
       "    <tr>\n",
       "      <th>AI Research Engineer</th>\n",
       "      <td>30940.00</td>\n",
       "      <td>0.0</td>\n",
       "      <td>115603.000000</td>\n",
       "      <td>0.000000</td>\n",
       "    </tr>\n",
       "    <tr>\n",
       "      <th>...</th>\n",
       "      <td>...</td>\n",
       "      <td>...</td>\n",
       "      <td>...</td>\n",
       "      <td>...</td>\n",
       "    </tr>\n",
       "    <tr>\n",
       "      <th>Sales Data Analyst</th>\n",
       "      <td>0.00</td>\n",
       "      <td>0.0</td>\n",
       "      <td>60000.000000</td>\n",
       "      <td>0.000000</td>\n",
       "    </tr>\n",
       "    <tr>\n",
       "      <th>Software Data Engineer</th>\n",
       "      <td>0.00</td>\n",
       "      <td>0.0</td>\n",
       "      <td>74883.000000</td>\n",
       "      <td>130000.000000</td>\n",
       "    </tr>\n",
       "    <tr>\n",
       "      <th>Staff Data Analyst</th>\n",
       "      <td>44753.00</td>\n",
       "      <td>15000.0</td>\n",
       "      <td>179998.000000</td>\n",
       "      <td>0.000000</td>\n",
       "    </tr>\n",
       "    <tr>\n",
       "      <th>Staff Data Scientist</th>\n",
       "      <td>0.00</td>\n",
       "      <td>0.0</td>\n",
       "      <td>0.000000</td>\n",
       "      <td>134500.000000</td>\n",
       "    </tr>\n",
       "    <tr>\n",
       "      <th>Staff Machine Learning Engineer</th>\n",
       "      <td>0.00</td>\n",
       "      <td>0.0</td>\n",
       "      <td>0.000000</td>\n",
       "      <td>185000.000000</td>\n",
       "    </tr>\n",
       "  </tbody>\n",
       "</table>\n",
       "<p>125 rows × 4 columns</p>\n",
       "</div>"
      ],
      "text/plain": [
       "experience_level                 Entry-level  Executive      Mid-level  \\\n",
       "job_title                                                                \n",
       "AI Architect                            0.00   215936.0       0.000000   \n",
       "AI Developer                       110119.50        0.0  138294.333333   \n",
       "AI Engineer                         28296.50        0.0  163261.100000   \n",
       "AI Programmer                       56021.75        0.0       0.000000   \n",
       "AI Research Engineer                30940.00        0.0  115603.000000   \n",
       "...                                      ...        ...            ...   \n",
       "Sales Data Analyst                      0.00        0.0   60000.000000   \n",
       "Software Data Engineer                  0.00        0.0   74883.000000   \n",
       "Staff Data Analyst                  44753.00    15000.0  179998.000000   \n",
       "Staff Data Scientist                    0.00        0.0       0.000000   \n",
       "Staff Machine Learning Engineer         0.00        0.0       0.000000   \n",
       "\n",
       "experience_level                        Senior  \n",
       "job_title                                       \n",
       "AI Architect                     237200.000000  \n",
       "AI Developer                     162770.666667  \n",
       "AI Engineer                      192572.681818  \n",
       "AI Programmer                    120000.000000  \n",
       "AI Research Engineer                  0.000000  \n",
       "...                                        ...  \n",
       "Sales Data Analyst                    0.000000  \n",
       "Software Data Engineer           130000.000000  \n",
       "Staff Data Analyst                    0.000000  \n",
       "Staff Data Scientist             134500.000000  \n",
       "Staff Machine Learning Engineer  185000.000000  \n",
       "\n",
       "[125 rows x 4 columns]"
      ]
     },
     "execution_count": 35,
     "metadata": {},
     "output_type": "execute_result"
    }
   ],
   "source": [
    "tabela_experiencia"
   ]
  },
  {
   "cell_type": "code",
   "execution_count": null,
   "metadata": {},
   "outputs": [],
   "source": []
  }
 ],
 "metadata": {
  "kernelspec": {
   "display_name": "Python 3",
   "language": "python",
   "name": "python3"
  },
  "language_info": {
   "codemirror_mode": {
    "name": "ipython",
    "version": 3
   },
   "file_extension": ".py",
   "mimetype": "text/x-python",
   "name": "python",
   "nbconvert_exporter": "python",
   "pygments_lexer": "ipython3",
   "version": "3.9.13"
  }
 },
 "nbformat": 4,
 "nbformat_minor": 2
}
