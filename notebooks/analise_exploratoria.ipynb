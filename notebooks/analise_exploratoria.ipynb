{
 "cells": [
  {
   "cell_type": "markdown",
   "metadata": {},
   "source": [
    "## Exploratory Data Analysis"
   ]
  },
  {
   "cell_type": "markdown",
   "metadata": {},
   "source": [
    "#### 1 - Importando os dados\n",
    "\n",
    "Link do Dataset: [Jobs and Salaries in Data Science](https://www.kaggle.com/datasets/hummaamqaasim/jobs-in-data)"
   ]
  },
  {
   "cell_type": "code",
   "execution_count": 1,
   "metadata": {},
   "outputs": [],
   "source": [
    "import pandas as pd\n",
    "import matplotlib.pyplot as plt\n",
    "import warnings\n",
    "\n",
    "warnings.filterwarnings('ignore')\n",
    "pd.set_option('display.max_columns', 39)"
   ]
  },
  {
   "cell_type": "code",
   "execution_count": 2,
   "metadata": {},
   "outputs": [],
   "source": [
    "arquivo = 'https://raw.githubusercontent.com/ryanrodr/eda-jobs-in-data/main/dados/jobs_in_data.csv'\n",
    "df = pd.read_csv(arquivo)"
   ]
  },
  {
   "cell_type": "code",
   "execution_count": 3,
   "metadata": {},
   "outputs": [
    {
     "name": "stdout",
     "output_type": "stream",
     "text": [
      "9355 linhas e 12 colunas\n"
     ]
    }
   ],
   "source": [
    "print(f'{df.shape[0]} linhas e {df.shape[1]} colunas')"
   ]
  },
  {
   "cell_type": "code",
   "execution_count": 4,
   "metadata": {},
   "outputs": [
    {
     "data": {
      "text/plain": [
       "Index(['work_year', 'job_title', 'job_category', 'salary_currency', 'salary',\n",
       "       'salary_in_usd', 'employee_residence', 'experience_level',\n",
       "       'employment_type', 'work_setting', 'company_location', 'company_size'],\n",
       "      dtype='object')"
      ]
     },
     "execution_count": 4,
     "metadata": {},
     "output_type": "execute_result"
    }
   ],
   "source": [
    "df.columns"
   ]
  },
  {
   "cell_type": "markdown",
   "metadata": {},
   "source": [
    "#### 2 - Limpeza e preparação dos dados"
   ]
  },
  {
   "cell_type": "markdown",
   "metadata": {},
   "source": [
    "- Identificando valores ausentes NaN (Not a Number) ou dados duplicados."
   ]
  },
  {
   "cell_type": "code",
   "execution_count": 5,
   "metadata": {},
   "outputs": [
    {
     "data": {
      "text/plain": [
       "work_year             0\n",
       "job_title             0\n",
       "job_category          0\n",
       "salary_currency       0\n",
       "salary                0\n",
       "salary_in_usd         0\n",
       "employee_residence    0\n",
       "experience_level      0\n",
       "employment_type       0\n",
       "work_setting          0\n",
       "company_location      0\n",
       "company_size          0\n",
       "dtype: int64"
      ]
     },
     "execution_count": 5,
     "metadata": {},
     "output_type": "execute_result"
    }
   ],
   "source": [
    "df.isna().sum()"
   ]
  },
  {
   "cell_type": "code",
   "execution_count": 6,
   "metadata": {},
   "outputs": [
    {
     "data": {
      "text/plain": [
       "4014"
      ]
     },
     "execution_count": 6,
     "metadata": {},
     "output_type": "execute_result"
    }
   ],
   "source": [
    "df.duplicated().sum()"
   ]
  },
  {
   "cell_type": "markdown",
   "metadata": {},
   "source": [
    "- Removendo dados duplicados e resetando o índice"
   ]
  },
  {
   "cell_type": "code",
   "execution_count": 7,
   "metadata": {},
   "outputs": [],
   "source": [
    "df.drop_duplicates(inplace=True)"
   ]
  },
  {
   "cell_type": "code",
   "execution_count": 8,
   "metadata": {},
   "outputs": [
    {
     "data": {
      "text/html": [
       "<div>\n",
       "<style scoped>\n",
       "    .dataframe tbody tr th:only-of-type {\n",
       "        vertical-align: middle;\n",
       "    }\n",
       "\n",
       "    .dataframe tbody tr th {\n",
       "        vertical-align: top;\n",
       "    }\n",
       "\n",
       "    .dataframe thead th {\n",
       "        text-align: right;\n",
       "    }\n",
       "</style>\n",
       "<table border=\"1\" class=\"dataframe\">\n",
       "  <thead>\n",
       "    <tr style=\"text-align: right;\">\n",
       "      <th></th>\n",
       "      <th>work_year</th>\n",
       "      <th>job_title</th>\n",
       "      <th>job_category</th>\n",
       "      <th>salary_currency</th>\n",
       "      <th>salary</th>\n",
       "      <th>salary_in_usd</th>\n",
       "      <th>employee_residence</th>\n",
       "      <th>experience_level</th>\n",
       "      <th>employment_type</th>\n",
       "      <th>work_setting</th>\n",
       "      <th>company_location</th>\n",
       "      <th>company_size</th>\n",
       "    </tr>\n",
       "  </thead>\n",
       "  <tbody>\n",
       "    <tr>\n",
       "      <th>0</th>\n",
       "      <td>2023</td>\n",
       "      <td>Data DevOps Engineer</td>\n",
       "      <td>Data Engineering</td>\n",
       "      <td>EUR</td>\n",
       "      <td>88000</td>\n",
       "      <td>95012</td>\n",
       "      <td>Germany</td>\n",
       "      <td>Mid-level</td>\n",
       "      <td>Full-time</td>\n",
       "      <td>Hybrid</td>\n",
       "      <td>Germany</td>\n",
       "      <td>L</td>\n",
       "    </tr>\n",
       "    <tr>\n",
       "      <th>1</th>\n",
       "      <td>2023</td>\n",
       "      <td>Data Architect</td>\n",
       "      <td>Data Architecture and Modeling</td>\n",
       "      <td>USD</td>\n",
       "      <td>186000</td>\n",
       "      <td>186000</td>\n",
       "      <td>United States</td>\n",
       "      <td>Senior</td>\n",
       "      <td>Full-time</td>\n",
       "      <td>In-person</td>\n",
       "      <td>United States</td>\n",
       "      <td>M</td>\n",
       "    </tr>\n",
       "    <tr>\n",
       "      <th>2</th>\n",
       "      <td>2023</td>\n",
       "      <td>Data Architect</td>\n",
       "      <td>Data Architecture and Modeling</td>\n",
       "      <td>USD</td>\n",
       "      <td>81800</td>\n",
       "      <td>81800</td>\n",
       "      <td>United States</td>\n",
       "      <td>Senior</td>\n",
       "      <td>Full-time</td>\n",
       "      <td>In-person</td>\n",
       "      <td>United States</td>\n",
       "      <td>M</td>\n",
       "    </tr>\n",
       "  </tbody>\n",
       "</table>\n",
       "</div>"
      ],
      "text/plain": [
       "   work_year             job_title                    job_category  \\\n",
       "0       2023  Data DevOps Engineer                Data Engineering   \n",
       "1       2023        Data Architect  Data Architecture and Modeling   \n",
       "2       2023        Data Architect  Data Architecture and Modeling   \n",
       "\n",
       "  salary_currency  salary  salary_in_usd employee_residence experience_level  \\\n",
       "0             EUR   88000          95012            Germany        Mid-level   \n",
       "1             USD  186000         186000      United States           Senior   \n",
       "2             USD   81800          81800      United States           Senior   \n",
       "\n",
       "  employment_type work_setting company_location company_size  \n",
       "0       Full-time       Hybrid          Germany            L  \n",
       "1       Full-time    In-person    United States            M  \n",
       "2       Full-time    In-person    United States            M  "
      ]
     },
     "execution_count": 8,
     "metadata": {},
     "output_type": "execute_result"
    }
   ],
   "source": [
    "df.head(3)"
   ]
  },
  {
   "cell_type": "markdown",
   "metadata": {},
   "source": [
    "- Removendo colunas que não vão ser utilizadas"
   ]
  },
  {
   "cell_type": "code",
   "execution_count": 9,
   "metadata": {},
   "outputs": [],
   "source": [
    "df.drop(columns=['salary_currency', 'salary', 'employee_residence', 'company_location'], inplace=True)"
   ]
  },
  {
   "cell_type": "markdown",
   "metadata": {},
   "source": [
    "- Convertendo o tipo de dado das colunas"
   ]
  },
  {
   "cell_type": "code",
   "execution_count": 10,
   "metadata": {},
   "outputs": [
    {
     "name": "stdout",
     "output_type": "stream",
     "text": [
      "<class 'pandas.core.frame.DataFrame'>\n",
      "Index: 5341 entries, 0 to 9354\n",
      "Data columns (total 8 columns):\n",
      " #   Column            Non-Null Count  Dtype \n",
      "---  ------            --------------  ----- \n",
      " 0   work_year         5341 non-null   int64 \n",
      " 1   job_title         5341 non-null   object\n",
      " 2   job_category      5341 non-null   object\n",
      " 3   salary_in_usd     5341 non-null   int64 \n",
      " 4   experience_level  5341 non-null   object\n",
      " 5   employment_type   5341 non-null   object\n",
      " 6   work_setting      5341 non-null   object\n",
      " 7   company_size      5341 non-null   object\n",
      "dtypes: int64(2), object(6)\n",
      "memory usage: 375.5+ KB\n"
     ]
    }
   ],
   "source": [
    "df.info()"
   ]
  },
  {
   "cell_type": "markdown",
   "metadata": {},
   "source": [
    "- Identificando as colunas categóricas que contenham menos de 10 valores únicos e contenham o tipo de dado 'object'"
   ]
  },
  {
   "cell_type": "code",
   "execution_count": 11,
   "metadata": {},
   "outputs": [],
   "source": [
    "limite = 10\n",
    "\n",
    "colunas_categoricas = [col for col in df.columns if df[col].nunique() <= limite and df[col].dtype == 'object']"
   ]
  },
  {
   "cell_type": "code",
   "execution_count": 12,
   "metadata": {},
   "outputs": [
    {
     "data": {
      "text/plain": [
       "['job_category',\n",
       " 'experience_level',\n",
       " 'employment_type',\n",
       " 'work_setting',\n",
       " 'company_size']"
      ]
     },
     "execution_count": 12,
     "metadata": {},
     "output_type": "execute_result"
    }
   ],
   "source": [
    "colunas_categoricas"
   ]
  },
  {
   "cell_type": "markdown",
   "metadata": {},
   "source": [
    "- Alterando o tipo de dado para 'category'"
   ]
  },
  {
   "cell_type": "code",
   "execution_count": 13,
   "metadata": {},
   "outputs": [],
   "source": [
    "df[colunas_categoricas] = df[colunas_categoricas].astype('category')"
   ]
  },
  {
   "cell_type": "code",
   "execution_count": 14,
   "metadata": {},
   "outputs": [
    {
     "name": "stdout",
     "output_type": "stream",
     "text": [
      "<class 'pandas.core.frame.DataFrame'>\n",
      "Index: 5341 entries, 0 to 9354\n",
      "Data columns (total 8 columns):\n",
      " #   Column            Non-Null Count  Dtype   \n",
      "---  ------            --------------  -----   \n",
      " 0   work_year         5341 non-null   int64   \n",
      " 1   job_title         5341 non-null   object  \n",
      " 2   job_category      5341 non-null   category\n",
      " 3   salary_in_usd     5341 non-null   int64   \n",
      " 4   experience_level  5341 non-null   category\n",
      " 5   employment_type   5341 non-null   category\n",
      " 6   work_setting      5341 non-null   category\n",
      " 7   company_size      5341 non-null   category\n",
      "dtypes: category(5), int64(2), object(1)\n",
      "memory usage: 194.0+ KB\n"
     ]
    }
   ],
   "source": [
    "df.info()"
   ]
  },
  {
   "cell_type": "markdown",
   "metadata": {},
   "source": [
    "#### 3 - Resumindo os dados"
   ]
  },
  {
   "cell_type": "code",
   "execution_count": 15,
   "metadata": {},
   "outputs": [
    {
     "data": {
      "text/html": [
       "<div>\n",
       "<style scoped>\n",
       "    .dataframe tbody tr th:only-of-type {\n",
       "        vertical-align: middle;\n",
       "    }\n",
       "\n",
       "    .dataframe tbody tr th {\n",
       "        vertical-align: top;\n",
       "    }\n",
       "\n",
       "    .dataframe thead th {\n",
       "        text-align: right;\n",
       "    }\n",
       "</style>\n",
       "<table border=\"1\" class=\"dataframe\">\n",
       "  <thead>\n",
       "    <tr style=\"text-align: right;\">\n",
       "      <th></th>\n",
       "      <th>work_year</th>\n",
       "      <th>job_title</th>\n",
       "      <th>job_category</th>\n",
       "      <th>salary_in_usd</th>\n",
       "      <th>experience_level</th>\n",
       "      <th>employment_type</th>\n",
       "      <th>work_setting</th>\n",
       "      <th>company_size</th>\n",
       "    </tr>\n",
       "  </thead>\n",
       "  <tbody>\n",
       "    <tr>\n",
       "      <th>0</th>\n",
       "      <td>2023</td>\n",
       "      <td>Data DevOps Engineer</td>\n",
       "      <td>Data Engineering</td>\n",
       "      <td>95012</td>\n",
       "      <td>Mid-level</td>\n",
       "      <td>Full-time</td>\n",
       "      <td>Hybrid</td>\n",
       "      <td>L</td>\n",
       "    </tr>\n",
       "    <tr>\n",
       "      <th>1</th>\n",
       "      <td>2023</td>\n",
       "      <td>Data Architect</td>\n",
       "      <td>Data Architecture and Modeling</td>\n",
       "      <td>186000</td>\n",
       "      <td>Senior</td>\n",
       "      <td>Full-time</td>\n",
       "      <td>In-person</td>\n",
       "      <td>M</td>\n",
       "    </tr>\n",
       "    <tr>\n",
       "      <th>2</th>\n",
       "      <td>2023</td>\n",
       "      <td>Data Architect</td>\n",
       "      <td>Data Architecture and Modeling</td>\n",
       "      <td>81800</td>\n",
       "      <td>Senior</td>\n",
       "      <td>Full-time</td>\n",
       "      <td>In-person</td>\n",
       "      <td>M</td>\n",
       "    </tr>\n",
       "  </tbody>\n",
       "</table>\n",
       "</div>"
      ],
      "text/plain": [
       "   work_year             job_title                    job_category  \\\n",
       "0       2023  Data DevOps Engineer                Data Engineering   \n",
       "1       2023        Data Architect  Data Architecture and Modeling   \n",
       "2       2023        Data Architect  Data Architecture and Modeling   \n",
       "\n",
       "   salary_in_usd experience_level employment_type work_setting company_size  \n",
       "0          95012        Mid-level       Full-time       Hybrid            L  \n",
       "1         186000           Senior       Full-time    In-person            M  \n",
       "2          81800           Senior       Full-time    In-person            M  "
      ]
     },
     "execution_count": 15,
     "metadata": {},
     "output_type": "execute_result"
    }
   ],
   "source": [
    "df.head(3)"
   ]
  },
  {
   "cell_type": "code",
   "execution_count": 16,
   "metadata": {},
   "outputs": [
    {
     "data": {
      "text/html": [
       "<div>\n",
       "<style scoped>\n",
       "    .dataframe tbody tr th:only-of-type {\n",
       "        vertical-align: middle;\n",
       "    }\n",
       "\n",
       "    .dataframe tbody tr th {\n",
       "        vertical-align: top;\n",
       "    }\n",
       "\n",
       "    .dataframe thead th {\n",
       "        text-align: right;\n",
       "    }\n",
       "</style>\n",
       "<table border=\"1\" class=\"dataframe\">\n",
       "  <thead>\n",
       "    <tr style=\"text-align: right;\">\n",
       "      <th></th>\n",
       "      <th>job_category</th>\n",
       "      <th>quantidade</th>\n",
       "    </tr>\n",
       "  </thead>\n",
       "  <tbody>\n",
       "    <tr>\n",
       "      <th>0</th>\n",
       "      <td>Data Science and Research</td>\n",
       "      <td>1655</td>\n",
       "    </tr>\n",
       "    <tr>\n",
       "      <th>1</th>\n",
       "      <td>Data Engineering</td>\n",
       "      <td>1160</td>\n",
       "    </tr>\n",
       "    <tr>\n",
       "      <th>2</th>\n",
       "      <td>Machine Learning and AI</td>\n",
       "      <td>917</td>\n",
       "    </tr>\n",
       "    <tr>\n",
       "      <th>3</th>\n",
       "      <td>Data Analysis</td>\n",
       "      <td>809</td>\n",
       "    </tr>\n",
       "    <tr>\n",
       "      <th>4</th>\n",
       "      <td>Leadership and Management</td>\n",
       "      <td>351</td>\n",
       "    </tr>\n",
       "    <tr>\n",
       "      <th>5</th>\n",
       "      <td>BI and Visualization</td>\n",
       "      <td>188</td>\n",
       "    </tr>\n",
       "    <tr>\n",
       "      <th>6</th>\n",
       "      <td>Data Architecture and Modeling</td>\n",
       "      <td>162</td>\n",
       "    </tr>\n",
       "    <tr>\n",
       "      <th>7</th>\n",
       "      <td>Data Management and Strategy</td>\n",
       "      <td>49</td>\n",
       "    </tr>\n",
       "    <tr>\n",
       "      <th>8</th>\n",
       "      <td>Data Quality and Operations</td>\n",
       "      <td>45</td>\n",
       "    </tr>\n",
       "    <tr>\n",
       "      <th>9</th>\n",
       "      <td>Cloud and Database</td>\n",
       "      <td>5</td>\n",
       "    </tr>\n",
       "  </tbody>\n",
       "</table>\n",
       "</div>"
      ],
      "text/plain": [
       "                     job_category  quantidade\n",
       "0       Data Science and Research        1655\n",
       "1                Data Engineering        1160\n",
       "2         Machine Learning and AI         917\n",
       "3                   Data Analysis         809\n",
       "4       Leadership and Management         351\n",
       "5            BI and Visualization         188\n",
       "6  Data Architecture and Modeling         162\n",
       "7    Data Management and Strategy          49\n",
       "8     Data Quality and Operations          45\n",
       "9              Cloud and Database           5"
      ]
     },
     "execution_count": 16,
     "metadata": {},
     "output_type": "execute_result"
    }
   ],
   "source": [
    "resumo_categoria = df['job_category'].value_counts().reset_index(name='quantidade').rename(columns={'index': 'job_category'})\n",
    "resumo_categoria"
   ]
  },
  {
   "cell_type": "code",
   "execution_count": 17,
   "metadata": {},
   "outputs": [
    {
     "data": {
      "text/html": [
       "<div>\n",
       "<style scoped>\n",
       "    .dataframe tbody tr th:only-of-type {\n",
       "        vertical-align: middle;\n",
       "    }\n",
       "\n",
       "    .dataframe tbody tr th {\n",
       "        vertical-align: top;\n",
       "    }\n",
       "\n",
       "    .dataframe thead th {\n",
       "        text-align: right;\n",
       "    }\n",
       "</style>\n",
       "<table border=\"1\" class=\"dataframe\">\n",
       "  <thead>\n",
       "    <tr style=\"text-align: right;\">\n",
       "      <th></th>\n",
       "      <th>experience_level</th>\n",
       "      <th>quantidade</th>\n",
       "    </tr>\n",
       "  </thead>\n",
       "  <tbody>\n",
       "    <tr>\n",
       "      <th>0</th>\n",
       "      <td>Senior</td>\n",
       "      <td>3444</td>\n",
       "    </tr>\n",
       "    <tr>\n",
       "      <th>1</th>\n",
       "      <td>Mid-level</td>\n",
       "      <td>1274</td>\n",
       "    </tr>\n",
       "    <tr>\n",
       "      <th>2</th>\n",
       "      <td>Entry-level</td>\n",
       "      <td>400</td>\n",
       "    </tr>\n",
       "    <tr>\n",
       "      <th>3</th>\n",
       "      <td>Executive</td>\n",
       "      <td>223</td>\n",
       "    </tr>\n",
       "  </tbody>\n",
       "</table>\n",
       "</div>"
      ],
      "text/plain": [
       "  experience_level  quantidade\n",
       "0           Senior        3444\n",
       "1        Mid-level        1274\n",
       "2      Entry-level         400\n",
       "3        Executive         223"
      ]
     },
     "execution_count": 17,
     "metadata": {},
     "output_type": "execute_result"
    }
   ],
   "source": [
    "resumo_exp = df['experience_level'].value_counts().reset_index(name='quantidade').rename(columns={'index': 'experience_level'})\n",
    "resumo_exp"
   ]
  },
  {
   "cell_type": "markdown",
   "metadata": {},
   "source": [
    "- Exibindo os resultados em subplots com matplotlib"
   ]
  },
  {
   "cell_type": "code",
   "execution_count": 18,
   "metadata": {},
   "outputs": [
    {
     "data": {
      "image/png": "[encoded data removed]",
      "text/plain": [
       "<Figure size 1200x800 with 2 Axes>"
      ]
     },
     "metadata": {},
     "output_type": "display_data"
    }
   ],
   "source": [
    "plt.figure(figsize=(12, 8)) # Definindo o tamanho da imagem\n",
    "\n",
    "plt.subplot(2, 2, 1)\n",
    "plt.barh(resumo_categoria['job_category'], resumo_categoria['quantidade'], color='gray')\n",
    "for i, quantidade in enumerate(resumo_categoria['quantidade']):\n",
    "    plt.text(quantidade + 50, i, str(quantidade), va='center')\n",
    "plt.title('Quantidade por área de atuação em Ciência de Dados')\n",
    "plt.xlim(0, 1900)\n",
    "\n",
    "plt.subplot(2, 2, 2)\n",
    "plt.barh(resumo_exp['experience_level'], resumo_exp['quantidade'], color='gray')\n",
    "for i, quantidade in enumerate(resumo_exp['quantidade']):\n",
    "    plt.text(quantidade + 50, i, str(quantidade), va='center')\n",
    "plt.title('Quantidade pelo nível de experiência')\n",
    "plt.xlim(0, 3900)\n",
    "\n",
    "plt.tight_layout() # Ajustando o tamanho"
   ]
  },
  {
   "cell_type": "markdown",
   "metadata": {},
   "source": [
    "#### 4 - Operações de grupo e visualizações"
   ]
  },
  {
   "cell_type": "markdown",
   "metadata": {},
   "source": [
    "- Utilizando `groupby` para agrupar os dados"
   ]
  },
  {
   "cell_type": "code",
   "execution_count": 19,
   "metadata": {},
   "outputs": [],
   "source": [
    "# Resumindo os dados pelo ano, categoria e contando o número de ocorrências\n",
    "group = df.groupby(['work_year', 'job_category']).size().reset_index(name='Quantidade')"
   ]
  },
  {
   "cell_type": "markdown",
   "metadata": {},
   "source": [
    "- Reformatando os dados e transformando em uma Tabela Dinâmica com `pivot_table`\n",
    "- Utilizando a Tabela como base e gerando um gráfico de barras horizontais"
   ]
  },
  {
   "cell_type": "code",
   "execution_count": 20,
   "metadata": {},
   "outputs": [],
   "source": [
    "# Preenchendo os valores ausentes com fillna e transformando em inteiros\n",
    "categoria_ano = group.pivot_table(index='job_category', columns='work_year').fillna(0).astype(int)\n",
    "\n",
    "# Acrescentando Totais Gerais na tabela e ordenando os dados\n",
    "categoria_ano['Total'] = categoria_ano.sum(axis=1)\n",
    "categoria_ano = categoria_ano.sort_values(by='Total', ascending=False)"
   ]
  },
  {
   "cell_type": "code",
   "execution_count": 21,
   "metadata": {},
   "outputs": [
    {
     "data": {
      "text/html": [
       "<style type=\"text/css\">\n",
       "#T_86e0f_row0_col0, #T_86e0f_row0_col1, #T_86e0f_row0_col2, #T_86e0f_row0_col3, #T_86e0f_row0_col4, #T_86e0f_row1_col0, #T_86e0f_row1_col1, #T_86e0f_row1_col2, #T_86e0f_row1_col3, #T_86e0f_row1_col4, #T_86e0f_row2_col0, #T_86e0f_row2_col1, #T_86e0f_row2_col2, #T_86e0f_row2_col3, #T_86e0f_row2_col4, #T_86e0f_row3_col0, #T_86e0f_row3_col1, #T_86e0f_row3_col2, #T_86e0f_row3_col3, #T_86e0f_row3_col4, #T_86e0f_row4_col0, #T_86e0f_row4_col1, #T_86e0f_row4_col2, #T_86e0f_row4_col3, #T_86e0f_row4_col4, #T_86e0f_row5_col0, #T_86e0f_row5_col1, #T_86e0f_row5_col2, #T_86e0f_row5_col3, #T_86e0f_row5_col4, #T_86e0f_row6_col0, #T_86e0f_row6_col1, #T_86e0f_row6_col2, #T_86e0f_row6_col3, #T_86e0f_row6_col4, #T_86e0f_row7_col0, #T_86e0f_row7_col1, #T_86e0f_row7_col2, #T_86e0f_row7_col3, #T_86e0f_row7_col4, #T_86e0f_row8_col0, #T_86e0f_row8_col1, #T_86e0f_row8_col2, #T_86e0f_row8_col3, #T_86e0f_row8_col4, #T_86e0f_row9_col0, #T_86e0f_row9_col1, #T_86e0f_row9_col2, #T_86e0f_row9_col3, #T_86e0f_row9_col4 {\n",
       "  text-align: center;\n",
       "}\n",
       "</style>\n",
       "<table id=\"T_86e0f\">\n",
       "  <thead>\n",
       "    <tr>\n",
       "      <th class=\"blank level0\" >&nbsp;</th>\n",
       "      <th id=\"T_86e0f_level0_col0\" class=\"col_heading level0 col0\" colspan=\"4\">Quantidade</th>\n",
       "      <th id=\"T_86e0f_level0_col4\" class=\"col_heading level0 col4\" >Total</th>\n",
       "    </tr>\n",
       "    <tr>\n",
       "      <th class=\"index_name level1\" >work_year</th>\n",
       "      <th id=\"T_86e0f_level1_col0\" class=\"col_heading level1 col0\" >2020</th>\n",
       "      <th id=\"T_86e0f_level1_col1\" class=\"col_heading level1 col1\" >2021</th>\n",
       "      <th id=\"T_86e0f_level1_col2\" class=\"col_heading level1 col2\" >2022</th>\n",
       "      <th id=\"T_86e0f_level1_col3\" class=\"col_heading level1 col3\" >2023</th>\n",
       "      <th id=\"T_86e0f_level1_col4\" class=\"col_heading level1 col4\" ></th>\n",
       "    </tr>\n",
       "    <tr>\n",
       "      <th class=\"index_name level0\" >job_category</th>\n",
       "      <th class=\"blank col0\" >&nbsp;</th>\n",
       "      <th class=\"blank col1\" >&nbsp;</th>\n",
       "      <th class=\"blank col2\" >&nbsp;</th>\n",
       "      <th class=\"blank col3\" >&nbsp;</th>\n",
       "      <th class=\"blank col4\" >&nbsp;</th>\n",
       "    </tr>\n",
       "  </thead>\n",
       "  <tbody>\n",
       "    <tr>\n",
       "      <th id=\"T_86e0f_level0_row0\" class=\"row_heading level0 row0\" >Data Science and Research</th>\n",
       "      <td id=\"T_86e0f_row0_col0\" class=\"data row0 col0\" >29</td>\n",
       "      <td id=\"T_86e0f_row0_col1\" class=\"data row0 col1\" >71</td>\n",
       "      <td id=\"T_86e0f_row0_col2\" class=\"data row0 col2\" >338</td>\n",
       "      <td id=\"T_86e0f_row0_col3\" class=\"data row0 col3\" >1217</td>\n",
       "      <td id=\"T_86e0f_row0_col4\" class=\"data row0 col4\" >1655</td>\n",
       "    </tr>\n",
       "    <tr>\n",
       "      <th id=\"T_86e0f_level0_row1\" class=\"row_heading level0 row1\" >Data Engineering</th>\n",
       "      <td id=\"T_86e0f_row1_col0\" class=\"data row1 col0\" >17</td>\n",
       "      <td id=\"T_86e0f_row1_col1\" class=\"data row1 col1\" >44</td>\n",
       "      <td id=\"T_86e0f_row1_col2\" class=\"data row1 col2\" >286</td>\n",
       "      <td id=\"T_86e0f_row1_col3\" class=\"data row1 col3\" >813</td>\n",
       "      <td id=\"T_86e0f_row1_col4\" class=\"data row1 col4\" >1160</td>\n",
       "    </tr>\n",
       "    <tr>\n",
       "      <th id=\"T_86e0f_level0_row2\" class=\"row_heading level0 row2\" >Machine Learning and AI</th>\n",
       "      <td id=\"T_86e0f_row2_col0\" class=\"data row2 col0\" >10</td>\n",
       "      <td id=\"T_86e0f_row2_col1\" class=\"data row2 col1\" >37</td>\n",
       "      <td id=\"T_86e0f_row2_col2\" class=\"data row2 col2\" >157</td>\n",
       "      <td id=\"T_86e0f_row2_col3\" class=\"data row2 col3\" >713</td>\n",
       "      <td id=\"T_86e0f_row2_col4\" class=\"data row2 col4\" >917</td>\n",
       "    </tr>\n",
       "    <tr>\n",
       "      <th id=\"T_86e0f_level0_row3\" class=\"row_heading level0 row3\" >Data Analysis</th>\n",
       "      <td id=\"T_86e0f_row3_col0\" class=\"data row3 col0\" >15</td>\n",
       "      <td id=\"T_86e0f_row3_col1\" class=\"data row3 col1\" >28</td>\n",
       "      <td id=\"T_86e0f_row3_col2\" class=\"data row3 col2\" >185</td>\n",
       "      <td id=\"T_86e0f_row3_col3\" class=\"data row3 col3\" >581</td>\n",
       "      <td id=\"T_86e0f_row3_col4\" class=\"data row3 col4\" >809</td>\n",
       "    </tr>\n",
       "    <tr>\n",
       "      <th id=\"T_86e0f_level0_row4\" class=\"row_heading level0 row4\" >Leadership and Management</th>\n",
       "      <td id=\"T_86e0f_row4_col0\" class=\"data row4 col0\" >0</td>\n",
       "      <td id=\"T_86e0f_row4_col1\" class=\"data row4 col1\" >9</td>\n",
       "      <td id=\"T_86e0f_row4_col2\" class=\"data row4 col2\" >71</td>\n",
       "      <td id=\"T_86e0f_row4_col3\" class=\"data row4 col3\" >271</td>\n",
       "      <td id=\"T_86e0f_row4_col4\" class=\"data row4 col4\" >351</td>\n",
       "    </tr>\n",
       "    <tr>\n",
       "      <th id=\"T_86e0f_level0_row5\" class=\"row_heading level0 row5\" >BI and Visualization</th>\n",
       "      <td id=\"T_86e0f_row5_col0\" class=\"data row5 col0\" >0</td>\n",
       "      <td id=\"T_86e0f_row5_col1\" class=\"data row5 col1\" >0</td>\n",
       "      <td id=\"T_86e0f_row5_col2\" class=\"data row5 col2\" >8</td>\n",
       "      <td id=\"T_86e0f_row5_col3\" class=\"data row5 col3\" >180</td>\n",
       "      <td id=\"T_86e0f_row5_col4\" class=\"data row5 col4\" >188</td>\n",
       "    </tr>\n",
       "    <tr>\n",
       "      <th id=\"T_86e0f_level0_row6\" class=\"row_heading level0 row6\" >Data Architecture and Modeling</th>\n",
       "      <td id=\"T_86e0f_row6_col0\" class=\"data row6 col0\" >0</td>\n",
       "      <td id=\"T_86e0f_row6_col1\" class=\"data row6 col1\" >5</td>\n",
       "      <td id=\"T_86e0f_row6_col2\" class=\"data row6 col2\" >30</td>\n",
       "      <td id=\"T_86e0f_row6_col3\" class=\"data row6 col3\" >127</td>\n",
       "      <td id=\"T_86e0f_row6_col4\" class=\"data row6 col4\" >162</td>\n",
       "    </tr>\n",
       "    <tr>\n",
       "      <th id=\"T_86e0f_level0_row7\" class=\"row_heading level0 row7\" >Data Management and Strategy</th>\n",
       "      <td id=\"T_86e0f_row7_col0\" class=\"data row7 col0\" >0</td>\n",
       "      <td id=\"T_86e0f_row7_col1\" class=\"data row7 col1\" >1</td>\n",
       "      <td id=\"T_86e0f_row7_col2\" class=\"data row7 col2\" >10</td>\n",
       "      <td id=\"T_86e0f_row7_col3\" class=\"data row7 col3\" >38</td>\n",
       "      <td id=\"T_86e0f_row7_col4\" class=\"data row7 col4\" >49</td>\n",
       "    </tr>\n",
       "    <tr>\n",
       "      <th id=\"T_86e0f_level0_row8\" class=\"row_heading level0 row8\" >Data Quality and Operations</th>\n",
       "      <td id=\"T_86e0f_row8_col0\" class=\"data row8 col0\" >0</td>\n",
       "      <td id=\"T_86e0f_row8_col1\" class=\"data row8 col1\" >0</td>\n",
       "      <td id=\"T_86e0f_row8_col2\" class=\"data row8 col2\" >8</td>\n",
       "      <td id=\"T_86e0f_row8_col3\" class=\"data row8 col3\" >37</td>\n",
       "      <td id=\"T_86e0f_row8_col4\" class=\"data row8 col4\" >45</td>\n",
       "    </tr>\n",
       "    <tr>\n",
       "      <th id=\"T_86e0f_level0_row9\" class=\"row_heading level0 row9\" >Cloud and Database</th>\n",
       "      <td id=\"T_86e0f_row9_col0\" class=\"data row9 col0\" >0</td>\n",
       "      <td id=\"T_86e0f_row9_col1\" class=\"data row9 col1\" >0</td>\n",
       "      <td id=\"T_86e0f_row9_col2\" class=\"data row9 col2\" >2</td>\n",
       "      <td id=\"T_86e0f_row9_col3\" class=\"data row9 col3\" >3</td>\n",
       "      <td id=\"T_86e0f_row9_col4\" class=\"data row9 col4\" >5</td>\n",
       "    </tr>\n",
       "  </tbody>\n",
       "</table>\n"
      ],
      "text/plain": [
       "<pandas.io.formats.style.Styler at 0x7b369e2ffdc0>"
      ]
     },
     "execution_count": 21,
     "metadata": {},
     "output_type": "execute_result"
    }
   ],
   "source": [
    "# Formatando e centralizando a tabela dinâmica\n",
    "categoria_ano.style.set_properties(**{'text-align': 'center'})"
   ]
  },
  {
   "cell_type": "code",
   "execution_count": 22,
   "metadata": {},
   "outputs": [],
   "source": [
    "# Removendo a coluna de Total para plotar o gráfico\n",
    "categoria_ano = categoria_ano.drop('Total', axis=1)"
   ]
  },
  {
   "cell_type": "code",
   "execution_count": 23,
   "metadata": {},
   "outputs": [
    {
     "data": {
      "image/png": "[encoded data removed]",
      "text/plain": [
       "<Figure size 640x480 with 1 Axes>"
      ]
     },
     "metadata": {},
     "output_type": "display_data"
    }
   ],
   "source": [
    "# Definindo as cores a serem usadas\n",
    "cores = ['lightgray', 'silver', 'darkgray', 'dimgray']\n",
    "\n",
    "# Plotando um gráfico de barras empilhadas\n",
    "categoria_ano.plot.barh(stacked=True, color=cores)\n",
    "plt.title('Distribuição por categoria de atuação e ano')\n",
    "plt.show()"
   ]
  },
  {
   "cell_type": "markdown",
   "metadata": {},
   "source": [
    "#### 5 - Distribuição das vagas por categoria e nível de experiência"
   ]
  },
  {
   "cell_type": "code",
   "execution_count": 24,
   "metadata": {},
   "outputs": [],
   "source": [
    "# Resumindo os dados pela categoria, nível de experiência e contando o número de ocorrências\n",
    "group2 = df.groupby(['job_category', 'experience_level']).size().reset_index(name='quantidade')"
   ]
  },
  {
   "cell_type": "code",
   "execution_count": 25,
   "metadata": {},
   "outputs": [
    {
     "data": {
      "text/html": [
       "<div>\n",
       "<style scoped>\n",
       "    .dataframe tbody tr th:only-of-type {\n",
       "        vertical-align: middle;\n",
       "    }\n",
       "\n",
       "    .dataframe tbody tr th {\n",
       "        vertical-align: top;\n",
       "    }\n",
       "\n",
       "    .dataframe thead th {\n",
       "        text-align: right;\n",
       "    }\n",
       "</style>\n",
       "<table border=\"1\" class=\"dataframe\">\n",
       "  <thead>\n",
       "    <tr style=\"text-align: right;\">\n",
       "      <th></th>\n",
       "      <th>job_category</th>\n",
       "      <th>experience_level</th>\n",
       "      <th>quantidade</th>\n",
       "    </tr>\n",
       "  </thead>\n",
       "  <tbody>\n",
       "    <tr>\n",
       "      <th>38</th>\n",
       "      <td>Machine Learning and AI</td>\n",
       "      <td>Mid-level</td>\n",
       "      <td>201</td>\n",
       "    </tr>\n",
       "    <tr>\n",
       "      <th>39</th>\n",
       "      <td>Machine Learning and AI</td>\n",
       "      <td>Senior</td>\n",
       "      <td>639</td>\n",
       "    </tr>\n",
       "  </tbody>\n",
       "</table>\n",
       "</div>"
      ],
      "text/plain": [
       "               job_category experience_level  quantidade\n",
       "38  Machine Learning and AI        Mid-level         201\n",
       "39  Machine Learning and AI           Senior         639"
      ]
     },
     "execution_count": 25,
     "metadata": {},
     "output_type": "execute_result"
    }
   ],
   "source": [
    "group2.tail(2)"
   ]
  },
  {
   "cell_type": "code",
   "execution_count": 26,
   "metadata": {},
   "outputs": [],
   "source": [
    "# Transformando os dados com pivot_table\n",
    "categoria_exp = group2.pivot_table(index='job_category', columns='experience_level')\n",
    "\n",
    "# Somando os totais das linhas para transformar em percentual\n",
    "soma_linhas = categoria_exp.sum(axis=1)\n",
    "categoria_exp = (categoria_exp.div(soma_linhas, axis=0) * 100)"
   ]
  },
  {
   "cell_type": "code",
   "execution_count": 27,
   "metadata": {},
   "outputs": [
    {
     "data": {
      "text/html": [
       "<style type=\"text/css\">\n",
       "#T_05a8e_row0_col0, #T_05a8e_row0_col1, #T_05a8e_row0_col2, #T_05a8e_row0_col3, #T_05a8e_row1_col0, #T_05a8e_row1_col1, #T_05a8e_row1_col2, #T_05a8e_row1_col3, #T_05a8e_row2_col0, #T_05a8e_row2_col1, #T_05a8e_row2_col2, #T_05a8e_row2_col3, #T_05a8e_row3_col0, #T_05a8e_row3_col1, #T_05a8e_row3_col2, #T_05a8e_row3_col3, #T_05a8e_row4_col0, #T_05a8e_row4_col1, #T_05a8e_row4_col2, #T_05a8e_row4_col3, #T_05a8e_row5_col0, #T_05a8e_row5_col1, #T_05a8e_row5_col2, #T_05a8e_row5_col3, #T_05a8e_row6_col0, #T_05a8e_row6_col1, #T_05a8e_row6_col2, #T_05a8e_row6_col3, #T_05a8e_row7_col0, #T_05a8e_row7_col1, #T_05a8e_row7_col2, #T_05a8e_row7_col3, #T_05a8e_row8_col0, #T_05a8e_row8_col1, #T_05a8e_row8_col2, #T_05a8e_row8_col3, #T_05a8e_row9_col0, #T_05a8e_row9_col1, #T_05a8e_row9_col2, #T_05a8e_row9_col3 {\n",
       "  text-align: center;\n",
       "}\n",
       "</style>\n",
       "<table id=\"T_05a8e\">\n",
       "  <thead>\n",
       "    <tr>\n",
       "      <th class=\"blank level0\" >&nbsp;</th>\n",
       "      <th id=\"T_05a8e_level0_col0\" class=\"col_heading level0 col0\" colspan=\"4\">quantidade</th>\n",
       "    </tr>\n",
       "    <tr>\n",
       "      <th class=\"index_name level1\" >experience_level</th>\n",
       "      <th id=\"T_05a8e_level1_col0\" class=\"col_heading level1 col0\" >Entry-level</th>\n",
       "      <th id=\"T_05a8e_level1_col1\" class=\"col_heading level1 col1\" >Executive</th>\n",
       "      <th id=\"T_05a8e_level1_col2\" class=\"col_heading level1 col2\" >Mid-level</th>\n",
       "      <th id=\"T_05a8e_level1_col3\" class=\"col_heading level1 col3\" >Senior</th>\n",
       "    </tr>\n",
       "    <tr>\n",
       "      <th class=\"index_name level0\" >job_category</th>\n",
       "      <th class=\"blank col0\" >&nbsp;</th>\n",
       "      <th class=\"blank col1\" >&nbsp;</th>\n",
       "      <th class=\"blank col2\" >&nbsp;</th>\n",
       "      <th class=\"blank col3\" >&nbsp;</th>\n",
       "    </tr>\n",
       "  </thead>\n",
       "  <tbody>\n",
       "    <tr>\n",
       "      <th id=\"T_05a8e_level0_row0\" class=\"row_heading level0 row0\" >BI and Visualization</th>\n",
       "      <td id=\"T_05a8e_row0_col0\" class=\"data row0 col0\" >3.723404</td>\n",
       "      <td id=\"T_05a8e_row0_col1\" class=\"data row0 col1\" >2.127660</td>\n",
       "      <td id=\"T_05a8e_row0_col2\" class=\"data row0 col2\" >23.936170</td>\n",
       "      <td id=\"T_05a8e_row0_col3\" class=\"data row0 col3\" >70.212766</td>\n",
       "    </tr>\n",
       "    <tr>\n",
       "      <th id=\"T_05a8e_level0_row1\" class=\"row_heading level0 row1\" >Cloud and Database</th>\n",
       "      <td id=\"T_05a8e_row1_col0\" class=\"data row1 col0\" >0.000000</td>\n",
       "      <td id=\"T_05a8e_row1_col1\" class=\"data row1 col1\" >0.000000</td>\n",
       "      <td id=\"T_05a8e_row1_col2\" class=\"data row1 col2\" >0.000000</td>\n",
       "      <td id=\"T_05a8e_row1_col3\" class=\"data row1 col3\" >100.000000</td>\n",
       "    </tr>\n",
       "    <tr>\n",
       "      <th id=\"T_05a8e_level0_row2\" class=\"row_heading level0 row2\" >Data Analysis</th>\n",
       "      <td id=\"T_05a8e_row2_col0\" class=\"data row2 col0\" >13.720643</td>\n",
       "      <td id=\"T_05a8e_row2_col1\" class=\"data row2 col1\" >1.977750</td>\n",
       "      <td id=\"T_05a8e_row2_col2\" class=\"data row2 col2\" >29.789864</td>\n",
       "      <td id=\"T_05a8e_row2_col3\" class=\"data row2 col3\" >54.511743</td>\n",
       "    </tr>\n",
       "    <tr>\n",
       "      <th id=\"T_05a8e_level0_row3\" class=\"row_heading level0 row3\" >Data Architecture and Modeling</th>\n",
       "      <td id=\"T_05a8e_row3_col0\" class=\"data row3 col0\" >0.000000</td>\n",
       "      <td id=\"T_05a8e_row3_col1\" class=\"data row3 col1\" >1.234568</td>\n",
       "      <td id=\"T_05a8e_row3_col2\" class=\"data row3 col2\" >16.666667</td>\n",
       "      <td id=\"T_05a8e_row3_col3\" class=\"data row3 col3\" >82.098765</td>\n",
       "    </tr>\n",
       "    <tr>\n",
       "      <th id=\"T_05a8e_level0_row4\" class=\"row_heading level0 row4\" >Data Engineering</th>\n",
       "      <td id=\"T_05a8e_row4_col0\" class=\"data row4 col0\" >4.741379</td>\n",
       "      <td id=\"T_05a8e_row4_col1\" class=\"data row4 col1\" >6.465517</td>\n",
       "      <td id=\"T_05a8e_row4_col2\" class=\"data row4 col2\" >25.517241</td>\n",
       "      <td id=\"T_05a8e_row4_col3\" class=\"data row4 col3\" >63.275862</td>\n",
       "    </tr>\n",
       "    <tr>\n",
       "      <th id=\"T_05a8e_level0_row5\" class=\"row_heading level0 row5\" >Data Management and Strategy</th>\n",
       "      <td id=\"T_05a8e_row5_col0\" class=\"data row5 col0\" >20.408163</td>\n",
       "      <td id=\"T_05a8e_row5_col1\" class=\"data row5 col1\" >0.000000</td>\n",
       "      <td id=\"T_05a8e_row5_col2\" class=\"data row5 col2\" >26.530612</td>\n",
       "      <td id=\"T_05a8e_row5_col3\" class=\"data row5 col3\" >53.061224</td>\n",
       "    </tr>\n",
       "    <tr>\n",
       "      <th id=\"T_05a8e_level0_row6\" class=\"row_heading level0 row6\" >Data Quality and Operations</th>\n",
       "      <td id=\"T_05a8e_row6_col0\" class=\"data row6 col0\" >6.666667</td>\n",
       "      <td id=\"T_05a8e_row6_col1\" class=\"data row6 col1\" >0.000000</td>\n",
       "      <td id=\"T_05a8e_row6_col2\" class=\"data row6 col2\" >22.222222</td>\n",
       "      <td id=\"T_05a8e_row6_col3\" class=\"data row6 col3\" >71.111111</td>\n",
       "    </tr>\n",
       "    <tr>\n",
       "      <th id=\"T_05a8e_level0_row7\" class=\"row_heading level0 row7\" >Data Science and Research</th>\n",
       "      <td id=\"T_05a8e_row7_col0\" class=\"data row7 col0\" >8.459215</td>\n",
       "      <td id=\"T_05a8e_row7_col1\" class=\"data row7 col1\" >4.048338</td>\n",
       "      <td id=\"T_05a8e_row7_col2\" class=\"data row7 col2\" >22.296073</td>\n",
       "      <td id=\"T_05a8e_row7_col3\" class=\"data row7 col3\" >65.196375</td>\n",
       "    </tr>\n",
       "    <tr>\n",
       "      <th id=\"T_05a8e_level0_row8\" class=\"row_heading level0 row8\" >Leadership and Management</th>\n",
       "      <td id=\"T_05a8e_row8_col0\" class=\"data row8 col0\" >2.849003</td>\n",
       "      <td id=\"T_05a8e_row8_col1\" class=\"data row8 col1\" >13.105413</td>\n",
       "      <td id=\"T_05a8e_row8_col2\" class=\"data row8 col2\" >20.512821</td>\n",
       "      <td id=\"T_05a8e_row8_col3\" class=\"data row8 col3\" >63.532764</td>\n",
       "    </tr>\n",
       "    <tr>\n",
       "      <th id=\"T_05a8e_level0_row9\" class=\"row_heading level0 row9\" >Machine Learning and AI</th>\n",
       "      <td id=\"T_05a8e_row9_col0\" class=\"data row9 col0\" >6.979280</td>\n",
       "      <td id=\"T_05a8e_row9_col1\" class=\"data row9 col1\" >1.417666</td>\n",
       "      <td id=\"T_05a8e_row9_col2\" class=\"data row9 col2\" >21.919302</td>\n",
       "      <td id=\"T_05a8e_row9_col3\" class=\"data row9 col3\" >69.683751</td>\n",
       "    </tr>\n",
       "  </tbody>\n",
       "</table>\n"
      ],
      "text/plain": [
       "<pandas.io.formats.style.Styler at 0x7b369dc43fa0>"
      ]
     },
     "execution_count": 27,
     "metadata": {},
     "output_type": "execute_result"
    }
   ],
   "source": [
    "# Formatando e centralizando a tabela dinâmica\n",
    "categoria_exp.style.set_properties(**{'text-align': 'center'})"
   ]
  },
  {
   "cell_type": "code",
   "execution_count": 28,
   "metadata": {},
   "outputs": [
    {
     "data": {
      "image/png": "[encoded data removed]",
      "text/plain": [
       "<Figure size 640x480 with 1 Axes>"
      ]
     },
     "metadata": {},
     "output_type": "display_data"
    }
   ],
   "source": [
    "categoria_exp.plot.barh(stacked=True, color=cores)\n",
    "plt.title('Distribuição percentual do nível de experiência por categoria')\n",
    "plt.legend(loc='upper center', bbox_to_anchor=(0.5, -0.1), fancybox=True, shadow=True, ncol=2)\n",
    "plt.show()"
   ]
  },
  {
   "cell_type": "markdown",
   "metadata": {},
   "source": [
    "#### 6 - Média salarial anual por categoria / título / nível de experiência\n",
    "- Quantidade de vagas e média salarial anual por categoria de trabalho em Data Science"
   ]
  },
  {
   "cell_type": "code",
   "execution_count": 29,
   "metadata": {},
   "outputs": [],
   "source": [
    "# Agrupando os dados por categoria e realizando cálculos com agg\n",
    "media_categoria = df.groupby(['job_category']).agg({'job_category': 'size', 'salary_in_usd': 'mean'})\n",
    "\n",
    "# Renomando as colunas da tabela\n",
    "media_categoria = media_categoria.rename(columns={'job_category': 'Quantidade', 'salary_in_usd': 'Média Anual'})\n",
    "\n",
    "# Ordenando os dados pela médial salarial anual\n",
    "media_categoria = media_categoria.sort_values(by='Média Anual', ascending=False)"
   ]
  },
  {
   "cell_type": "code",
   "execution_count": 30,
   "metadata": {},
   "outputs": [
    {
     "data": {
      "text/html": [
       "<style type=\"text/css\">\n",
       "#T_3c1e1_row0_col0, #T_3c1e1_row0_col1, #T_3c1e1_row1_col0, #T_3c1e1_row1_col1, #T_3c1e1_row2_col0, #T_3c1e1_row2_col1, #T_3c1e1_row3_col0, #T_3c1e1_row3_col1, #T_3c1e1_row4_col0, #T_3c1e1_row4_col1, #T_3c1e1_row5_col0, #T_3c1e1_row5_col1, #T_3c1e1_row6_col0, #T_3c1e1_row6_col1, #T_3c1e1_row7_col0, #T_3c1e1_row7_col1, #T_3c1e1_row8_col0, #T_3c1e1_row8_col1, #T_3c1e1_row9_col0, #T_3c1e1_row9_col1 {\n",
       "  text-align: center;\n",
       "}\n",
       "</style>\n",
       "<table id=\"T_3c1e1\">\n",
       "  <thead>\n",
       "    <tr>\n",
       "      <th class=\"blank level0\" >&nbsp;</th>\n",
       "      <th id=\"T_3c1e1_level0_col0\" class=\"col_heading level0 col0\" >Quantidade</th>\n",
       "      <th id=\"T_3c1e1_level0_col1\" class=\"col_heading level0 col1\" >Média Anual</th>\n",
       "    </tr>\n",
       "    <tr>\n",
       "      <th class=\"index_name level0\" >job_category</th>\n",
       "      <th class=\"blank col0\" >&nbsp;</th>\n",
       "      <th class=\"blank col1\" >&nbsp;</th>\n",
       "    </tr>\n",
       "  </thead>\n",
       "  <tbody>\n",
       "    <tr>\n",
       "      <th id=\"T_3c1e1_level0_row0\" class=\"row_heading level0 row0\" >Machine Learning and AI</th>\n",
       "      <td id=\"T_3c1e1_row0_col0\" class=\"data row0 col0\" >917</td>\n",
       "      <td id=\"T_3c1e1_row0_col1\" class=\"data row0 col1\" >170453.221374</td>\n",
       "    </tr>\n",
       "    <tr>\n",
       "      <th id=\"T_3c1e1_level0_row1\" class=\"row_heading level0 row1\" >Data Science and Research</th>\n",
       "      <td id=\"T_3c1e1_row1_col0\" class=\"data row1 col0\" >1655</td>\n",
       "      <td id=\"T_3c1e1_row1_col1\" class=\"data row1 col1\" >157131.039879</td>\n",
       "    </tr>\n",
       "    <tr>\n",
       "      <th id=\"T_3c1e1_level0_row2\" class=\"row_heading level0 row2\" >Data Architecture and Modeling</th>\n",
       "      <td id=\"T_3c1e1_row2_col0\" class=\"data row2 col0\" >162</td>\n",
       "      <td id=\"T_3c1e1_row2_col1\" class=\"data row2 col1\" >157054.006173</td>\n",
       "    </tr>\n",
       "    <tr>\n",
       "      <th id=\"T_3c1e1_level0_row3\" class=\"row_heading level0 row3\" >Cloud and Database</th>\n",
       "      <td id=\"T_3c1e1_row3_col0\" class=\"data row3 col0\" >5</td>\n",
       "      <td id=\"T_3c1e1_row3_col1\" class=\"data row3 col1\" >155000.000000</td>\n",
       "    </tr>\n",
       "    <tr>\n",
       "      <th id=\"T_3c1e1_level0_row4\" class=\"row_heading level0 row4\" >Leadership and Management</th>\n",
       "      <td id=\"T_3c1e1_row4_col0\" class=\"data row4 col0\" >351</td>\n",
       "      <td id=\"T_3c1e1_row4_col1\" class=\"data row4 col1\" >149020.108262</td>\n",
       "    </tr>\n",
       "    <tr>\n",
       "      <th id=\"T_3c1e1_level0_row5\" class=\"row_heading level0 row5\" >Data Engineering</th>\n",
       "      <td id=\"T_3c1e1_row5_col0\" class=\"data row5 col0\" >1160</td>\n",
       "      <td id=\"T_3c1e1_row5_col1\" class=\"data row5 col1\" >142967.543103</td>\n",
       "    </tr>\n",
       "    <tr>\n",
       "      <th id=\"T_3c1e1_level0_row6\" class=\"row_heading level0 row6\" >BI and Visualization</th>\n",
       "      <td id=\"T_3c1e1_row6_col0\" class=\"data row6 col0\" >188</td>\n",
       "      <td id=\"T_3c1e1_row6_col1\" class=\"data row6 col1\" >128377.734043</td>\n",
       "    </tr>\n",
       "    <tr>\n",
       "      <th id=\"T_3c1e1_level0_row7\" class=\"row_heading level0 row7\" >Data Management and Strategy</th>\n",
       "      <td id=\"T_3c1e1_row7_col0\" class=\"data row7 col0\" >49</td>\n",
       "      <td id=\"T_3c1e1_row7_col1\" class=\"data row7 col1\" >107655.836735</td>\n",
       "    </tr>\n",
       "    <tr>\n",
       "      <th id=\"T_3c1e1_level0_row8\" class=\"row_heading level0 row8\" >Data Analysis</th>\n",
       "      <td id=\"T_3c1e1_row8_col0\" class=\"data row8 col0\" >809</td>\n",
       "      <td id=\"T_3c1e1_row8_col1\" class=\"data row8 col1\" >106707.058096</td>\n",
       "    </tr>\n",
       "    <tr>\n",
       "      <th id=\"T_3c1e1_level0_row9\" class=\"row_heading level0 row9\" >Data Quality and Operations</th>\n",
       "      <td id=\"T_3c1e1_row9_col0\" class=\"data row9 col0\" >45</td>\n",
       "      <td id=\"T_3c1e1_row9_col1\" class=\"data row9 col1\" >104586.022222</td>\n",
       "    </tr>\n",
       "  </tbody>\n",
       "</table>\n"
      ],
      "text/plain": [
       "<pandas.io.formats.style.Styler at 0x7b369dd196c0>"
      ]
     },
     "execution_count": 30,
     "metadata": {},
     "output_type": "execute_result"
    }
   ],
   "source": [
    "# Centralizando e formatando a tabela\n",
    "media_categoria.style.set_properties(**{'text-align': 'center'})"
   ]
  },
  {
   "cell_type": "code",
   "execution_count": 31,
   "metadata": {},
   "outputs": [],
   "source": [
    "# Agrupando os dados por titulo e realizando cálculos com agg\n",
    "media_titulo = df.groupby(['job_title']).agg({'job_title': 'size', 'salary_in_usd': 'mean'})\n",
    "\n",
    "# Renomando as colunas da tabela\n",
    "media_titulo = media_titulo.rename(columns={'job_title': 'Quantidade', 'salary_in_usd': 'Média Anual'})\n",
    "\n",
    "# Ordenando os dados pela médial salarial anual\n",
    "media_titulo = media_titulo.sort_values(by='Média Anual', ascending=False)"
   ]
  },
  {
   "cell_type": "code",
   "execution_count": 32,
   "metadata": {},
   "outputs": [],
   "source": [
    "media_titulo = media_titulo[:10] # Definindo somente os 10 primeiros"
   ]
  },
  {
   "cell_type": "markdown",
   "metadata": {},
   "source": [
    "- Top 10 vagas com a maior média salarial anual"
   ]
  },
  {
   "cell_type": "code",
   "execution_count": 33,
   "metadata": {},
   "outputs": [
    {
     "data": {
      "text/html": [
       "<style type=\"text/css\">\n",
       "#T_ba983_row0_col0, #T_ba983_row0_col1, #T_ba983_row1_col0, #T_ba983_row1_col1, #T_ba983_row2_col0, #T_ba983_row2_col1, #T_ba983_row3_col0, #T_ba983_row3_col1, #T_ba983_row4_col0, #T_ba983_row4_col1, #T_ba983_row5_col0, #T_ba983_row5_col1, #T_ba983_row6_col0, #T_ba983_row6_col1, #T_ba983_row7_col0, #T_ba983_row7_col1, #T_ba983_row8_col0, #T_ba983_row8_col1, #T_ba983_row9_col0, #T_ba983_row9_col1 {\n",
       "  text-align: center;\n",
       "}\n",
       "</style>\n",
       "<table id=\"T_ba983\">\n",
       "  <thead>\n",
       "    <tr>\n",
       "      <th class=\"blank level0\" >&nbsp;</th>\n",
       "      <th id=\"T_ba983_level0_col0\" class=\"col_heading level0 col0\" >Quantidade</th>\n",
       "      <th id=\"T_ba983_level0_col1\" class=\"col_heading level0 col1\" >Média Anual</th>\n",
       "    </tr>\n",
       "    <tr>\n",
       "      <th class=\"index_name level0\" >job_title</th>\n",
       "      <th class=\"blank col0\" >&nbsp;</th>\n",
       "      <th class=\"blank col1\" >&nbsp;</th>\n",
       "    </tr>\n",
       "  </thead>\n",
       "  <tbody>\n",
       "    <tr>\n",
       "      <th id=\"T_ba983_level0_row0\" class=\"row_heading level0 row0\" >Analytics Engineering Manager</th>\n",
       "      <td id=\"T_ba983_row0_col0\" class=\"data row0 col0\" >1</td>\n",
       "      <td id=\"T_ba983_row0_col1\" class=\"data row0 col1\" >399880.000000</td>\n",
       "    </tr>\n",
       "    <tr>\n",
       "      <th id=\"T_ba983_level0_row1\" class=\"row_heading level0 row1\" >Data Science Tech Lead</th>\n",
       "      <td id=\"T_ba983_row1_col0\" class=\"data row1 col0\" >1</td>\n",
       "      <td id=\"T_ba983_row1_col1\" class=\"data row1 col1\" >375000.000000</td>\n",
       "    </tr>\n",
       "    <tr>\n",
       "      <th id=\"T_ba983_level0_row2\" class=\"row_heading level0 row2\" >Managing Director Data Science</th>\n",
       "      <td id=\"T_ba983_row2_col0\" class=\"data row2 col0\" >1</td>\n",
       "      <td id=\"T_ba983_row2_col1\" class=\"data row2 col1\" >300000.000000</td>\n",
       "    </tr>\n",
       "    <tr>\n",
       "      <th id=\"T_ba983_level0_row3\" class=\"row_heading level0 row3\" >Head of Machine Learning</th>\n",
       "      <td id=\"T_ba983_row3_col0\" class=\"data row3 col0\" >2</td>\n",
       "      <td id=\"T_ba983_row3_col1\" class=\"data row3 col1\" >259000.000000</td>\n",
       "    </tr>\n",
       "    <tr>\n",
       "      <th id=\"T_ba983_level0_row4\" class=\"row_heading level0 row4\" >AWS Data Architect</th>\n",
       "      <td id=\"T_ba983_row4_col0\" class=\"data row4 col0\" >1</td>\n",
       "      <td id=\"T_ba983_row4_col1\" class=\"data row4 col1\" >258000.000000</td>\n",
       "    </tr>\n",
       "    <tr>\n",
       "      <th id=\"T_ba983_level0_row5\" class=\"row_heading level0 row5\" >Cloud Data Architect</th>\n",
       "      <td id=\"T_ba983_row5_col0\" class=\"data row5 col0\" >1</td>\n",
       "      <td id=\"T_ba983_row5_col1\" class=\"data row5 col1\" >250000.000000</td>\n",
       "    </tr>\n",
       "    <tr>\n",
       "      <th id=\"T_ba983_level0_row6\" class=\"row_heading level0 row6\" >AI Architect</th>\n",
       "      <td id=\"T_ba983_row6_col0\" class=\"data row6 col0\" >6</td>\n",
       "      <td id=\"T_ba983_row6_col1\" class=\"data row6 col1\" >233656.000000</td>\n",
       "    </tr>\n",
       "    <tr>\n",
       "      <th id=\"T_ba983_level0_row7\" class=\"row_heading level0 row7\" >Director of Data Science</th>\n",
       "      <td id=\"T_ba983_row7_col0\" class=\"data row7 col0\" >27</td>\n",
       "      <td id=\"T_ba983_row7_col1\" class=\"data row7 col1\" >215447.629630</td>\n",
       "    </tr>\n",
       "    <tr>\n",
       "      <th id=\"T_ba983_level0_row8\" class=\"row_heading level0 row8\" >Machine Learning Software Engineer</th>\n",
       "      <td id=\"T_ba983_row8_col0\" class=\"data row8 col0\" >13</td>\n",
       "      <td id=\"T_ba983_row8_col1\" class=\"data row8 col1\" >212907.692308</td>\n",
       "    </tr>\n",
       "    <tr>\n",
       "      <th id=\"T_ba983_level0_row9\" class=\"row_heading level0 row9\" >Data Analytics Lead</th>\n",
       "      <td id=\"T_ba983_row9_col0\" class=\"data row9 col0\" >3</td>\n",
       "      <td id=\"T_ba983_row9_col1\" class=\"data row9 col1\" >210874.666667</td>\n",
       "    </tr>\n",
       "  </tbody>\n",
       "</table>\n"
      ],
      "text/plain": [
       "<pandas.io.formats.style.Styler at 0x7b369dc6c760>"
      ]
     },
     "execution_count": 33,
     "metadata": {},
     "output_type": "execute_result"
    }
   ],
   "source": [
    "# Centralizando e formatando a tabela\n",
    "media_titulo.style.set_properties(**{'text-align': 'center'})"
   ]
  },
  {
   "cell_type": "code",
   "execution_count": 34,
   "metadata": {},
   "outputs": [],
   "source": [
    "# Agrupando os dados por nível de experiência e categoria, calculando uma média salarial anual\n",
    "media_exp = df.groupby(['experience_level', 'job_title'])['salary_in_usd'].mean().reset_index()\n",
    "\n",
    "# Selecionando somente valores existentes\n",
    "media_exp = media_exp[media_exp['salary_in_usd'] > 0]\n",
    "media_exp = media_exp.sort_values(by='salary_in_usd', ascending=False)"
   ]
  },
  {
   "cell_type": "code",
   "execution_count": 35,
   "metadata": {},
   "outputs": [
    {
     "data": {
      "text/html": [
       "<div>\n",
       "<style scoped>\n",
       "    .dataframe tbody tr th:only-of-type {\n",
       "        vertical-align: middle;\n",
       "    }\n",
       "\n",
       "    .dataframe tbody tr th {\n",
       "        vertical-align: top;\n",
       "    }\n",
       "\n",
       "    .dataframe thead th {\n",
       "        text-align: right;\n",
       "    }\n",
       "</style>\n",
       "<table border=\"1\" class=\"dataframe\">\n",
       "  <thead>\n",
       "    <tr style=\"text-align: right;\">\n",
       "      <th></th>\n",
       "      <th>experience_level</th>\n",
       "      <th>job_title</th>\n",
       "      <th>salary_in_usd</th>\n",
       "    </tr>\n",
       "  </thead>\n",
       "  <tbody>\n",
       "    <tr>\n",
       "      <th>61</th>\n",
       "      <td>Entry-level</td>\n",
       "      <td>Data Quality Engineer</td>\n",
       "      <td>23753.0</td>\n",
       "    </tr>\n",
       "    <tr>\n",
       "      <th>37</th>\n",
       "      <td>Entry-level</td>\n",
       "      <td>Data Analytics Engineer</td>\n",
       "      <td>20000.0</td>\n",
       "    </tr>\n",
       "    <tr>\n",
       "      <th>247</th>\n",
       "      <td>Executive</td>\n",
       "      <td>Staff Data Analyst</td>\n",
       "      <td>15000.0</td>\n",
       "    </tr>\n",
       "  </tbody>\n",
       "</table>\n",
       "</div>"
      ],
      "text/plain": [
       "    experience_level                job_title  salary_in_usd\n",
       "61       Entry-level    Data Quality Engineer        23753.0\n",
       "37       Entry-level  Data Analytics Engineer        20000.0\n",
       "247        Executive       Staff Data Analyst        15000.0"
      ]
     },
     "execution_count": 35,
     "metadata": {},
     "output_type": "execute_result"
    }
   ],
   "source": [
    "media_exp.tail(3)"
   ]
  },
  {
   "cell_type": "code",
   "execution_count": 36,
   "metadata": {},
   "outputs": [],
   "source": [
    "# Transformando em uma Tabela Dinâmica e substituindo os valores vazios\n",
    "media_exp = media_exp.pivot_table(index='job_title', columns='experience_level').fillna('-')"
   ]
  },
  {
   "cell_type": "code",
   "execution_count": 37,
   "metadata": {},
   "outputs": [
    {
     "data": {
      "text/html": [
       "<div>\n",
       "<style scoped>\n",
       "    .dataframe tbody tr th:only-of-type {\n",
       "        vertical-align: middle;\n",
       "    }\n",
       "\n",
       "    .dataframe tbody tr th {\n",
       "        vertical-align: top;\n",
       "    }\n",
       "\n",
       "    .dataframe thead tr th {\n",
       "        text-align: left;\n",
       "    }\n",
       "\n",
       "    .dataframe thead tr:last-of-type th {\n",
       "        text-align: right;\n",
       "    }\n",
       "</style>\n",
       "<table border=\"1\" class=\"dataframe\">\n",
       "  <thead>\n",
       "    <tr>\n",
       "      <th></th>\n",
       "      <th colspan=\"4\" halign=\"left\">salary_in_usd</th>\n",
       "    </tr>\n",
       "    <tr>\n",
       "      <th>experience_level</th>\n",
       "      <th>Entry-level</th>\n",
       "      <th>Executive</th>\n",
       "      <th>Mid-level</th>\n",
       "      <th>Senior</th>\n",
       "    </tr>\n",
       "    <tr>\n",
       "      <th>job_title</th>\n",
       "      <th></th>\n",
       "      <th></th>\n",
       "      <th></th>\n",
       "      <th></th>\n",
       "    </tr>\n",
       "  </thead>\n",
       "  <tbody>\n",
       "    <tr>\n",
       "      <th>Principal Machine Learning Engineer</th>\n",
       "      <td>-</td>\n",
       "      <td>-</td>\n",
       "      <td>-</td>\n",
       "      <td>129430.0</td>\n",
       "    </tr>\n",
       "    <tr>\n",
       "      <th>Product Data Analyst</th>\n",
       "      <td>91600.0</td>\n",
       "      <td>-</td>\n",
       "      <td>80000.0</td>\n",
       "      <td>57000.0</td>\n",
       "    </tr>\n",
       "    <tr>\n",
       "      <th>Research Analyst</th>\n",
       "      <td>62596.0</td>\n",
       "      <td>-</td>\n",
       "      <td>88857.142857</td>\n",
       "      <td>107456.95</td>\n",
       "    </tr>\n",
       "    <tr>\n",
       "      <th>Research Engineer</th>\n",
       "      <td>113531.363636</td>\n",
       "      <td>-</td>\n",
       "      <td>164360.375</td>\n",
       "      <td>194424.971014</td>\n",
       "    </tr>\n",
       "    <tr>\n",
       "      <th>Research Scientist</th>\n",
       "      <td>149845.866667</td>\n",
       "      <td>163017.666667</td>\n",
       "      <td>167014.479167</td>\n",
       "      <td>188474.4375</td>\n",
       "    </tr>\n",
       "    <tr>\n",
       "      <th>Sales Data Analyst</th>\n",
       "      <td>-</td>\n",
       "      <td>-</td>\n",
       "      <td>60000.0</td>\n",
       "      <td>-</td>\n",
       "    </tr>\n",
       "    <tr>\n",
       "      <th>Software Data Engineer</th>\n",
       "      <td>-</td>\n",
       "      <td>-</td>\n",
       "      <td>74883.0</td>\n",
       "      <td>130000.0</td>\n",
       "    </tr>\n",
       "    <tr>\n",
       "      <th>Staff Data Analyst</th>\n",
       "      <td>44753.0</td>\n",
       "      <td>15000.0</td>\n",
       "      <td>179998.0</td>\n",
       "      <td>-</td>\n",
       "    </tr>\n",
       "    <tr>\n",
       "      <th>Staff Data Scientist</th>\n",
       "      <td>-</td>\n",
       "      <td>-</td>\n",
       "      <td>-</td>\n",
       "      <td>134500.0</td>\n",
       "    </tr>\n",
       "    <tr>\n",
       "      <th>Staff Machine Learning Engineer</th>\n",
       "      <td>-</td>\n",
       "      <td>-</td>\n",
       "      <td>-</td>\n",
       "      <td>185000.0</td>\n",
       "    </tr>\n",
       "  </tbody>\n",
       "</table>\n",
       "</div>"
      ],
      "text/plain": [
       "                                     salary_in_usd                 \\\n",
       "experience_level                       Entry-level      Executive   \n",
       "job_title                                                           \n",
       "Principal Machine Learning Engineer              -              -   \n",
       "Product Data Analyst                       91600.0              -   \n",
       "Research Analyst                           62596.0              -   \n",
       "Research Engineer                    113531.363636              -   \n",
       "Research Scientist                   149845.866667  163017.666667   \n",
       "Sales Data Analyst                               -              -   \n",
       "Software Data Engineer                           -              -   \n",
       "Staff Data Analyst                         44753.0        15000.0   \n",
       "Staff Data Scientist                             -              -   \n",
       "Staff Machine Learning Engineer                  -              -   \n",
       "\n",
       "                                                                   \n",
       "experience_level                         Mid-level         Senior  \n",
       "job_title                                                          \n",
       "Principal Machine Learning Engineer              -       129430.0  \n",
       "Product Data Analyst                       80000.0        57000.0  \n",
       "Research Analyst                      88857.142857      107456.95  \n",
       "Research Engineer                       164360.375  194424.971014  \n",
       "Research Scientist                   167014.479167    188474.4375  \n",
       "Sales Data Analyst                         60000.0              -  \n",
       "Software Data Engineer                     74883.0       130000.0  \n",
       "Staff Data Analyst                        179998.0              -  \n",
       "Staff Data Scientist                             -       134500.0  \n",
       "Staff Machine Learning Engineer                  -       185000.0  "
      ]
     },
     "execution_count": 37,
     "metadata": {},
     "output_type": "execute_result"
    }
   ],
   "source": [
    "media_exp.tail(10)"
   ]
  },
  {
   "cell_type": "code",
   "execution_count": null,
   "metadata": {},
   "outputs": [],
   "source": []
  }
 ],
 "metadata": {
  "kernelspec": {
   "display_name": "Python 3",
   "language": "python",
   "name": "python3"
  },
  "language_info": {
   "codemirror_mode": {
    "name": "ipython",
    "version": 3
   },
   "file_extension": ".py",
   "mimetype": "text/x-python",
   "name": "python",
   "nbconvert_exporter": "python",
   "pygments_lexer": "ipython3",
   "version": "3.10.12"
  }
 },
 "nbformat": 4,
 "nbformat_minor": 2
}
