{
 "cells": [
  {
   "cell_type": "markdown",
   "metadata": {},
   "source": [
    "## Análise Exploratória de Dados"
   ]
  },
  {
   "cell_type": "markdown",
   "metadata": {},
   "source": [
    "#### 1 - Importando os dados\n",
    "\n",
    "Link do Dataset: [Jobs and Salaries in Data Science](https://www.kaggle.com/datasets/hummaamqaasim/jobs-in-data)"
   ]
  },
  {
   "cell_type": "code",
   "execution_count": 1,
   "metadata": {},
   "outputs": [],
   "source": [
    "import pandas as pd\n",
    "import matplotlib.pyplot as plt\n",
    "import warnings\n",
    "import seaborn as sns\n",
    "\n",
    "warnings.filterwarnings('ignore')\n",
    "pd.set_option('display.max_columns', 39)"
   ]
  },
  {
   "cell_type": "code",
   "execution_count": 2,
   "metadata": {},
   "outputs": [],
   "source": [
    "arquivo = 'https://raw.githubusercontent.com/ryanrodr/eda-jobs-in-data/main/dados/jobs_in_data.csv'\n",
    "df = pd.read_csv(arquivo)"
   ]
  },
  {
   "cell_type": "code",
   "execution_count": 3,
   "metadata": {},
   "outputs": [
    {
     "name": "stdout",
     "output_type": "stream",
     "text": [
      "9355 linhas e 12 colunas\n"
     ]
    }
   ],
   "source": [
    "print(f'{df.shape[0]} linhas e {df.shape[1]} colunas')"
   ]
  },
  {
   "cell_type": "code",
   "execution_count": 4,
   "metadata": {},
   "outputs": [
    {
     "data": {
      "text/plain": [
       "Index(['work_year', 'job_title', 'job_category', 'salary_currency', 'salary',\n",
       "       'salary_in_usd', 'employee_residence', 'experience_level',\n",
       "       'employment_type', 'work_setting', 'company_location', 'company_size'],\n",
       "      dtype='object')"
      ]
     },
     "execution_count": 4,
     "metadata": {},
     "output_type": "execute_result"
    }
   ],
   "source": [
    "df.columns"
   ]
  },
  {
   "cell_type": "markdown",
   "metadata": {},
   "source": [
    "#### 2 - Limpeza e preparação dos dados"
   ]
  },
  {
   "cell_type": "markdown",
   "metadata": {},
   "source": [
    "- Identificando valores ausentes NaN (Not a Number) ou dados duplicados."
   ]
  },
  {
   "cell_type": "code",
   "execution_count": 5,
   "metadata": {},
   "outputs": [
    {
     "data": {
      "text/plain": [
       "work_year             0\n",
       "job_title             0\n",
       "job_category          0\n",
       "salary_currency       0\n",
       "salary                0\n",
       "salary_in_usd         0\n",
       "employee_residence    0\n",
       "experience_level      0\n",
       "employment_type       0\n",
       "work_setting          0\n",
       "company_location      0\n",
       "company_size          0\n",
       "dtype: int64"
      ]
     },
     "execution_count": 5,
     "metadata": {},
     "output_type": "execute_result"
    }
   ],
   "source": [
    "df.isna().sum()"
   ]
  },
  {
   "cell_type": "code",
   "execution_count": 6,
   "metadata": {},
   "outputs": [
    {
     "data": {
      "text/plain": [
       "4014"
      ]
     },
     "execution_count": 6,
     "metadata": {},
     "output_type": "execute_result"
    }
   ],
   "source": [
    "df.duplicated().sum()"
   ]
  },
  {
   "cell_type": "markdown",
   "metadata": {},
   "source": [
    "- Removendo dados duplicados e resetando o índice"
   ]
  },
  {
   "cell_type": "code",
   "execution_count": 7,
   "metadata": {},
   "outputs": [],
   "source": [
    "df.drop_duplicates(inplace=True)"
   ]
  },
  {
   "cell_type": "code",
   "execution_count": 8,
   "metadata": {},
   "outputs": [
    {
     "data": {
      "text/html": [
       "<div>\n",
       "<style scoped>\n",
       "    .dataframe tbody tr th:only-of-type {\n",
       "        vertical-align: middle;\n",
       "    }\n",
       "\n",
       "    .dataframe tbody tr th {\n",
       "        vertical-align: top;\n",
       "    }\n",
       "\n",
       "    .dataframe thead th {\n",
       "        text-align: right;\n",
       "    }\n",
       "</style>\n",
       "<table border=\"1\" class=\"dataframe\">\n",
       "  <thead>\n",
       "    <tr style=\"text-align: right;\">\n",
       "      <th></th>\n",
       "      <th>work_year</th>\n",
       "      <th>job_title</th>\n",
       "      <th>job_category</th>\n",
       "      <th>salary_currency</th>\n",
       "      <th>salary</th>\n",
       "      <th>salary_in_usd</th>\n",
       "      <th>employee_residence</th>\n",
       "      <th>experience_level</th>\n",
       "      <th>employment_type</th>\n",
       "      <th>work_setting</th>\n",
       "      <th>company_location</th>\n",
       "      <th>company_size</th>\n",
       "    </tr>\n",
       "  </thead>\n",
       "  <tbody>\n",
       "    <tr>\n",
       "      <th>0</th>\n",
       "      <td>2023</td>\n",
       "      <td>Data DevOps Engineer</td>\n",
       "      <td>Data Engineering</td>\n",
       "      <td>EUR</td>\n",
       "      <td>88000</td>\n",
       "      <td>95012</td>\n",
       "      <td>Germany</td>\n",
       "      <td>Mid-level</td>\n",
       "      <td>Full-time</td>\n",
       "      <td>Hybrid</td>\n",
       "      <td>Germany</td>\n",
       "      <td>L</td>\n",
       "    </tr>\n",
       "    <tr>\n",
       "      <th>1</th>\n",
       "      <td>2023</td>\n",
       "      <td>Data Architect</td>\n",
       "      <td>Data Architecture and Modeling</td>\n",
       "      <td>USD</td>\n",
       "      <td>186000</td>\n",
       "      <td>186000</td>\n",
       "      <td>United States</td>\n",
       "      <td>Senior</td>\n",
       "      <td>Full-time</td>\n",
       "      <td>In-person</td>\n",
       "      <td>United States</td>\n",
       "      <td>M</td>\n",
       "    </tr>\n",
       "    <tr>\n",
       "      <th>2</th>\n",
       "      <td>2023</td>\n",
       "      <td>Data Architect</td>\n",
       "      <td>Data Architecture and Modeling</td>\n",
       "      <td>USD</td>\n",
       "      <td>81800</td>\n",
       "      <td>81800</td>\n",
       "      <td>United States</td>\n",
       "      <td>Senior</td>\n",
       "      <td>Full-time</td>\n",
       "      <td>In-person</td>\n",
       "      <td>United States</td>\n",
       "      <td>M</td>\n",
       "    </tr>\n",
       "  </tbody>\n",
       "</table>\n",
       "</div>"
      ],
      "text/plain": [
       "   work_year             job_title                    job_category  \\\n",
       "0       2023  Data DevOps Engineer                Data Engineering   \n",
       "1       2023        Data Architect  Data Architecture and Modeling   \n",
       "2       2023        Data Architect  Data Architecture and Modeling   \n",
       "\n",
       "  salary_currency  salary  salary_in_usd employee_residence experience_level  \\\n",
       "0             EUR   88000          95012            Germany        Mid-level   \n",
       "1             USD  186000         186000      United States           Senior   \n",
       "2             USD   81800          81800      United States           Senior   \n",
       "\n",
       "  employment_type work_setting company_location company_size  \n",
       "0       Full-time       Hybrid          Germany            L  \n",
       "1       Full-time    In-person    United States            M  \n",
       "2       Full-time    In-person    United States            M  "
      ]
     },
     "execution_count": 8,
     "metadata": {},
     "output_type": "execute_result"
    }
   ],
   "source": [
    "df.head(3)"
   ]
  },
  {
   "cell_type": "markdown",
   "metadata": {},
   "source": [
    "- Removendo colunas que não vão ser utilizadas"
   ]
  },
  {
   "cell_type": "code",
   "execution_count": 9,
   "metadata": {},
   "outputs": [],
   "source": [
    "df.drop(columns=['salary_currency', 'salary', 'employee_residence', 'company_location'], inplace=True)"
   ]
  },
  {
   "cell_type": "markdown",
   "metadata": {},
   "source": [
    "- Convertendo o tipo de dado das colunas"
   ]
  },
  {
   "cell_type": "code",
   "execution_count": 10,
   "metadata": {},
   "outputs": [
    {
     "name": "stdout",
     "output_type": "stream",
     "text": [
      "<class 'pandas.core.frame.DataFrame'>\n",
      "Int64Index: 5341 entries, 0 to 9354\n",
      "Data columns (total 8 columns):\n",
      " #   Column            Non-Null Count  Dtype \n",
      "---  ------            --------------  ----- \n",
      " 0   work_year         5341 non-null   int64 \n",
      " 1   job_title         5341 non-null   object\n",
      " 2   job_category      5341 non-null   object\n",
      " 3   salary_in_usd     5341 non-null   int64 \n",
      " 4   experience_level  5341 non-null   object\n",
      " 5   employment_type   5341 non-null   object\n",
      " 6   work_setting      5341 non-null   object\n",
      " 7   company_size      5341 non-null   object\n",
      "dtypes: int64(2), object(6)\n",
      "memory usage: 375.5+ KB\n"
     ]
    }
   ],
   "source": [
    "df.info()"
   ]
  },
  {
   "cell_type": "markdown",
   "metadata": {},
   "source": [
    "- Identificando as colunas categóricas que contenham menos de 10 valores únicos e contenham o tipo de dado 'object'"
   ]
  },
  {
   "cell_type": "code",
   "execution_count": 11,
   "metadata": {},
   "outputs": [],
   "source": [
    "limite = 10\n",
    "\n",
    "colunas_categoricas = [col for col in df.columns if df[col].nunique() <= limite and df[col].dtype == 'object']"
   ]
  },
  {
   "cell_type": "code",
   "execution_count": 12,
   "metadata": {},
   "outputs": [
    {
     "data": {
      "text/plain": [
       "['job_category',\n",
       " 'experience_level',\n",
       " 'employment_type',\n",
       " 'work_setting',\n",
       " 'company_size']"
      ]
     },
     "execution_count": 12,
     "metadata": {},
     "output_type": "execute_result"
    }
   ],
   "source": [
    "colunas_categoricas"
   ]
  },
  {
   "cell_type": "markdown",
   "metadata": {},
   "source": [
    "- Alterando o tipo de dado para 'category'"
   ]
  },
  {
   "cell_type": "code",
   "execution_count": 13,
   "metadata": {},
   "outputs": [],
   "source": [
    "df[colunas_categoricas] = df[colunas_categoricas].astype('category')"
   ]
  },
  {
   "cell_type": "code",
   "execution_count": 14,
   "metadata": {},
   "outputs": [
    {
     "name": "stdout",
     "output_type": "stream",
     "text": [
      "<class 'pandas.core.frame.DataFrame'>\n",
      "Int64Index: 5341 entries, 0 to 9354\n",
      "Data columns (total 8 columns):\n",
      " #   Column            Non-Null Count  Dtype   \n",
      "---  ------            --------------  -----   \n",
      " 0   work_year         5341 non-null   int64   \n",
      " 1   job_title         5341 non-null   object  \n",
      " 2   job_category      5341 non-null   category\n",
      " 3   salary_in_usd     5341 non-null   int64   \n",
      " 4   experience_level  5341 non-null   category\n",
      " 5   employment_type   5341 non-null   category\n",
      " 6   work_setting      5341 non-null   category\n",
      " 7   company_size      5341 non-null   category\n",
      "dtypes: category(5), int64(2), object(1)\n",
      "memory usage: 194.0+ KB\n"
     ]
    }
   ],
   "source": [
    "df.info()"
   ]
  },
  {
   "cell_type": "markdown",
   "metadata": {},
   "source": [
    "#### 3 - Introdução e primeiros passos do projeto"
   ]
  },
  {
   "cell_type": "code",
   "execution_count": 15,
   "metadata": {},
   "outputs": [
    {
     "data": {
      "text/html": [
       "<div>\n",
       "<style scoped>\n",
       "    .dataframe tbody tr th:only-of-type {\n",
       "        vertical-align: middle;\n",
       "    }\n",
       "\n",
       "    .dataframe tbody tr th {\n",
       "        vertical-align: top;\n",
       "    }\n",
       "\n",
       "    .dataframe thead th {\n",
       "        text-align: right;\n",
       "    }\n",
       "</style>\n",
       "<table border=\"1\" class=\"dataframe\">\n",
       "  <thead>\n",
       "    <tr style=\"text-align: right;\">\n",
       "      <th></th>\n",
       "      <th>work_year</th>\n",
       "      <th>job_title</th>\n",
       "      <th>job_category</th>\n",
       "      <th>salary_in_usd</th>\n",
       "      <th>experience_level</th>\n",
       "      <th>employment_type</th>\n",
       "      <th>work_setting</th>\n",
       "      <th>company_size</th>\n",
       "    </tr>\n",
       "  </thead>\n",
       "  <tbody>\n",
       "    <tr>\n",
       "      <th>0</th>\n",
       "      <td>2023</td>\n",
       "      <td>Data DevOps Engineer</td>\n",
       "      <td>Data Engineering</td>\n",
       "      <td>95012</td>\n",
       "      <td>Mid-level</td>\n",
       "      <td>Full-time</td>\n",
       "      <td>Hybrid</td>\n",
       "      <td>L</td>\n",
       "    </tr>\n",
       "    <tr>\n",
       "      <th>1</th>\n",
       "      <td>2023</td>\n",
       "      <td>Data Architect</td>\n",
       "      <td>Data Architecture and Modeling</td>\n",
       "      <td>186000</td>\n",
       "      <td>Senior</td>\n",
       "      <td>Full-time</td>\n",
       "      <td>In-person</td>\n",
       "      <td>M</td>\n",
       "    </tr>\n",
       "    <tr>\n",
       "      <th>2</th>\n",
       "      <td>2023</td>\n",
       "      <td>Data Architect</td>\n",
       "      <td>Data Architecture and Modeling</td>\n",
       "      <td>81800</td>\n",
       "      <td>Senior</td>\n",
       "      <td>Full-time</td>\n",
       "      <td>In-person</td>\n",
       "      <td>M</td>\n",
       "    </tr>\n",
       "  </tbody>\n",
       "</table>\n",
       "</div>"
      ],
      "text/plain": [
       "   work_year             job_title                    job_category  \\\n",
       "0       2023  Data DevOps Engineer                Data Engineering   \n",
       "1       2023        Data Architect  Data Architecture and Modeling   \n",
       "2       2023        Data Architect  Data Architecture and Modeling   \n",
       "\n",
       "   salary_in_usd experience_level employment_type work_setting company_size  \n",
       "0          95012        Mid-level       Full-time       Hybrid            L  \n",
       "1         186000           Senior       Full-time    In-person            M  \n",
       "2          81800           Senior       Full-time    In-person            M  "
      ]
     },
     "execution_count": 15,
     "metadata": {},
     "output_type": "execute_result"
    }
   ],
   "source": [
    "df.head(3)"
   ]
  },
  {
   "cell_type": "markdown",
   "metadata": {},
   "source": [
    "- Criando uma tabela da quantidade de vagas disponíveis por categoria"
   ]
  },
  {
   "cell_type": "code",
   "execution_count": 16,
   "metadata": {},
   "outputs": [],
   "source": [
    "# Contando a frequência dos valores com value_counts()\n",
    "frequencia = df['job_category'].value_counts()\n",
    "# Contando a frequência e transformando em %\n",
    "frequencia_relativa = df['job_category'].value_counts(normalize=True) * 100\n",
    "\n",
    "tabela_categoria = pd.DataFrame({'Frequência': frequencia,\n",
    "                                 'Frequência Relativa (%)': frequencia_relativa})\n",
    "tabela_categoria['Frequência Acumulada'] = tabela_categoria['Frequência'].cumsum()\n",
    "\n",
    "tabela_categoria['Frequência Relativa Acumulada (%)'] = (tabela_categoria['Frequência Acumulada'] / tabela_categoria['Frequência'].sum()) * 100"
   ]
  },
  {
   "cell_type": "code",
   "execution_count": 17,
   "metadata": {},
   "outputs": [],
   "source": [
    "tabela_categoria.rename_axis('Categoria', inplace=True)\n",
    "tabela_categoria.reset_index(inplace=True)"
   ]
  },
  {
   "cell_type": "code",
   "execution_count": 18,
   "metadata": {},
   "outputs": [
    {
     "data": {
      "text/html": [
       "<style type=\"text/css\">\n",
       "#T_fc04c_row0_col0, #T_fc04c_row0_col1, #T_fc04c_row0_col2, #T_fc04c_row0_col3, #T_fc04c_row0_col4, #T_fc04c_row1_col0, #T_fc04c_row1_col1, #T_fc04c_row1_col2, #T_fc04c_row1_col3, #T_fc04c_row1_col4, #T_fc04c_row2_col0, #T_fc04c_row2_col1, #T_fc04c_row2_col2, #T_fc04c_row2_col3, #T_fc04c_row2_col4, #T_fc04c_row3_col0, #T_fc04c_row3_col1, #T_fc04c_row3_col2, #T_fc04c_row3_col3, #T_fc04c_row3_col4, #T_fc04c_row4_col0, #T_fc04c_row4_col1, #T_fc04c_row4_col2, #T_fc04c_row4_col3, #T_fc04c_row4_col4, #T_fc04c_row5_col0, #T_fc04c_row5_col1, #T_fc04c_row5_col2, #T_fc04c_row5_col3, #T_fc04c_row5_col4, #T_fc04c_row6_col0, #T_fc04c_row6_col1, #T_fc04c_row6_col2, #T_fc04c_row6_col3, #T_fc04c_row6_col4, #T_fc04c_row7_col0, #T_fc04c_row7_col1, #T_fc04c_row7_col2, #T_fc04c_row7_col3, #T_fc04c_row7_col4, #T_fc04c_row8_col0, #T_fc04c_row8_col1, #T_fc04c_row8_col2, #T_fc04c_row8_col3, #T_fc04c_row8_col4, #T_fc04c_row9_col0, #T_fc04c_row9_col1, #T_fc04c_row9_col2, #T_fc04c_row9_col3, #T_fc04c_row9_col4 {\n",
       "  text-align: center;\n",
       "}\n",
       "</style>\n",
       "<table id=\"T_fc04c\">\n",
       "  <thead>\n",
       "    <tr>\n",
       "      <th class=\"blank level0\" >&nbsp;</th>\n",
       "      <th id=\"T_fc04c_level0_col0\" class=\"col_heading level0 col0\" >Categoria</th>\n",
       "      <th id=\"T_fc04c_level0_col1\" class=\"col_heading level0 col1\" >Frequência</th>\n",
       "      <th id=\"T_fc04c_level0_col2\" class=\"col_heading level0 col2\" >Frequência Relativa (%)</th>\n",
       "      <th id=\"T_fc04c_level0_col3\" class=\"col_heading level0 col3\" >Frequência Acumulada</th>\n",
       "      <th id=\"T_fc04c_level0_col4\" class=\"col_heading level0 col4\" >Frequência Relativa Acumulada (%)</th>\n",
       "    </tr>\n",
       "  </thead>\n",
       "  <tbody>\n",
       "    <tr>\n",
       "      <th id=\"T_fc04c_level0_row0\" class=\"row_heading level0 row0\" >0</th>\n",
       "      <td id=\"T_fc04c_row0_col0\" class=\"data row0 col0\" >Data Science and Research</td>\n",
       "      <td id=\"T_fc04c_row0_col1\" class=\"data row0 col1\" >1655</td>\n",
       "      <td id=\"T_fc04c_row0_col2\" class=\"data row0 col2\" >30.986707</td>\n",
       "      <td id=\"T_fc04c_row0_col3\" class=\"data row0 col3\" >1655</td>\n",
       "      <td id=\"T_fc04c_row0_col4\" class=\"data row0 col4\" >30.986707</td>\n",
       "    </tr>\n",
       "    <tr>\n",
       "      <th id=\"T_fc04c_level0_row1\" class=\"row_heading level0 row1\" >1</th>\n",
       "      <td id=\"T_fc04c_row1_col0\" class=\"data row1 col0\" >Data Engineering</td>\n",
       "      <td id=\"T_fc04c_row1_col1\" class=\"data row1 col1\" >1160</td>\n",
       "      <td id=\"T_fc04c_row1_col2\" class=\"data row1 col2\" >21.718779</td>\n",
       "      <td id=\"T_fc04c_row1_col3\" class=\"data row1 col3\" >2815</td>\n",
       "      <td id=\"T_fc04c_row1_col4\" class=\"data row1 col4\" >52.705486</td>\n",
       "    </tr>\n",
       "    <tr>\n",
       "      <th id=\"T_fc04c_level0_row2\" class=\"row_heading level0 row2\" >2</th>\n",
       "      <td id=\"T_fc04c_row2_col0\" class=\"data row2 col0\" >Machine Learning and AI</td>\n",
       "      <td id=\"T_fc04c_row2_col1\" class=\"data row2 col1\" >917</td>\n",
       "      <td id=\"T_fc04c_row2_col2\" class=\"data row2 col2\" >17.169069</td>\n",
       "      <td id=\"T_fc04c_row2_col3\" class=\"data row2 col3\" >3732</td>\n",
       "      <td id=\"T_fc04c_row2_col4\" class=\"data row2 col4\" >69.874555</td>\n",
       "    </tr>\n",
       "    <tr>\n",
       "      <th id=\"T_fc04c_level0_row3\" class=\"row_heading level0 row3\" >3</th>\n",
       "      <td id=\"T_fc04c_row3_col0\" class=\"data row3 col0\" >Data Analysis</td>\n",
       "      <td id=\"T_fc04c_row3_col1\" class=\"data row3 col1\" >809</td>\n",
       "      <td id=\"T_fc04c_row3_col2\" class=\"data row3 col2\" >15.146976</td>\n",
       "      <td id=\"T_fc04c_row3_col3\" class=\"data row3 col3\" >4541</td>\n",
       "      <td id=\"T_fc04c_row3_col4\" class=\"data row3 col4\" >85.021532</td>\n",
       "    </tr>\n",
       "    <tr>\n",
       "      <th id=\"T_fc04c_level0_row4\" class=\"row_heading level0 row4\" >4</th>\n",
       "      <td id=\"T_fc04c_row4_col0\" class=\"data row4 col0\" >Leadership and Management</td>\n",
       "      <td id=\"T_fc04c_row4_col1\" class=\"data row4 col1\" >351</td>\n",
       "      <td id=\"T_fc04c_row4_col2\" class=\"data row4 col2\" >6.571803</td>\n",
       "      <td id=\"T_fc04c_row4_col3\" class=\"data row4 col3\" >4892</td>\n",
       "      <td id=\"T_fc04c_row4_col4\" class=\"data row4 col4\" >91.593335</td>\n",
       "    </tr>\n",
       "    <tr>\n",
       "      <th id=\"T_fc04c_level0_row5\" class=\"row_heading level0 row5\" >5</th>\n",
       "      <td id=\"T_fc04c_row5_col0\" class=\"data row5 col0\" >BI and Visualization</td>\n",
       "      <td id=\"T_fc04c_row5_col1\" class=\"data row5 col1\" >188</td>\n",
       "      <td id=\"T_fc04c_row5_col2\" class=\"data row5 col2\" >3.519940</td>\n",
       "      <td id=\"T_fc04c_row5_col3\" class=\"data row5 col3\" >5080</td>\n",
       "      <td id=\"T_fc04c_row5_col4\" class=\"data row5 col4\" >95.113275</td>\n",
       "    </tr>\n",
       "    <tr>\n",
       "      <th id=\"T_fc04c_level0_row6\" class=\"row_heading level0 row6\" >6</th>\n",
       "      <td id=\"T_fc04c_row6_col0\" class=\"data row6 col0\" >Data Architecture and Modeling</td>\n",
       "      <td id=\"T_fc04c_row6_col1\" class=\"data row6 col1\" >162</td>\n",
       "      <td id=\"T_fc04c_row6_col2\" class=\"data row6 col2\" >3.033140</td>\n",
       "      <td id=\"T_fc04c_row6_col3\" class=\"data row6 col3\" >5242</td>\n",
       "      <td id=\"T_fc04c_row6_col4\" class=\"data row6 col4\" >98.146415</td>\n",
       "    </tr>\n",
       "    <tr>\n",
       "      <th id=\"T_fc04c_level0_row7\" class=\"row_heading level0 row7\" >7</th>\n",
       "      <td id=\"T_fc04c_row7_col0\" class=\"data row7 col0\" >Data Management and Strategy</td>\n",
       "      <td id=\"T_fc04c_row7_col1\" class=\"data row7 col1\" >49</td>\n",
       "      <td id=\"T_fc04c_row7_col2\" class=\"data row7 col2\" >0.917431</td>\n",
       "      <td id=\"T_fc04c_row7_col3\" class=\"data row7 col3\" >5291</td>\n",
       "      <td id=\"T_fc04c_row7_col4\" class=\"data row7 col4\" >99.063846</td>\n",
       "    </tr>\n",
       "    <tr>\n",
       "      <th id=\"T_fc04c_level0_row8\" class=\"row_heading level0 row8\" >8</th>\n",
       "      <td id=\"T_fc04c_row8_col0\" class=\"data row8 col0\" >Data Quality and Operations</td>\n",
       "      <td id=\"T_fc04c_row8_col1\" class=\"data row8 col1\" >45</td>\n",
       "      <td id=\"T_fc04c_row8_col2\" class=\"data row8 col2\" >0.842539</td>\n",
       "      <td id=\"T_fc04c_row8_col3\" class=\"data row8 col3\" >5336</td>\n",
       "      <td id=\"T_fc04c_row8_col4\" class=\"data row8 col4\" >99.906385</td>\n",
       "    </tr>\n",
       "    <tr>\n",
       "      <th id=\"T_fc04c_level0_row9\" class=\"row_heading level0 row9\" >9</th>\n",
       "      <td id=\"T_fc04c_row9_col0\" class=\"data row9 col0\" >Cloud and Database</td>\n",
       "      <td id=\"T_fc04c_row9_col1\" class=\"data row9 col1\" >5</td>\n",
       "      <td id=\"T_fc04c_row9_col2\" class=\"data row9 col2\" >0.093615</td>\n",
       "      <td id=\"T_fc04c_row9_col3\" class=\"data row9 col3\" >5341</td>\n",
       "      <td id=\"T_fc04c_row9_col4\" class=\"data row9 col4\" >100.000000</td>\n",
       "    </tr>\n",
       "  </tbody>\n",
       "</table>\n"
      ],
      "text/plain": [
       "<pandas.io.formats.style.Styler at 0x21b83176f70>"
      ]
     },
     "execution_count": 18,
     "metadata": {},
     "output_type": "execute_result"
    }
   ],
   "source": [
    "# Centralizando a visualização da tabela\n",
    "tabela_categoria.style.set_properties(**{'text-align': 'center'})"
   ]
  },
  {
   "cell_type": "code",
   "execution_count": 19,
   "metadata": {},
   "outputs": [],
   "source": [
    "tabela_categoria['Categoria'] = tabela_categoria['Categoria'].str.replace(' and ', '\\n')"
   ]
  },
  {
   "cell_type": "code",
   "execution_count": 20,
   "metadata": {},
   "outputs": [
    {
     "data": {
      "image/png": "[encoded data removed]",
      "text/plain": [
       "<Figure size 1300x600 with 2 Axes>"
      ]
     },
     "metadata": {},
     "output_type": "display_data"
    }
   ],
   "source": [
    "# Criar figura e eixos\n",
    "fig, ax1 = plt.subplots(figsize=(13, 6))\n",
    "\n",
    "# Gráfico de barras\n",
    "ax1.bar(tabela_categoria['Categoria'],\n",
    "        tabela_categoria['Frequência'],\n",
    "        color='steelblue',\n",
    "        width=0.50)\n",
    "\n",
    "# Eixo y secundário para a linha\n",
    "ax2 = ax1.twinx()\n",
    "\n",
    "# Linha da frequência relativa acumulada\n",
    "ax2.plot(tabela_categoria['Categoria'],\n",
    "        tabela_categoria['Frequência Relativa Acumulada (%)'],\n",
    "        color='grey',\n",
    "        label='Frequência Relativa Acumulada (%)')\n",
    "\n",
    "ax2.tick_params(axis='y')\n",
    "\n",
    "# Rótulos e título\n",
    "ax1.set_xlabel('')\n",
    "ax1.set_ylabel('Frequência')\n",
    "ax2.set_ylabel('Frequência Relativa Acumulada (%)')\n",
    "plt.title('Distribuição de Pareto das vagas em Ciência de Dados por Categoria')\n",
    "\n",
    "# Definir os valores dos ticks do eixo X\n",
    "ax1.set_xticks(range(len(tabela_categoria['Categoria'])))\n",
    "\n",
    "# Definir os rótulos dos ticks do eixo X\n",
    "ax1.set_xticklabels(tabela_categoria['Categoria'], fontsize=7, ha='center')\n",
    "\n",
    "# Ajustar o espaçamento dos rótulos do eixo x\n",
    "plt.subplots_adjust(bottom=0.25)\n",
    "\n",
    "# Exibir o gráfico\n",
    "plt.show()"
   ]
  },
  {
   "cell_type": "markdown",
   "metadata": {},
   "source": [
    "- Criando uma tabela de distribuição de frequências com categoria e ano"
   ]
  },
  {
   "cell_type": "code",
   "execution_count": 21,
   "metadata": {},
   "outputs": [],
   "source": [
    "# crosstab para criar uma tabela cruzada com duas variáveis\n",
    "tabela_dist = pd.crosstab(index= df['job_category'],\n",
    "                          columns= df['work_year'],\n",
    "                          aggfunc= 'count',\n",
    "                          values= df['job_category'])\n",
    "\n",
    "# Renomeando o eixo das linhas e das colunas da tabela\n",
    "tabela_dist = tabela_dist.rename_axis('Categoria').rename_axis('Ano de Pesquisa', axis='columns')\n",
    "\n",
    "# Adicionando uma coluna com os valores Totais de cada categoria\n",
    "tabela_dist['Total'] = tabela_dist.sum(axis=1)\n",
    "\n",
    "# Ordenando os dados com base na coluna Total\n",
    "tabela_dist.sort_values(by='Total', ascending=False, inplace=True)"
   ]
  },
  {
   "cell_type": "code",
   "execution_count": 22,
   "metadata": {},
   "outputs": [
    {
     "data": {
      "text/html": [
       "<style type=\"text/css\">\n",
       "#T_01158_row0_col0, #T_01158_row0_col1, #T_01158_row0_col2, #T_01158_row0_col3, #T_01158_row0_col4, #T_01158_row1_col0, #T_01158_row1_col1, #T_01158_row1_col2, #T_01158_row1_col3, #T_01158_row1_col4, #T_01158_row2_col0, #T_01158_row2_col1, #T_01158_row2_col2, #T_01158_row2_col3, #T_01158_row2_col4, #T_01158_row3_col0, #T_01158_row3_col1, #T_01158_row3_col2, #T_01158_row3_col3, #T_01158_row3_col4, #T_01158_row4_col0, #T_01158_row4_col1, #T_01158_row4_col2, #T_01158_row4_col3, #T_01158_row4_col4, #T_01158_row5_col0, #T_01158_row5_col1, #T_01158_row5_col2, #T_01158_row5_col3, #T_01158_row5_col4, #T_01158_row6_col0, #T_01158_row6_col1, #T_01158_row6_col2, #T_01158_row6_col3, #T_01158_row6_col4, #T_01158_row7_col0, #T_01158_row7_col1, #T_01158_row7_col2, #T_01158_row7_col3, #T_01158_row7_col4, #T_01158_row8_col0, #T_01158_row8_col1, #T_01158_row8_col2, #T_01158_row8_col3, #T_01158_row8_col4, #T_01158_row9_col0, #T_01158_row9_col1, #T_01158_row9_col2, #T_01158_row9_col3, #T_01158_row9_col4 {\n",
       "  text-align: center;\n",
       "}\n",
       "</style>\n",
       "<table id=\"T_01158\">\n",
       "  <thead>\n",
       "    <tr>\n",
       "      <th class=\"index_name level0\" >Ano de Pesquisa</th>\n",
       "      <th id=\"T_01158_level0_col0\" class=\"col_heading level0 col0\" >2020</th>\n",
       "      <th id=\"T_01158_level0_col1\" class=\"col_heading level0 col1\" >2021</th>\n",
       "      <th id=\"T_01158_level0_col2\" class=\"col_heading level0 col2\" >2022</th>\n",
       "      <th id=\"T_01158_level0_col3\" class=\"col_heading level0 col3\" >2023</th>\n",
       "      <th id=\"T_01158_level0_col4\" class=\"col_heading level0 col4\" >Total</th>\n",
       "    </tr>\n",
       "    <tr>\n",
       "      <th class=\"index_name level0\" >Categoria</th>\n",
       "      <th class=\"blank col0\" >&nbsp;</th>\n",
       "      <th class=\"blank col1\" >&nbsp;</th>\n",
       "      <th class=\"blank col2\" >&nbsp;</th>\n",
       "      <th class=\"blank col3\" >&nbsp;</th>\n",
       "      <th class=\"blank col4\" >&nbsp;</th>\n",
       "    </tr>\n",
       "  </thead>\n",
       "  <tbody>\n",
       "    <tr>\n",
       "      <th id=\"T_01158_level0_row0\" class=\"row_heading level0 row0\" >Data Science and Research</th>\n",
       "      <td id=\"T_01158_row0_col0\" class=\"data row0 col0\" >29</td>\n",
       "      <td id=\"T_01158_row0_col1\" class=\"data row0 col1\" >71</td>\n",
       "      <td id=\"T_01158_row0_col2\" class=\"data row0 col2\" >338</td>\n",
       "      <td id=\"T_01158_row0_col3\" class=\"data row0 col3\" >1217</td>\n",
       "      <td id=\"T_01158_row0_col4\" class=\"data row0 col4\" >1655</td>\n",
       "    </tr>\n",
       "    <tr>\n",
       "      <th id=\"T_01158_level0_row1\" class=\"row_heading level0 row1\" >Data Engineering</th>\n",
       "      <td id=\"T_01158_row1_col0\" class=\"data row1 col0\" >17</td>\n",
       "      <td id=\"T_01158_row1_col1\" class=\"data row1 col1\" >44</td>\n",
       "      <td id=\"T_01158_row1_col2\" class=\"data row1 col2\" >286</td>\n",
       "      <td id=\"T_01158_row1_col3\" class=\"data row1 col3\" >813</td>\n",
       "      <td id=\"T_01158_row1_col4\" class=\"data row1 col4\" >1160</td>\n",
       "    </tr>\n",
       "    <tr>\n",
       "      <th id=\"T_01158_level0_row2\" class=\"row_heading level0 row2\" >Machine Learning and AI</th>\n",
       "      <td id=\"T_01158_row2_col0\" class=\"data row2 col0\" >10</td>\n",
       "      <td id=\"T_01158_row2_col1\" class=\"data row2 col1\" >37</td>\n",
       "      <td id=\"T_01158_row2_col2\" class=\"data row2 col2\" >157</td>\n",
       "      <td id=\"T_01158_row2_col3\" class=\"data row2 col3\" >713</td>\n",
       "      <td id=\"T_01158_row2_col4\" class=\"data row2 col4\" >917</td>\n",
       "    </tr>\n",
       "    <tr>\n",
       "      <th id=\"T_01158_level0_row3\" class=\"row_heading level0 row3\" >Data Analysis</th>\n",
       "      <td id=\"T_01158_row3_col0\" class=\"data row3 col0\" >15</td>\n",
       "      <td id=\"T_01158_row3_col1\" class=\"data row3 col1\" >28</td>\n",
       "      <td id=\"T_01158_row3_col2\" class=\"data row3 col2\" >185</td>\n",
       "      <td id=\"T_01158_row3_col3\" class=\"data row3 col3\" >581</td>\n",
       "      <td id=\"T_01158_row3_col4\" class=\"data row3 col4\" >809</td>\n",
       "    </tr>\n",
       "    <tr>\n",
       "      <th id=\"T_01158_level0_row4\" class=\"row_heading level0 row4\" >Leadership and Management</th>\n",
       "      <td id=\"T_01158_row4_col0\" class=\"data row4 col0\" >0</td>\n",
       "      <td id=\"T_01158_row4_col1\" class=\"data row4 col1\" >9</td>\n",
       "      <td id=\"T_01158_row4_col2\" class=\"data row4 col2\" >71</td>\n",
       "      <td id=\"T_01158_row4_col3\" class=\"data row4 col3\" >271</td>\n",
       "      <td id=\"T_01158_row4_col4\" class=\"data row4 col4\" >351</td>\n",
       "    </tr>\n",
       "    <tr>\n",
       "      <th id=\"T_01158_level0_row5\" class=\"row_heading level0 row5\" >BI and Visualization</th>\n",
       "      <td id=\"T_01158_row5_col0\" class=\"data row5 col0\" >0</td>\n",
       "      <td id=\"T_01158_row5_col1\" class=\"data row5 col1\" >0</td>\n",
       "      <td id=\"T_01158_row5_col2\" class=\"data row5 col2\" >8</td>\n",
       "      <td id=\"T_01158_row5_col3\" class=\"data row5 col3\" >180</td>\n",
       "      <td id=\"T_01158_row5_col4\" class=\"data row5 col4\" >188</td>\n",
       "    </tr>\n",
       "    <tr>\n",
       "      <th id=\"T_01158_level0_row6\" class=\"row_heading level0 row6\" >Data Architecture and Modeling</th>\n",
       "      <td id=\"T_01158_row6_col0\" class=\"data row6 col0\" >0</td>\n",
       "      <td id=\"T_01158_row6_col1\" class=\"data row6 col1\" >5</td>\n",
       "      <td id=\"T_01158_row6_col2\" class=\"data row6 col2\" >30</td>\n",
       "      <td id=\"T_01158_row6_col3\" class=\"data row6 col3\" >127</td>\n",
       "      <td id=\"T_01158_row6_col4\" class=\"data row6 col4\" >162</td>\n",
       "    </tr>\n",
       "    <tr>\n",
       "      <th id=\"T_01158_level0_row7\" class=\"row_heading level0 row7\" >Data Management and Strategy</th>\n",
       "      <td id=\"T_01158_row7_col0\" class=\"data row7 col0\" >0</td>\n",
       "      <td id=\"T_01158_row7_col1\" class=\"data row7 col1\" >1</td>\n",
       "      <td id=\"T_01158_row7_col2\" class=\"data row7 col2\" >10</td>\n",
       "      <td id=\"T_01158_row7_col3\" class=\"data row7 col3\" >38</td>\n",
       "      <td id=\"T_01158_row7_col4\" class=\"data row7 col4\" >49</td>\n",
       "    </tr>\n",
       "    <tr>\n",
       "      <th id=\"T_01158_level0_row8\" class=\"row_heading level0 row8\" >Data Quality and Operations</th>\n",
       "      <td id=\"T_01158_row8_col0\" class=\"data row8 col0\" >0</td>\n",
       "      <td id=\"T_01158_row8_col1\" class=\"data row8 col1\" >0</td>\n",
       "      <td id=\"T_01158_row8_col2\" class=\"data row8 col2\" >8</td>\n",
       "      <td id=\"T_01158_row8_col3\" class=\"data row8 col3\" >37</td>\n",
       "      <td id=\"T_01158_row8_col4\" class=\"data row8 col4\" >45</td>\n",
       "    </tr>\n",
       "    <tr>\n",
       "      <th id=\"T_01158_level0_row9\" class=\"row_heading level0 row9\" >Cloud and Database</th>\n",
       "      <td id=\"T_01158_row9_col0\" class=\"data row9 col0\" >0</td>\n",
       "      <td id=\"T_01158_row9_col1\" class=\"data row9 col1\" >0</td>\n",
       "      <td id=\"T_01158_row9_col2\" class=\"data row9 col2\" >2</td>\n",
       "      <td id=\"T_01158_row9_col3\" class=\"data row9 col3\" >3</td>\n",
       "      <td id=\"T_01158_row9_col4\" class=\"data row9 col4\" >5</td>\n",
       "    </tr>\n",
       "  </tbody>\n",
       "</table>\n"
      ],
      "text/plain": [
       "<pandas.io.formats.style.Styler at 0x21b83176df0>"
      ]
     },
     "execution_count": 22,
     "metadata": {},
     "output_type": "execute_result"
    }
   ],
   "source": [
    "# Centralizando a visualização da tabela\n",
    "tabela_dist.style.set_properties(**{'text-align': 'center'})"
   ]
  },
  {
   "cell_type": "markdown",
   "metadata": {},
   "source": [
    "- Criando uma visualização da quantidade de vagas por nível de experiência"
   ]
  },
  {
   "cell_type": "code",
   "execution_count": 23,
   "metadata": {},
   "outputs": [],
   "source": [
    "# Contando a frequência dos valores com value_counts()\n",
    "quantidade_exp = df['experience_level'].value_counts()\n",
    "\n",
    "# Contando a frequência e transformando em %\n",
    "percentual_exp = df['experience_level'].value_counts(normalize=True) * 100\n",
    "\n",
    "tabela_exp = pd.DataFrame({'Quantidade': quantidade_exp,\n",
    "                           'Porcentagem (%)': percentual_exp})\n",
    "\n",
    "tabela_exp = tabela_exp.reset_index().rename(columns={'index': 'Experiência'})"
   ]
  },
  {
   "cell_type": "code",
   "execution_count": 24,
   "metadata": {},
   "outputs": [
    {
     "data": {
      "text/html": [
       "<style type=\"text/css\">\n",
       "#T_4e16d_row0_col0, #T_4e16d_row0_col1, #T_4e16d_row0_col2, #T_4e16d_row1_col0, #T_4e16d_row1_col1, #T_4e16d_row1_col2, #T_4e16d_row2_col0, #T_4e16d_row2_col1, #T_4e16d_row2_col2, #T_4e16d_row3_col0, #T_4e16d_row3_col1, #T_4e16d_row3_col2 {\n",
       "  text-align: center;\n",
       "}\n",
       "</style>\n",
       "<table id=\"T_4e16d\">\n",
       "  <thead>\n",
       "    <tr>\n",
       "      <th class=\"blank level0\" >&nbsp;</th>\n",
       "      <th id=\"T_4e16d_level0_col0\" class=\"col_heading level0 col0\" >Experiência</th>\n",
       "      <th id=\"T_4e16d_level0_col1\" class=\"col_heading level0 col1\" >Quantidade</th>\n",
       "      <th id=\"T_4e16d_level0_col2\" class=\"col_heading level0 col2\" >Porcentagem (%)</th>\n",
       "    </tr>\n",
       "  </thead>\n",
       "  <tbody>\n",
       "    <tr>\n",
       "      <th id=\"T_4e16d_level0_row0\" class=\"row_heading level0 row0\" >0</th>\n",
       "      <td id=\"T_4e16d_row0_col0\" class=\"data row0 col0\" >Senior</td>\n",
       "      <td id=\"T_4e16d_row0_col1\" class=\"data row0 col1\" >3444</td>\n",
       "      <td id=\"T_4e16d_row0_col2\" class=\"data row0 col2\" >64.482307</td>\n",
       "    </tr>\n",
       "    <tr>\n",
       "      <th id=\"T_4e16d_level0_row1\" class=\"row_heading level0 row1\" >1</th>\n",
       "      <td id=\"T_4e16d_row1_col0\" class=\"data row1 col0\" >Mid-level</td>\n",
       "      <td id=\"T_4e16d_row1_col1\" class=\"data row1 col1\" >1274</td>\n",
       "      <td id=\"T_4e16d_row1_col2\" class=\"data row1 col2\" >23.853211</td>\n",
       "    </tr>\n",
       "    <tr>\n",
       "      <th id=\"T_4e16d_level0_row2\" class=\"row_heading level0 row2\" >2</th>\n",
       "      <td id=\"T_4e16d_row2_col0\" class=\"data row2 col0\" >Entry-level</td>\n",
       "      <td id=\"T_4e16d_row2_col1\" class=\"data row2 col1\" >400</td>\n",
       "      <td id=\"T_4e16d_row2_col2\" class=\"data row2 col2\" >7.489234</td>\n",
       "    </tr>\n",
       "    <tr>\n",
       "      <th id=\"T_4e16d_level0_row3\" class=\"row_heading level0 row3\" >3</th>\n",
       "      <td id=\"T_4e16d_row3_col0\" class=\"data row3 col0\" >Executive</td>\n",
       "      <td id=\"T_4e16d_row3_col1\" class=\"data row3 col1\" >223</td>\n",
       "      <td id=\"T_4e16d_row3_col2\" class=\"data row3 col2\" >4.175248</td>\n",
       "    </tr>\n",
       "  </tbody>\n",
       "</table>\n"
      ],
      "text/plain": [
       "<pandas.io.formats.style.Styler at 0x21b83176670>"
      ]
     },
     "execution_count": 24,
     "metadata": {},
     "output_type": "execute_result"
    }
   ],
   "source": [
    "# Centralizando a visualização da tabela\n",
    "tabela_exp.style.set_properties(**{'text-align': 'center'})"
   ]
  },
  {
   "cell_type": "markdown",
   "metadata": {},
   "source": [
    "#### 4 - Explorando visualizações com matplotlib e seaborn"
   ]
  },
  {
   "cell_type": "markdown",
   "metadata": {},
   "source": [
    "- Criando uma visualização com subplots da biblioteca matplotlib."
   ]
  },
  {
   "cell_type": "code",
   "execution_count": 25,
   "metadata": {},
   "outputs": [],
   "source": [
    "tabela_categoria['Categoria'] = tabela_categoria['Categoria'].str.replace('\\n', ' and ')"
   ]
  },
  {
   "cell_type": "code",
   "execution_count": 26,
   "metadata": {},
   "outputs": [
    {
     "data": {
      "image/png": "[encoded data removed]",
      "text/plain": [
       "<Figure size 1200x800 with 2 Axes>"
      ]
     },
     "metadata": {},
     "output_type": "display_data"
    }
   ],
   "source": [
    "# Definindo o tamanho da imagem\n",
    "plt.figure(figsize=(12, 8))\n",
    "\n",
    "# Criando um gráfico de barras horizontais\n",
    "plt.subplot(2, 2, 1)\n",
    "plt.barh(tabela_categoria['Categoria'], tabela_categoria['Frequência'], color='grey')\n",
    "for i, quantidade in enumerate(tabela_categoria['Frequência']):\n",
    "    plt.text(quantidade + 50, i, str(quantidade), va='center')\n",
    "plt.title('Quantidade de vagas por Categoria')\n",
    "plt.xlim(0, 1900)\n",
    "\n",
    "# Criando um gráfico de barras horizontais\n",
    "plt.subplot(2, 2, 2)\n",
    "plt.barh(tabela_exp['Experiência'], tabela_exp['Quantidade'], color='grey')\n",
    "for i, quantidade in enumerate(tabela_exp['Quantidade']):\n",
    "    plt.text(quantidade + 50, i, str(quantidade), va='center')\n",
    "plt.title('Quantidade por Nível de Experiência')\n",
    "plt.xlim(0, 3900)\n",
    "\n",
    "# Ajustando o tamanho\n",
    "plt.tight_layout()"
   ]
  },
  {
   "cell_type": "markdown",
   "metadata": {},
   "source": [
    "- Criando uma tabela de distribuição de frequências com categoria e nível de experiência"
   ]
  },
  {
   "cell_type": "code",
   "execution_count": 27,
   "metadata": {},
   "outputs": [],
   "source": [
    "# Tabela de distribuição cruzada usando crosstab\n",
    "tabela_dist_exp = pd.crosstab(index=df['job_category'],\n",
    "                 columns=df['experience_level'],\n",
    "                 aggfunc='count',\n",
    "                 values=df['job_category'])\n",
    "\n",
    "tabela_dist_exp['Total'] = tabela_dist_exp.sum(axis=1)\n",
    "\n",
    "tabela_dist_exp = tabela_dist_exp.sort_values(by='Total', ascending=False)\n",
    "\n",
    "tabela_dist_exp = tabela_dist_exp.rename_axis('Categoria').rename_axis('Experiência', axis='columns')"
   ]
  },
  {
   "cell_type": "code",
   "execution_count": 28,
   "metadata": {},
   "outputs": [
    {
     "data": {
      "text/html": [
       "<style type=\"text/css\">\n",
       "#T_00e0e_row0_col0, #T_00e0e_row0_col2, #T_00e0e_row0_col3, #T_00e0e_row0_col4, #T_00e0e_row1_col1 {\n",
       "  background-color: #000000;\n",
       "  color: #f1f1f1;\n",
       "}\n",
       "#T_00e0e_row0_col1 {\n",
       "  background-color: #1b1b1b;\n",
       "  color: #f1f1f1;\n",
       "}\n",
       "#T_00e0e_row1_col0 {\n",
       "  background-color: #9b9b9b;\n",
       "  color: #f1f1f1;\n",
       "}\n",
       "#T_00e0e_row1_col2 {\n",
       "  background-color: #323232;\n",
       "  color: #f1f1f1;\n",
       "}\n",
       "#T_00e0e_row1_col3 {\n",
       "  background-color: #525252;\n",
       "  color: #f1f1f1;\n",
       "}\n",
       "#T_00e0e_row1_col4 {\n",
       "  background-color: #4c4c4c;\n",
       "  color: #f1f1f1;\n",
       "}\n",
       "#T_00e0e_row2_col0 {\n",
       "  background-color: #8a8a8a;\n",
       "  color: #f1f1f1;\n",
       "}\n",
       "#T_00e0e_row2_col1 {\n",
       "  background-color: #d3d3d3;\n",
       "  color: #000000;\n",
       "}\n",
       "#T_00e0e_row2_col2 {\n",
       "  background-color: #747474;\n",
       "  color: #f1f1f1;\n",
       "}\n",
       "#T_00e0e_row2_col3 {\n",
       "  background-color: #686868;\n",
       "  color: #f1f1f1;\n",
       "}\n",
       "#T_00e0e_row2_col4 {\n",
       "  background-color: #727272;\n",
       "  color: #f1f1f1;\n",
       "}\n",
       "#T_00e0e_row3_col0 {\n",
       "  background-color: #353535;\n",
       "  color: #f1f1f1;\n",
       "}\n",
       "#T_00e0e_row3_col1 {\n",
       "  background-color: #c9c9c9;\n",
       "  color: #000000;\n",
       "}\n",
       "#T_00e0e_row3_col2 {\n",
       "  background-color: #585858;\n",
       "  color: #f1f1f1;\n",
       "}\n",
       "#T_00e0e_row3_col3 {\n",
       "  background-color: #989898;\n",
       "  color: #f1f1f1;\n",
       "}\n",
       "#T_00e0e_row3_col4 {\n",
       "  background-color: #838383;\n",
       "  color: #f1f1f1;\n",
       "}\n",
       "#T_00e0e_row4_col0, #T_00e0e_row6_col2, #T_00e0e_row7_col0 {\n",
       "  background-color: #ededed;\n",
       "  color: #000000;\n",
       "}\n",
       "#T_00e0e_row4_col1 {\n",
       "  background-color: #626262;\n",
       "  color: #f1f1f1;\n",
       "}\n",
       "#T_00e0e_row4_col2 {\n",
       "  background-color: #cecece;\n",
       "  color: #000000;\n",
       "}\n",
       "#T_00e0e_row4_col3 {\n",
       "  background-color: #cccccc;\n",
       "  color: #000000;\n",
       "}\n",
       "#T_00e0e_row4_col4 {\n",
       "  background-color: #cacaca;\n",
       "  color: #000000;\n",
       "}\n",
       "#T_00e0e_row5_col0 {\n",
       "  background-color: #f3f3f3;\n",
       "  color: #000000;\n",
       "}\n",
       "#T_00e0e_row5_col1 {\n",
       "  background-color: #f2f2f2;\n",
       "  color: #000000;\n",
       "}\n",
       "#T_00e0e_row5_col2 {\n",
       "  background-color: #e0e0e0;\n",
       "  color: #000000;\n",
       "}\n",
       "#T_00e0e_row5_col3, #T_00e0e_row6_col3 {\n",
       "  background-color: #e1e1e1;\n",
       "  color: #000000;\n",
       "}\n",
       "#T_00e0e_row5_col4 {\n",
       "  background-color: #e3e3e3;\n",
       "  color: #000000;\n",
       "}\n",
       "#T_00e0e_row6_col0, #T_00e0e_row7_col1, #T_00e0e_row8_col1, #T_00e0e_row9_col0, #T_00e0e_row9_col1, #T_00e0e_row9_col2, #T_00e0e_row9_col3, #T_00e0e_row9_col4 {\n",
       "  background-color: #ffffff;\n",
       "  color: #000000;\n",
       "}\n",
       "#T_00e0e_row6_col1, #T_00e0e_row7_col4, #T_00e0e_row8_col2, #T_00e0e_row8_col3, #T_00e0e_row8_col4 {\n",
       "  background-color: #f9f9f9;\n",
       "  color: #000000;\n",
       "}\n",
       "#T_00e0e_row6_col4 {\n",
       "  background-color: #e7e7e7;\n",
       "  color: #000000;\n",
       "}\n",
       "#T_00e0e_row7_col2 {\n",
       "  background-color: #f6f6f6;\n",
       "  color: #000000;\n",
       "}\n",
       "#T_00e0e_row7_col3, #T_00e0e_row8_col0 {\n",
       "  background-color: #fafafa;\n",
       "  color: #000000;\n",
       "}\n",
       "</style>\n",
       "<table id=\"T_00e0e\">\n",
       "  <thead>\n",
       "    <tr>\n",
       "      <th class=\"index_name level0\" >Experiência</th>\n",
       "      <th id=\"T_00e0e_level0_col0\" class=\"col_heading level0 col0\" >Entry-level</th>\n",
       "      <th id=\"T_00e0e_level0_col1\" class=\"col_heading level0 col1\" >Executive</th>\n",
       "      <th id=\"T_00e0e_level0_col2\" class=\"col_heading level0 col2\" >Mid-level</th>\n",
       "      <th id=\"T_00e0e_level0_col3\" class=\"col_heading level0 col3\" >Senior</th>\n",
       "      <th id=\"T_00e0e_level0_col4\" class=\"col_heading level0 col4\" >Total</th>\n",
       "    </tr>\n",
       "    <tr>\n",
       "      <th class=\"index_name level0\" >Categoria</th>\n",
       "      <th class=\"blank col0\" >&nbsp;</th>\n",
       "      <th class=\"blank col1\" >&nbsp;</th>\n",
       "      <th class=\"blank col2\" >&nbsp;</th>\n",
       "      <th class=\"blank col3\" >&nbsp;</th>\n",
       "      <th class=\"blank col4\" >&nbsp;</th>\n",
       "    </tr>\n",
       "  </thead>\n",
       "  <tbody>\n",
       "    <tr>\n",
       "      <th id=\"T_00e0e_level0_row0\" class=\"row_heading level0 row0\" >Data Science and Research</th>\n",
       "      <td id=\"T_00e0e_row0_col0\" class=\"data row0 col0\" >140</td>\n",
       "      <td id=\"T_00e0e_row0_col1\" class=\"data row0 col1\" >67</td>\n",
       "      <td id=\"T_00e0e_row0_col2\" class=\"data row0 col2\" >369</td>\n",
       "      <td id=\"T_00e0e_row0_col3\" class=\"data row0 col3\" >1079</td>\n",
       "      <td id=\"T_00e0e_row0_col4\" class=\"data row0 col4\" >1655</td>\n",
       "    </tr>\n",
       "    <tr>\n",
       "      <th id=\"T_00e0e_level0_row1\" class=\"row_heading level0 row1\" >Data Engineering</th>\n",
       "      <td id=\"T_00e0e_row1_col0\" class=\"data row1 col0\" >55</td>\n",
       "      <td id=\"T_00e0e_row1_col1\" class=\"data row1 col1\" >75</td>\n",
       "      <td id=\"T_00e0e_row1_col2\" class=\"data row1 col2\" >296</td>\n",
       "      <td id=\"T_00e0e_row1_col3\" class=\"data row1 col3\" >734</td>\n",
       "      <td id=\"T_00e0e_row1_col4\" class=\"data row1 col4\" >1160</td>\n",
       "    </tr>\n",
       "    <tr>\n",
       "      <th id=\"T_00e0e_level0_row2\" class=\"row_heading level0 row2\" >Machine Learning and AI</th>\n",
       "      <td id=\"T_00e0e_row2_col0\" class=\"data row2 col0\" >64</td>\n",
       "      <td id=\"T_00e0e_row2_col1\" class=\"data row2 col1\" >13</td>\n",
       "      <td id=\"T_00e0e_row2_col2\" class=\"data row2 col2\" >201</td>\n",
       "      <td id=\"T_00e0e_row2_col3\" class=\"data row2 col3\" >639</td>\n",
       "      <td id=\"T_00e0e_row2_col4\" class=\"data row2 col4\" >917</td>\n",
       "    </tr>\n",
       "    <tr>\n",
       "      <th id=\"T_00e0e_level0_row3\" class=\"row_heading level0 row3\" >Data Analysis</th>\n",
       "      <td id=\"T_00e0e_row3_col0\" class=\"data row3 col0\" >111</td>\n",
       "      <td id=\"T_00e0e_row3_col1\" class=\"data row3 col1\" >16</td>\n",
       "      <td id=\"T_00e0e_row3_col2\" class=\"data row3 col2\" >241</td>\n",
       "      <td id=\"T_00e0e_row3_col3\" class=\"data row3 col3\" >441</td>\n",
       "      <td id=\"T_00e0e_row3_col4\" class=\"data row3 col4\" >809</td>\n",
       "    </tr>\n",
       "    <tr>\n",
       "      <th id=\"T_00e0e_level0_row4\" class=\"row_heading level0 row4\" >Leadership and Management</th>\n",
       "      <td id=\"T_00e0e_row4_col0\" class=\"data row4 col0\" >10</td>\n",
       "      <td id=\"T_00e0e_row4_col1\" class=\"data row4 col1\" >46</td>\n",
       "      <td id=\"T_00e0e_row4_col2\" class=\"data row4 col2\" >72</td>\n",
       "      <td id=\"T_00e0e_row4_col3\" class=\"data row4 col3\" >223</td>\n",
       "      <td id=\"T_00e0e_row4_col4\" class=\"data row4 col4\" >351</td>\n",
       "    </tr>\n",
       "    <tr>\n",
       "      <th id=\"T_00e0e_level0_row5\" class=\"row_heading level0 row5\" >BI and Visualization</th>\n",
       "      <td id=\"T_00e0e_row5_col0\" class=\"data row5 col0\" >7</td>\n",
       "      <td id=\"T_00e0e_row5_col1\" class=\"data row5 col1\" >4</td>\n",
       "      <td id=\"T_00e0e_row5_col2\" class=\"data row5 col2\" >45</td>\n",
       "      <td id=\"T_00e0e_row5_col3\" class=\"data row5 col3\" >132</td>\n",
       "      <td id=\"T_00e0e_row5_col4\" class=\"data row5 col4\" >188</td>\n",
       "    </tr>\n",
       "    <tr>\n",
       "      <th id=\"T_00e0e_level0_row6\" class=\"row_heading level0 row6\" >Data Architecture and Modeling</th>\n",
       "      <td id=\"T_00e0e_row6_col0\" class=\"data row6 col0\" >0</td>\n",
       "      <td id=\"T_00e0e_row6_col1\" class=\"data row6 col1\" >2</td>\n",
       "      <td id=\"T_00e0e_row6_col2\" class=\"data row6 col2\" >27</td>\n",
       "      <td id=\"T_00e0e_row6_col3\" class=\"data row6 col3\" >133</td>\n",
       "      <td id=\"T_00e0e_row6_col4\" class=\"data row6 col4\" >162</td>\n",
       "    </tr>\n",
       "    <tr>\n",
       "      <th id=\"T_00e0e_level0_row7\" class=\"row_heading level0 row7\" >Data Management and Strategy</th>\n",
       "      <td id=\"T_00e0e_row7_col0\" class=\"data row7 col0\" >10</td>\n",
       "      <td id=\"T_00e0e_row7_col1\" class=\"data row7 col1\" >0</td>\n",
       "      <td id=\"T_00e0e_row7_col2\" class=\"data row7 col2\" >13</td>\n",
       "      <td id=\"T_00e0e_row7_col3\" class=\"data row7 col3\" >26</td>\n",
       "      <td id=\"T_00e0e_row7_col4\" class=\"data row7 col4\" >49</td>\n",
       "    </tr>\n",
       "    <tr>\n",
       "      <th id=\"T_00e0e_level0_row8\" class=\"row_heading level0 row8\" >Data Quality and Operations</th>\n",
       "      <td id=\"T_00e0e_row8_col0\" class=\"data row8 col0\" >3</td>\n",
       "      <td id=\"T_00e0e_row8_col1\" class=\"data row8 col1\" >0</td>\n",
       "      <td id=\"T_00e0e_row8_col2\" class=\"data row8 col2\" >10</td>\n",
       "      <td id=\"T_00e0e_row8_col3\" class=\"data row8 col3\" >32</td>\n",
       "      <td id=\"T_00e0e_row8_col4\" class=\"data row8 col4\" >45</td>\n",
       "    </tr>\n",
       "    <tr>\n",
       "      <th id=\"T_00e0e_level0_row9\" class=\"row_heading level0 row9\" >Cloud and Database</th>\n",
       "      <td id=\"T_00e0e_row9_col0\" class=\"data row9 col0\" >0</td>\n",
       "      <td id=\"T_00e0e_row9_col1\" class=\"data row9 col1\" >0</td>\n",
       "      <td id=\"T_00e0e_row9_col2\" class=\"data row9 col2\" >0</td>\n",
       "      <td id=\"T_00e0e_row9_col3\" class=\"data row9 col3\" >5</td>\n",
       "      <td id=\"T_00e0e_row9_col4\" class=\"data row9 col4\" >5</td>\n",
       "    </tr>\n",
       "  </tbody>\n",
       "</table>\n"
      ],
      "text/plain": [
       "<pandas.io.formats.style.Styler at 0x21b83a12910>"
      ]
     },
     "execution_count": 28,
     "metadata": {},
     "output_type": "execute_result"
    }
   ],
   "source": [
    "# Visualizando a tabela em um HeatMap\n",
    "tabela_dist_exp.style.background_gradient(cmap='binary')"
   ]
  },
  {
   "cell_type": "code",
   "execution_count": 29,
   "metadata": {},
   "outputs": [],
   "source": [
    "# Removendo a coluna Total para criar um HeatMap\n",
    "tabela_dist_exp = tabela_dist_exp.drop(columns='Total', axis=1)\n",
    "\n",
    "# Somando os totais das linhas para transformar em %\n",
    "soma_linhas = tabela_dist_exp.sum(axis=1)\n",
    "categoria_exp = (tabela_dist_exp.div(soma_linhas, axis=0) * 100)"
   ]
  },
  {
   "cell_type": "markdown",
   "metadata": {},
   "source": [
    "- Visualizando a proporção em % das Categorias por Nível de Experiência com `style`"
   ]
  },
  {
   "cell_type": "code",
   "execution_count": 30,
   "metadata": {},
   "outputs": [
    {
     "data": {
      "text/html": [
       "<style type=\"text/css\">\n",
       "#T_36fb9_row0_col0 {\n",
       "  background-color: #959595;\n",
       "  color: #f1f1f1;\n",
       "}\n",
       "#T_36fb9_row0_col1 {\n",
       "  background-color: #b0b0b0;\n",
       "  color: #000000;\n",
       "}\n",
       "#T_36fb9_row0_col2 {\n",
       "  background-color: #404040;\n",
       "  color: #f1f1f1;\n",
       "}\n",
       "#T_36fb9_row0_col3 {\n",
       "  background-color: #bdbdbd;\n",
       "  color: #000000;\n",
       "}\n",
       "#T_36fb9_row1_col0 {\n",
       "  background-color: #c4c4c4;\n",
       "  color: #000000;\n",
       "}\n",
       "#T_36fb9_row1_col1 {\n",
       "  background-color: #818181;\n",
       "  color: #f1f1f1;\n",
       "}\n",
       "#T_36fb9_row1_col2 {\n",
       "  background-color: #242424;\n",
       "  color: #f1f1f1;\n",
       "}\n",
       "#T_36fb9_row1_col3 {\n",
       "  background-color: #c8c8c8;\n",
       "  color: #000000;\n",
       "}\n",
       "#T_36fb9_row2_col0 {\n",
       "  background-color: #a8a8a8;\n",
       "  color: #f1f1f1;\n",
       "}\n",
       "#T_36fb9_row2_col1 {\n",
       "  background-color: #e4e4e4;\n",
       "  color: #000000;\n",
       "}\n",
       "#T_36fb9_row2_col2 {\n",
       "  background-color: #434343;\n",
       "  color: #f1f1f1;\n",
       "}\n",
       "#T_36fb9_row2_col3 {\n",
       "  background-color: #a5a5a5;\n",
       "  color: #f1f1f1;\n",
       "}\n",
       "#T_36fb9_row3_col0 {\n",
       "  background-color: #535353;\n",
       "  color: #f1f1f1;\n",
       "}\n",
       "#T_36fb9_row3_col1 {\n",
       "  background-color: #d9d9d9;\n",
       "  color: #000000;\n",
       "}\n",
       "#T_36fb9_row3_col2, #T_36fb9_row4_col1, #T_36fb9_row7_col0, #T_36fb9_row9_col3 {\n",
       "  background-color: #000000;\n",
       "  color: #f1f1f1;\n",
       "}\n",
       "#T_36fb9_row3_col3 {\n",
       "  background-color: #f8f8f8;\n",
       "  color: #000000;\n",
       "}\n",
       "#T_36fb9_row4_col0 {\n",
       "  background-color: #dcdcdc;\n",
       "  color: #000000;\n",
       "}\n",
       "#T_36fb9_row4_col2 {\n",
       "  background-color: #4f4f4f;\n",
       "  color: #f1f1f1;\n",
       "}\n",
       "#T_36fb9_row4_col3 {\n",
       "  background-color: #c6c6c6;\n",
       "  color: #000000;\n",
       "}\n",
       "#T_36fb9_row5_col0 {\n",
       "  background-color: #d1d1d1;\n",
       "  color: #000000;\n",
       "}\n",
       "#T_36fb9_row5_col1 {\n",
       "  background-color: #d6d6d6;\n",
       "  color: #000000;\n",
       "}\n",
       "#T_36fb9_row5_col2 {\n",
       "  background-color: #323232;\n",
       "  color: #f1f1f1;\n",
       "}\n",
       "#T_36fb9_row5_col3 {\n",
       "  background-color: #a2a2a2;\n",
       "  color: #f1f1f1;\n",
       "}\n",
       "#T_36fb9_row6_col0, #T_36fb9_row7_col1, #T_36fb9_row7_col3, #T_36fb9_row8_col1, #T_36fb9_row9_col0, #T_36fb9_row9_col1, #T_36fb9_row9_col2 {\n",
       "  background-color: #ffffff;\n",
       "  color: #000000;\n",
       "}\n",
       "#T_36fb9_row6_col1 {\n",
       "  background-color: #e7e7e7;\n",
       "  color: #000000;\n",
       "}\n",
       "#T_36fb9_row6_col2 {\n",
       "  background-color: #707070;\n",
       "  color: #f1f1f1;\n",
       "}\n",
       "#T_36fb9_row6_col3 {\n",
       "  background-color: #616161;\n",
       "  color: #f1f1f1;\n",
       "}\n",
       "#T_36fb9_row7_col2 {\n",
       "  background-color: #1c1c1c;\n",
       "  color: #f1f1f1;\n",
       "}\n",
       "#T_36fb9_row8_col0 {\n",
       "  background-color: #acacac;\n",
       "  color: #000000;\n",
       "}\n",
       "#T_36fb9_row8_col2 {\n",
       "  background-color: #414141;\n",
       "  color: #f1f1f1;\n",
       "}\n",
       "#T_36fb9_row8_col3 {\n",
       "  background-color: #9d9d9d;\n",
       "  color: #f1f1f1;\n",
       "}\n",
       "</style>\n",
       "<table id=\"T_36fb9\">\n",
       "  <thead>\n",
       "    <tr>\n",
       "      <th class=\"index_name level0\" >Experiência</th>\n",
       "      <th id=\"T_36fb9_level0_col0\" class=\"col_heading level0 col0\" >Entry-level</th>\n",
       "      <th id=\"T_36fb9_level0_col1\" class=\"col_heading level0 col1\" >Executive</th>\n",
       "      <th id=\"T_36fb9_level0_col2\" class=\"col_heading level0 col2\" >Mid-level</th>\n",
       "      <th id=\"T_36fb9_level0_col3\" class=\"col_heading level0 col3\" >Senior</th>\n",
       "    </tr>\n",
       "    <tr>\n",
       "      <th class=\"index_name level0\" >Categoria</th>\n",
       "      <th class=\"blank col0\" >&nbsp;</th>\n",
       "      <th class=\"blank col1\" >&nbsp;</th>\n",
       "      <th class=\"blank col2\" >&nbsp;</th>\n",
       "      <th class=\"blank col3\" >&nbsp;</th>\n",
       "    </tr>\n",
       "  </thead>\n",
       "  <tbody>\n",
       "    <tr>\n",
       "      <th id=\"T_36fb9_level0_row0\" class=\"row_heading level0 row0\" >Data Science and Research</th>\n",
       "      <td id=\"T_36fb9_row0_col0\" class=\"data row0 col0\" >8.459215</td>\n",
       "      <td id=\"T_36fb9_row0_col1\" class=\"data row0 col1\" >4.048338</td>\n",
       "      <td id=\"T_36fb9_row0_col2\" class=\"data row0 col2\" >22.296073</td>\n",
       "      <td id=\"T_36fb9_row0_col3\" class=\"data row0 col3\" >65.196375</td>\n",
       "    </tr>\n",
       "    <tr>\n",
       "      <th id=\"T_36fb9_level0_row1\" class=\"row_heading level0 row1\" >Data Engineering</th>\n",
       "      <td id=\"T_36fb9_row1_col0\" class=\"data row1 col0\" >4.741379</td>\n",
       "      <td id=\"T_36fb9_row1_col1\" class=\"data row1 col1\" >6.465517</td>\n",
       "      <td id=\"T_36fb9_row1_col2\" class=\"data row1 col2\" >25.517241</td>\n",
       "      <td id=\"T_36fb9_row1_col3\" class=\"data row1 col3\" >63.275862</td>\n",
       "    </tr>\n",
       "    <tr>\n",
       "      <th id=\"T_36fb9_level0_row2\" class=\"row_heading level0 row2\" >Machine Learning and AI</th>\n",
       "      <td id=\"T_36fb9_row2_col0\" class=\"data row2 col0\" >6.979280</td>\n",
       "      <td id=\"T_36fb9_row2_col1\" class=\"data row2 col1\" >1.417666</td>\n",
       "      <td id=\"T_36fb9_row2_col2\" class=\"data row2 col2\" >21.919302</td>\n",
       "      <td id=\"T_36fb9_row2_col3\" class=\"data row2 col3\" >69.683751</td>\n",
       "    </tr>\n",
       "    <tr>\n",
       "      <th id=\"T_36fb9_level0_row3\" class=\"row_heading level0 row3\" >Data Analysis</th>\n",
       "      <td id=\"T_36fb9_row3_col0\" class=\"data row3 col0\" >13.720643</td>\n",
       "      <td id=\"T_36fb9_row3_col1\" class=\"data row3 col1\" >1.977750</td>\n",
       "      <td id=\"T_36fb9_row3_col2\" class=\"data row3 col2\" >29.789864</td>\n",
       "      <td id=\"T_36fb9_row3_col3\" class=\"data row3 col3\" >54.511743</td>\n",
       "    </tr>\n",
       "    <tr>\n",
       "      <th id=\"T_36fb9_level0_row4\" class=\"row_heading level0 row4\" >Leadership and Management</th>\n",
       "      <td id=\"T_36fb9_row4_col0\" class=\"data row4 col0\" >2.849003</td>\n",
       "      <td id=\"T_36fb9_row4_col1\" class=\"data row4 col1\" >13.105413</td>\n",
       "      <td id=\"T_36fb9_row4_col2\" class=\"data row4 col2\" >20.512821</td>\n",
       "      <td id=\"T_36fb9_row4_col3\" class=\"data row4 col3\" >63.532764</td>\n",
       "    </tr>\n",
       "    <tr>\n",
       "      <th id=\"T_36fb9_level0_row5\" class=\"row_heading level0 row5\" >BI and Visualization</th>\n",
       "      <td id=\"T_36fb9_row5_col0\" class=\"data row5 col0\" >3.723404</td>\n",
       "      <td id=\"T_36fb9_row5_col1\" class=\"data row5 col1\" >2.127660</td>\n",
       "      <td id=\"T_36fb9_row5_col2\" class=\"data row5 col2\" >23.936170</td>\n",
       "      <td id=\"T_36fb9_row5_col3\" class=\"data row5 col3\" >70.212766</td>\n",
       "    </tr>\n",
       "    <tr>\n",
       "      <th id=\"T_36fb9_level0_row6\" class=\"row_heading level0 row6\" >Data Architecture and Modeling</th>\n",
       "      <td id=\"T_36fb9_row6_col0\" class=\"data row6 col0\" >0.000000</td>\n",
       "      <td id=\"T_36fb9_row6_col1\" class=\"data row6 col1\" >1.234568</td>\n",
       "      <td id=\"T_36fb9_row6_col2\" class=\"data row6 col2\" >16.666667</td>\n",
       "      <td id=\"T_36fb9_row6_col3\" class=\"data row6 col3\" >82.098765</td>\n",
       "    </tr>\n",
       "    <tr>\n",
       "      <th id=\"T_36fb9_level0_row7\" class=\"row_heading level0 row7\" >Data Management and Strategy</th>\n",
       "      <td id=\"T_36fb9_row7_col0\" class=\"data row7 col0\" >20.408163</td>\n",
       "      <td id=\"T_36fb9_row7_col1\" class=\"data row7 col1\" >0.000000</td>\n",
       "      <td id=\"T_36fb9_row7_col2\" class=\"data row7 col2\" >26.530612</td>\n",
       "      <td id=\"T_36fb9_row7_col3\" class=\"data row7 col3\" >53.061224</td>\n",
       "    </tr>\n",
       "    <tr>\n",
       "      <th id=\"T_36fb9_level0_row8\" class=\"row_heading level0 row8\" >Data Quality and Operations</th>\n",
       "      <td id=\"T_36fb9_row8_col0\" class=\"data row8 col0\" >6.666667</td>\n",
       "      <td id=\"T_36fb9_row8_col1\" class=\"data row8 col1\" >0.000000</td>\n",
       "      <td id=\"T_36fb9_row8_col2\" class=\"data row8 col2\" >22.222222</td>\n",
       "      <td id=\"T_36fb9_row8_col3\" class=\"data row8 col3\" >71.111111</td>\n",
       "    </tr>\n",
       "    <tr>\n",
       "      <th id=\"T_36fb9_level0_row9\" class=\"row_heading level0 row9\" >Cloud and Database</th>\n",
       "      <td id=\"T_36fb9_row9_col0\" class=\"data row9 col0\" >0.000000</td>\n",
       "      <td id=\"T_36fb9_row9_col1\" class=\"data row9 col1\" >0.000000</td>\n",
       "      <td id=\"T_36fb9_row9_col2\" class=\"data row9 col2\" >0.000000</td>\n",
       "      <td id=\"T_36fb9_row9_col3\" class=\"data row9 col3\" >100.000000</td>\n",
       "    </tr>\n",
       "  </tbody>\n",
       "</table>\n"
      ],
      "text/plain": [
       "<pandas.io.formats.style.Styler at 0x21b838090a0>"
      ]
     },
     "execution_count": 30,
     "metadata": {},
     "output_type": "execute_result"
    }
   ],
   "source": [
    "# Visualizando o DataFrame com um gradiente de cores\n",
    "categoria_exp.style.background_gradient(cmap='binary')"
   ]
  },
  {
   "cell_type": "markdown",
   "metadata": {},
   "source": [
    "- Visualizando a proporção em % das Categorias por Nível de Experiência com `seaborn`"
   ]
  },
  {
   "cell_type": "code",
   "execution_count": 31,
   "metadata": {},
   "outputs": [
    {
     "data": {
      "image/png": "[encoded data removed]",
      "text/plain": [
       "<Figure size 1000x600 with 2 Axes>"
      ]
     },
     "metadata": {},
     "output_type": "display_data"
    }
   ],
   "source": [
    "# Definindo o tamanho da imagem\n",
    "plt.figure(figsize=(10, 6))\n",
    "plt.title('Proporção em % por Nível de Experiência')\n",
    "\n",
    "# Visualizando o DataFrame em um Heatmap\n",
    "ax = sns.heatmap(data=categoria_exp, annot=True, fmt='.2f', cmap='binary')\n",
    "ax.set_xlabel(\"\") # Removendo a descrição dos eixos X e Y\n",
    "ax.set_ylabel(\"\");"
   ]
  },
  {
   "cell_type": "code",
   "execution_count": 32,
   "metadata": {},
   "outputs": [],
   "source": [
    "tb_salario_categoria = df.groupby(['job_category'])\\\n",
    "                            .agg(min=pd.NamedAgg('salary_in_usd', 'min'),\n",
    "                                max=pd.NamedAgg('salary_in_usd', 'max'),\n",
    "                                mean=pd.NamedAgg('salary_in_usd', 'mean'))\\\n",
    "                            .reset_index()\n",
    "\n",
    "tb_salario_categoria.dropna(axis=0, inplace=True)\n",
    "\n",
    "tb_salario_categoria = tb_salario_categoria.rename(columns={'job_category': 'Categoria',\n",
    "                                                            'min': 'Menor Salário',\n",
    "                                                            'max': 'Maior Salário',\n",
    "                                                            'mean': 'Média Salarial'})"
   ]
  },
  {
   "cell_type": "markdown",
   "metadata": {},
   "source": [
    "- DataFrame Formato Largo (Wide Format)"
   ]
  },
  {
   "cell_type": "code",
   "execution_count": 33,
   "metadata": {},
   "outputs": [
    {
     "data": {
      "text/html": [
       "<style type=\"text/css\">\n",
       "#T_e8d58_row0_col0, #T_e8d58_row0_col1, #T_e8d58_row0_col2, #T_e8d58_row0_col3, #T_e8d58_row1_col0, #T_e8d58_row1_col1, #T_e8d58_row1_col2, #T_e8d58_row1_col3, #T_e8d58_row2_col0, #T_e8d58_row2_col1, #T_e8d58_row2_col2, #T_e8d58_row2_col3, #T_e8d58_row3_col0, #T_e8d58_row3_col1, #T_e8d58_row3_col2, #T_e8d58_row3_col3, #T_e8d58_row4_col0, #T_e8d58_row4_col1, #T_e8d58_row4_col2, #T_e8d58_row4_col3, #T_e8d58_row5_col0, #T_e8d58_row5_col1, #T_e8d58_row5_col2, #T_e8d58_row5_col3, #T_e8d58_row6_col0, #T_e8d58_row6_col1, #T_e8d58_row6_col2, #T_e8d58_row6_col3, #T_e8d58_row7_col0, #T_e8d58_row7_col1, #T_e8d58_row7_col2, #T_e8d58_row7_col3, #T_e8d58_row8_col0, #T_e8d58_row8_col1, #T_e8d58_row8_col2, #T_e8d58_row8_col3, #T_e8d58_row9_col0, #T_e8d58_row9_col1, #T_e8d58_row9_col2, #T_e8d58_row9_col3 {\n",
       "  text-align: center;\n",
       "}\n",
       "</style>\n",
       "<table id=\"T_e8d58\">\n",
       "  <thead>\n",
       "    <tr>\n",
       "      <th class=\"blank level0\" >&nbsp;</th>\n",
       "      <th id=\"T_e8d58_level0_col0\" class=\"col_heading level0 col0\" >Categoria</th>\n",
       "      <th id=\"T_e8d58_level0_col1\" class=\"col_heading level0 col1\" >Menor Salário</th>\n",
       "      <th id=\"T_e8d58_level0_col2\" class=\"col_heading level0 col2\" >Maior Salário</th>\n",
       "      <th id=\"T_e8d58_level0_col3\" class=\"col_heading level0 col3\" >Média Salarial</th>\n",
       "    </tr>\n",
       "  </thead>\n",
       "  <tbody>\n",
       "    <tr>\n",
       "      <th id=\"T_e8d58_level0_row0\" class=\"row_heading level0 row0\" >0</th>\n",
       "      <td id=\"T_e8d58_row0_col0\" class=\"data row0 col0\" >BI and Visualization</td>\n",
       "      <td id=\"T_e8d58_row0_col1\" class=\"data row0 col1\" >15000</td>\n",
       "      <td id=\"T_e8d58_row0_col2\" class=\"data row0 col2\" >259900</td>\n",
       "      <td id=\"T_e8d58_row0_col3\" class=\"data row0 col3\" >128377.734043</td>\n",
       "    </tr>\n",
       "    <tr>\n",
       "      <th id=\"T_e8d58_level0_row1\" class=\"row_heading level0 row1\" >1</th>\n",
       "      <td id=\"T_e8d58_row1_col0\" class=\"data row1 col0\" >Cloud and Database</td>\n",
       "      <td id=\"T_e8d58_row1_col1\" class=\"data row1 col1\" >115000</td>\n",
       "      <td id=\"T_e8d58_row1_col2\" class=\"data row1 col2\" >190000</td>\n",
       "      <td id=\"T_e8d58_row1_col3\" class=\"data row1 col3\" >155000.000000</td>\n",
       "    </tr>\n",
       "    <tr>\n",
       "      <th id=\"T_e8d58_level0_row2\" class=\"row_heading level0 row2\" >2</th>\n",
       "      <td id=\"T_e8d58_row2_col0\" class=\"data row2 col0\" >Data Analysis</td>\n",
       "      <td id=\"T_e8d58_row2_col1\" class=\"data row2 col1\" >15000</td>\n",
       "      <td id=\"T_e8d58_row2_col2\" class=\"data row2 col2\" >430967</td>\n",
       "      <td id=\"T_e8d58_row2_col3\" class=\"data row2 col3\" >106707.058096</td>\n",
       "    </tr>\n",
       "    <tr>\n",
       "      <th id=\"T_e8d58_level0_row3\" class=\"row_heading level0 row3\" >3</th>\n",
       "      <td id=\"T_e8d58_row3_col0\" class=\"data row3 col0\" >Data Architecture and Modeling</td>\n",
       "      <td id=\"T_e8d58_row3_col1\" class=\"data row3 col1\" >52500</td>\n",
       "      <td id=\"T_e8d58_row3_col2\" class=\"data row3 col2\" >376080</td>\n",
       "      <td id=\"T_e8d58_row3_col3\" class=\"data row3 col3\" >157054.006173</td>\n",
       "    </tr>\n",
       "    <tr>\n",
       "      <th id=\"T_e8d58_level0_row4\" class=\"row_heading level0 row4\" >4</th>\n",
       "      <td id=\"T_e8d58_row4_col0\" class=\"data row4 col0\" >Data Engineering</td>\n",
       "      <td id=\"T_e8d58_row4_col1\" class=\"data row4 col1\" >18000</td>\n",
       "      <td id=\"T_e8d58_row4_col2\" class=\"data row4 col2\" >385000</td>\n",
       "      <td id=\"T_e8d58_row4_col3\" class=\"data row4 col3\" >142967.543103</td>\n",
       "    </tr>\n",
       "    <tr>\n",
       "      <th id=\"T_e8d58_level0_row5\" class=\"row_heading level0 row5\" >5</th>\n",
       "      <td id=\"T_e8d58_row5_col0\" class=\"data row5 col0\" >Data Management and Strategy</td>\n",
       "      <td id=\"T_e8d58_row5_col1\" class=\"data row5 col1\" >46400</td>\n",
       "      <td id=\"T_e8d58_row5_col2\" class=\"data row5 col2\" >250000</td>\n",
       "      <td id=\"T_e8d58_row5_col3\" class=\"data row5 col3\" >107655.836735</td>\n",
       "    </tr>\n",
       "    <tr>\n",
       "      <th id=\"T_e8d58_level0_row6\" class=\"row_heading level0 row6\" >6</th>\n",
       "      <td id=\"T_e8d58_row6_col0\" class=\"data row6 col0\" >Data Quality and Operations</td>\n",
       "      <td id=\"T_e8d58_row6_col1\" class=\"data row6 col1\" >23753</td>\n",
       "      <td id=\"T_e8d58_row6_col2\" class=\"data row6 col2\" >289120</td>\n",
       "      <td id=\"T_e8d58_row6_col3\" class=\"data row6 col3\" >104586.022222</td>\n",
       "    </tr>\n",
       "    <tr>\n",
       "      <th id=\"T_e8d58_level0_row7\" class=\"row_heading level0 row7\" >7</th>\n",
       "      <td id=\"T_e8d58_row7_col0\" class=\"data row7 col0\" >Data Science and Research</td>\n",
       "      <td id=\"T_e8d58_row7_col1\" class=\"data row7 col1\" >16000</td>\n",
       "      <td id=\"T_e8d58_row7_col2\" class=\"data row7 col2\" >450000</td>\n",
       "      <td id=\"T_e8d58_row7_col3\" class=\"data row7 col3\" >157131.039879</td>\n",
       "    </tr>\n",
       "    <tr>\n",
       "      <th id=\"T_e8d58_level0_row8\" class=\"row_heading level0 row8\" >8</th>\n",
       "      <td id=\"T_e8d58_row8_col0\" class=\"data row8 col0\" >Leadership and Management</td>\n",
       "      <td id=\"T_e8d58_row8_col1\" class=\"data row8 col1\" >20000</td>\n",
       "      <td id=\"T_e8d58_row8_col2\" class=\"data row8 col2\" >430640</td>\n",
       "      <td id=\"T_e8d58_row8_col3\" class=\"data row8 col3\" >149020.108262</td>\n",
       "    </tr>\n",
       "    <tr>\n",
       "      <th id=\"T_e8d58_level0_row9\" class=\"row_heading level0 row9\" >9</th>\n",
       "      <td id=\"T_e8d58_row9_col0\" class=\"data row9 col0\" >Machine Learning and AI</td>\n",
       "      <td id=\"T_e8d58_row9_col1\" class=\"data row9 col1\" >15000</td>\n",
       "      <td id=\"T_e8d58_row9_col2\" class=\"data row9 col2\" >423000</td>\n",
       "      <td id=\"T_e8d58_row9_col3\" class=\"data row9 col3\" >170453.221374</td>\n",
       "    </tr>\n",
       "  </tbody>\n",
       "</table>\n"
      ],
      "text/plain": [
       "<pandas.io.formats.style.Styler at 0x21b83bd4e20>"
      ]
     },
     "execution_count": 33,
     "metadata": {},
     "output_type": "execute_result"
    }
   ],
   "source": [
    "# Centralizando a visualização da tabela\n",
    "tb_salario_categoria.style.set_properties(**{'text-align': 'center'})"
   ]
  },
  {
   "cell_type": "markdown",
   "metadata": {},
   "source": [
    "- DataFrame Formato Longo (Long Format)"
   ]
  },
  {
   "cell_type": "code",
   "execution_count": 34,
   "metadata": {},
   "outputs": [],
   "source": [
    "tb_salario_categoria = tb_salario_categoria.melt(id_vars=\"Categoria\", \n",
    "                                                value_vars=[\"Menor Salário\", \"Maior Salário\", \"Média Salarial\"], \n",
    "                                                var_name=\"Tipo de Salário\", \n",
    "                                                value_name=\"Salário\")"
   ]
  },
  {
   "cell_type": "code",
   "execution_count": 35,
   "metadata": {},
   "outputs": [
    {
     "data": {
      "text/html": [
       "<div>\n",
       "<style scoped>\n",
       "    .dataframe tbody tr th:only-of-type {\n",
       "        vertical-align: middle;\n",
       "    }\n",
       "\n",
       "    .dataframe tbody tr th {\n",
       "        vertical-align: top;\n",
       "    }\n",
       "\n",
       "    .dataframe thead th {\n",
       "        text-align: right;\n",
       "    }\n",
       "</style>\n",
       "<table border=\"1\" class=\"dataframe\">\n",
       "  <thead>\n",
       "    <tr style=\"text-align: right;\">\n",
       "      <th></th>\n",
       "      <th>Categoria</th>\n",
       "      <th>Tipo de Salário</th>\n",
       "      <th>Salário</th>\n",
       "    </tr>\n",
       "  </thead>\n",
       "  <tbody>\n",
       "    <tr>\n",
       "      <th>0</th>\n",
       "      <td>BI and Visualization</td>\n",
       "      <td>Menor Salário</td>\n",
       "      <td>15000.0</td>\n",
       "    </tr>\n",
       "    <tr>\n",
       "      <th>1</th>\n",
       "      <td>Cloud and Database</td>\n",
       "      <td>Menor Salário</td>\n",
       "      <td>115000.0</td>\n",
       "    </tr>\n",
       "    <tr>\n",
       "      <th>2</th>\n",
       "      <td>Data Analysis</td>\n",
       "      <td>Menor Salário</td>\n",
       "      <td>15000.0</td>\n",
       "    </tr>\n",
       "  </tbody>\n",
       "</table>\n",
       "</div>"
      ],
      "text/plain": [
       "              Categoria Tipo de Salário   Salário\n",
       "0  BI and Visualization   Menor Salário   15000.0\n",
       "1    Cloud and Database   Menor Salário  115000.0\n",
       "2         Data Analysis   Menor Salário   15000.0"
      ]
     },
     "execution_count": 35,
     "metadata": {},
     "output_type": "execute_result"
    }
   ],
   "source": [
    "tb_salario_categoria.head(3)"
   ]
  },
  {
   "cell_type": "code",
   "execution_count": 36,
   "metadata": {},
   "outputs": [],
   "source": [
    "tb_salario_categoria.sort_values(by='Salário', ascending=True, inplace=True)"
   ]
  },
  {
   "cell_type": "code",
   "execution_count": 37,
   "metadata": {},
   "outputs": [
    {
     "data": {
      "image/png": "[encoded data removed]",
      "text/plain": [
       "<Figure size 1000x600 with 1 Axes>"
      ]
     },
     "metadata": {},
     "output_type": "display_data"
    }
   ],
   "source": [
    "# Definindo o tamanho da imagem\n",
    "plt.figure(figsize=(10, 6))\n",
    "\n",
    "# Visualizando o DataFrame com Seaborn\n",
    "ax = sns.barplot(data=tb_salario_categoria, y=\"Categoria\", x=\"Salário\", hue=\"Tipo de Salário\", \n",
    "                palette={\"Menor Salário\": \"#8B0000\", \"Maior Salário\": \"purple\", \"Média Salarial\": \"orange\"})\n",
    "\n",
    "# Labels e título\n",
    "plt.xlabel('Salário')\n",
    "plt.ylabel('Categoria')\n",
    "plt.title('Proporção Salarial por Categoria em Ciência de Dados')\n",
    "plt.legend(title='Faixa Salarial')\n",
    "\n",
    "ax.set_xlabel(\"\") # Removendo a descrição dos eixos X e Y\n",
    "ax.set_ylabel(\"\")\n",
    "plt.show()"
   ]
  },
  {
   "cell_type": "code",
   "execution_count": null,
   "metadata": {},
   "outputs": [],
   "source": []
  }
 ],
 "metadata": {
  "kernelspec": {
   "display_name": "Python 3",
   "language": "python",
   "name": "python3"
  },
  "language_info": {
   "codemirror_mode": {
    "name": "ipython",
    "version": 3
   },
   "file_extension": ".py",
   "mimetype": "text/x-python",
   "name": "python",
   "nbconvert_exporter": "python",
   "pygments_lexer": "ipython3",
   "version": "3.9.13"
  }
 },
 "nbformat": 4,
 "nbformat_minor": 2
}
