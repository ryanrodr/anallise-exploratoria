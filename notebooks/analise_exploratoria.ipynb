{
 "cells": [
  {
   "cell_type": "markdown",
   "metadata": {},
   "source": [
    "## Análise Exploratória de Dados"
   ]
  },
  {
   "cell_type": "markdown",
   "metadata": {},
   "source": [
    "#### 1 - Importando os dados\n",
    "\n",
    "Link do Dataset: [Jobs and Salaries in Data Science](https://www.kaggle.com/datasets/hummaamqaasim/jobs-in-data)"
   ]
  },
  {
   "cell_type": "code",
   "execution_count": 1,
   "metadata": {},
   "outputs": [],
   "source": [
    "import pandas as pd\n",
    "import matplotlib.pyplot as plt\n",
    "import warnings\n",
    "import seaborn as sns\n",
    "\n",
    "warnings.filterwarnings('ignore')\n",
    "plt.style.use('bmh')\n",
    "pd.set_option('display.max_columns', 39)"
   ]
  },
  {
   "cell_type": "code",
   "execution_count": 2,
   "metadata": {},
   "outputs": [],
   "source": [
    "arquivo = 'https://raw.githubusercontent.com/ryanrodr/eda-jobs-in-data/main/dados/jobs_in_data.csv'\n",
    "df = pd.read_csv(arquivo)"
   ]
  },
  {
   "cell_type": "code",
   "execution_count": 3,
   "metadata": {},
   "outputs": [
    {
     "name": "stdout",
     "output_type": "stream",
     "text": [
      "9355 linhas e 12 colunas\n"
     ]
    }
   ],
   "source": [
    "print(f'{df.shape[0]} linhas e {df.shape[1]} colunas')"
   ]
  },
  {
   "cell_type": "code",
   "execution_count": 4,
   "metadata": {},
   "outputs": [
    {
     "data": {
      "text/plain": [
       "Index(['work_year', 'job_title', 'job_category', 'salary_currency', 'salary',\n",
       "       'salary_in_usd', 'employee_residence', 'experience_level',\n",
       "       'employment_type', 'work_setting', 'company_location', 'company_size'],\n",
       "      dtype='object')"
      ]
     },
     "execution_count": 4,
     "metadata": {},
     "output_type": "execute_result"
    }
   ],
   "source": [
    "df.columns"
   ]
  },
  {
   "cell_type": "markdown",
   "metadata": {},
   "source": [
    "#### 2 - Limpeza e preparação dos dados"
   ]
  },
  {
   "cell_type": "markdown",
   "metadata": {},
   "source": [
    "- Identificando valores ausentes NaN (Not a Number)."
   ]
  },
  {
   "cell_type": "code",
   "execution_count": 5,
   "metadata": {},
   "outputs": [
    {
     "data": {
      "text/plain": [
       "work_year             0\n",
       "job_title             0\n",
       "job_category          0\n",
       "salary_currency       0\n",
       "salary                0\n",
       "salary_in_usd         0\n",
       "employee_residence    0\n",
       "experience_level      0\n",
       "employment_type       0\n",
       "work_setting          0\n",
       "company_location      0\n",
       "company_size          0\n",
       "dtype: int64"
      ]
     },
     "execution_count": 5,
     "metadata": {},
     "output_type": "execute_result"
    }
   ],
   "source": [
    "df.isna().sum()"
   ]
  },
  {
   "cell_type": "code",
   "execution_count": 6,
   "metadata": {},
   "outputs": [
    {
     "data": {
      "text/html": [
       "<div>\n",
       "<style scoped>\n",
       "    .dataframe tbody tr th:only-of-type {\n",
       "        vertical-align: middle;\n",
       "    }\n",
       "\n",
       "    .dataframe tbody tr th {\n",
       "        vertical-align: top;\n",
       "    }\n",
       "\n",
       "    .dataframe thead th {\n",
       "        text-align: right;\n",
       "    }\n",
       "</style>\n",
       "<table border=\"1\" class=\"dataframe\">\n",
       "  <thead>\n",
       "    <tr style=\"text-align: right;\">\n",
       "      <th></th>\n",
       "      <th>work_year</th>\n",
       "      <th>job_title</th>\n",
       "      <th>job_category</th>\n",
       "      <th>salary_currency</th>\n",
       "      <th>salary</th>\n",
       "      <th>salary_in_usd</th>\n",
       "      <th>employee_residence</th>\n",
       "      <th>experience_level</th>\n",
       "      <th>employment_type</th>\n",
       "      <th>work_setting</th>\n",
       "      <th>company_location</th>\n",
       "      <th>company_size</th>\n",
       "    </tr>\n",
       "  </thead>\n",
       "  <tbody>\n",
       "    <tr>\n",
       "      <th>0</th>\n",
       "      <td>2023</td>\n",
       "      <td>Data DevOps Engineer</td>\n",
       "      <td>Data Engineering</td>\n",
       "      <td>EUR</td>\n",
       "      <td>88000</td>\n",
       "      <td>95012</td>\n",
       "      <td>Germany</td>\n",
       "      <td>Mid-level</td>\n",
       "      <td>Full-time</td>\n",
       "      <td>Hybrid</td>\n",
       "      <td>Germany</td>\n",
       "      <td>L</td>\n",
       "    </tr>\n",
       "    <tr>\n",
       "      <th>1</th>\n",
       "      <td>2023</td>\n",
       "      <td>Data Architect</td>\n",
       "      <td>Data Architecture and Modeling</td>\n",
       "      <td>USD</td>\n",
       "      <td>186000</td>\n",
       "      <td>186000</td>\n",
       "      <td>United States</td>\n",
       "      <td>Senior</td>\n",
       "      <td>Full-time</td>\n",
       "      <td>In-person</td>\n",
       "      <td>United States</td>\n",
       "      <td>M</td>\n",
       "    </tr>\n",
       "    <tr>\n",
       "      <th>2</th>\n",
       "      <td>2023</td>\n",
       "      <td>Data Architect</td>\n",
       "      <td>Data Architecture and Modeling</td>\n",
       "      <td>USD</td>\n",
       "      <td>81800</td>\n",
       "      <td>81800</td>\n",
       "      <td>United States</td>\n",
       "      <td>Senior</td>\n",
       "      <td>Full-time</td>\n",
       "      <td>In-person</td>\n",
       "      <td>United States</td>\n",
       "      <td>M</td>\n",
       "    </tr>\n",
       "  </tbody>\n",
       "</table>\n",
       "</div>"
      ],
      "text/plain": [
       "   work_year             job_title                    job_category  \\\n",
       "0       2023  Data DevOps Engineer                Data Engineering   \n",
       "1       2023        Data Architect  Data Architecture and Modeling   \n",
       "2       2023        Data Architect  Data Architecture and Modeling   \n",
       "\n",
       "  salary_currency  salary  salary_in_usd employee_residence experience_level  \\\n",
       "0             EUR   88000          95012            Germany        Mid-level   \n",
       "1             USD  186000         186000      United States           Senior   \n",
       "2             USD   81800          81800      United States           Senior   \n",
       "\n",
       "  employment_type work_setting company_location company_size  \n",
       "0       Full-time       Hybrid          Germany            L  \n",
       "1       Full-time    In-person    United States            M  \n",
       "2       Full-time    In-person    United States            M  "
      ]
     },
     "execution_count": 6,
     "metadata": {},
     "output_type": "execute_result"
    }
   ],
   "source": [
    "df.head(3)"
   ]
  },
  {
   "cell_type": "markdown",
   "metadata": {},
   "source": [
    "- Removendo colunas que não vão ser utilizadas"
   ]
  },
  {
   "cell_type": "code",
   "execution_count": 7,
   "metadata": {},
   "outputs": [],
   "source": [
    "df.drop(columns=['salary_currency', 'salary', 'employee_residence', 'company_location'], inplace=True)"
   ]
  },
  {
   "cell_type": "markdown",
   "metadata": {},
   "source": [
    "- Convertendo o tipo de dado das colunas"
   ]
  },
  {
   "cell_type": "code",
   "execution_count": 8,
   "metadata": {},
   "outputs": [
    {
     "name": "stdout",
     "output_type": "stream",
     "text": [
      "<class 'pandas.core.frame.DataFrame'>\n",
      "RangeIndex: 9355 entries, 0 to 9354\n",
      "Data columns (total 8 columns):\n",
      " #   Column            Non-Null Count  Dtype \n",
      "---  ------            --------------  ----- \n",
      " 0   work_year         9355 non-null   int64 \n",
      " 1   job_title         9355 non-null   object\n",
      " 2   job_category      9355 non-null   object\n",
      " 3   salary_in_usd     9355 non-null   int64 \n",
      " 4   experience_level  9355 non-null   object\n",
      " 5   employment_type   9355 non-null   object\n",
      " 6   work_setting      9355 non-null   object\n",
      " 7   company_size      9355 non-null   object\n",
      "dtypes: int64(2), object(6)\n",
      "memory usage: 584.8+ KB\n"
     ]
    }
   ],
   "source": [
    "df.info()"
   ]
  },
  {
   "cell_type": "markdown",
   "metadata": {},
   "source": [
    "- Identificando as colunas categóricas que contenham menos de 10 valores únicos e contenham o tipo de dado 'object'"
   ]
  },
  {
   "cell_type": "code",
   "execution_count": 9,
   "metadata": {},
   "outputs": [],
   "source": [
    "limite = 10\n",
    "\n",
    "colunas_categoricas = [col for col in df.columns if df[col].nunique() <= limite and df[col].dtype == 'object']"
   ]
  },
  {
   "cell_type": "code",
   "execution_count": 10,
   "metadata": {},
   "outputs": [
    {
     "data": {
      "text/plain": [
       "['job_category',\n",
       " 'experience_level',\n",
       " 'employment_type',\n",
       " 'work_setting',\n",
       " 'company_size']"
      ]
     },
     "execution_count": 10,
     "metadata": {},
     "output_type": "execute_result"
    }
   ],
   "source": [
    "colunas_categoricas"
   ]
  },
  {
   "cell_type": "markdown",
   "metadata": {},
   "source": [
    "- Alterando o tipo de dado para 'category'"
   ]
  },
  {
   "cell_type": "code",
   "execution_count": 11,
   "metadata": {},
   "outputs": [],
   "source": [
    "df[colunas_categoricas] = df[colunas_categoricas].astype('category')"
   ]
  },
  {
   "cell_type": "code",
   "execution_count": 12,
   "metadata": {},
   "outputs": [
    {
     "name": "stdout",
     "output_type": "stream",
     "text": [
      "<class 'pandas.core.frame.DataFrame'>\n",
      "RangeIndex: 9355 entries, 0 to 9354\n",
      "Data columns (total 8 columns):\n",
      " #   Column            Non-Null Count  Dtype   \n",
      "---  ------            --------------  -----   \n",
      " 0   work_year         9355 non-null   int64   \n",
      " 1   job_title         9355 non-null   object  \n",
      " 2   job_category      9355 non-null   category\n",
      " 3   salary_in_usd     9355 non-null   int64   \n",
      " 4   experience_level  9355 non-null   category\n",
      " 5   employment_type   9355 non-null   category\n",
      " 6   work_setting      9355 non-null   category\n",
      " 7   company_size      9355 non-null   category\n",
      "dtypes: category(5), int64(2), object(1)\n",
      "memory usage: 266.1+ KB\n"
     ]
    }
   ],
   "source": [
    "df.info()"
   ]
  },
  {
   "cell_type": "markdown",
   "metadata": {},
   "source": [
    "#### 3 - Introdução e primeiros passos do projeto"
   ]
  },
  {
   "cell_type": "code",
   "execution_count": 13,
   "metadata": {},
   "outputs": [
    {
     "data": {
      "text/html": [
       "<div>\n",
       "<style scoped>\n",
       "    .dataframe tbody tr th:only-of-type {\n",
       "        vertical-align: middle;\n",
       "    }\n",
       "\n",
       "    .dataframe tbody tr th {\n",
       "        vertical-align: top;\n",
       "    }\n",
       "\n",
       "    .dataframe thead th {\n",
       "        text-align: right;\n",
       "    }\n",
       "</style>\n",
       "<table border=\"1\" class=\"dataframe\">\n",
       "  <thead>\n",
       "    <tr style=\"text-align: right;\">\n",
       "      <th></th>\n",
       "      <th>work_year</th>\n",
       "      <th>job_title</th>\n",
       "      <th>job_category</th>\n",
       "      <th>salary_in_usd</th>\n",
       "      <th>experience_level</th>\n",
       "      <th>employment_type</th>\n",
       "      <th>work_setting</th>\n",
       "      <th>company_size</th>\n",
       "    </tr>\n",
       "  </thead>\n",
       "  <tbody>\n",
       "    <tr>\n",
       "      <th>0</th>\n",
       "      <td>2023</td>\n",
       "      <td>Data DevOps Engineer</td>\n",
       "      <td>Data Engineering</td>\n",
       "      <td>95012</td>\n",
       "      <td>Mid-level</td>\n",
       "      <td>Full-time</td>\n",
       "      <td>Hybrid</td>\n",
       "      <td>L</td>\n",
       "    </tr>\n",
       "    <tr>\n",
       "      <th>1</th>\n",
       "      <td>2023</td>\n",
       "      <td>Data Architect</td>\n",
       "      <td>Data Architecture and Modeling</td>\n",
       "      <td>186000</td>\n",
       "      <td>Senior</td>\n",
       "      <td>Full-time</td>\n",
       "      <td>In-person</td>\n",
       "      <td>M</td>\n",
       "    </tr>\n",
       "    <tr>\n",
       "      <th>2</th>\n",
       "      <td>2023</td>\n",
       "      <td>Data Architect</td>\n",
       "      <td>Data Architecture and Modeling</td>\n",
       "      <td>81800</td>\n",
       "      <td>Senior</td>\n",
       "      <td>Full-time</td>\n",
       "      <td>In-person</td>\n",
       "      <td>M</td>\n",
       "    </tr>\n",
       "  </tbody>\n",
       "</table>\n",
       "</div>"
      ],
      "text/plain": [
       "   work_year             job_title                    job_category  \\\n",
       "0       2023  Data DevOps Engineer                Data Engineering   \n",
       "1       2023        Data Architect  Data Architecture and Modeling   \n",
       "2       2023        Data Architect  Data Architecture and Modeling   \n",
       "\n",
       "   salary_in_usd experience_level employment_type work_setting company_size  \n",
       "0          95012        Mid-level       Full-time       Hybrid            L  \n",
       "1         186000           Senior       Full-time    In-person            M  \n",
       "2          81800           Senior       Full-time    In-person            M  "
      ]
     },
     "execution_count": 13,
     "metadata": {},
     "output_type": "execute_result"
    }
   ],
   "source": [
    "df.head(3)"
   ]
  },
  {
   "cell_type": "markdown",
   "metadata": {},
   "source": [
    "- Criando uma Tabela de Frequência da contagem de cada Categoria"
   ]
  },
  {
   "cell_type": "code",
   "execution_count": 14,
   "metadata": {},
   "outputs": [
    {
     "name": "stdout",
     "output_type": "stream",
     "text": [
      "job_category\n",
      "Data Science and Research         3014\n",
      "Data Engineering                  2260\n",
      "Data Analysis                     1457\n",
      "Machine Learning and AI           1428\n",
      "Leadership and Management          503\n",
      "BI and Visualization               313\n",
      "Data Architecture and Modeling     259\n",
      "Data Management and Strategy        61\n",
      "Data Quality and Operations         55\n",
      "Cloud and Database                   5\n",
      "Name: count, dtype: int64\n",
      "\n",
      " job_category\n",
      "Data Science and Research         32.218065\n",
      "Data Engineering                  24.158204\n",
      "Data Analysis                     15.574559\n",
      "Machine Learning and AI           15.264564\n",
      "Leadership and Management          5.376804\n",
      "BI and Visualization               3.345804\n",
      "Data Architecture and Modeling     2.768573\n",
      "Data Management and Strategy       0.652058\n",
      "Data Quality and Operations        0.587921\n",
      "Cloud and Database                 0.053447\n",
      "Name: proportion, dtype: float64\n"
     ]
    }
   ],
   "source": [
    "# Contando a frequência dos valores com value_counts()\n",
    "frequencia = df['job_category'].value_counts()\n",
    "\n",
    "# Contando a frequência e transformando em %\n",
    "frequencia_relativa = df['job_category'].value_counts(normalize=True) * 100\n",
    "\n",
    "print(f'{frequencia}\\n\\n {frequencia_relativa}')"
   ]
  },
  {
   "cell_type": "code",
   "execution_count": 15,
   "metadata": {},
   "outputs": [
    {
     "data": {
      "text/html": [
       "<div>\n",
       "<style scoped>\n",
       "    .dataframe tbody tr th:only-of-type {\n",
       "        vertical-align: middle;\n",
       "    }\n",
       "\n",
       "    .dataframe tbody tr th {\n",
       "        vertical-align: top;\n",
       "    }\n",
       "\n",
       "    .dataframe thead th {\n",
       "        text-align: right;\n",
       "    }\n",
       "</style>\n",
       "<table border=\"1\" class=\"dataframe\">\n",
       "  <thead>\n",
       "    <tr style=\"text-align: right;\">\n",
       "      <th></th>\n",
       "      <th>Frequência</th>\n",
       "      <th>Frequência Relativa (%)</th>\n",
       "    </tr>\n",
       "    <tr>\n",
       "      <th>job_category</th>\n",
       "      <th></th>\n",
       "      <th></th>\n",
       "    </tr>\n",
       "  </thead>\n",
       "  <tbody>\n",
       "    <tr>\n",
       "      <th>Data Science and Research</th>\n",
       "      <td>3014</td>\n",
       "      <td>32.218065</td>\n",
       "    </tr>\n",
       "    <tr>\n",
       "      <th>Data Engineering</th>\n",
       "      <td>2260</td>\n",
       "      <td>24.158204</td>\n",
       "    </tr>\n",
       "    <tr>\n",
       "      <th>Data Analysis</th>\n",
       "      <td>1457</td>\n",
       "      <td>15.574559</td>\n",
       "    </tr>\n",
       "    <tr>\n",
       "      <th>Machine Learning and AI</th>\n",
       "      <td>1428</td>\n",
       "      <td>15.264564</td>\n",
       "    </tr>\n",
       "  </tbody>\n",
       "</table>\n",
       "</div>"
      ],
      "text/plain": [
       "                           Frequência  Frequência Relativa (%)\n",
       "job_category                                                  \n",
       "Data Science and Research        3014                32.218065\n",
       "Data Engineering                 2260                24.158204\n",
       "Data Analysis                    1457                15.574559\n",
       "Machine Learning and AI          1428                15.264564"
      ]
     },
     "execution_count": 15,
     "metadata": {},
     "output_type": "execute_result"
    }
   ],
   "source": [
    "# Criando um DataFrame com as variáveis\n",
    "tabela_categoria = pd.DataFrame({'Frequência': frequencia,\n",
    "                                 'Frequência Relativa (%)': frequencia_relativa})\n",
    "tabela_categoria.head(4)"
   ]
  },
  {
   "cell_type": "code",
   "execution_count": 16,
   "metadata": {},
   "outputs": [],
   "source": [
    "# Calculando a soma acumulada com a medida de frequência\n",
    "tabela_categoria['Frequência Acumulada'] = tabela_categoria['Frequência'].cumsum()\n",
    "\n",
    "# Calculando a frequência relativa acumulada\n",
    "tabela_categoria['Frequência Relativa Acumulada (%)'] = (tabela_categoria['Frequência Acumulada'] /\n",
    "                                                         tabela_categoria['Frequência'].sum()) * 100"
   ]
  },
  {
   "cell_type": "code",
   "execution_count": 17,
   "metadata": {},
   "outputs": [
    {
     "data": {
      "text/html": [
       "<style type=\"text/css\">\n",
       "#T_32f68_row0_col0, #T_32f68_row0_col1, #T_32f68_row0_col2, #T_32f68_row0_col3, #T_32f68_row0_col4, #T_32f68_row1_col0, #T_32f68_row1_col1, #T_32f68_row1_col2, #T_32f68_row1_col3, #T_32f68_row1_col4, #T_32f68_row2_col0, #T_32f68_row2_col1, #T_32f68_row2_col2, #T_32f68_row2_col3, #T_32f68_row2_col4, #T_32f68_row3_col0, #T_32f68_row3_col1, #T_32f68_row3_col2, #T_32f68_row3_col3, #T_32f68_row3_col4, #T_32f68_row4_col0, #T_32f68_row4_col1, #T_32f68_row4_col2, #T_32f68_row4_col3, #T_32f68_row4_col4, #T_32f68_row5_col0, #T_32f68_row5_col1, #T_32f68_row5_col2, #T_32f68_row5_col3, #T_32f68_row5_col4, #T_32f68_row6_col0, #T_32f68_row6_col1, #T_32f68_row6_col2, #T_32f68_row6_col3, #T_32f68_row6_col4, #T_32f68_row7_col0, #T_32f68_row7_col1, #T_32f68_row7_col2, #T_32f68_row7_col3, #T_32f68_row7_col4, #T_32f68_row8_col0, #T_32f68_row8_col1, #T_32f68_row8_col2, #T_32f68_row8_col3, #T_32f68_row8_col4, #T_32f68_row9_col0, #T_32f68_row9_col1, #T_32f68_row9_col2, #T_32f68_row9_col3, #T_32f68_row9_col4 {\n",
       "  text-align: center;\n",
       "}\n",
       "</style>\n",
       "<table id=\"T_32f68\">\n",
       "  <thead>\n",
       "    <tr>\n",
       "      <th class=\"blank level0\" >&nbsp;</th>\n",
       "      <th id=\"T_32f68_level0_col0\" class=\"col_heading level0 col0\" >Categoria</th>\n",
       "      <th id=\"T_32f68_level0_col1\" class=\"col_heading level0 col1\" >Frequência</th>\n",
       "      <th id=\"T_32f68_level0_col2\" class=\"col_heading level0 col2\" >Frequência Relativa (%)</th>\n",
       "      <th id=\"T_32f68_level0_col3\" class=\"col_heading level0 col3\" >Frequência Acumulada</th>\n",
       "      <th id=\"T_32f68_level0_col4\" class=\"col_heading level0 col4\" >Frequência Relativa Acumulada (%)</th>\n",
       "    </tr>\n",
       "  </thead>\n",
       "  <tbody>\n",
       "    <tr>\n",
       "      <th id=\"T_32f68_level0_row0\" class=\"row_heading level0 row0\" >0</th>\n",
       "      <td id=\"T_32f68_row0_col0\" class=\"data row0 col0\" >Data Science and Research</td>\n",
       "      <td id=\"T_32f68_row0_col1\" class=\"data row0 col1\" >3014</td>\n",
       "      <td id=\"T_32f68_row0_col2\" class=\"data row0 col2\" >32.218065</td>\n",
       "      <td id=\"T_32f68_row0_col3\" class=\"data row0 col3\" >3014</td>\n",
       "      <td id=\"T_32f68_row0_col4\" class=\"data row0 col4\" >32.218065</td>\n",
       "    </tr>\n",
       "    <tr>\n",
       "      <th id=\"T_32f68_level0_row1\" class=\"row_heading level0 row1\" >1</th>\n",
       "      <td id=\"T_32f68_row1_col0\" class=\"data row1 col0\" >Data Engineering</td>\n",
       "      <td id=\"T_32f68_row1_col1\" class=\"data row1 col1\" >2260</td>\n",
       "      <td id=\"T_32f68_row1_col2\" class=\"data row1 col2\" >24.158204</td>\n",
       "      <td id=\"T_32f68_row1_col3\" class=\"data row1 col3\" >5274</td>\n",
       "      <td id=\"T_32f68_row1_col4\" class=\"data row1 col4\" >56.376269</td>\n",
       "    </tr>\n",
       "    <tr>\n",
       "      <th id=\"T_32f68_level0_row2\" class=\"row_heading level0 row2\" >2</th>\n",
       "      <td id=\"T_32f68_row2_col0\" class=\"data row2 col0\" >Data Analysis</td>\n",
       "      <td id=\"T_32f68_row2_col1\" class=\"data row2 col1\" >1457</td>\n",
       "      <td id=\"T_32f68_row2_col2\" class=\"data row2 col2\" >15.574559</td>\n",
       "      <td id=\"T_32f68_row2_col3\" class=\"data row2 col3\" >6731</td>\n",
       "      <td id=\"T_32f68_row2_col4\" class=\"data row2 col4\" >71.950828</td>\n",
       "    </tr>\n",
       "    <tr>\n",
       "      <th id=\"T_32f68_level0_row3\" class=\"row_heading level0 row3\" >3</th>\n",
       "      <td id=\"T_32f68_row3_col0\" class=\"data row3 col0\" >Machine Learning and AI</td>\n",
       "      <td id=\"T_32f68_row3_col1\" class=\"data row3 col1\" >1428</td>\n",
       "      <td id=\"T_32f68_row3_col2\" class=\"data row3 col2\" >15.264564</td>\n",
       "      <td id=\"T_32f68_row3_col3\" class=\"data row3 col3\" >8159</td>\n",
       "      <td id=\"T_32f68_row3_col4\" class=\"data row3 col4\" >87.215393</td>\n",
       "    </tr>\n",
       "    <tr>\n",
       "      <th id=\"T_32f68_level0_row4\" class=\"row_heading level0 row4\" >4</th>\n",
       "      <td id=\"T_32f68_row4_col0\" class=\"data row4 col0\" >Leadership and Management</td>\n",
       "      <td id=\"T_32f68_row4_col1\" class=\"data row4 col1\" >503</td>\n",
       "      <td id=\"T_32f68_row4_col2\" class=\"data row4 col2\" >5.376804</td>\n",
       "      <td id=\"T_32f68_row4_col3\" class=\"data row4 col3\" >8662</td>\n",
       "      <td id=\"T_32f68_row4_col4\" class=\"data row4 col4\" >92.592197</td>\n",
       "    </tr>\n",
       "    <tr>\n",
       "      <th id=\"T_32f68_level0_row5\" class=\"row_heading level0 row5\" >5</th>\n",
       "      <td id=\"T_32f68_row5_col0\" class=\"data row5 col0\" >BI and Visualization</td>\n",
       "      <td id=\"T_32f68_row5_col1\" class=\"data row5 col1\" >313</td>\n",
       "      <td id=\"T_32f68_row5_col2\" class=\"data row5 col2\" >3.345804</td>\n",
       "      <td id=\"T_32f68_row5_col3\" class=\"data row5 col3\" >8975</td>\n",
       "      <td id=\"T_32f68_row5_col4\" class=\"data row5 col4\" >95.938001</td>\n",
       "    </tr>\n",
       "    <tr>\n",
       "      <th id=\"T_32f68_level0_row6\" class=\"row_heading level0 row6\" >6</th>\n",
       "      <td id=\"T_32f68_row6_col0\" class=\"data row6 col0\" >Data Architecture and Modeling</td>\n",
       "      <td id=\"T_32f68_row6_col1\" class=\"data row6 col1\" >259</td>\n",
       "      <td id=\"T_32f68_row6_col2\" class=\"data row6 col2\" >2.768573</td>\n",
       "      <td id=\"T_32f68_row6_col3\" class=\"data row6 col3\" >9234</td>\n",
       "      <td id=\"T_32f68_row6_col4\" class=\"data row6 col4\" >98.706574</td>\n",
       "    </tr>\n",
       "    <tr>\n",
       "      <th id=\"T_32f68_level0_row7\" class=\"row_heading level0 row7\" >7</th>\n",
       "      <td id=\"T_32f68_row7_col0\" class=\"data row7 col0\" >Data Management and Strategy</td>\n",
       "      <td id=\"T_32f68_row7_col1\" class=\"data row7 col1\" >61</td>\n",
       "      <td id=\"T_32f68_row7_col2\" class=\"data row7 col2\" >0.652058</td>\n",
       "      <td id=\"T_32f68_row7_col3\" class=\"data row7 col3\" >9295</td>\n",
       "      <td id=\"T_32f68_row7_col4\" class=\"data row7 col4\" >99.358632</td>\n",
       "    </tr>\n",
       "    <tr>\n",
       "      <th id=\"T_32f68_level0_row8\" class=\"row_heading level0 row8\" >8</th>\n",
       "      <td id=\"T_32f68_row8_col0\" class=\"data row8 col0\" >Data Quality and Operations</td>\n",
       "      <td id=\"T_32f68_row8_col1\" class=\"data row8 col1\" >55</td>\n",
       "      <td id=\"T_32f68_row8_col2\" class=\"data row8 col2\" >0.587921</td>\n",
       "      <td id=\"T_32f68_row8_col3\" class=\"data row8 col3\" >9350</td>\n",
       "      <td id=\"T_32f68_row8_col4\" class=\"data row8 col4\" >99.946553</td>\n",
       "    </tr>\n",
       "    <tr>\n",
       "      <th id=\"T_32f68_level0_row9\" class=\"row_heading level0 row9\" >9</th>\n",
       "      <td id=\"T_32f68_row9_col0\" class=\"data row9 col0\" >Cloud and Database</td>\n",
       "      <td id=\"T_32f68_row9_col1\" class=\"data row9 col1\" >5</td>\n",
       "      <td id=\"T_32f68_row9_col2\" class=\"data row9 col2\" >0.053447</td>\n",
       "      <td id=\"T_32f68_row9_col3\" class=\"data row9 col3\" >9355</td>\n",
       "      <td id=\"T_32f68_row9_col4\" class=\"data row9 col4\" >100.000000</td>\n",
       "    </tr>\n",
       "  </tbody>\n",
       "</table>\n"
      ],
      "text/plain": [
       "<pandas.io.formats.style.Styler at 0x77bf209dffa0>"
      ]
     },
     "execution_count": 17,
     "metadata": {},
     "output_type": "execute_result"
    }
   ],
   "source": [
    "tabela_categoria.rename_axis('Categoria', inplace=True)\n",
    "\n",
    "tabela_categoria.reset_index(inplace=True)\n",
    "\n",
    "# Centralizando a visualização da tabela\n",
    "tabela_categoria.style.set_properties(**{'text-align': 'center'})"
   ]
  },
  {
   "cell_type": "markdown",
   "metadata": {},
   "source": [
    "- Distribuição de Pareto para visualizar os dados da Tabela de Frequência "
   ]
  },
  {
   "cell_type": "code",
   "execution_count": 18,
   "metadata": {},
   "outputs": [],
   "source": [
    "# Para melhorar a visualização do nome de cada Categoria\n",
    "tabela_categoria['Categoria'] = tabela_categoria['Categoria'].str.replace(' and ', '\\n')"
   ]
  },
  {
   "cell_type": "code",
   "execution_count": 19,
   "metadata": {},
   "outputs": [
    {
     "data": {
      "image/png": "[encoded data removed]",
      "text/plain": [
       "<Figure size 1300x600 with 2 Axes>"
      ]
     },
     "metadata": {},
     "output_type": "display_data"
    }
   ],
   "source": [
    "# Criar figura e eixos\n",
    "fig, ax1 = plt.subplots(figsize=(13, 6))\n",
    "\n",
    "# Gráfico de barras\n",
    "bars = ax1.bar(tabela_categoria['Categoria'],\n",
    "               tabela_categoria['Frequência'],\n",
    "               color='C0',\n",
    "               width=0.50)\n",
    "\n",
    "# Adicionar rótulos de dados às barras\n",
    "for bar in bars:\n",
    "    height = bar.get_height()\n",
    "    ax1.text(bar.get_x() + bar.get_width() / 2, height, '%d' % int(height),\n",
    "             ha='center', va='bottom')\n",
    "\n",
    "# Eixo y secundário para a linha\n",
    "ax2 = ax1.twinx()\n",
    "\n",
    "# Adicionar a linha de Frequência %\n",
    "ax2.plot(tabela_categoria['Categoria'],\n",
    "         tabela_categoria['Frequência Relativa Acumulada (%)'],\n",
    "         color='C1',\n",
    "         label='Frequência Relativa Acumulada (%)')\n",
    "\n",
    "# Adicionar linha de 80%\n",
    "ax2.axhline(y=80, color='gray', linestyle='--', lw=1)\n",
    "ax2.text(len(tabela_categoria)-1, 80, '80%', color='gray', va='bottom', ha='right')\n",
    "ax2.tick_params(axis='y')\n",
    "\n",
    "# Rótulos e título\n",
    "ax1.set_xlabel('')\n",
    "ax1.set_ylabel('Frequência')\n",
    "ax2.set_ylabel('Frequência Relativa Acumulada (%)')\n",
    "plt.title('Distribuição de Pareto da quantidade de vagas por Categoria')\n",
    "\n",
    "# Definir os valores dos ticks do eixo X\n",
    "ax1.set_xticks(range(len(tabela_categoria['Categoria'])))\n",
    "\n",
    "# Definir os rótulos dos ticks do eixo X\n",
    "ax1.set_xticklabels(tabela_categoria['Categoria'], fontsize=7, ha='center')\n",
    "\n",
    "# Ajustar o espaçamento dos rótulos do eixo x\n",
    "plt.subplots_adjust(bottom=0.25)\n",
    "\n",
    "# Remover fundo e linhas de grade\n",
    "ax1.set_facecolor('none')\n",
    "ax1.grid(False)\n",
    "ax2.grid(False)\n",
    "\n",
    "# Exibir o gráfico\n",
    "plt.show()"
   ]
  },
  {
   "cell_type": "markdown",
   "metadata": {},
   "source": [
    "- Criando uma tabela de distribuição de frequências com categoria e ano"
   ]
  },
  {
   "cell_type": "code",
   "execution_count": 20,
   "metadata": {},
   "outputs": [],
   "source": [
    "# crosstab para criar uma tabela cruzada com duas variáveis\n",
    "tabela_dist = pd.crosstab(index= df['job_category'],\n",
    "                          columns= df['work_year'],\n",
    "                          aggfunc= 'count',\n",
    "                          values= df['job_category'])\n",
    "\n",
    "# Renomeando o eixo das linhas e das colunas da tabela\n",
    "tabela_dist = tabela_dist.rename_axis('Categoria').rename_axis('Ano de Pesquisa', axis='columns')\n",
    "\n",
    "# Adicionando uma coluna com os valores Totais de cada categoria\n",
    "tabela_dist['Total'] = tabela_dist.sum(axis=1)\n",
    "\n",
    "# Ordenando os dados com base na coluna Total\n",
    "tabela_dist.sort_values(by='Total', ascending=False, inplace=True)"
   ]
  },
  {
   "cell_type": "code",
   "execution_count": 21,
   "metadata": {},
   "outputs": [
    {
     "data": {
      "text/html": [
       "<style type=\"text/css\">\n",
       "#T_c496f_row0_col0, #T_c496f_row0_col1, #T_c496f_row0_col2, #T_c496f_row0_col3, #T_c496f_row0_col4, #T_c496f_row1_col0, #T_c496f_row1_col1, #T_c496f_row1_col2, #T_c496f_row1_col3, #T_c496f_row1_col4, #T_c496f_row2_col0, #T_c496f_row2_col1, #T_c496f_row2_col2, #T_c496f_row2_col3, #T_c496f_row2_col4, #T_c496f_row3_col0, #T_c496f_row3_col1, #T_c496f_row3_col2, #T_c496f_row3_col3, #T_c496f_row3_col4, #T_c496f_row4_col0, #T_c496f_row4_col1, #T_c496f_row4_col2, #T_c496f_row4_col3, #T_c496f_row4_col4, #T_c496f_row5_col0, #T_c496f_row5_col1, #T_c496f_row5_col2, #T_c496f_row5_col3, #T_c496f_row5_col4, #T_c496f_row6_col0, #T_c496f_row6_col1, #T_c496f_row6_col2, #T_c496f_row6_col3, #T_c496f_row6_col4, #T_c496f_row7_col0, #T_c496f_row7_col1, #T_c496f_row7_col2, #T_c496f_row7_col3, #T_c496f_row7_col4, #T_c496f_row8_col0, #T_c496f_row8_col1, #T_c496f_row8_col2, #T_c496f_row8_col3, #T_c496f_row8_col4, #T_c496f_row9_col0, #T_c496f_row9_col1, #T_c496f_row9_col2, #T_c496f_row9_col3, #T_c496f_row9_col4 {\n",
       "  text-align: center;\n",
       "}\n",
       "</style>\n",
       "<table id=\"T_c496f\">\n",
       "  <thead>\n",
       "    <tr>\n",
       "      <th class=\"index_name level0\" >Ano de Pesquisa</th>\n",
       "      <th id=\"T_c496f_level0_col0\" class=\"col_heading level0 col0\" >2020</th>\n",
       "      <th id=\"T_c496f_level0_col1\" class=\"col_heading level0 col1\" >2021</th>\n",
       "      <th id=\"T_c496f_level0_col2\" class=\"col_heading level0 col2\" >2022</th>\n",
       "      <th id=\"T_c496f_level0_col3\" class=\"col_heading level0 col3\" >2023</th>\n",
       "      <th id=\"T_c496f_level0_col4\" class=\"col_heading level0 col4\" >Total</th>\n",
       "    </tr>\n",
       "    <tr>\n",
       "      <th class=\"index_name level0\" >Categoria</th>\n",
       "      <th class=\"blank col0\" >&nbsp;</th>\n",
       "      <th class=\"blank col1\" >&nbsp;</th>\n",
       "      <th class=\"blank col2\" >&nbsp;</th>\n",
       "      <th class=\"blank col3\" >&nbsp;</th>\n",
       "      <th class=\"blank col4\" >&nbsp;</th>\n",
       "    </tr>\n",
       "  </thead>\n",
       "  <tbody>\n",
       "    <tr>\n",
       "      <th id=\"T_c496f_level0_row0\" class=\"row_heading level0 row0\" >Data Science and Research</th>\n",
       "      <td id=\"T_c496f_row0_col0\" class=\"data row0 col0\" >29</td>\n",
       "      <td id=\"T_c496f_row0_col1\" class=\"data row0 col1\" >72</td>\n",
       "      <td id=\"T_c496f_row0_col2\" class=\"data row0 col2\" >500</td>\n",
       "      <td id=\"T_c496f_row0_col3\" class=\"data row0 col3\" >2413</td>\n",
       "      <td id=\"T_c496f_row0_col4\" class=\"data row0 col4\" >3014</td>\n",
       "    </tr>\n",
       "    <tr>\n",
       "      <th id=\"T_c496f_level0_row1\" class=\"row_heading level0 row1\" >Data Engineering</th>\n",
       "      <td id=\"T_c496f_row1_col0\" class=\"data row1 col0\" >17</td>\n",
       "      <td id=\"T_c496f_row1_col1\" class=\"data row1 col1\" >45</td>\n",
       "      <td id=\"T_c496f_row1_col2\" class=\"data row1 col2\" >499</td>\n",
       "      <td id=\"T_c496f_row1_col3\" class=\"data row1 col3\" >1699</td>\n",
       "      <td id=\"T_c496f_row1_col4\" class=\"data row1 col4\" >2260</td>\n",
       "    </tr>\n",
       "    <tr>\n",
       "      <th id=\"T_c496f_level0_row2\" class=\"row_heading level0 row2\" >Data Analysis</th>\n",
       "      <td id=\"T_c496f_row2_col0\" class=\"data row2 col0\" >15</td>\n",
       "      <td id=\"T_c496f_row2_col1\" class=\"data row2 col1\" >28</td>\n",
       "      <td id=\"T_c496f_row2_col2\" class=\"data row2 col2\" >289</td>\n",
       "      <td id=\"T_c496f_row2_col3\" class=\"data row2 col3\" >1125</td>\n",
       "      <td id=\"T_c496f_row2_col4\" class=\"data row2 col4\" >1457</td>\n",
       "    </tr>\n",
       "    <tr>\n",
       "      <th id=\"T_c496f_level0_row3\" class=\"row_heading level0 row3\" >Machine Learning and AI</th>\n",
       "      <td id=\"T_c496f_row3_col0\" class=\"data row3 col0\" >10</td>\n",
       "      <td id=\"T_c496f_row3_col1\" class=\"data row3 col1\" >37</td>\n",
       "      <td id=\"T_c496f_row3_col2\" class=\"data row3 col2\" >186</td>\n",
       "      <td id=\"T_c496f_row3_col3\" class=\"data row3 col3\" >1195</td>\n",
       "      <td id=\"T_c496f_row3_col4\" class=\"data row3 col4\" >1428</td>\n",
       "    </tr>\n",
       "    <tr>\n",
       "      <th id=\"T_c496f_level0_row4\" class=\"row_heading level0 row4\" >Leadership and Management</th>\n",
       "      <td id=\"T_c496f_row4_col0\" class=\"data row4 col0\" >0</td>\n",
       "      <td id=\"T_c496f_row4_col1\" class=\"data row4 col1\" >9</td>\n",
       "      <td id=\"T_c496f_row4_col2\" class=\"data row4 col2\" >80</td>\n",
       "      <td id=\"T_c496f_row4_col3\" class=\"data row4 col3\" >414</td>\n",
       "      <td id=\"T_c496f_row4_col4\" class=\"data row4 col4\" >503</td>\n",
       "    </tr>\n",
       "    <tr>\n",
       "      <th id=\"T_c496f_level0_row5\" class=\"row_heading level0 row5\" >BI and Visualization</th>\n",
       "      <td id=\"T_c496f_row5_col0\" class=\"data row5 col0\" >0</td>\n",
       "      <td id=\"T_c496f_row5_col1\" class=\"data row5 col1\" >0</td>\n",
       "      <td id=\"T_c496f_row5_col2\" class=\"data row5 col2\" >8</td>\n",
       "      <td id=\"T_c496f_row5_col3\" class=\"data row5 col3\" >305</td>\n",
       "      <td id=\"T_c496f_row5_col4\" class=\"data row5 col4\" >313</td>\n",
       "    </tr>\n",
       "    <tr>\n",
       "      <th id=\"T_c496f_level0_row6\" class=\"row_heading level0 row6\" >Data Architecture and Modeling</th>\n",
       "      <td id=\"T_c496f_row6_col0\" class=\"data row6 col0\" >0</td>\n",
       "      <td id=\"T_c496f_row6_col1\" class=\"data row6 col1\" >5</td>\n",
       "      <td id=\"T_c496f_row6_col2\" class=\"data row6 col2\" >46</td>\n",
       "      <td id=\"T_c496f_row6_col3\" class=\"data row6 col3\" >208</td>\n",
       "      <td id=\"T_c496f_row6_col4\" class=\"data row6 col4\" >259</td>\n",
       "    </tr>\n",
       "    <tr>\n",
       "      <th id=\"T_c496f_level0_row7\" class=\"row_heading level0 row7\" >Data Management and Strategy</th>\n",
       "      <td id=\"T_c496f_row7_col0\" class=\"data row7 col0\" >0</td>\n",
       "      <td id=\"T_c496f_row7_col1\" class=\"data row7 col1\" >1</td>\n",
       "      <td id=\"T_c496f_row7_col2\" class=\"data row7 col2\" >12</td>\n",
       "      <td id=\"T_c496f_row7_col3\" class=\"data row7 col3\" >48</td>\n",
       "      <td id=\"T_c496f_row7_col4\" class=\"data row7 col4\" >61</td>\n",
       "    </tr>\n",
       "    <tr>\n",
       "      <th id=\"T_c496f_level0_row8\" class=\"row_heading level0 row8\" >Data Quality and Operations</th>\n",
       "      <td id=\"T_c496f_row8_col0\" class=\"data row8 col0\" >0</td>\n",
       "      <td id=\"T_c496f_row8_col1\" class=\"data row8 col1\" >0</td>\n",
       "      <td id=\"T_c496f_row8_col2\" class=\"data row8 col2\" >12</td>\n",
       "      <td id=\"T_c496f_row8_col3\" class=\"data row8 col3\" >43</td>\n",
       "      <td id=\"T_c496f_row8_col4\" class=\"data row8 col4\" >55</td>\n",
       "    </tr>\n",
       "    <tr>\n",
       "      <th id=\"T_c496f_level0_row9\" class=\"row_heading level0 row9\" >Cloud and Database</th>\n",
       "      <td id=\"T_c496f_row9_col0\" class=\"data row9 col0\" >0</td>\n",
       "      <td id=\"T_c496f_row9_col1\" class=\"data row9 col1\" >0</td>\n",
       "      <td id=\"T_c496f_row9_col2\" class=\"data row9 col2\" >2</td>\n",
       "      <td id=\"T_c496f_row9_col3\" class=\"data row9 col3\" >3</td>\n",
       "      <td id=\"T_c496f_row9_col4\" class=\"data row9 col4\" >5</td>\n",
       "    </tr>\n",
       "  </tbody>\n",
       "</table>\n"
      ],
      "text/plain": [
       "<pandas.io.formats.style.Styler at 0x77bec348a3e0>"
      ]
     },
     "execution_count": 21,
     "metadata": {},
     "output_type": "execute_result"
    }
   ],
   "source": [
    "# Centralizando a visualização da tabela\n",
    "tabela_dist.style.set_properties(**{'text-align': 'center'})"
   ]
  },
  {
   "cell_type": "markdown",
   "metadata": {},
   "source": [
    "- Criando uma visualização da quantidade de vagas por nível de experiência"
   ]
  },
  {
   "cell_type": "code",
   "execution_count": 22,
   "metadata": {},
   "outputs": [],
   "source": [
    "# Contando a frequência dos valores com value_counts()\n",
    "quantidade_exp = df['experience_level'].value_counts()\n",
    "\n",
    "# Contando a frequência e transformando em %\n",
    "percentual_exp = df['experience_level'].value_counts(normalize=True) * 100\n",
    "\n",
    "tabela_exp = pd.DataFrame({'Quantidade': quantidade_exp,\n",
    "                           'Porcentagem (%)': percentual_exp})\n",
    "\n",
    "tabela_exp = tabela_exp.reset_index().rename(columns={'experience_level': 'Experiência'})"
   ]
  },
  {
   "cell_type": "code",
   "execution_count": 23,
   "metadata": {},
   "outputs": [
    {
     "data": {
      "text/html": [
       "<style type=\"text/css\">\n",
       "#T_c3e9b_row0_col0, #T_c3e9b_row0_col1, #T_c3e9b_row0_col2, #T_c3e9b_row1_col0, #T_c3e9b_row1_col1, #T_c3e9b_row1_col2, #T_c3e9b_row2_col0, #T_c3e9b_row2_col1, #T_c3e9b_row2_col2, #T_c3e9b_row3_col0, #T_c3e9b_row3_col1, #T_c3e9b_row3_col2 {\n",
       "  text-align: center;\n",
       "}\n",
       "</style>\n",
       "<table id=\"T_c3e9b\">\n",
       "  <thead>\n",
       "    <tr>\n",
       "      <th class=\"blank level0\" >&nbsp;</th>\n",
       "      <th id=\"T_c3e9b_level0_col0\" class=\"col_heading level0 col0\" >Experiência</th>\n",
       "      <th id=\"T_c3e9b_level0_col1\" class=\"col_heading level0 col1\" >Quantidade</th>\n",
       "      <th id=\"T_c3e9b_level0_col2\" class=\"col_heading level0 col2\" >Porcentagem (%)</th>\n",
       "    </tr>\n",
       "  </thead>\n",
       "  <tbody>\n",
       "    <tr>\n",
       "      <th id=\"T_c3e9b_level0_row0\" class=\"row_heading level0 row0\" >0</th>\n",
       "      <td id=\"T_c3e9b_row0_col0\" class=\"data row0 col0\" >Senior</td>\n",
       "      <td id=\"T_c3e9b_row0_col1\" class=\"data row0 col1\" >6709</td>\n",
       "      <td id=\"T_c3e9b_row0_col2\" class=\"data row0 col2\" >71.715660</td>\n",
       "    </tr>\n",
       "    <tr>\n",
       "      <th id=\"T_c3e9b_level0_row1\" class=\"row_heading level0 row1\" >1</th>\n",
       "      <td id=\"T_c3e9b_row1_col0\" class=\"data row1 col0\" >Mid-level</td>\n",
       "      <td id=\"T_c3e9b_row1_col1\" class=\"data row1 col1\" >1869</td>\n",
       "      <td id=\"T_c3e9b_row1_col2\" class=\"data row1 col2\" >19.978621</td>\n",
       "    </tr>\n",
       "    <tr>\n",
       "      <th id=\"T_c3e9b_level0_row2\" class=\"row_heading level0 row2\" >2</th>\n",
       "      <td id=\"T_c3e9b_row2_col0\" class=\"data row2 col0\" >Entry-level</td>\n",
       "      <td id=\"T_c3e9b_row2_col1\" class=\"data row2 col1\" >496</td>\n",
       "      <td id=\"T_c3e9b_row2_col2\" class=\"data row2 col2\" >5.301978</td>\n",
       "    </tr>\n",
       "    <tr>\n",
       "      <th id=\"T_c3e9b_level0_row3\" class=\"row_heading level0 row3\" >3</th>\n",
       "      <td id=\"T_c3e9b_row3_col0\" class=\"data row3 col0\" >Executive</td>\n",
       "      <td id=\"T_c3e9b_row3_col1\" class=\"data row3 col1\" >281</td>\n",
       "      <td id=\"T_c3e9b_row3_col2\" class=\"data row3 col2\" >3.003741</td>\n",
       "    </tr>\n",
       "  </tbody>\n",
       "</table>\n"
      ],
      "text/plain": [
       "<pandas.io.formats.style.Styler at 0x77bec369fc70>"
      ]
     },
     "execution_count": 23,
     "metadata": {},
     "output_type": "execute_result"
    }
   ],
   "source": [
    "# Centralizando a visualização da tabela\n",
    "tabela_exp.style.set_properties(**{'text-align': 'center'})"
   ]
  },
  {
   "cell_type": "markdown",
   "metadata": {},
   "source": [
    "#### 4 - Explorando visualizações com matplotlib e seaborn"
   ]
  },
  {
   "cell_type": "markdown",
   "metadata": {},
   "source": [
    "- Criando uma visualização com subplots da biblioteca matplotlib."
   ]
  },
  {
   "cell_type": "code",
   "execution_count": 24,
   "metadata": {},
   "outputs": [],
   "source": [
    "tabela_categoria['Categoria'] = tabela_categoria['Categoria'].str.replace('\\n', ' and ')"
   ]
  },
  {
   "cell_type": "code",
   "execution_count": 25,
   "metadata": {},
   "outputs": [
    {
     "data": {
      "image/png": "[encoded data removed]",
      "text/plain": [
       "<Figure size 1300x800 with 2 Axes>"
      ]
     },
     "metadata": {},
     "output_type": "display_data"
    }
   ],
   "source": [
    "# Definindo o tamanho da imagem\n",
    "plt.figure(figsize=(13, 8))\n",
    "\n",
    "# Criando um gráfico de barras horizontais para Categorias\n",
    "ax1 = plt.subplot(2, 2, 1)\n",
    "bars1 = plt.barh(tabela_categoria['Categoria'], tabela_categoria['Frequência'], color='gray')\n",
    "for i, quantidade in enumerate(tabela_categoria['Frequência']):\n",
    "    plt.text(quantidade + 50, i, str(quantidade), va='center')\n",
    "plt.title('Quantidade de vagas por Categoria')\n",
    "plt.xlim(0, 3500)\n",
    "\n",
    "# Criando um gráfico de barras horizontais para Experiência\n",
    "ax2 = plt.subplot(2, 2, 2)\n",
    "bars2 = plt.barh(tabela_exp['Experiência'], tabela_exp['Quantidade'], color='gray')\n",
    "for i, quantidade in enumerate(tabela_exp['Quantidade']):\n",
    "    plt.text(quantidade + 50, i, str(quantidade), va='center')\n",
    "plt.title('Quantidade por Nível de Experiência')\n",
    "plt.xlim(0, 8000)\n",
    "\n",
    "# Remover fundo e linhas de grade\n",
    "ax1.grid(False)\n",
    "ax2.grid(False)\n",
    "ax1.set_facecolor('none')\n",
    "ax2.set_facecolor('none')\n",
    "\n",
    "# Ajustando o tamanho\n",
    "plt.tight_layout()\n",
    "\n",
    "# Exibir o gráfico\n",
    "plt.show()"
   ]
  },
  {
   "cell_type": "markdown",
   "metadata": {},
   "source": [
    "- Criando uma tabela de distribuição de frequências com categoria e nível de experiência"
   ]
  },
  {
   "cell_type": "code",
   "execution_count": 26,
   "metadata": {},
   "outputs": [],
   "source": [
    "# Tabela de distribuição cruzada usando crosstab\n",
    "tabela_dist_exp = pd.crosstab(index=df['job_category'],\n",
    "                 columns=df['experience_level'],\n",
    "                 aggfunc='count',\n",
    "                 values=df['job_category'])\n",
    "\n",
    "tabela_dist_exp['Total'] = tabela_dist_exp.sum(axis=1)\n",
    "\n",
    "tabela_dist_exp = tabela_dist_exp.sort_values(by='Total', ascending=False)\n",
    "\n",
    "tabela_dist_exp = tabela_dist_exp.rename_axis('Categoria').rename_axis('Experiência', axis='columns')"
   ]
  },
  {
   "cell_type": "code",
   "execution_count": 27,
   "metadata": {},
   "outputs": [
    {
     "data": {
      "text/html": [
       "<style type=\"text/css\">\n",
       "#T_bb727_row0_col0, #T_bb727_row0_col2, #T_bb727_row0_col3, #T_bb727_row0_col4, #T_bb727_row1_col1 {\n",
       "  background-color: #000000;\n",
       "  color: #f1f1f1;\n",
       "}\n",
       "#T_bb727_row0_col1 {\n",
       "  background-color: #3c3c3c;\n",
       "  color: #f1f1f1;\n",
       "}\n",
       "#T_bb727_row1_col0 {\n",
       "  background-color: #6b6b6b;\n",
       "  color: #f1f1f1;\n",
       "}\n",
       "#T_bb727_row1_col2 {\n",
       "  background-color: #080808;\n",
       "  color: #f1f1f1;\n",
       "}\n",
       "#T_bb727_row1_col3 {\n",
       "  background-color: #4e4e4e;\n",
       "  color: #f1f1f1;\n",
       "}\n",
       "#T_bb727_row1_col4 {\n",
       "  background-color: #404040;\n",
       "  color: #f1f1f1;\n",
       "}\n",
       "#T_bb727_row2_col0 {\n",
       "  background-color: #252525;\n",
       "  color: #f1f1f1;\n",
       "}\n",
       "#T_bb727_row2_col1 {\n",
       "  background-color: #d9d9d9;\n",
       "  color: #000000;\n",
       "}\n",
       "#T_bb727_row2_col2 {\n",
       "  background-color: #343434;\n",
       "  color: #f1f1f1;\n",
       "}\n",
       "#T_bb727_row2_col3 {\n",
       "  background-color: #9a9a9a;\n",
       "  color: #f1f1f1;\n",
       "}\n",
       "#T_bb727_row2_col4 {\n",
       "  background-color: #848484;\n",
       "  color: #f1f1f1;\n",
       "}\n",
       "#T_bb727_row3_col0 {\n",
       "  background-color: #9c9c9c;\n",
       "  color: #f1f1f1;\n",
       "}\n",
       "#T_bb727_row3_col1 {\n",
       "  background-color: #e0e0e0;\n",
       "  color: #000000;\n",
       "}\n",
       "#T_bb727_row3_col2 {\n",
       "  background-color: #878787;\n",
       "  color: #f1f1f1;\n",
       "}\n",
       "#T_bb727_row3_col3 {\n",
       "  background-color: #828282;\n",
       "  color: #f1f1f1;\n",
       "}\n",
       "#T_bb727_row3_col4 {\n",
       "  background-color: #868686;\n",
       "  color: #f1f1f1;\n",
       "}\n",
       "#T_bb727_row4_col0 {\n",
       "  background-color: #f0f0f0;\n",
       "  color: #000000;\n",
       "}\n",
       "#T_bb727_row4_col1 {\n",
       "  background-color: #767676;\n",
       "  color: #f1f1f1;\n",
       "}\n",
       "#T_bb727_row4_col2 {\n",
       "  background-color: #bdbdbd;\n",
       "  color: #000000;\n",
       "}\n",
       "#T_bb727_row4_col3 {\n",
       "  background-color: #dddddd;\n",
       "  color: #000000;\n",
       "}\n",
       "#T_bb727_row4_col4 {\n",
       "  background-color: #d5d5d5;\n",
       "  color: #000000;\n",
       "}\n",
       "#T_bb727_row5_col0, #T_bb727_row7_col2 {\n",
       "  background-color: #f5f5f5;\n",
       "  color: #000000;\n",
       "}\n",
       "#T_bb727_row5_col1 {\n",
       "  background-color: #f1f1f1;\n",
       "  color: #000000;\n",
       "}\n",
       "#T_bb727_row5_col2 {\n",
       "  background-color: #e2e2e2;\n",
       "  color: #000000;\n",
       "}\n",
       "#T_bb727_row5_col3, #T_bb727_row5_col4 {\n",
       "  background-color: #e5e5e5;\n",
       "  color: #000000;\n",
       "}\n",
       "#T_bb727_row6_col0, #T_bb727_row7_col1, #T_bb727_row8_col1, #T_bb727_row9_col0, #T_bb727_row9_col1, #T_bb727_row9_col2, #T_bb727_row9_col3, #T_bb727_row9_col4 {\n",
       "  background-color: #ffffff;\n",
       "  color: #000000;\n",
       "}\n",
       "#T_bb727_row6_col1, #T_bb727_row7_col4, #T_bb727_row8_col0, #T_bb727_row8_col4 {\n",
       "  background-color: #fbfbfb;\n",
       "  color: #000000;\n",
       "}\n",
       "#T_bb727_row6_col2 {\n",
       "  background-color: #efefef;\n",
       "  color: #000000;\n",
       "}\n",
       "#T_bb727_row6_col3 {\n",
       "  background-color: #e7e7e7;\n",
       "  color: #000000;\n",
       "}\n",
       "#T_bb727_row6_col4 {\n",
       "  background-color: #eaeaea;\n",
       "  color: #000000;\n",
       "}\n",
       "#T_bb727_row7_col0 {\n",
       "  background-color: #ebebeb;\n",
       "  color: #000000;\n",
       "}\n",
       "#T_bb727_row7_col3 {\n",
       "  background-color: #fdfdfd;\n",
       "  color: #000000;\n",
       "}\n",
       "#T_bb727_row8_col2 {\n",
       "  background-color: #f7f7f7;\n",
       "  color: #000000;\n",
       "}\n",
       "#T_bb727_row8_col3 {\n",
       "  background-color: #fcfcfc;\n",
       "  color: #000000;\n",
       "}\n",
       "</style>\n",
       "<table id=\"T_bb727\">\n",
       "  <thead>\n",
       "    <tr>\n",
       "      <th class=\"index_name level0\" >Experiência</th>\n",
       "      <th id=\"T_bb727_level0_col0\" class=\"col_heading level0 col0\" >Entry-level</th>\n",
       "      <th id=\"T_bb727_level0_col1\" class=\"col_heading level0 col1\" >Executive</th>\n",
       "      <th id=\"T_bb727_level0_col2\" class=\"col_heading level0 col2\" >Mid-level</th>\n",
       "      <th id=\"T_bb727_level0_col3\" class=\"col_heading level0 col3\" >Senior</th>\n",
       "      <th id=\"T_bb727_level0_col4\" class=\"col_heading level0 col4\" >Total</th>\n",
       "    </tr>\n",
       "    <tr>\n",
       "      <th class=\"index_name level0\" >Categoria</th>\n",
       "      <th class=\"blank col0\" >&nbsp;</th>\n",
       "      <th class=\"blank col1\" >&nbsp;</th>\n",
       "      <th class=\"blank col2\" >&nbsp;</th>\n",
       "      <th class=\"blank col3\" >&nbsp;</th>\n",
       "      <th class=\"blank col4\" >&nbsp;</th>\n",
       "    </tr>\n",
       "  </thead>\n",
       "  <tbody>\n",
       "    <tr>\n",
       "      <th id=\"T_bb727_level0_row0\" class=\"row_heading level0 row0\" >Data Science and Research</th>\n",
       "      <td id=\"T_bb727_row0_col0\" class=\"data row0 col0\" >164</td>\n",
       "      <td id=\"T_bb727_row0_col1\" class=\"data row0 col1\" >81</td>\n",
       "      <td id=\"T_bb727_row0_col2\" class=\"data row0 col2\" >499</td>\n",
       "      <td id=\"T_bb727_row0_col3\" class=\"data row0 col3\" >2270</td>\n",
       "      <td id=\"T_bb727_row0_col4\" class=\"data row0 col4\" >3014</td>\n",
       "    </tr>\n",
       "    <tr>\n",
       "      <th id=\"T_bb727_level0_row1\" class=\"row_heading level0 row1\" >Data Engineering</th>\n",
       "      <td id=\"T_bb727_row1_col0\" class=\"data row1 col0\" >95</td>\n",
       "      <td id=\"T_bb727_row1_col1\" class=\"data row1 col1\" >106</td>\n",
       "      <td id=\"T_bb727_row1_col2\" class=\"data row1 col2\" >483</td>\n",
       "      <td id=\"T_bb727_row1_col3\" class=\"data row1 col3\" >1576</td>\n",
       "      <td id=\"T_bb727_row1_col4\" class=\"data row1 col4\" >2260</td>\n",
       "    </tr>\n",
       "    <tr>\n",
       "      <th id=\"T_bb727_level0_row2\" class=\"row_heading level0 row2\" >Data Analysis</th>\n",
       "      <td id=\"T_bb727_row2_col0\" class=\"data row2 col0\" >140</td>\n",
       "      <td id=\"T_bb727_row2_col1\" class=\"data row2 col1\" >16</td>\n",
       "      <td id=\"T_bb727_row2_col2\" class=\"data row2 col2\" >397</td>\n",
       "      <td id=\"T_bb727_row2_col3\" class=\"data row2 col3\" >904</td>\n",
       "      <td id=\"T_bb727_row2_col4\" class=\"data row2 col4\" >1457</td>\n",
       "    </tr>\n",
       "    <tr>\n",
       "      <th id=\"T_bb727_level0_row3\" class=\"row_heading level0 row3\" >Machine Learning and AI</th>\n",
       "      <td id=\"T_bb727_row3_col0\" class=\"data row3 col0\" >64</td>\n",
       "      <td id=\"T_bb727_row3_col1\" class=\"data row3 col1\" >13</td>\n",
       "      <td id=\"T_bb727_row3_col2\" class=\"data row3 col2\" >235</td>\n",
       "      <td id=\"T_bb727_row3_col3\" class=\"data row3 col3\" >1116</td>\n",
       "      <td id=\"T_bb727_row3_col4\" class=\"data row3 col4\" >1428</td>\n",
       "    </tr>\n",
       "    <tr>\n",
       "      <th id=\"T_bb727_level0_row4\" class=\"row_heading level0 row4\" >Leadership and Management</th>\n",
       "      <td id=\"T_bb727_row4_col0\" class=\"data row4 col0\" >10</td>\n",
       "      <td id=\"T_bb727_row4_col1\" class=\"data row4 col1\" >57</td>\n",
       "      <td id=\"T_bb727_row4_col2\" class=\"data row4 col2\" >129</td>\n",
       "      <td id=\"T_bb727_row4_col3\" class=\"data row4 col3\" >307</td>\n",
       "      <td id=\"T_bb727_row4_col4\" class=\"data row4 col4\" >503</td>\n",
       "    </tr>\n",
       "    <tr>\n",
       "      <th id=\"T_bb727_level0_row5\" class=\"row_heading level0 row5\" >BI and Visualization</th>\n",
       "      <td id=\"T_bb727_row5_col0\" class=\"data row5 col0\" >7</td>\n",
       "      <td id=\"T_bb727_row5_col1\" class=\"data row5 col1\" >6</td>\n",
       "      <td id=\"T_bb727_row5_col2\" class=\"data row5 col2\" >58</td>\n",
       "      <td id=\"T_bb727_row5_col3\" class=\"data row5 col3\" >242</td>\n",
       "      <td id=\"T_bb727_row5_col4\" class=\"data row5 col4\" >313</td>\n",
       "    </tr>\n",
       "    <tr>\n",
       "      <th id=\"T_bb727_level0_row6\" class=\"row_heading level0 row6\" >Data Architecture and Modeling</th>\n",
       "      <td id=\"T_bb727_row6_col0\" class=\"data row6 col0\" >0</td>\n",
       "      <td id=\"T_bb727_row6_col1\" class=\"data row6 col1\" >2</td>\n",
       "      <td id=\"T_bb727_row6_col2\" class=\"data row6 col2\" >32</td>\n",
       "      <td id=\"T_bb727_row6_col3\" class=\"data row6 col3\" >225</td>\n",
       "      <td id=\"T_bb727_row6_col4\" class=\"data row6 col4\" >259</td>\n",
       "    </tr>\n",
       "    <tr>\n",
       "      <th id=\"T_bb727_level0_row7\" class=\"row_heading level0 row7\" >Data Management and Strategy</th>\n",
       "      <td id=\"T_bb727_row7_col0\" class=\"data row7 col0\" >13</td>\n",
       "      <td id=\"T_bb727_row7_col1\" class=\"data row7 col1\" >0</td>\n",
       "      <td id=\"T_bb727_row7_col2\" class=\"data row7 col2\" >20</td>\n",
       "      <td id=\"T_bb727_row7_col3\" class=\"data row7 col3\" >28</td>\n",
       "      <td id=\"T_bb727_row7_col4\" class=\"data row7 col4\" >61</td>\n",
       "    </tr>\n",
       "    <tr>\n",
       "      <th id=\"T_bb727_level0_row8\" class=\"row_heading level0 row8\" >Data Quality and Operations</th>\n",
       "      <td id=\"T_bb727_row8_col0\" class=\"data row8 col0\" >3</td>\n",
       "      <td id=\"T_bb727_row8_col1\" class=\"data row8 col1\" >0</td>\n",
       "      <td id=\"T_bb727_row8_col2\" class=\"data row8 col2\" >16</td>\n",
       "      <td id=\"T_bb727_row8_col3\" class=\"data row8 col3\" >36</td>\n",
       "      <td id=\"T_bb727_row8_col4\" class=\"data row8 col4\" >55</td>\n",
       "    </tr>\n",
       "    <tr>\n",
       "      <th id=\"T_bb727_level0_row9\" class=\"row_heading level0 row9\" >Cloud and Database</th>\n",
       "      <td id=\"T_bb727_row9_col0\" class=\"data row9 col0\" >0</td>\n",
       "      <td id=\"T_bb727_row9_col1\" class=\"data row9 col1\" >0</td>\n",
       "      <td id=\"T_bb727_row9_col2\" class=\"data row9 col2\" >0</td>\n",
       "      <td id=\"T_bb727_row9_col3\" class=\"data row9 col3\" >5</td>\n",
       "      <td id=\"T_bb727_row9_col4\" class=\"data row9 col4\" >5</td>\n",
       "    </tr>\n",
       "  </tbody>\n",
       "</table>\n"
      ],
      "text/plain": [
       "<pandas.io.formats.style.Styler at 0x77bec3388850>"
      ]
     },
     "execution_count": 27,
     "metadata": {},
     "output_type": "execute_result"
    }
   ],
   "source": [
    "# Visualizando a tabela em um HeatMap\n",
    "tabela_dist_exp.style.background_gradient(cmap='binary')"
   ]
  },
  {
   "cell_type": "code",
   "execution_count": 28,
   "metadata": {},
   "outputs": [],
   "source": [
    "# Removendo a coluna Total para criar um HeatMap\n",
    "tabela_dist_exp = tabela_dist_exp.drop(columns='Total', axis=1)\n",
    "\n",
    "# Somando os totais das linhas para transformar em %\n",
    "soma_linhas = tabela_dist_exp.sum(axis=1)\n",
    "categoria_exp = (tabela_dist_exp.div(soma_linhas, axis=0) * 100)"
   ]
  },
  {
   "cell_type": "markdown",
   "metadata": {},
   "source": [
    "- Visualizando a proporção em % das Categorias por Nível de Experiência com `style`"
   ]
  },
  {
   "cell_type": "code",
   "execution_count": 29,
   "metadata": {},
   "outputs": [
    {
     "data": {
      "text/html": [
       "<style type=\"text/css\">\n",
       "#T_1be95_row0_col0, #T_1be95_row8_col0 {\n",
       "  background-color: #bebebe;\n",
       "  color: #000000;\n",
       "}\n",
       "#T_1be95_row0_col1 {\n",
       "  background-color: #c3c3c3;\n",
       "  color: #000000;\n",
       "}\n",
       "#T_1be95_row0_col2 {\n",
       "  background-color: #7e7e7e;\n",
       "  color: #f1f1f1;\n",
       "}\n",
       "#T_1be95_row0_col3 {\n",
       "  background-color: #747474;\n",
       "  color: #f1f1f1;\n",
       "}\n",
       "#T_1be95_row1_col0 {\n",
       "  background-color: #cdcdcd;\n",
       "  color: #000000;\n",
       "}\n",
       "#T_1be95_row1_col1 {\n",
       "  background-color: #969696;\n",
       "  color: #f1f1f1;\n",
       "}\n",
       "#T_1be95_row1_col2 {\n",
       "  background-color: #595959;\n",
       "  color: #f1f1f1;\n",
       "}\n",
       "#T_1be95_row1_col3 {\n",
       "  background-color: #8f8f8f;\n",
       "  color: #f1f1f1;\n",
       "}\n",
       "#T_1be95_row2_col0 {\n",
       "  background-color: #8c8c8c;\n",
       "  color: #f1f1f1;\n",
       "}\n",
       "#T_1be95_row2_col1 {\n",
       "  background-color: #e7e7e7;\n",
       "  color: #000000;\n",
       "}\n",
       "#T_1be95_row2_col2 {\n",
       "  background-color: #2b2b2b;\n",
       "  color: #f1f1f1;\n",
       "}\n",
       "#T_1be95_row2_col3 {\n",
       "  background-color: #b3b3b3;\n",
       "  color: #000000;\n",
       "}\n",
       "#T_1be95_row3_col0 {\n",
       "  background-color: #cacaca;\n",
       "  color: #000000;\n",
       "}\n",
       "#T_1be95_row3_col1 {\n",
       "  background-color: #ebebeb;\n",
       "  color: #000000;\n",
       "}\n",
       "#T_1be95_row3_col2 {\n",
       "  background-color: #7f7f7f;\n",
       "  color: #f1f1f1;\n",
       "}\n",
       "#T_1be95_row3_col3 {\n",
       "  background-color: #676767;\n",
       "  color: #f1f1f1;\n",
       "}\n",
       "#T_1be95_row4_col0 {\n",
       "  background-color: #e8e8e8;\n",
       "  color: #000000;\n",
       "}\n",
       "#T_1be95_row4_col1, #T_1be95_row7_col0, #T_1be95_row7_col2, #T_1be95_row9_col3 {\n",
       "  background-color: #000000;\n",
       "  color: #f1f1f1;\n",
       "}\n",
       "#T_1be95_row4_col2 {\n",
       "  background-color: #373737;\n",
       "  color: #f1f1f1;\n",
       "}\n",
       "#T_1be95_row4_col3 {\n",
       "  background-color: #b8b8b8;\n",
       "  color: #000000;\n",
       "}\n",
       "#T_1be95_row5_col0 {\n",
       "  background-color: #e5e5e5;\n",
       "  color: #000000;\n",
       "}\n",
       "#T_1be95_row5_col1 {\n",
       "  background-color: #d4d4d4;\n",
       "  color: #000000;\n",
       "}\n",
       "#T_1be95_row5_col2 {\n",
       "  background-color: #6f6f6f;\n",
       "  color: #f1f1f1;\n",
       "}\n",
       "#T_1be95_row5_col3 {\n",
       "  background-color: #6b6b6b;\n",
       "  color: #f1f1f1;\n",
       "}\n",
       "#T_1be95_row6_col0, #T_1be95_row7_col1, #T_1be95_row7_col3, #T_1be95_row8_col1, #T_1be95_row9_col0, #T_1be95_row9_col1, #T_1be95_row9_col2 {\n",
       "  background-color: #ffffff;\n",
       "  color: #000000;\n",
       "}\n",
       "#T_1be95_row6_col1 {\n",
       "  background-color: #eeeeee;\n",
       "  color: #000000;\n",
       "}\n",
       "#T_1be95_row6_col2 {\n",
       "  background-color: #9f9f9f;\n",
       "  color: #f1f1f1;\n",
       "}\n",
       "#T_1be95_row6_col3 {\n",
       "  background-color: #3e3e3e;\n",
       "  color: #f1f1f1;\n",
       "}\n",
       "#T_1be95_row8_col2 {\n",
       "  background-color: #1c1c1c;\n",
       "  color: #f1f1f1;\n",
       "}\n",
       "#T_1be95_row8_col3 {\n",
       "  background-color: #a3a3a3;\n",
       "  color: #f1f1f1;\n",
       "}\n",
       "</style>\n",
       "<table id=\"T_1be95\">\n",
       "  <thead>\n",
       "    <tr>\n",
       "      <th class=\"index_name level0\" >Experiência</th>\n",
       "      <th id=\"T_1be95_level0_col0\" class=\"col_heading level0 col0\" >Entry-level</th>\n",
       "      <th id=\"T_1be95_level0_col1\" class=\"col_heading level0 col1\" >Executive</th>\n",
       "      <th id=\"T_1be95_level0_col2\" class=\"col_heading level0 col2\" >Mid-level</th>\n",
       "      <th id=\"T_1be95_level0_col3\" class=\"col_heading level0 col3\" >Senior</th>\n",
       "    </tr>\n",
       "    <tr>\n",
       "      <th class=\"index_name level0\" >Categoria</th>\n",
       "      <th class=\"blank col0\" >&nbsp;</th>\n",
       "      <th class=\"blank col1\" >&nbsp;</th>\n",
       "      <th class=\"blank col2\" >&nbsp;</th>\n",
       "      <th class=\"blank col3\" >&nbsp;</th>\n",
       "    </tr>\n",
       "  </thead>\n",
       "  <tbody>\n",
       "    <tr>\n",
       "      <th id=\"T_1be95_level0_row0\" class=\"row_heading level0 row0\" >Data Science and Research</th>\n",
       "      <td id=\"T_1be95_row0_col0\" class=\"data row0 col0\" >5.441274</td>\n",
       "      <td id=\"T_1be95_row0_col1\" class=\"data row0 col1\" >2.687459</td>\n",
       "      <td id=\"T_1be95_row0_col2\" class=\"data row0 col2\" >16.556072</td>\n",
       "      <td id=\"T_1be95_row0_col3\" class=\"data row0 col3\" >75.315196</td>\n",
       "    </tr>\n",
       "    <tr>\n",
       "      <th id=\"T_1be95_level0_row1\" class=\"row_heading level0 row1\" >Data Engineering</th>\n",
       "      <td id=\"T_1be95_row1_col0\" class=\"data row1 col0\" >4.203540</td>\n",
       "      <td id=\"T_1be95_row1_col1\" class=\"data row1 col1\" >4.690265</td>\n",
       "      <td id=\"T_1be95_row1_col2\" class=\"data row1 col2\" >21.371681</td>\n",
       "      <td id=\"T_1be95_row1_col3\" class=\"data row1 col3\" >69.734513</td>\n",
       "    </tr>\n",
       "    <tr>\n",
       "      <th id=\"T_1be95_level0_row2\" class=\"row_heading level0 row2\" >Data Analysis</th>\n",
       "      <td id=\"T_1be95_row2_col0\" class=\"data row2 col0\" >9.608785</td>\n",
       "      <td id=\"T_1be95_row2_col1\" class=\"data row2 col1\" >1.098147</td>\n",
       "      <td id=\"T_1be95_row2_col2\" class=\"data row2 col2\" >27.247769</td>\n",
       "      <td id=\"T_1be95_row2_col3\" class=\"data row2 col3\" >62.045299</td>\n",
       "    </tr>\n",
       "    <tr>\n",
       "      <th id=\"T_1be95_level0_row3\" class=\"row_heading level0 row3\" >Machine Learning and AI</th>\n",
       "      <td id=\"T_1be95_row3_col0\" class=\"data row3 col0\" >4.481793</td>\n",
       "      <td id=\"T_1be95_row3_col1\" class=\"data row3 col1\" >0.910364</td>\n",
       "      <td id=\"T_1be95_row3_col2\" class=\"data row3 col2\" >16.456583</td>\n",
       "      <td id=\"T_1be95_row3_col3\" class=\"data row3 col3\" >78.151261</td>\n",
       "    </tr>\n",
       "    <tr>\n",
       "      <th id=\"T_1be95_level0_row4\" class=\"row_heading level0 row4\" >Leadership and Management</th>\n",
       "      <td id=\"T_1be95_row4_col0\" class=\"data row4 col0\" >1.988072</td>\n",
       "      <td id=\"T_1be95_row4_col1\" class=\"data row4 col1\" >11.332008</td>\n",
       "      <td id=\"T_1be95_row4_col2\" class=\"data row4 col2\" >25.646123</td>\n",
       "      <td id=\"T_1be95_row4_col3\" class=\"data row4 col3\" >61.033797</td>\n",
       "    </tr>\n",
       "    <tr>\n",
       "      <th id=\"T_1be95_level0_row5\" class=\"row_heading level0 row5\" >BI and Visualization</th>\n",
       "      <td id=\"T_1be95_row5_col0\" class=\"data row5 col0\" >2.236422</td>\n",
       "      <td id=\"T_1be95_row5_col1\" class=\"data row5 col1\" >1.916933</td>\n",
       "      <td id=\"T_1be95_row5_col2\" class=\"data row5 col2\" >18.530351</td>\n",
       "      <td id=\"T_1be95_row5_col3\" class=\"data row5 col3\" >77.316294</td>\n",
       "    </tr>\n",
       "    <tr>\n",
       "      <th id=\"T_1be95_level0_row6\" class=\"row_heading level0 row6\" >Data Architecture and Modeling</th>\n",
       "      <td id=\"T_1be95_row6_col0\" class=\"data row6 col0\" >0.000000</td>\n",
       "      <td id=\"T_1be95_row6_col1\" class=\"data row6 col1\" >0.772201</td>\n",
       "      <td id=\"T_1be95_row6_col2\" class=\"data row6 col2\" >12.355212</td>\n",
       "      <td id=\"T_1be95_row6_col3\" class=\"data row6 col3\" >86.872587</td>\n",
       "    </tr>\n",
       "    <tr>\n",
       "      <th id=\"T_1be95_level0_row7\" class=\"row_heading level0 row7\" >Data Management and Strategy</th>\n",
       "      <td id=\"T_1be95_row7_col0\" class=\"data row7 col0\" >21.311475</td>\n",
       "      <td id=\"T_1be95_row7_col1\" class=\"data row7 col1\" >0.000000</td>\n",
       "      <td id=\"T_1be95_row7_col2\" class=\"data row7 col2\" >32.786885</td>\n",
       "      <td id=\"T_1be95_row7_col3\" class=\"data row7 col3\" >45.901639</td>\n",
       "    </tr>\n",
       "    <tr>\n",
       "      <th id=\"T_1be95_level0_row8\" class=\"row_heading level0 row8\" >Data Quality and Operations</th>\n",
       "      <td id=\"T_1be95_row8_col0\" class=\"data row8 col0\" >5.454545</td>\n",
       "      <td id=\"T_1be95_row8_col1\" class=\"data row8 col1\" >0.000000</td>\n",
       "      <td id=\"T_1be95_row8_col2\" class=\"data row8 col2\" >29.090909</td>\n",
       "      <td id=\"T_1be95_row8_col3\" class=\"data row8 col3\" >65.454545</td>\n",
       "    </tr>\n",
       "    <tr>\n",
       "      <th id=\"T_1be95_level0_row9\" class=\"row_heading level0 row9\" >Cloud and Database</th>\n",
       "      <td id=\"T_1be95_row9_col0\" class=\"data row9 col0\" >0.000000</td>\n",
       "      <td id=\"T_1be95_row9_col1\" class=\"data row9 col1\" >0.000000</td>\n",
       "      <td id=\"T_1be95_row9_col2\" class=\"data row9 col2\" >0.000000</td>\n",
       "      <td id=\"T_1be95_row9_col3\" class=\"data row9 col3\" >100.000000</td>\n",
       "    </tr>\n",
       "  </tbody>\n",
       "</table>\n"
      ],
      "text/plain": [
       "<pandas.io.formats.style.Styler at 0x77bec31fbbb0>"
      ]
     },
     "execution_count": 29,
     "metadata": {},
     "output_type": "execute_result"
    }
   ],
   "source": [
    "# Visualizando o DataFrame com um gradiente de cores\n",
    "categoria_exp.style.background_gradient(cmap='binary')"
   ]
  },
  {
   "cell_type": "markdown",
   "metadata": {},
   "source": [
    "- Visualizando a proporção em % das Categorias por Nível de Experiência com `seaborn`"
   ]
  },
  {
   "cell_type": "code",
   "execution_count": 30,
   "metadata": {},
   "outputs": [
    {
     "data": {
      "image/png": "[encoded data removed]",
      "text/plain": [
       "<Figure size 1000x600 with 2 Axes>"
      ]
     },
     "metadata": {},
     "output_type": "display_data"
    }
   ],
   "source": [
    "# Definindo o tamanho da imagem\n",
    "plt.figure(figsize=(10, 6))\n",
    "plt.title('Proporção em % por Nível de Experiência')\n",
    "\n",
    "# Visualizando o DataFrame em um Heatmap\n",
    "ax = sns.heatmap(data=categoria_exp, annot=True, fmt='.2f', cmap='binary')\n",
    "ax.set_xlabel(\"\") # Removendo a descrição dos eixos X e Y\n",
    "ax.set_ylabel(\"\")\n",
    "\n",
    "# Ajustando fundo e linhas de grade\n",
    "ax.set_facecolor('none')\n",
    "ax.xaxis.set_ticks_position('none')\n",
    "ax.yaxis.set_ticks_position('none')\n",
    "\n",
    "# Removendo os spines\n",
    "for spine in ax.spines.values():\n",
    "    spine.set_visible(False)\n",
    "\n",
    "ax.grid(False);"
   ]
  },
  {
   "cell_type": "code",
   "execution_count": 31,
   "metadata": {},
   "outputs": [],
   "source": [
    "tb_salario_categoria = df.groupby(['job_category'])\\\n",
    "                            .agg(min=pd.NamedAgg('salary_in_usd', 'min'),\n",
    "                                max=pd.NamedAgg('salary_in_usd', 'max'),\n",
    "                                mean=pd.NamedAgg('salary_in_usd', 'mean'))\\\n",
    "                            .reset_index()\n",
    "\n",
    "tb_salario_categoria.dropna(axis=0, inplace=True)\n",
    "\n",
    "tb_salario_categoria = tb_salario_categoria.rename(columns={'job_category': 'Categoria',\n",
    "                                                            'min': 'Menor Salário',\n",
    "                                                            'max': 'Maior Salário',\n",
    "                                                            'mean': 'Média Salarial'})"
   ]
  },
  {
   "cell_type": "markdown",
   "metadata": {},
   "source": [
    "- DataFrame Formato Largo (Wide Format)"
   ]
  },
  {
   "cell_type": "code",
   "execution_count": 32,
   "metadata": {},
   "outputs": [
    {
     "data": {
      "text/html": [
       "<style type=\"text/css\">\n",
       "#T_90a6d_row0_col0, #T_90a6d_row0_col1, #T_90a6d_row0_col2, #T_90a6d_row0_col3, #T_90a6d_row1_col0, #T_90a6d_row1_col1, #T_90a6d_row1_col2, #T_90a6d_row1_col3, #T_90a6d_row2_col0, #T_90a6d_row2_col1, #T_90a6d_row2_col2, #T_90a6d_row2_col3, #T_90a6d_row3_col0, #T_90a6d_row3_col1, #T_90a6d_row3_col2, #T_90a6d_row3_col3, #T_90a6d_row4_col0, #T_90a6d_row4_col1, #T_90a6d_row4_col2, #T_90a6d_row4_col3, #T_90a6d_row5_col0, #T_90a6d_row5_col1, #T_90a6d_row5_col2, #T_90a6d_row5_col3, #T_90a6d_row6_col0, #T_90a6d_row6_col1, #T_90a6d_row6_col2, #T_90a6d_row6_col3, #T_90a6d_row7_col0, #T_90a6d_row7_col1, #T_90a6d_row7_col2, #T_90a6d_row7_col3, #T_90a6d_row8_col0, #T_90a6d_row8_col1, #T_90a6d_row8_col2, #T_90a6d_row8_col3, #T_90a6d_row9_col0, #T_90a6d_row9_col1, #T_90a6d_row9_col2, #T_90a6d_row9_col3 {\n",
       "  text-align: center;\n",
       "}\n",
       "</style>\n",
       "<table id=\"T_90a6d\">\n",
       "  <thead>\n",
       "    <tr>\n",
       "      <th class=\"blank level0\" >&nbsp;</th>\n",
       "      <th id=\"T_90a6d_level0_col0\" class=\"col_heading level0 col0\" >Categoria</th>\n",
       "      <th id=\"T_90a6d_level0_col1\" class=\"col_heading level0 col1\" >Menor Salário</th>\n",
       "      <th id=\"T_90a6d_level0_col2\" class=\"col_heading level0 col2\" >Maior Salário</th>\n",
       "      <th id=\"T_90a6d_level0_col3\" class=\"col_heading level0 col3\" >Média Salarial</th>\n",
       "    </tr>\n",
       "  </thead>\n",
       "  <tbody>\n",
       "    <tr>\n",
       "      <th id=\"T_90a6d_level0_row0\" class=\"row_heading level0 row0\" >0</th>\n",
       "      <td id=\"T_90a6d_row0_col0\" class=\"data row0 col0\" >BI and Visualization</td>\n",
       "      <td id=\"T_90a6d_row0_col1\" class=\"data row0 col1\" >15000</td>\n",
       "      <td id=\"T_90a6d_row0_col2\" class=\"data row0 col2\" >259900</td>\n",
       "      <td id=\"T_90a6d_row0_col3\" class=\"data row0 col3\" >135092.102236</td>\n",
       "    </tr>\n",
       "    <tr>\n",
       "      <th id=\"T_90a6d_level0_row1\" class=\"row_heading level0 row1\" >1</th>\n",
       "      <td id=\"T_90a6d_row1_col0\" class=\"data row1 col0\" >Cloud and Database</td>\n",
       "      <td id=\"T_90a6d_row1_col1\" class=\"data row1 col1\" >115000</td>\n",
       "      <td id=\"T_90a6d_row1_col2\" class=\"data row1 col2\" >190000</td>\n",
       "      <td id=\"T_90a6d_row1_col3\" class=\"data row1 col3\" >155000.000000</td>\n",
       "    </tr>\n",
       "    <tr>\n",
       "      <th id=\"T_90a6d_level0_row2\" class=\"row_heading level0 row2\" >2</th>\n",
       "      <td id=\"T_90a6d_row2_col0\" class=\"data row2 col0\" >Data Analysis</td>\n",
       "      <td id=\"T_90a6d_row2_col1\" class=\"data row2 col1\" >15000</td>\n",
       "      <td id=\"T_90a6d_row2_col2\" class=\"data row2 col2\" >430967</td>\n",
       "      <td id=\"T_90a6d_row2_col3\" class=\"data row2 col3\" >108505.721345</td>\n",
       "    </tr>\n",
       "    <tr>\n",
       "      <th id=\"T_90a6d_level0_row3\" class=\"row_heading level0 row3\" >3</th>\n",
       "      <td id=\"T_90a6d_row3_col0\" class=\"data row3 col0\" >Data Architecture and Modeling</td>\n",
       "      <td id=\"T_90a6d_row3_col1\" class=\"data row3 col1\" >52500</td>\n",
       "      <td id=\"T_90a6d_row3_col2\" class=\"data row3 col2\" >376080</td>\n",
       "      <td id=\"T_90a6d_row3_col3\" class=\"data row3 col3\" >156002.359073</td>\n",
       "    </tr>\n",
       "    <tr>\n",
       "      <th id=\"T_90a6d_level0_row4\" class=\"row_heading level0 row4\" >4</th>\n",
       "      <td id=\"T_90a6d_row4_col0\" class=\"data row4 col0\" >Data Engineering</td>\n",
       "      <td id=\"T_90a6d_row4_col1\" class=\"data row4 col1\" >18000</td>\n",
       "      <td id=\"T_90a6d_row4_col2\" class=\"data row4 col2\" >385000</td>\n",
       "      <td id=\"T_90a6d_row4_col3\" class=\"data row4 col3\" >146197.656195</td>\n",
       "    </tr>\n",
       "    <tr>\n",
       "      <th id=\"T_90a6d_level0_row5\" class=\"row_heading level0 row5\" >5</th>\n",
       "      <td id=\"T_90a6d_row5_col0\" class=\"data row5 col0\" >Data Management and Strategy</td>\n",
       "      <td id=\"T_90a6d_row5_col1\" class=\"data row5 col1\" >46400</td>\n",
       "      <td id=\"T_90a6d_row5_col2\" class=\"data row5 col2\" >250000</td>\n",
       "      <td id=\"T_90a6d_row5_col3\" class=\"data row5 col3\" >103139.934426</td>\n",
       "    </tr>\n",
       "    <tr>\n",
       "      <th id=\"T_90a6d_level0_row6\" class=\"row_heading level0 row6\" >6</th>\n",
       "      <td id=\"T_90a6d_row6_col0\" class=\"data row6 col0\" >Data Quality and Operations</td>\n",
       "      <td id=\"T_90a6d_row6_col1\" class=\"data row6 col1\" >23753</td>\n",
       "      <td id=\"T_90a6d_row6_col2\" class=\"data row6 col2\" >289120</td>\n",
       "      <td id=\"T_90a6d_row6_col3\" class=\"data row6 col3\" >100879.472727</td>\n",
       "    </tr>\n",
       "    <tr>\n",
       "      <th id=\"T_90a6d_level0_row7\" class=\"row_heading level0 row7\" >7</th>\n",
       "      <td id=\"T_90a6d_row7_col0\" class=\"data row7 col0\" >Data Science and Research</td>\n",
       "      <td id=\"T_90a6d_row7_col1\" class=\"data row7 col1\" >16000</td>\n",
       "      <td id=\"T_90a6d_row7_col2\" class=\"data row7 col2\" >450000</td>\n",
       "      <td id=\"T_90a6d_row7_col3\" class=\"data row7 col3\" >163758.575979</td>\n",
       "    </tr>\n",
       "    <tr>\n",
       "      <th id=\"T_90a6d_level0_row8\" class=\"row_heading level0 row8\" >8</th>\n",
       "      <td id=\"T_90a6d_row8_col0\" class=\"data row8 col0\" >Leadership and Management</td>\n",
       "      <td id=\"T_90a6d_row8_col1\" class=\"data row8 col1\" >20000</td>\n",
       "      <td id=\"T_90a6d_row8_col2\" class=\"data row8 col2\" >430640</td>\n",
       "      <td id=\"T_90a6d_row8_col3\" class=\"data row8 col3\" >145476.019881</td>\n",
       "    </tr>\n",
       "    <tr>\n",
       "      <th id=\"T_90a6d_level0_row9\" class=\"row_heading level0 row9\" >9</th>\n",
       "      <td id=\"T_90a6d_row9_col0\" class=\"data row9 col0\" >Machine Learning and AI</td>\n",
       "      <td id=\"T_90a6d_row9_col1\" class=\"data row9 col1\" >15000</td>\n",
       "      <td id=\"T_90a6d_row9_col2\" class=\"data row9 col2\" >423000</td>\n",
       "      <td id=\"T_90a6d_row9_col3\" class=\"data row9 col3\" >178925.847339</td>\n",
       "    </tr>\n",
       "  </tbody>\n",
       "</table>\n"
      ],
      "text/plain": [
       "<pandas.io.formats.style.Styler at 0x77bec3087220>"
      ]
     },
     "execution_count": 32,
     "metadata": {},
     "output_type": "execute_result"
    }
   ],
   "source": [
    "# Centralizando a visualização da tabela\n",
    "tb_salario_categoria.style.set_properties(**{'text-align': 'center'})"
   ]
  },
  {
   "cell_type": "markdown",
   "metadata": {},
   "source": [
    "- DataFrame Formato Longo (Long Format)"
   ]
  },
  {
   "cell_type": "code",
   "execution_count": 33,
   "metadata": {},
   "outputs": [],
   "source": [
    "tb_salario_categoria = tb_salario_categoria.melt(id_vars=\"Categoria\", \n",
    "                                                value_vars=[\"Menor Salário\", \"Maior Salário\", \"Média Salarial\"], \n",
    "                                                var_name=\"Tipo de Salário\", \n",
    "                                                value_name=\"Salário\")"
   ]
  },
  {
   "cell_type": "code",
   "execution_count": 34,
   "metadata": {},
   "outputs": [
    {
     "data": {
      "text/html": [
       "<div>\n",
       "<style scoped>\n",
       "    .dataframe tbody tr th:only-of-type {\n",
       "        vertical-align: middle;\n",
       "    }\n",
       "\n",
       "    .dataframe tbody tr th {\n",
       "        vertical-align: top;\n",
       "    }\n",
       "\n",
       "    .dataframe thead th {\n",
       "        text-align: right;\n",
       "    }\n",
       "</style>\n",
       "<table border=\"1\" class=\"dataframe\">\n",
       "  <thead>\n",
       "    <tr style=\"text-align: right;\">\n",
       "      <th></th>\n",
       "      <th>Categoria</th>\n",
       "      <th>Tipo de Salário</th>\n",
       "      <th>Salário</th>\n",
       "    </tr>\n",
       "  </thead>\n",
       "  <tbody>\n",
       "    <tr>\n",
       "      <th>0</th>\n",
       "      <td>BI and Visualization</td>\n",
       "      <td>Menor Salário</td>\n",
       "      <td>15000.0</td>\n",
       "    </tr>\n",
       "    <tr>\n",
       "      <th>1</th>\n",
       "      <td>Cloud and Database</td>\n",
       "      <td>Menor Salário</td>\n",
       "      <td>115000.0</td>\n",
       "    </tr>\n",
       "    <tr>\n",
       "      <th>2</th>\n",
       "      <td>Data Analysis</td>\n",
       "      <td>Menor Salário</td>\n",
       "      <td>15000.0</td>\n",
       "    </tr>\n",
       "  </tbody>\n",
       "</table>\n",
       "</div>"
      ],
      "text/plain": [
       "              Categoria Tipo de Salário   Salário\n",
       "0  BI and Visualization   Menor Salário   15000.0\n",
       "1    Cloud and Database   Menor Salário  115000.0\n",
       "2         Data Analysis   Menor Salário   15000.0"
      ]
     },
     "execution_count": 34,
     "metadata": {},
     "output_type": "execute_result"
    }
   ],
   "source": [
    "tb_salario_categoria.head(3)"
   ]
  },
  {
   "cell_type": "code",
   "execution_count": 35,
   "metadata": {},
   "outputs": [],
   "source": [
    "tb_salario_categoria.sort_values(by='Salário', ascending=True, inplace=True)"
   ]
  },
  {
   "cell_type": "code",
   "execution_count": 36,
   "metadata": {},
   "outputs": [
    {
     "data": {
      "image/png": "[encoded data removed]",
      "text/plain": [
       "<Figure size 1000x600 with 1 Axes>"
      ]
     },
     "metadata": {},
     "output_type": "display_data"
    }
   ],
   "source": [
    "# Definindo o tamanho da imagem\n",
    "plt.figure(figsize=(10, 6))\n",
    "\n",
    "# Visualizando o DataFrame com Seaborn\n",
    "ax = sns.barplot(data=tb_salario_categoria, y=\"Categoria\", x=\"Salário\", hue=\"Tipo de Salário\", \n",
    "                palette={\"Menor Salário\": \"C0\", \"Maior Salário\": \"C1\", \"Média Salarial\": \"C2\"})\n",
    "\n",
    "# Labels e título\n",
    "plt.xlabel('Salário')\n",
    "plt.ylabel('Categoria')\n",
    "plt.title('Proporção Salarial por Categoria em Ciência de Dados')\n",
    "plt.legend(title='Faixa Salarial')\n",
    "\n",
    "ax.grid(False)\n",
    "ax.set_facecolor('none')\n",
    "ax.set_xlabel(\"\") # Removendo a descrição dos eixos X e Y\n",
    "ax.set_ylabel(\"\")\n",
    "plt.show()"
   ]
  },
  {
   "cell_type": "code",
   "execution_count": null,
   "metadata": {},
   "outputs": [],
   "source": []
  }
 ],
 "metadata": {
  "kernelspec": {
   "display_name": "Python 3",
   "language": "python",
   "name": "python3"
  },
  "language_info": {
   "codemirror_mode": {
    "name": "ipython",
    "version": 3
   },
   "file_extension": ".py",
   "mimetype": "text/x-python",
   "name": "python",
   "nbconvert_exporter": "python",
   "pygments_lexer": "ipython3",
   "version": "3.10.12"
  }
 },
 "nbformat": 4,
 "nbformat_minor": 2
}
